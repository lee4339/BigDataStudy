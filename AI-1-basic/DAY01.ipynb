{
 "cells": [
  {
   "cell_type": "code",
   "execution_count": null,
   "metadata": {
    "colab": {
     "base_uri": "https://localhost:8080/"
    },
    "executionInfo": {
     "elapsed": 268,
     "status": "ok",
     "timestamp": 1657711213227,
     "user": {
      "displayName": "납작한펭귄",
      "userId": "10807495761184433832"
     },
     "user_tz": -540
    },
    "id": "E76JVGP3QZaw",
    "outputId": "68a9a28e-ddfb-44b1-a3b1-b3487359cec8"
   },
   "outputs": [],
   "source": [
    "#변수\n",
    "n = 5\n",
    "print(n)\n",
    "print(n)\n",
    "n = 10\n",
    "print(n)"
   ]
  },
  {
   "cell_type": "code",
   "execution_count": null,
   "metadata": {
    "colab": {
     "base_uri": "https://localhost:8080/"
    },
    "executionInfo": {
     "elapsed": 264,
     "status": "ok",
     "timestamp": 1657711669683,
     "user": {
      "displayName": "납작한펭귄",
      "userId": "10807495761184433832"
     },
     "user_tz": -540
    },
    "id": "TsXTgurWR29b",
    "outputId": "da9b63cd-e108-4858-f89d-eb243878ffb6"
   },
   "outputs": [],
   "source": [
    "n = 15\n",
    "print(n)\n",
    "print(type(n))\n",
    "\n",
    "m = int(20.5)    #<-- type casting\n",
    "print(m)\n",
    "print(type(m))"
   ]
  },
  {
   "cell_type": "code",
   "execution_count": null,
   "metadata": {
    "colab": {
     "base_uri": "https://localhost:8080/"
    },
    "executionInfo": {
     "elapsed": 268,
     "status": "ok",
     "timestamp": 1657711922657,
     "user": {
      "displayName": "납작한펭귄",
      "userId": "10807495761184433832"
     },
     "user_tz": -540
    },
    "id": "4V-wZBhSSsFs",
    "outputId": "c057dfa7-fec3-4ea3-eba1-c97e512ac80a"
   },
   "outputs": [],
   "source": [
    "n = 15.5\n",
    "print(n)\n",
    "print(type(n))\n",
    "\n",
    "m = float(20)\n",
    "print(m)\n",
    "print(type(m))"
   ]
  },
  {
   "cell_type": "code",
   "execution_count": null,
   "metadata": {
    "colab": {
     "base_uri": "https://localhost:8080/"
    },
    "executionInfo": {
     "elapsed": 295,
     "status": "ok",
     "timestamp": 1657711962604,
     "user": {
      "displayName": "납작한펭귄",
      "userId": "10807495761184433832"
     },
     "user_tz": -540
    },
    "id": "7Cwior7sTGFt",
    "outputId": "3eacf483-987e-4436-bfeb-b64265dcb623"
   },
   "outputs": [],
   "source": [
    "n = '15.5'\n",
    "print(n)\n",
    "print(type(n))\n",
    "\n",
    "m = str(20.5)\n",
    "print(m)\n",
    "print(type(m))"
   ]
  },
  {
   "cell_type": "code",
   "execution_count": null,
   "metadata": {
    "colab": {
     "base_uri": "https://localhost:8080/"
    },
    "executionInfo": {
     "elapsed": 412,
     "status": "ok",
     "timestamp": 1657712060802,
     "user": {
      "displayName": "납작한펭귄",
      "userId": "10807495761184433832"
     },
     "user_tz": -540
    },
    "id": "IznBRo-aTflc",
    "outputId": "e0587026-06ad-47f3-c959-e10e02b55208"
   },
   "outputs": [],
   "source": [
    "#bool(Booolean) : True / False, 1 / 0\n",
    "\n",
    "n = False\n",
    "print(n)\n",
    "print(type(n))\n",
    "\n",
    "m = bool(20.5)   # <-- 0의 아닌 모든 값은 True\n",
    "print(m)\n",
    "print(type(m))"
   ]
  },
  {
   "cell_type": "code",
   "execution_count": null,
   "metadata": {
    "colab": {
     "base_uri": "https://localhost:8080/"
    },
    "executionInfo": {
     "elapsed": 5,
     "status": "ok",
     "timestamp": 1657880306279,
     "user": {
      "displayName": "이웃사람",
      "userId": "10807495761184433832"
     },
     "user_tz": -540
    },
    "id": "N1bt0agnWQcV",
    "outputId": "8c438d03-6ce0-4228-b2e3-109ff09f5f82"
   },
   "outputs": [],
   "source": [
    "#사칙연산\n",
    "\n",
    "n = 3\n",
    "m = 7\n",
    "\n",
    "print(n + m)\n",
    "print(n - m)\n",
    "print(n * m)\n",
    "print(n * m)\n",
    "print(m / n)\n",
    "print(m % n) # 7/3의 나머지값\n",
    "\n",
    "print(n ** 2) #n의 2성 --> 제곱\n",
    "print(m//n) #나누고 뒤에있는 값을 버리고 가장 기초값만 보여줌"
   ]
  },
  {
   "cell_type": "code",
   "execution_count": null,
   "metadata": {
    "colab": {
     "base_uri": "https://localhost:8080/"
    },
    "executionInfo": {
     "elapsed": 276,
     "status": "ok",
     "timestamp": 1657714745811,
     "user": {
      "displayName": "납작한펭귄",
      "userId": "10807495761184433832"
     },
     "user_tz": -540
    },
    "id": "kdRfmxKTXK8B",
    "outputId": "de1a039e-6150-4efe-bd52-53ab0a06a4ee"
   },
   "outputs": [],
   "source": [
    "# List --> 순서가 있음, 안에 내용을 수정하거나 추가가 가능\n",
    "n = [1, 2, 2, 3, 4, 5]\n",
    "print(n)\n",
    "print(type(n))\n",
    "\n",
    "# method / 함수\n",
    "n.append(2) #추가\n",
    "print(n)\n",
    "print(n.count(2)) #(n) 몇개 존재하는가\n",
    "n.sort() #정렬 --> print(n)다음 명령이 존재해야 값나옴\n",
    "print(n) #n.sort이후 정렬됨\n",
    "n.clear() #list 값 모두 비어줌\n",
    "print(n)"
   ]
  },
  {
   "cell_type": "code",
   "execution_count": null,
   "metadata": {
    "colab": {
     "base_uri": "https://localhost:8080/"
    },
    "executionInfo": {
     "elapsed": 268,
     "status": "ok",
     "timestamp": 1657715048187,
     "user": {
      "displayName": "납작한펭귄",
      "userId": "10807495761184433832"
     },
     "user_tz": -540
    },
    "id": "_2MBcAkPX0Wh",
    "outputId": "a49fb99e-8da3-43ee-82b2-0987456d3435"
   },
   "outputs": [],
   "source": [
    "# tuple --> 순서가 있음, List와 같으나 안에 내용을 수정하거나 추가가 불가능, 값이 고정\n",
    "n = (10, 20, 30, 20, 30, 40, 50)\n",
    "print(n)\n",
    "print(type(n))\n",
    "\n",
    "n.index(20) #몇번째 인덱스에 있는가\n",
    "n.index(20, 2) #인덱스 2부터 20이라는 숫자를 찾기"
   ]
  },
  {
   "cell_type": "code",
   "execution_count": null,
   "metadata": {
    "colab": {
     "base_uri": "https://localhost:8080/"
    },
    "executionInfo": {
     "elapsed": 265,
     "status": "ok",
     "timestamp": 1657715224346,
     "user": {
      "displayName": "납작한펭귄",
      "userId": "10807495761184433832"
     },
     "user_tz": -540
    },
    "id": "IeSOPzllYCah",
    "outputId": "9c47c83b-ca96-405b-e956-1597ffff5067"
   },
   "outputs": [],
   "source": [
    "# Set --> 중복되는 값이 안들어감(유니크값만 들어감), 순서가 없음(랜덤으로 나옴)\n",
    "n = {1, 2, 2, 3, 3, 4, 5}\n",
    "print(n)\n",
    "print(type(n))\n",
    "\n",
    "n.add(10)\n",
    "print(n)"
   ]
  },
  {
   "cell_type": "code",
   "execution_count": null,
   "metadata": {
    "colab": {
     "base_uri": "https://localhost:8080/"
    },
    "executionInfo": {
     "elapsed": 4,
     "status": "ok",
     "timestamp": 1657715701195,
     "user": {
      "displayName": "납작한펭귄",
      "userId": "10807495761184433832"
     },
     "user_tz": -540
    },
    "id": "OYxjUCSsYONd",
    "outputId": "0843693b-66b4-45ff-abde-bc47196f8bc4"
   },
   "outputs": [],
   "source": [
    "# Dictionary --> 키와 밸류값\n",
    "n = {'A':1, 'B':2, 'C':3, 'D':4, 'E':5}\n",
    "print(n)\n",
    "print(type(n))\n",
    "\n",
    "print(n['D']) #키를 통한 조회 / 없는 키를 입력시에는 에러\n",
    "print(n.get('X')) #조회 / 없는 키를 입력시에는 None\n",
    "print(n.keys()) #키값만 리스트로 보여줌\n",
    "print(n.values()) #밸류값만 리스트로 보여줌\n",
    "print(n.items()) #키와 밸류값을 튜플에 리스트로 가져옴"
   ]
  },
  {
   "cell_type": "code",
   "execution_count": null,
   "metadata": {
    "colab": {
     "base_uri": "https://localhost:8080/"
    },
    "executionInfo": {
     "elapsed": 508,
     "status": "ok",
     "timestamp": 1657716438948,
     "user": {
      "displayName": "납작한펭귄",
      "userId": "10807495761184433832"
     },
     "user_tz": -540
    },
    "id": "eCQSoo1KkO9Z",
    "outputId": "71d5567d-25f1-4e6c-d24a-6fb0b7f02f4e"
   },
   "outputs": [],
   "source": [
    "# list, tuple, set, dictionary --> iterable; iterate(순환)\n",
    "n = {'A':1, 'B':2, 'C':3, 'D':4, 'E':5}\n",
    "\n",
    "for i in n:\n",
    "  print(n[i]) #밸류값 나옴\n",
    "\n",
    "#for x in n: \n",
    "#  print(x) #키값이 나옴\n",
    "\n",
    "#for n in [1, 2, 3, 4, 5]: # 리스트값을 순차적 반복\n",
    "#  print(n) #들여쓰기 안하면 작동안됨\n",
    "\n",
    "#for m in {1, 2, 3, 4, 5}:\n",
    "#  print(m)  "
   ]
  }
 ],
 "metadata": {
  "colab": {
   "authorship_tag": "ABX9TyOxW+51vUHOSN3LjlSTppB2",
   "collapsed_sections": [],
   "name": "DAY01.ipynb",
   "provenance": []
  },
  "kernelspec": {
   "display_name": "Python 3 (ipykernel)",
   "language": "python",
   "name": "python3"
  },
  "language_info": {
   "codemirror_mode": {
    "name": "ipython",
    "version": 3
   },
   "file_extension": ".py",
   "mimetype": "text/x-python",
   "name": "python",
   "nbconvert_exporter": "python",
   "pygments_lexer": "ipython3",
   "version": "3.10.5"
  }
 },
 "nbformat": 4,
 "nbformat_minor": 1
}
