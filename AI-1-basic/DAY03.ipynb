{
 "cells": [
  {
   "cell_type": "code",
   "execution_count": 1,
   "id": "92fcbe57",
   "metadata": {},
   "outputs": [
    {
     "name": "stdout",
     "output_type": "stream",
     "text": [
      "my message\n",
      "another message\n"
     ]
    }
   ],
   "source": [
    "str1 = 'my message'\n",
    "str2 = \"another message\"\n",
    "\n",
    "print(str1)\n",
    "print(str2)"
   ]
  },
  {
   "cell_type": "code",
   "execution_count": 6,
   "id": "71c44573",
   "metadata": {},
   "outputs": [
    {
     "name": "stdout",
     "output_type": "stream",
     "text": [
      "<class 'str'>\n",
      "My message\n",
      "10\n"
     ]
    }
   ],
   "source": [
    "print(type(str1))\n",
    "print(str1.capitalize()) #맨 첫번째 문자열을 대분자로\n",
    "\n",
    "# sum([1,2,3])\n",
    "# len([1,2,3])\n",
    "\n",
    "print(len(str1))"
   ]
  },
  {
   "cell_type": "code",
   "execution_count": 18,
   "id": "d4e06b2d",
   "metadata": {},
   "outputs": [
    {
     "name": "stdout",
     "output_type": "stream",
     "text": [
      "53\n",
      "15\n",
      "* my message _ \n",
      "14\n",
      " my message _ \n"
     ]
    }
   ],
   "source": [
    "str1 = '                                      * my message _ '\n",
    "\n",
    "print(len(str1))\n",
    "\n",
    "str1_lstripped = str1.lstrip()\n",
    "\n",
    "print(len(str1_lstripped))\n",
    "print(str1_lstripped)\n",
    "\n",
    "str1_lstripped2 = str1_lstripped.lstrip('*')\n",
    "print(len(str1_lstripped2))\n",
    "print(str1_lstripped2)"
   ]
  },
  {
   "cell_type": "code",
   "execution_count": 20,
   "id": "4dace4c0",
   "metadata": {},
   "outputs": [
    {
     "name": "stdout",
     "output_type": "stream",
     "text": [
      "91\n",
      "12\n",
      " my message \n"
     ]
    }
   ],
   "source": [
    "str1 = '                                      * my message _______________________                 '\n",
    "\n",
    "print(len(str1))\n",
    "\n",
    "str1_lstripped = str1.lstrip().lstrip('*').rstrip().rstrip('_')\n",
    "\n",
    "print(len(str1_lstripped))\n",
    "print(str1_lstripped)\n"
   ]
  },
  {
   "cell_type": "code",
   "execution_count": 27,
   "id": "b0f3796b",
   "metadata": {},
   "outputs": [
    {
     "name": "stdout",
     "output_type": "stream",
     "text": [
      "m\n",
      "1\n",
      "mess\n"
     ]
    }
   ],
   "source": [
    "str1 = 'my message'  #문자'열'\n",
    "\n",
    "print(str1[3])\n",
    "print(str1.count('a'))\n",
    "print(str1[3 : 7])"
   ]
  },
  {
   "cell_type": "code",
   "execution_count": 31,
   "id": "850e9096",
   "metadata": {},
   "outputs": [
    {
     "name": "stdout",
     "output_type": "stream",
     "text": [
      "<class 'list'>\n",
      "['m', 'y', ' ', 'm', 'e', 's', 's', 'a', 'g', 'e']\n",
      "my message\n"
     ]
    }
   ],
   "source": [
    "str1 = 'my message'\n",
    "\n",
    "x = list(str1)\n",
    "print(type(x))\n",
    "print(x)\n",
    "\n",
    "x_joined = ''.join(x) #단어들을 합침\n",
    "print(x_joined)"
   ]
  },
  {
   "cell_type": "code",
   "execution_count": 34,
   "id": "257f8687",
   "metadata": {},
   "outputs": [
    {
     "name": "stdout",
     "output_type": "stream",
     "text": [
      "['my', 'message']\n",
      "['my mess', 'ge']\n",
      "['abc', '*def*ghi', 'jkl']\n",
      "['abc#', 'def', 'ghi#jkl']\n"
     ]
    }
   ],
   "source": [
    "str1 = 'my message'\n",
    "\n",
    "x = str1.split() # 단어로 자름\n",
    "print(x)\n",
    "\n",
    "x = str1.split('a') #a를 기준으로 자름, a는 포함 X\n",
    "print(x)\n",
    "\n",
    "str1 = 'abc#*def*ghi#jkl'\n",
    "print(str1.split('#'))\n",
    "print(str1.split('*'))"
   ]
  },
  {
   "cell_type": "code",
   "execution_count": 39,
   "id": "da17d3de",
   "metadata": {},
   "outputs": [
    {
     "name": "stdout",
     "output_type": "stream",
     "text": [
      "same\n"
     ]
    }
   ],
   "source": [
    "str1 = 'abc'\n",
    "str2 = '  __ abc ** '\n",
    "\n",
    "if str1.strip() == str2.strip(' _*'):  #빈칸, _, * 을 좌우에서 전부 빼 / 단어 중간사이에 있는 것은 안뺴줌\n",
    "    print('same')\n",
    "else:\n",
    "    print('diff')"
   ]
  },
  {
   "cell_type": "code",
   "execution_count": 60,
   "id": "be754f6d",
   "metadata": {},
   "outputs": [
    {
     "name": "stdout",
     "output_type": "stream",
     "text": [
      "['r', 'a', 'c', 'e', 'c', 'a', 'r']\n",
      "racecar\n",
      "palindrome\n"
     ]
    }
   ],
   "source": [
    "str1 = 'racecar'\n",
    "\n",
    "# 1. 알파벳 단위 리스트로 쪼개기\n",
    "str1_list = list(str1)\n",
    "\n",
    "# 2. 리스트 순서 reverse --> method 참조.\n",
    "str1_list.reverse()\n",
    "print(str1_list)\n",
    "\n",
    "# 3. 뒤집은 리스트를 문자열로 합치기\n",
    "re_list = ''.join(str1_list)\n",
    "print(re_list)\n",
    "\n",
    "# 4. 합친 문자열이 str1과 같으면 ....palindrome.\n",
    "if str1 == re_list :\n",
    "    print(\"palindrome\")\n",
    "else :\n",
    "    print(\"not palindrome\")\n"
   ]
  },
  {
   "cell_type": "code",
   "execution_count": 66,
   "id": "38abe6ab",
   "metadata": {},
   "outputs": [
    {
     "name": "stdout",
     "output_type": "stream",
     "text": [
      "True\n",
      "False\n",
      "palindrome\n"
     ]
    }
   ],
   "source": [
    "def is_palindrome(test_string):\n",
    "    # 1. 알파벳 단위 리스트로 쪼개기\n",
    "    s1 = list(test_string)\n",
    "\n",
    "    # 2. 리스트 순서 reverse --> method 참조.\n",
    "    s1.reverse()\n",
    "\n",
    "    # 3. 뒤집은 리스트를 문자열로 합치기\n",
    "    s1_str = ''.join(s1)\n",
    "    \n",
    "    # 4. 합친 문자열이 str1과 같으면 ....palindrome.\n",
    "    if test_string == s1_str :\n",
    "        return True\n",
    "    else :\n",
    "        return False\n",
    "    \n",
    "    \n",
    "print(is_palindrome('racecar'))\n",
    "print(is_palindrome('mystring'))\n",
    "\n",
    "if is_palindrome('mom'):\n",
    "    print('palindrome')\n",
    "else:\n",
    "    print('palindrome')"
   ]
  }
 ],
 "metadata": {
  "kernelspec": {
   "display_name": "Python 3 (ipykernel)",
   "language": "python",
   "name": "python3"
  },
  "language_info": {
   "codemirror_mode": {
    "name": "ipython",
    "version": 3
   },
   "file_extension": ".py",
   "mimetype": "text/x-python",
   "name": "python",
   "nbconvert_exporter": "python",
   "pygments_lexer": "ipython3",
   "version": "3.10.5"
  }
 },
 "nbformat": 4,
 "nbformat_minor": 5
}
