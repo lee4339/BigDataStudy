{
 "cells": [
  {
   "cell_type": "code",
   "execution_count": null,
   "id": "c4dbc636",
   "metadata": {},
   "outputs": [],
   "source": [
    "import sys  #sys 모듈(시스템 모듈) :sys 모듈은 인터프리터가 제공하는 변수와 함수를 직접 제어하기 위해 사용\n",
    "\n",
    "sys.path.insert(0, '.') # insert 첫부분에 끼워라 , '현재폴더안에'\n",
    "\n",
    "#print(type(sys.path))\n",
    "#print(sys.path)\n",
    "\n",
    "from mymods import my_functions as mf  # as (사용할이름) #mymods 안에 my_functions함수 호출\n",
    "\n",
    "if mf.is_palindrome('racecar'):\n",
    "    print('palindrome')\n",
    "else:\n",
    "    print('not palindrome')"
   ]
  },
  {
   "cell_type": "code",
   "execution_count": null,
   "id": "96816e32",
   "metadata": {},
   "outputs": [],
   "source": [
    "# FILE IO(인풋 아웃풋)\n",
    "myfile_handle = open('myfile.txt','r') # 불러올 파일, r:읽어 들어오기\n",
    "print(type(myfile_handle)) #변수이름이나 함수이름 앞에 _: 일반적으로 사용하지 않아도 된다. \n",
    "\n",
    "x = myfile_handle.readlines() # 뭉텅이(그대로)로 불러옴\n",
    "#myfile_handle.readline() # 한줄만 불러옴\n",
    "#myfile_handle.read()  # 리스트로 불러옴(줄바꿈도 불러옴)\n",
    "print(type(x))\n",
    "\n",
    "# ...\n",
    "myfile_handle.close()\n",
    "\n",
    "print(x) # ['my file', 'my message']\n",
    "\n",
    "y = []\n",
    "for line in x:\n",
    "    y.append(line[:-1].strip()) #슬라이스를 통해 맨뒤 엔터를 날리고 스트립으로 빈칸을 날림\n",
    "    #y.append(line.rstrip(' \\n')) # 오른쪽스트립으로 엔터를 날림\n",
    "print(y)"
   ]
  },
  {
   "cell_type": "code",
   "execution_count": null,
   "id": "26bab2d3",
   "metadata": {},
   "outputs": [],
   "source": [
    "with open('myfile.txt', 'r') as f: \n",
    "#with 일시 close()가 필요없음 : with문을 사용하면 with 블록을 벗어나는 순간 열린 파일 객체 f가 자동으로 close 됨\n",
    "    x = f.readlines()\n",
    "    print(x)"
   ]
  },
  {
   "cell_type": "code",
   "execution_count": 34,
   "id": "8b3a66ae",
   "metadata": {
    "scrolled": true
   },
   "outputs": [
    {
     "name": "stdout",
     "output_type": "stream",
     "text": [
      "['5.1', '3.5', '1.4', '0.2', 'Iris-setosa']\n",
      "<class 'str'>\n"
     ]
    }
   ],
   "source": [
    "x = []\n",
    "with open('iris.data', 'r') as f:\n",
    "    x = f.readlines()\n",
    "#print(x)\n",
    "\n",
    "data = []\n",
    "for line in x:\n",
    "    data.append(line[:-1].split(','))\n",
    "#print(data)\n",
    "\n",
    "\n",
    "#안에 숫자가 지금 문자열임 바꿔볼 것 (float로) 반복을 줘서 바꾸면 됨??\n",
    "float_data = []\n",
    "for n in data[0]:\n",
    "    if data[0][4]:\n",
    "        float_data.append(n)\n",
    "    else:\n",
    "        float_data.append(float(n))\n",
    "    \n",
    "print(float_data)\n",
    "print(type(float_data[0]))\n",
    "\n",
    "\n",
    "    \n",
    "    "
   ]
  }
 ],
 "metadata": {
  "kernelspec": {
   "display_name": "Python 3 (ipykernel)",
   "language": "python",
   "name": "python3"
  },
  "language_info": {
   "codemirror_mode": {
    "name": "ipython",
    "version": 3
   },
   "file_extension": ".py",
   "mimetype": "text/x-python",
   "name": "python",
   "nbconvert_exporter": "python",
   "pygments_lexer": "ipython3",
   "version": "3.10.5"
  }
 },
 "nbformat": 4,
 "nbformat_minor": 5
}
