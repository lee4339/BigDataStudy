{
 "cells": [
  {
   "cell_type": "code",
   "execution_count": null,
   "id": "146e3223",
   "metadata": {},
   "outputs": [],
   "source": [
    "with open('iris.data', 'r') as f:\n",
    "    raw = f.readlines()\n",
    "    \n",
    "#print(raw)\n",
    "\n",
    "pass1 = []\n",
    "for line in raw:\n",
    "    pass1.append(line[:-1].split(','))\n",
    "    \n",
    "#print(pass1)\n",
    "\n",
    "pass2 = []\n",
    "for x in pass1:\n",
    "    x_new = []\n",
    "    for x_i in x[:-1]:\n",
    "        x_new.append(float(x_i)) #마지막 인덱스 전까지 모든 인덱스를 float 타입으로 변경\n",
    "    x_new.append(x[-1]) #마지막 인덱스를 추가\n",
    "    pass2.append(x_new) \n",
    "    \n",
    "print(pass2)\n",
    "    "
   ]
  },
  {
   "cell_type": "code",
   "execution_count": null,
   "id": "cf625036",
   "metadata": {},
   "outputs": [],
   "source": [
    "print(type('5.1'))\n",
    "\n",
    "n = float('5.1')\n",
    "print(n)\n",
    "print(type(n))"
   ]
  },
  {
   "cell_type": "code",
   "execution_count": null,
   "id": "ca6b8a58",
   "metadata": {},
   "outputs": [],
   "source": [
    "x = ['5.1', '3.5', '1.4', '0.2', 'Iris-setosa']\n",
    "x_new = []\n",
    "\n",
    "for x_i in x[:-1]:\n",
    "    x_new.append(float(x_i))\n",
    "    \n",
    "x_new.append(x[-1])    \n",
    "print(x_new)"
   ]
  },
  {
   "cell_type": "code",
   "execution_count": null,
   "id": "ea7caf42",
   "metadata": {},
   "outputs": [],
   "source": [
    "x = ['5.1', '3.5', '1.4', '0.2', 'Iris-setosa']\n",
    "\n",
    "for i, x_i in enumerate(x[:-1]):  #enumerate --> 튜플로 인덱스와 벨류 보여줌\n",
    "    x[i] = float(x_i)\n",
    "    \n",
    "print(x)"
   ]
  }
 ],
 "metadata": {
  "kernelspec": {
   "display_name": "Python 3 (ipykernel)",
   "language": "python",
   "name": "python3"
  },
  "language_info": {
   "codemirror_mode": {
    "name": "ipython",
    "version": 3
   },
   "file_extension": ".py",
   "mimetype": "text/x-python",
   "name": "python",
   "nbconvert_exporter": "python",
   "pygments_lexer": "ipython3",
   "version": "3.10.5"
  }
 },
 "nbformat": 4,
 "nbformat_minor": 5
}
