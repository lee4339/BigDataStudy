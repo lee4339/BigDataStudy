{
 "cells": [
  {
   "cell_type": "markdown",
   "id": "b846b4f5",
   "metadata": {},
   "source": [
    "행정안전부 사고발생현황 데이터 전처리\n",
    "===============================\n",
    "\n",
    "출처: kosis.kr\n",
    "\n",
    "작성자: _____\n",
    "\n",
    "배경: 2006년 부터 2020년까지의 사고발생건수를 기준으로 사고 발생률을 분석하여 필요한 부문에 사고 예방조치를 할 수 있도록 하는 것이 중요. 한정된 자원을 필요 영역에 투입시키기 위하여 데이터분석을 할 예정으로 우선 데이터 전처리를 진행함.\n",
    "\n",
    "목표: 아래와 같이 전처리된 데이터 확보. pickle 형식으로 저장하여 차후 사용이 용이하도록 함.\n",
    "* 년도별 각 사고유형에 대하여 사고 발생건수 기록\n",
    "* 사고유형별 2006년부터 2020년 사이 사고발생건수\n",
    "\n",
    ">결측치는 -1 처리함"
   ]
  },
  {
   "cell_type": "code",
   "execution_count": 1,
   "id": "28eec45a",
   "metadata": {},
   "outputs": [],
   "source": [
    "import pickle\n",
    "IN_FILENAME = '사고발생현황_20220803192745.csv'\n",
    "OUT_FILENAME = '사고현황_2006_2020.pickle'\n",
    "\n",
    "\n",
    "with open(IN_FILENAME,'r') as f:\n",
    "    raw = f.readlines()   # 1차원 리스트\n",
    "    \n",
    "raw_list = []    # 2차원 리스트\n",
    "for line in raw[2: ]:    # line --> str\n",
    "    raw_list.append(line[:-1].split(','))    \n",
    "\n",
    "\n",
    "# 사고유형 이름, 유형별 발생 숫자 분리.\n",
    "accident_names = []\n",
    "accident_counts = []\n",
    "for accident in raw_list:\n",
    "    accident_names.append(accident[0])\n",
    "    accident_counts.append(accident[1:])\n",
    "\n",
    "# 사고유형 이름의 \"\" 문자 제거\n",
    "for i, n in enumerate(accident_names):\n",
    "    accident_names[i] = n.strip('\"')\n",
    "\n",
    "# accidents_over_year: 각 사고유형별 2006에서 2020년까지 사고 발생 건수. 리스트 형태.\n",
    "for accident_over_years in accident_counts:\n",
    "    for i , count in enumerate(accident_over_years):   # count: 발생건수, str 형태.\n",
    "        try:\n",
    "            accident_over_years[i] = int(count)    # 숫자화 시킬 수 있는 것은 정수로 cast\n",
    "        except:\n",
    "            accident_over_years[i] = -1            # 숫자화 되지 못하는 결측치, '-'는 -1로 기록.\n",
    "            \n",
    "            \n",
    "# dictionary 형태로 피클저장.            \n",
    "dictionary_to_pickle = dict()\n",
    "dictionary_to_pickle['accident_names'] = accident_names\n",
    "dictionary_to_pickle['accident_counts'] = accident_counts\n",
    "\n",
    "\n",
    "with open(OUT_FILENAME, 'wb') as f:\n",
    "    pickle.dump(dictionary_to_pickle, f)"
   ]
  },
  {
   "cell_type": "code",
   "execution_count": 54,
   "id": "9002f289",
   "metadata": {},
   "outputs": [
    {
     "name": "stdout",
     "output_type": "stream",
     "text": [
      "[213745, 211662, 215822, 231990, 226878, 221711, 223656, 215354, 223552, 232035, 220917, 216335, 217148, 229600, 209654]\n"
     ]
    }
   ],
   "source": [
    "#년도별 각 사고유형에 대한 사고 발생건수 기록\n",
    "\n",
    "#print(accident_counts)\n",
    "\n",
    "list_2016 = []\n",
    "for i in accident_counts:\n",
    "    \n",
    "    list_2016.append()\n",
    "print(list_2016)"
   ]
  }
 ],
 "metadata": {
  "kernelspec": {
   "display_name": "Python 3 (ipykernel)",
   "language": "python",
   "name": "python3"
  },
  "language_info": {
   "codemirror_mode": {
    "name": "ipython",
    "version": 3
   },
   "file_extension": ".py",
   "mimetype": "text/x-python",
   "name": "python",
   "nbconvert_exporter": "python",
   "pygments_lexer": "ipython3",
   "version": "3.10.5"
  }
 },
 "nbformat": 4,
 "nbformat_minor": 5
}
