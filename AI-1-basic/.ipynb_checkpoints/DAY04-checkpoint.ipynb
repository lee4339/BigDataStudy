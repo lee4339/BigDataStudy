{
 "cells": [
  {
   "cell_type": "code",
   "execution_count": null,
   "id": "4e87e08a",
   "metadata": {},
   "outputs": [],
   "source": [
    "#프로퍼티(property: 변수): 특징, 메소드(method): 행동(동작)\n",
    "# self 는 객체의 인스턴스 그 자체, 객체 자기 자신을 참조하는 매개변수인 셈\n",
    "class transportation: \n",
    "    def __init__(self, x):    # constructor : 처음 만들어질때 실행되는 함수\n",
    "        self.speed = x        # property\n",
    "    \n",
    "    def get_speed(self):      # method\n",
    "        return self.speed \n",
    "    \n",
    "    def set_speed(self, sp):\n",
    "        self.speed = sp\n",
    "        \n",
    "    def __str__(self):        #print()에서 어떻게 출력할지에 대한 함수\n",
    "        return 'transportation: ' + str(self.speed)\n",
    "x = transportation(20.0)\n",
    "print(x.get_speed())\n",
    "print(x.set_speed(25.5))\n",
    "#x.set_speed(15.0)\n",
    "#x.get_speed()\n",
    "print(x)"
   ]
  },
  {
   "cell_type": "code",
   "execution_count": null,
   "id": "be5c7214",
   "metadata": {},
   "outputs": [],
   "source": [
    "#상속\n",
    "class car(transportation):\n",
    "    def __init__(self):\n",
    "        super().__init__(100.0)  #상속되어 있는 부모의 초기값을 줌\n",
    "        self.n_doors = 5\n",
    "    def set_ndoors(self, sd):\n",
    "        sd = self.n_doors\n",
    "    def get_ndoors(self):\n",
    "        return self.n_doors\n",
    "    def __str__(self):\n",
    "        return 'car:' + str(self.n_doors)\n",
    "    \n",
    "c = car()\n",
    "print(c.get_ndoors())\n",
    "c.get_speed()"
   ]
  },
  {
   "cell_type": "code",
   "execution_count": null,
   "id": "83f9b003",
   "metadata": {},
   "outputs": [],
   "source": [
    "list1 = [1,2,2,3,3,3,4,4,4,4,5,5,5,5,5]\n",
    "\n",
    "while 3 in list1:\n",
    "    list1.remove(3)\n",
    "    \n",
    "print(list1)\n",
    "print(type(list1))"
   ]
  },
  {
   "cell_type": "code",
   "execution_count": 3,
   "id": "6e3e180d",
   "metadata": {},
   "outputs": [
    {
     "name": "stdout",
     "output_type": "stream",
     "text": [
      "[1, 2, 2, 3, 3, 3, 5, 5, 5, 5, 5]\n",
      "<class '__main__.mylist'>\n"
     ]
    }
   ],
   "source": [
    "class mylist(list):\n",
    "    def remove_all(self, target):\n",
    "        while target in self:\n",
    "            self.remove(target)\n",
    "            \n",
    "list2 = mylist([1,2,2,3,3,3,4,4,4,4,5,5,5,5,5])\n",
    "list2.remove_all(4)  \n",
    "print(list2)\n",
    "print(type(list2))"
   ]
  },
  {
   "cell_type": "code",
   "execution_count": 2,
   "id": "947e7586",
   "metadata": {},
   "outputs": [],
   "source": [
    "list2 = [1,2,3,4]\n",
    "assert sum(list2) == 10 #assert 프로그램 실행 중 이것은 반드시 실행을 강제(반드시 확인하고 지나가게함 --> 틀렸을시 에러)\n"
   ]
  },
  {
   "cell_type": "code",
   "execution_count": 7,
   "id": "f7ae102f",
   "metadata": {},
   "outputs": [
    {
     "name": "stdout",
     "output_type": "stream",
     "text": [
      "error\n",
      "done.\n",
      "0\n",
      "done.\n",
      "123\n"
     ]
    }
   ],
   "source": [
    "try:  \n",
    "    n = int('abc')\n",
    "except:    #예외 시 발생\n",
    "    print(\"error\")\n",
    "    n = 0\n",
    "finally:   #예외가 발생하던 발생하지않던 실행\n",
    "    print('done.')\n",
    "    \n",
    "print(n)\n",
    "\n",
    "try:\n",
    "    m = int('123')\n",
    "except: \n",
    "    print(\"error\")\n",
    "    m = 0\n",
    "finally:\n",
    "    print('done.')    \n",
    "print(m)"
   ]
  }
 ],
 "metadata": {
  "kernelspec": {
   "display_name": "Python 3 (ipykernel)",
   "language": "python",
   "name": "python3"
  },
  "language_info": {
   "codemirror_mode": {
    "name": "ipython",
    "version": 3
   },
   "file_extension": ".py",
   "mimetype": "text/x-python",
   "name": "python",
   "nbconvert_exporter": "python",
   "pygments_lexer": "ipython3",
   "version": "3.10.5"
  }
 },
 "nbformat": 4,
 "nbformat_minor": 5
}
