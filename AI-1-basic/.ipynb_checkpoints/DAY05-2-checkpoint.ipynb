{
 "cells": [
  {
   "cell_type": "code",
   "execution_count": 21,
   "id": "0653280b",
   "metadata": {},
   "outputs": [],
   "source": [
    "with open('종관기상_지점별_연·월_통계_20220725205202.csv', 'r') as f:\n",
    "    raw = f.readlines()"
   ]
  },
  {
   "cell_type": "code",
   "execution_count": 22,
   "id": "6650505c",
   "metadata": {},
   "outputs": [
    {
     "name": "stdout",
     "output_type": "stream",
     "text": [
      "41,56,62,60,67,68,83,81,72,63,46,47,35,56,43,58,70,79,79,78,66,58,60,41,42,45,55,58,59,71,78,72,70,54,48,47,42,43,53,50,61,74,76,67,61,55,52,48,41,62,60,59,69,80,85,86,75,68,61,50,53,54,54,69,67,80,83,79,74,62,73,58,49,48,61,66,64,80,85,72,80,73,61,54,46,45,53,64,63,70,82,74,69,68,49,40,45,42,63,62,73,75,78,75,76,62,57,49,39,50,54,60,58,74,85,78,82,67,58,50,56,55,57,53,73,73,87,82,74,58,52,43\n",
      "\n",
      "<class 'str'>\n",
      "['41', '56', '62', '60', '67', '68', '83', '81', '72', '63', '46', '47', '35', '56', '43', '58', '70', '79', '79', '78', '66', '58', '60', '41', '42', '45', '55', '58', '59', '71', '78', '72', '70', '54', '48', '47', '42', '43', '53', '50', '61', '74', '76', '67', '61', '55', '52', '48', '41', '62', '60', '59', '69', '80', '85', '86', '75', '68', '61', '50', '53', '54', '54', '69', '67', '80', '83', '79', '74', '62', '73', '58', '49', '48', '61', '66', '64', '80', '85', '72', '80', '73', '61', '54', '46', '45', '53', '64', '63', '70', '82', '74', '69', '68', '49', '40', '45', '42', '63', '62', '73', '75', '78', '75', '76', '62', '57', '49', '39', '50', '54', '60', '58', '74', '85', '78', '82', '67', '58', '50', '56', '55', '57', '53', '73', '73', '87', '82', '74', '58', '52', '43\\n']\n"
     ]
    }
   ],
   "source": [
    "#print(raw)\n",
    "\n",
    "a = raw[2][5:]\n",
    "print(a)\n",
    "print(type(a))\n",
    "\n",
    "list_a = []\n",
    "\n",
    "for i in a:\n",
    "    list_a.append(a.split(','))\n",
    "print(list_a[0])\n",
    "\n",
    "'''\n",
    "강사님 방식\n",
    "data_line = raw[2]\n",
    "data_list = data_line[:-1].split(',')\n",
    "data_list = data_list[1:]\n",
    "#print(data_list)\n",
    "\n",
    "data_list = [int(h) for h in data_list]\n",
    "print(data_list)\n",
    "print(len(data_list))\n",
    "'''"
   ]
  },
  {
   "cell_type": "code",
   "execution_count": 23,
   "id": "d58c4bb7",
   "metadata": {},
   "outputs": [
    {
     "name": "stdout",
     "output_type": "stream",
     "text": [
      "[41, 56, 62, 60, 67, 68, 83, 81, 72, 63, 46, 47, 35, 56, 43, 58, 70, 79, 79, 78, 66, 58, 60, 41, 42, 45, 55, 58, 59, 71, 78, 72, 70, 54, 48, 47, 42, 43, 53, 50, 61, 74, 76, 67, 61, 55, 52, 48, 41, 62, 60, 59, 69, 80, 85, 86, 75, 68, 61, 50, 53, 54, 54, 69, 67, 80, 83, 79, 74, 62, 73, 58, 49, 48, 61, 66, 64, 80, 85, 72, 80, 73, 61, 54, 46, 45, 53, 64, 63, 70, 82, 74, 69, 68, 49, 40, 45, 42, 63, 62, 73, 75, 78, 75, 76, 62, 57, 49, 39, 50, 54, 60, 58, 74, 85, 78, 82, 67, 58, 50, 56, 55, 57, 53, 73, 73, 87, 82, 74, 58, 52, 43]\n",
      "<class 'int'>\n"
     ]
    }
   ],
   "source": [
    "list_int = []\n",
    "for n in list_a[0]:\n",
    "    try:\n",
    "        list_int.append(int(n))\n",
    "    except:\n",
    "        pass\n",
    "\n",
    "print(list_int)\n",
    "print(type(list_int[0]))\n",
    "\n",
    "#list_int = [int(h) for h in list_a]"
   ]
  },
  {
   "cell_type": "code",
   "execution_count": 24,
   "id": "7674cdb8",
   "metadata": {},
   "outputs": [
    {
     "name": "stdout",
     "output_type": "stream",
     "text": [
      "[[41, 56, 62, 60, 67, 68, 83, 81, 72, 63, 46, 47], [35, 56, 43, 58, 70, 79, 79, 78, 66, 58, 60, 41], [42, 45, 55, 58, 59, 71, 78, 72, 70, 54, 48, 47], [42, 43, 53, 50, 61, 74, 76, 67, 61, 55, 52, 48], [41, 62, 60, 59, 69, 80, 85, 86, 75, 68, 61, 50], [53, 54, 54, 69, 67, 80, 83, 79, 74, 62, 73, 58], [49, 48, 61, 66, 64, 80, 85, 72, 80, 73, 61, 54], [46, 45, 53, 64, 63, 70, 82, 74, 69, 68, 49, 40], [45, 42, 63, 62, 73, 75, 78, 75, 76, 62, 57, 49], [39, 50, 54, 60, 58, 74, 85, 78, 82, 67, 58, 50], [56, 55, 57, 53, 73, 73, 87, 82, 74, 58, 52, 43]]\n"
     ]
    }
   ],
   "source": [
    "'''\n",
    "n = 12\n",
    "list_x = [list_int[i * n : (i + 1) * n] for i in range((len(list_int) + n - 1) // n)]\n",
    "print(list_x)\n",
    "'''\n",
    "\n",
    "#강사님 방식\n",
    "list_x = []\n",
    "for i in range(0, 132, 12):\n",
    "    list_x.append(list_int[i: i+12])\n",
    "print(list_x)\n",
    "\n"
   ]
  },
  {
   "cell_type": "code",
   "execution_count": 26,
   "id": "3d9ee7d7",
   "metadata": {},
   "outputs": [],
   "source": [
    "#busan_humidity_2010-2020.pickle\n",
    "import pickle\n",
    "\n",
    "with open('busan_humidity_2010-2020.pickle', 'wb') as f:\n",
    "    pickle.dump(list_x, f)"
   ]
  },
  {
   "cell_type": "code",
   "execution_count": 27,
   "id": "62dad537",
   "metadata": {},
   "outputs": [
    {
     "name": "stdout",
     "output_type": "stream",
     "text": [
      "[[41, 56, 62, 60, 67, 68, 83, 81, 72, 63, 46, 47], [35, 56, 43, 58, 70, 79, 79, 78, 66, 58, 60, 41], [42, 45, 55, 58, 59, 71, 78, 72, 70, 54, 48, 47], [42, 43, 53, 50, 61, 74, 76, 67, 61, 55, 52, 48], [41, 62, 60, 59, 69, 80, 85, 86, 75, 68, 61, 50], [53, 54, 54, 69, 67, 80, 83, 79, 74, 62, 73, 58], [49, 48, 61, 66, 64, 80, 85, 72, 80, 73, 61, 54], [46, 45, 53, 64, 63, 70, 82, 74, 69, 68, 49, 40], [45, 42, 63, 62, 73, 75, 78, 75, 76, 62, 57, 49], [39, 50, 54, 60, 58, 74, 85, 78, 82, 67, 58, 50], [56, 55, 57, 53, 73, 73, 87, 82, 74, 58, 52, 43]]\n"
     ]
    }
   ],
   "source": [
    "loaded_list = []\n",
    "with open('busan_humidity_2010-2020.pickle', 'rb') as f:\n",
    "    loaded_list = pickle.load(f)\n",
    "print(loaded_list)"
   ]
  },
  {
   "cell_type": "code",
   "execution_count": 18,
   "id": "a3beb0c3",
   "metadata": {},
   "outputs": [
    {
     "data": {
      "text/plain": [
       "6"
      ]
     },
     "execution_count": 18,
     "metadata": {},
     "output_type": "execute_result"
    }
   ],
   "source": [
    "def my_argmax(src):\n",
    "    max_value = src[0]\n",
    "    max_index = 0;\n",
    "    for i, v in enumerate(src[1:]):\n",
    "        if max_value < v:\n",
    "            max_value = v\n",
    "            max_index = i + 1\n",
    "    return max_index\n",
    "\n",
    "my_argmax([41, 56, 62, 60, 67, 68, 83, 81, 72, 63, 46, 47])"
   ]
  },
  {
   "cell_type": "code",
   "execution_count": 19,
   "id": "f518ea10",
   "metadata": {},
   "outputs": [
    {
     "name": "stdout",
     "output_type": "stream",
     "text": [
      "[7, 6, 7, 7, 8, 7, 7, 7, 7, 7, 7]\n"
     ]
    }
   ],
   "source": [
    "r = []\n",
    "for e in list_x:\n",
    "    r.append(my_argmax(e) + 1)\n",
    "    \n",
    "print(r)"
   ]
  }
 ],
 "metadata": {
  "kernelspec": {
   "display_name": "Python 3 (ipykernel)",
   "language": "python",
   "name": "python3"
  },
  "language_info": {
   "codemirror_mode": {
    "name": "ipython",
    "version": 3
   },
   "file_extension": ".py",
   "mimetype": "text/x-python",
   "name": "python",
   "nbconvert_exporter": "python",
   "pygments_lexer": "ipython3",
   "version": "3.10.5"
  }
 },
 "nbformat": 4,
 "nbformat_minor": 5
}
