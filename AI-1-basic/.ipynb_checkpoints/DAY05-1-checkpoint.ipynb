{
 "cells": [
  {
   "cell_type": "code",
   "execution_count": 7,
   "id": "c449c92d",
   "metadata": {},
   "outputs": [
    {
     "name": "stdout",
     "output_type": "stream",
     "text": [
      "14\n",
      "14\n",
      "36\n",
      "36\n"
     ]
    }
   ],
   "source": [
    "list1 = [1, 2, 3]\n",
    "sum(list1)\n",
    "\n",
    "def sq_sum(src):\n",
    "    ret = 0\n",
    "    for e in src:\n",
    "        ret = ret + e * e\n",
    "    return ret\n",
    "\n",
    "sq_sum(list1) == 14\n",
    "\n",
    "def t_sum(src):\n",
    "    ret = 0\n",
    "    for e in src:\n",
    "        ret = ret + e * e * e\n",
    "    return ret\n",
    "\n",
    "def fn_sum(src, fn):\n",
    "    ret = 0\n",
    "    for e in src:\n",
    "        ret = ret + fn(e)\n",
    "    return ret\n",
    "\n",
    "def sq(n):\n",
    "    return n**2\n",
    "\n",
    "def t(n):\n",
    "    return n**3\n",
    "\n",
    "r = fn_sum([1, 2, 3], sq)\n",
    "print(r)\n",
    "r = fn_sum([1, 2, 3], lambda n : n**2)\n",
    "print(r)\n",
    "r = fn_sum([1, 2, 3], t)\n",
    "print(r)\n",
    "r = fn_sum([1, 2, 3], lambda x : x**3)\n",
    "print(r)\n",
    "\n",
    "\n"
   ]
  },
  {
   "cell_type": "code",
   "execution_count": 8,
   "id": "c5a09870",
   "metadata": {},
   "outputs": [
    {
     "data": {
      "text/plain": [
       "16"
      ]
     },
     "execution_count": 8,
     "metadata": {},
     "output_type": "execute_result"
    }
   ],
   "source": [
    "import random as r\n",
    "r.randrange(1, 100)"
   ]
  },
  {
   "cell_type": "code",
   "execution_count": 10,
   "id": "932a2e24",
   "metadata": {},
   "outputs": [
    {
     "name": "stdout",
     "output_type": "stream",
     "text": [
      "[29, 9, 99, 80, 46, 17, 40, 13, 84, 78]\n"
     ]
    }
   ],
   "source": [
    "from random import randrange \n",
    "\n",
    "rand_list = [randrange(1, 100) for _ in range(10)]\n",
    "print(rand_list)"
   ]
  },
  {
   "cell_type": "code",
   "execution_count": 37,
   "id": "d446e225",
   "metadata": {},
   "outputs": [
    {
     "name": "stdout",
     "output_type": "stream",
     "text": [
      "[29, 9, 99, 80, 46, 17, 40, 13, 84, 78]\n"
     ]
    },
    {
     "data": {
      "text/plain": [
       "[-20.5, -40.5, 49.5, 30.5, -3.5, -32.5, -9.5, -36.5, 34.5, 28.5]"
      ]
     },
     "execution_count": 37,
     "metadata": {},
     "output_type": "execute_result"
    }
   ],
   "source": [
    "#편차리스트 함수\n",
    "'''\n",
    "def de_list(n): \n",
    "    avg = sum(n)/len(n)\n",
    "    return_list = []\n",
    "    for i in n:\n",
    "        return_list.append(i - avg)\n",
    "    return return_list\n",
    "'''\n",
    "\n",
    "def de_list(n): \n",
    "    avg = sum(n)/len(n)\n",
    "    return [i - avg for i in n]\n",
    "\n",
    "print(rand_list)\n",
    "de_list(rand_list)  "
   ]
  },
  {
   "cell_type": "code",
   "execution_count": 53,
   "id": "32928dae",
   "metadata": {},
   "outputs": [
    {
     "name": "stdout",
     "output_type": "stream",
     "text": [
      "11\n",
      "prime\n"
     ]
    }
   ],
   "source": [
    "n = 11\n",
    "print(n)\n",
    "\n",
    "for i in range(2, n):\n",
    "    if n % i == 0:\n",
    "        print('not prime')\n",
    "        break\n",
    "    else :\n",
    "        print('prime')\n",
    "        break"
   ]
  }
 ],
 "metadata": {
  "kernelspec": {
   "display_name": "Python 3 (ipykernel)",
   "language": "python",
   "name": "python3"
  },
  "language_info": {
   "codemirror_mode": {
    "name": "ipython",
    "version": 3
   },
   "file_extension": ".py",
   "mimetype": "text/x-python",
   "name": "python",
   "nbconvert_exporter": "python",
   "pygments_lexer": "ipython3",
   "version": "3.10.5"
  }
 },
 "nbformat": 4,
 "nbformat_minor": 5
}
