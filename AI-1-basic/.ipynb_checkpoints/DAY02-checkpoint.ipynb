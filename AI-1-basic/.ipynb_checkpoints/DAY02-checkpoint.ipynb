{
 "cells": [
  {
   "cell_type": "code",
   "execution_count": null,
   "metadata": {
    "colab": {
     "base_uri": "https://localhost:8080/"
    },
    "executionInfo": {
     "elapsed": 294,
     "status": "ok",
     "timestamp": 1657880931445,
     "user": {
      "displayName": "이웃사람",
      "userId": "10807495761184433832"
     },
     "user_tz": -540
    },
    "id": "TU_cPXzgZaEg",
    "outputId": "8b9fa774-05ff-4b02-b60b-2bbcb9525aef"
   },
   "outputs": [],
   "source": [
    "n = 3 \n",
    "m = 5\n",
    "\n",
    "print(n == m) #같은가\n",
    "print(n > m)  #큰가\n",
    "print(n <= m) # 작거나 같은가\n",
    "print(n != m) #같지않은가\n",
    "# bool타입으로 결과가 나옴 True / False"
   ]
  },
  {
   "cell_type": "code",
   "execution_count": null,
   "metadata": {
    "colab": {
     "base_uri": "https://localhost:8080/"
    },
    "executionInfo": {
     "elapsed": 290,
     "status": "ok",
     "timestamp": 1657881339641,
     "user": {
      "displayName": "이웃사람",
      "userId": "10807495761184433832"
     },
     "user_tz": -540
    },
    "id": "dv6EdDhJaN80",
    "outputId": "d6beb924-aac2-42d2-eb5e-e24082e1760a"
   },
   "outputs": [],
   "source": [
    "if n == m:\n",
    "  print(\"두 값이 같습니다.\")\n",
    "else :\n",
    "  print(\"두 값이 다릅니다.\")\n",
    "\n",
    "if n >= m: #if elif는 순서대로 참인 경우에서 빠져나감 참 이후의 조건은 무시\n",
    "  print(\"n이 m보다 작거나 같습니다.\")\n",
    "elif n % 3 == 0:\n",
    "  print(\"n은 3의 배수입니다.\")\n",
    "else :\n",
    "  print(\"마지막 else.\")"
   ]
  },
  {
   "cell_type": "code",
   "execution_count": null,
   "metadata": {
    "colab": {
     "base_uri": "https://localhost:8080/"
    },
    "executionInfo": {
     "elapsed": 315,
     "status": "ok",
     "timestamp": 1657881526898,
     "user": {
      "displayName": "이웃사람",
      "userId": "10807495761184433832"
     },
     "user_tz": -540
    },
    "id": "gWWNNmn_bo02",
    "outputId": "ac295e28-f9de-4b3e-d467-27e7ce7b11ba"
   },
   "outputs": [],
   "source": [
    "x = [1, 2, 3]\n",
    "\n",
    "if 3 in x:\n",
    "  print(\"리스트에 3이 있습니다.\")\n",
    "\n",
    "if 5 not in [3, 2, 1]:\n",
    "  print(\"리스트에 5가 없습니다.\")"
   ]
  },
  {
   "cell_type": "code",
   "execution_count": null,
   "metadata": {
    "colab": {
     "base_uri": "https://localhost:8080/"
    },
    "executionInfo": {
     "elapsed": 434,
     "status": "ok",
     "timestamp": 1657882207119,
     "user": {
      "displayName": "이웃사람",
      "userId": "10807495761184433832"
     },
     "user_tz": -540
    },
    "id": "NFnd1244cSTl",
    "outputId": "17e707c8-42ef-4403-b456-be6fcef5079b"
   },
   "outputs": [],
   "source": [
    "n = 3\n",
    "y = {1, 2, 3}\n",
    "\n",
    "while n > 0:\n",
    "  print(n)\n",
    "  n = n - 1\n",
    "\n",
    "while 3 in y:\n",
    "  print('3이 세트 y에 있습니다.')\n",
    "  break # y.remove(3)"
   ]
  },
  {
   "cell_type": "code",
   "execution_count": null,
   "metadata": {
    "colab": {
     "base_uri": "https://localhost:8080/"
    },
    "executionInfo": {
     "elapsed": 300,
     "status": "ok",
     "timestamp": 1657882081470,
     "user": {
      "displayName": "이웃사람",
      "userId": "10807495761184433832"
     },
     "user_tz": -540
    },
    "id": "PWTO5pAcdZ_1",
    "outputId": "92f12420-01b5-4efd-d2a0-6d38dcf383ba"
   },
   "outputs": [],
   "source": [
    "x = [1, 2, 3, 4, 5]\n",
    "z = []\n",
    "\n",
    "for n in x:\n",
    " z.append(n ** 2)  #x리스트의 인덱스개수만큼 반복하여 값을 n으로 가져와서 z리스트에 제곱하여 추가한다. \n",
    "  \n",
    "print(z)"
   ]
  },
  {
   "cell_type": "code",
   "execution_count": null,
   "metadata": {
    "colab": {
     "base_uri": "https://localhost:8080/"
    },
    "executionInfo": {
     "elapsed": 361,
     "status": "ok",
     "timestamp": 1657882177692,
     "user": {
      "displayName": "이웃사람",
      "userId": "10807495761184433832"
     },
     "user_tz": -540
    },
    "id": "U1iZZFXueaN0",
    "outputId": "e3042080-c75e-4adc-8af7-5faebf42fd99"
   },
   "outputs": [],
   "source": [
    "x = [3, 5]\n",
    "z = []\n",
    "\n",
    "for n in x:\n",
    "  z.append(n ** 2)\n",
    "\n",
    "print(z)"
   ]
  },
  {
   "cell_type": "code",
   "execution_count": null,
   "metadata": {
    "id": "24hpzZOIhZdY"
   },
   "outputs": [],
   "source": [
    "x = [1, 2, 3, 4, 5]\n",
    "z = [n ** 2 for n in  x] # 인라인함수 --> n안에 x를 넣는데 n은 2의 제곱이다.\n",
    "\n",
    "print(z)"
   ]
  }
 ],
 "metadata": {
  "colab": {
   "authorship_tag": "ABX9TyMyZHCeG2oE/yC956i6rZN3",
   "collapsed_sections": [],
   "name": "DAY02.ipynb",
   "provenance": []
  },
  "kernelspec": {
   "display_name": "Python 3 (ipykernel)",
   "language": "python",
   "name": "python3"
  },
  "language_info": {
   "codemirror_mode": {
    "name": "ipython",
    "version": 3
   },
   "file_extension": ".py",
   "mimetype": "text/x-python",
   "name": "python",
   "nbconvert_exporter": "python",
   "pygments_lexer": "ipython3",
   "version": "3.10.5"
  }
 },
 "nbformat": 4,
 "nbformat_minor": 1
}
