{
 "cells": [
  {
   "cell_type": "code",
   "execution_count": null,
   "id": "a02e1df4",
   "metadata": {},
   "outputs": [],
   "source": [
    "x = [1, 2, 3, 4, 5]\n",
    "z = [n ** 2 for n in  x]\n",
    "#for문 한줄쓰기 : [표현식(i) for i  in 반복가능객체]\n",
    "# x안에 인덱스개수 만큼 반복하여 x의 값을 n으로 가져오는데, 값들을 제곱하여 표현하겠다.(가져옴)\n",
    "print(z)"
   ]
  },
  {
   "cell_type": "code",
   "execution_count": null,
   "id": "5d5a1eed",
   "metadata": {},
   "outputs": [],
   "source": [
    "x = [1, 2, 3, 4, 5]\n",
    "z = []\n",
    "\n",
    "for n in x:\n",
    " z.append(n ** 2)\n",
    "  \n",
    "print(z)"
   ]
  },
  {
   "cell_type": "code",
   "execution_count": null,
   "id": "93097ff6",
   "metadata": {},
   "outputs": [],
   "source": [
    "x = range(10) # generator : 생성기 --> 생성조건만 가지고 있다가 값을 꺼내는 시점에 값을 만듬\n",
    "print(x)\n",
    "\n",
    "new_list = []\n",
    "\n",
    "for n in range(10):\n",
    "    new_list.append(n)\n",
    "    \n",
    "print(new_list)"
   ]
  },
  {
   "cell_type": "code",
   "execution_count": null,
   "id": "8031fc6f",
   "metadata": {},
   "outputs": [],
   "source": [
    "new_list2 = [n for n in range(10)] # start: 0 , stop: 10\n",
    "print(new_list2)"
   ]
  },
  {
   "cell_type": "code",
   "execution_count": null,
   "id": "1711fc71",
   "metadata": {},
   "outputs": [],
   "source": [
    "new_list3 = [n for n in range(5, 10)] # start: 5, stop: 10\n",
    "print(new_list3)"
   ]
  },
  {
   "cell_type": "code",
   "execution_count": null,
   "id": "11b563e1",
   "metadata": {},
   "outputs": [],
   "source": [
    "new_list4 = [n for n in range(5, 10, 2)] # start: 5, stop: 10, step: 2\n",
    "print(new_list4)"
   ]
  },
  {
   "cell_type": "code",
   "execution_count": null,
   "id": "d56eff74",
   "metadata": {},
   "outputs": [],
   "source": [
    "############euler #1 = ver1\n",
    "sum1 = 0;\n",
    "\n",
    "for n in range(1,10):\n",
    "    if n%3 == 0 or n%5 == 0:\n",
    "        print(n)\n",
    "        sum1 = sum1 + n\n",
    "        \n",
    "print('sum:',sum1)"
   ]
  },
  {
   "cell_type": "code",
   "execution_count": null,
   "id": "d3b84999",
   "metadata": {},
   "outputs": [],
   "source": [
    "############euler #1 = ver2\n",
    "numbers = []\n",
    "\n",
    "for n in range(1,1000):\n",
    "    if n%3 == 0 or n%5 == 0:\n",
    "        numbers.append(n)\n",
    "        \n",
    "print(numbers)\n",
    "number_set = set(numbers)\n",
    "print(type(number_set))\n",
    "#print(sum(number_set))"
   ]
  },
  {
   "cell_type": "code",
   "execution_count": null,
   "id": "90add482",
   "metadata": {},
   "outputs": [],
   "source": [
    "#[1,2,3] + [4,5,6]\n",
    "#[1,2,3,4,5,6]\n",
    "\n",
    "list_3 = [n for n in range(3, 100, 3)]\n",
    "list_5 = [n for n in range(5, 100, 5)]\n",
    "set_x = set(list_3 + list_5)\n",
    "\n",
    "print(set_x)\n",
    "print(sum(set_x))"
   ]
  },
  {
   "cell_type": "code",
   "execution_count": null,
   "id": "b2172f2c",
   "metadata": {},
   "outputs": [],
   "source": [
    "print('sum:', sum([1, 2, 3]))\n",
    "print('len:', len({4, 5, 6}))"
   ]
  },
  {
   "cell_type": "code",
   "execution_count": null,
   "id": "18c87e19",
   "metadata": {},
   "outputs": [],
   "source": [
    "#슬라이싱\n",
    "list1 = [n for n in range(10, 20)]\n",
    "print(list1)\n",
    "print(list1[1:8:2]) # 1부터 8까지 2씩 증가해서\n",
    "print(list1[1:-3])#1부터 뒤에서 3개 자르고"
   ]
  },
  {
   "cell_type": "code",
   "execution_count": null,
   "id": "300e8825",
   "metadata": {},
   "outputs": [],
   "source": [
    "############euler-6\n",
    "list1 = [n ** 2 for n in range(1, 11)]\n",
    "list2 = [m for m in range(1, 11)]\n",
    "sum_list1 = sum(list1)\n",
    "sum_list2 = (sum(list2)) ** 2\n",
    "\n",
    "print(sum_list2 -  sum_list1)"
   ]
  },
  {
   "cell_type": "code",
   "execution_count": null,
   "id": "e2b0bf39",
   "metadata": {},
   "outputs": [],
   "source": [
    "############euler-6\n",
    "list1 = [n ** 2 for n in range(1, 101)]\n",
    "list2 = [m for m in range(1, 101)]\n",
    "sum_list1 = sum(list1)\n",
    "sum_list2 = (sum(list2)) ** 2\n",
    "\n",
    "print(sum_list2 -  sum_list1)"
   ]
  },
  {
   "cell_type": "code",
   "execution_count": null,
   "id": "aa3af7d2",
   "metadata": {},
   "outputs": [],
   "source": [
    "########## random number\n",
    "import random  #import 외부파일 불러오기 \n",
    "\n",
    "random.randrange(1, 100)\n",
    "\n",
    "rand_ten = []\n",
    "\n",
    "for _ in range(10): #변수가 필요없을시 _\n",
    "    rand_ten.append(random.randrange(1, 100))\n",
    "    \n",
    "print(rand_ten)    \n",
    "\n",
    "rand_ten2 = [random.randrange(1, 100) for _ in range(10)]\n",
    "print('v2:', rand_ten2)\n"
   ]
  },
  {
   "cell_type": "code",
   "execution_count": null,
   "id": "40bdf539",
   "metadata": {},
   "outputs": [],
   "source": [
    "##################### 함수 define\n",
    "\n",
    "def myfunc():\n",
    "    print('my function')\n",
    "    \n",
    "myfunc()\n",
    "\n",
    "def myfunc2(n):\n",
    "    return n**2;\n",
    "\n",
    "myfunc2(5)\n",
    "\n",
    "#입력: python 리스트\n",
    "#출력(return, 반환값): 각 element 제곱의 합 \n",
    "def sum_of_squares(n):\n",
    "    #list1 = [a ** 2 for a in n]\n",
    "    return sum([a ** 2 for a in n])\n",
    "    \n",
    "sum_of_squares([1, 2, 3])\n",
    "    "
   ]
  }
 ],
 "metadata": {
  "kernelspec": {
   "display_name": "Python 3 (ipykernel)",
   "language": "python",
   "name": "python3"
  },
  "language_info": {
   "codemirror_mode": {
    "name": "ipython",
    "version": 3
   },
   "file_extension": ".py",
   "mimetype": "text/x-python",
   "name": "python",
   "nbconvert_exporter": "python",
   "pygments_lexer": "ipython3",
   "version": "3.10.5"
  }
 },
 "nbformat": 4,
 "nbformat_minor": 5
}
