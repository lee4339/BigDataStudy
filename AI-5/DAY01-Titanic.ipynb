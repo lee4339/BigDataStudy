{
 "cells": [
  {
   "cell_type": "code",
   "execution_count": 1,
   "id": "a087c3ea",
   "metadata": {},
   "outputs": [],
   "source": [
    "from tensorflow import keras\n",
    "\n",
    "import pandas as pd\n",
    "import numpy as np"
   ]
  },
  {
   "cell_type": "code",
   "execution_count": 9,
   "id": "d01ac285",
   "metadata": {},
   "outputs": [
    {
     "name": "stdout",
     "output_type": "stream",
     "text": [
      "(891, 12) (418, 11)\n",
      "Index(['PassengerId', 'Survived', 'Pclass', 'Name', 'Sex', 'Age', 'SibSp',\n",
      "       'Parch', 'Ticket', 'Fare', 'Cabin', 'Embarked'],\n",
      "      dtype='object')\n",
      "Index(['PassengerId', 'Pclass', 'Name', 'Sex', 'Age', 'SibSp', 'Parch',\n",
      "       'Ticket', 'Fare', 'Cabin', 'Embarked'],\n",
      "      dtype='object')\n"
     ]
    }
   ],
   "source": [
    "pd_train = pd.read_csv('train.csv')\n",
    "pd_test = pd.read_csv('test.csv')\n",
    "\n",
    "print(pd_train.shape, pd_test.shape)\n",
    "print(pd_train.columns)\n",
    "print(pd_test.columns)"
   ]
  },
  {
   "cell_type": "code",
   "execution_count": 10,
   "id": "3c6a20f7",
   "metadata": {},
   "outputs": [
    {
     "name": "stdout",
     "output_type": "stream",
     "text": [
      "               count       mean        std   min     25%   50%    75%   max\n",
      "Pclass Sex                                                                 \n",
      "1      female   85.0  34.611765  13.612052  2.00  23.000  35.0  44.00  63.0\n",
      "       male    101.0  41.281386  15.139570  0.92  30.000  40.0  51.00  80.0\n",
      "2      female   74.0  28.722973  12.872702  2.00  22.250  28.0  36.00  57.0\n",
      "       male     99.0  30.740707  14.793894  0.67  23.000  30.0  36.75  70.0\n",
      "3      female  102.0  21.750000  12.729964  0.75  14.125  21.5  29.75  63.0\n",
      "       male    253.0  26.507589  12.159514  0.42  20.000  25.0  33.00  74.0\n",
      "26.507588932806325\n"
     ]
    }
   ],
   "source": [
    "# print(pd_train.describe())\n",
    "g1 = pd_train.groupby(['Pclass', 'Sex'])\n",
    "df_age_mean = g1['Age'].describe()\n",
    "print(df_age_mean)\n",
    "print(df_age_mean.loc[(3, 'male'),'mean'])"
   ]
  },
  {
   "cell_type": "code",
   "execution_count": 11,
   "id": "c36a5a6d",
   "metadata": {},
   "outputs": [
    {
     "name": "stdout",
     "output_type": "stream",
     "text": [
      "PassengerId                          1\n",
      "Survived                             0\n",
      "Pclass                               3\n",
      "Name           Braund, Mr. Owen Harris\n",
      "Sex                               male\n",
      "Age                               22.0\n",
      "SibSp                                1\n",
      "Parch                                0\n",
      "Ticket                       A/5 21171\n",
      "Fare                              7.25\n",
      "Cabin                              NaN\n",
      "Embarked                             S\n",
      "Name: 0, dtype: object\n"
     ]
    }
   ],
   "source": [
    "df_len = len(pd_train)\n",
    "df_len = 1\n",
    "for i in range(df_len):\n",
    "    print(pd_train.iloc[i, :])"
   ]
  },
  {
   "cell_type": "code",
   "execution_count": 3,
   "id": "f6be4888",
   "metadata": {},
   "outputs": [],
   "source": [
    "### 결측치\n",
    "def scan_nans(pd_dataframe):\n",
    "    for pd_series_name in pd_dataframe:\n",
    "        s = pd_dataframe[pd_series_name]\n",
    "        print(pd_series_name, len(s), s.isna().sum())\n",
    "        \n",
    "def scan_nans_simple(pd_dataframe):\n",
    "    for pd_series_name in pd_dataframe:\n",
    "        print(pd_series_name, pd+dataframe[pd_series_name].hasnans)\n",
    "        \n",
    "\n",
    "# scan_nans(pd_train)\n",
    "# scan_nans(pd_test)"
   ]
  },
  {
   "cell_type": "code",
   "execution_count": 4,
   "id": "0f658ade",
   "metadata": {},
   "outputs": [],
   "source": [
    "### Feature 선택\n",
    "y_train = pd_train['Survived']\n",
    "pd_train.drop(['Survived', 'Name', 'Ticket', 'Cabin'], axis=1, inplace=True)"
   ]
  },
  {
   "cell_type": "code",
   "execution_count": 5,
   "id": "5ba7043f",
   "metadata": {},
   "outputs": [
    {
     "name": "stdout",
     "output_type": "stream",
     "text": [
      "     PassengerId  Pclass     Sex   Age  SibSp  Parch     Fare Embarked\n",
      "0              1       3    male  22.0      1      0   7.2500        S\n",
      "1              2       1  female  38.0      1      0  71.2833        C\n",
      "2              3       3  female  26.0      0      0   7.9250        S\n",
      "3              4       1  female  35.0      1      0  53.1000        S\n",
      "4              5       3    male  35.0      0      0   8.0500        S\n",
      "..           ...     ...     ...   ...    ...    ...      ...      ...\n",
      "886          887       2    male  27.0      0      0  13.0000        S\n",
      "887          888       1  female  19.0      0      0  30.0000        S\n",
      "888          889       3  female   NaN      1      2  23.4500        S\n",
      "889          890       1    male  26.0      0      0  30.0000        C\n",
      "890          891       3    male  32.0      0      0   7.7500        Q\n",
      "\n",
      "[891 rows x 8 columns]\n"
     ]
    }
   ],
   "source": [
    "print(pd_train)\n",
    "for c in ['Sex', 'Embarked']:\n",
    "    pd_train[c] = pd_train[c].astype('category').cat.codes"
   ]
  },
  {
   "cell_type": "code",
   "execution_count": 6,
   "id": "d2c62c66",
   "metadata": {},
   "outputs": [
    {
     "name": "stdout",
     "output_type": "stream",
     "text": [
      "     PassengerId  Pclass  Sex   Age  SibSp  Parch     Fare  Embarked\n",
      "0              1       3    1  22.0      1      0   7.2500         2\n",
      "1              2       1    0  38.0      1      0  71.2833         0\n",
      "2              3       3    0  26.0      0      0   7.9250         2\n",
      "3              4       1    0  35.0      1      0  53.1000         2\n",
      "4              5       3    1  35.0      0      0   8.0500         2\n",
      "..           ...     ...  ...   ...    ...    ...      ...       ...\n",
      "886          887       2    1  27.0      0      0  13.0000         2\n",
      "887          888       1    0  19.0      0      0  30.0000         2\n",
      "888          889       3    0   NaN      1      2  23.4500         2\n",
      "889          890       1    1  26.0      0      0  30.0000         0\n",
      "890          891       3    1  32.0      0      0   7.7500         1\n",
      "\n",
      "[891 rows x 8 columns]\n",
      "(891, 7) (891,)\n"
     ]
    }
   ],
   "source": [
    "print(pd_train)\n",
    "pd_train = pd_train.replace(np.NaN, 0.0)\n",
    "X_train = pd_train.iloc[:, 1:].values\n",
    "# y_train = y_train.values\n",
    "print(X_train.shape, y_train.shape)"
   ]
  },
  {
   "cell_type": "code",
   "execution_count": 8,
   "id": "2443f4d7",
   "metadata": {},
   "outputs": [
    {
     "name": "stdout",
     "output_type": "stream",
     "text": [
      "Epoch 1/10\n",
      "28/28 [==============================] - 1s 1ms/step - loss: 2.1557 - accuracy: 0.4209\n",
      "Epoch 2/10\n",
      "28/28 [==============================] - 0s 2ms/step - loss: 0.9090 - accuracy: 0.6117\n",
      "Epoch 3/10\n",
      "28/28 [==============================] - 0s 1ms/step - loss: 0.7698 - accuracy: 0.6352\n",
      "Epoch 4/10\n",
      "28/28 [==============================] - 0s 1ms/step - loss: 0.6975 - accuracy: 0.6330\n",
      "Epoch 5/10\n",
      "28/28 [==============================] - 0s 1ms/step - loss: 0.6672 - accuracy: 0.6352\n",
      "Epoch 6/10\n",
      "28/28 [==============================] - 0s 1ms/step - loss: 0.6526 - accuracy: 0.6453\n",
      "Epoch 7/10\n",
      "28/28 [==============================] - 0s 1ms/step - loss: 0.6431 - accuracy: 0.6229\n",
      "Epoch 8/10\n",
      "28/28 [==============================] - 0s 1ms/step - loss: 0.6363 - accuracy: 0.6577\n",
      "Epoch 9/10\n",
      "28/28 [==============================] - 0s 1ms/step - loss: 0.6295 - accuracy: 0.6857\n",
      "Epoch 10/10\n",
      "28/28 [==============================] - 0s 1ms/step - loss: 0.6190 - accuracy: 0.7037\n"
     ]
    }
   ],
   "source": [
    "model = keras.Sequential([\n",
    "    keras.layers.Dense(7, input_shape=(7,), activation='relu'),\n",
    "    keras.layers.Dense(1, activation='sigmoid')\n",
    "])\n",
    "\n",
    "model.compile(loss = keras.losses.BinaryCrossentropy(),\n",
    "             optimizer = keras.optimizers.Adam(),\n",
    "             metrics=['accuracy'])\n",
    "hist = model.fit(X_train, y_train, epochs=10)"
   ]
  }
 ],
 "metadata": {
  "kernelspec": {
   "display_name": "Python 3 (ipykernel)",
   "language": "python",
   "name": "python3"
  },
  "language_info": {
   "codemirror_mode": {
    "name": "ipython",
    "version": 3
   },
   "file_extension": ".py",
   "mimetype": "text/x-python",
   "name": "python",
   "nbconvert_exporter": "python",
   "pygments_lexer": "ipython3",
   "version": "3.10.5"
  }
 },
 "nbformat": 4,
 "nbformat_minor": 5
}
