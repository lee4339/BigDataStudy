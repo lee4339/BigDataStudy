{
 "cells": [
  {
   "cell_type": "code",
   "execution_count": 2,
   "metadata": {
    "executionInfo": {
     "elapsed": 2197,
     "status": "ok",
     "timestamp": 1670243046243,
     "user": {
      "displayName": "LEE",
      "userId": "10807495761184433832"
     },
     "user_tz": -540
    },
    "id": "lr6WNwkcOPu7"
   },
   "outputs": [],
   "source": [
    "from tensorflow import keras\n",
    "from keras import layers\n",
    "\n",
    "import numpy as np"
   ]
  },
  {
   "cell_type": "code",
   "execution_count": 12,
   "metadata": {
    "colab": {
     "base_uri": "https://localhost:8080/"
    },
    "executionInfo": {
     "elapsed": 586,
     "status": "ok",
     "timestamp": 1670244536889,
     "user": {
      "displayName": "LEE",
      "userId": "10807495761184433832"
     },
     "user_tz": -540
    },
    "id": "9DYmndgcOqqJ",
    "outputId": "6a17e327-00ef-49f4-d17f-c371abc3feaa"
   },
   "outputs": [
    {
     "name": "stdout",
     "output_type": "stream",
     "text": [
      "[[[[ 0  1  2  3]\n",
      "   [ 4  5  6  7]\n",
      "   [ 8  9 10 11]\n",
      "   [12 13 14 15]]]] (1, 1, 4, 4)\n"
     ]
    }
   ],
   "source": [
    "data = np.arange(4*4*1).reshape(1,1,4,4)\n",
    "print(data, data.shape)\n",
    "\n",
    "model = keras.Sequential([\n",
    "    layers.Conv2D(1,2,input_shape=(1,4,4), data_format='channels_first',\n",
    "                  kernel_initializer = keras.initializers.Ones())\n",
    "])\n",
    "kern_weights = model.weights[0]\n",
    "#print('weights', kern_weights.numpy(), kern_weights.shape)\n",
    "print('output', model.predict(data, verbose=0))"
   ]
  },
  {
   "cell_type": "code",
   "execution_count": 13,
   "metadata": {},
   "outputs": [
    {
     "name": "stdout",
     "output_type": "stream",
     "text": [
      "[[[[ 0  1  2  3]\n",
      "   [ 4  5  6  7]\n",
      "   [ 8  9 10 11]\n",
      "   [12 13 14 15]]]] (1, 1, 4, 4)\n"
     ]
    }
   ],
   "source": [
    "data = np.arange(4*4*1).reshape(1,1,4,4)\n",
    "print(data, data.shape)\n",
    "\n",
    "model = keras.Sequential([\n",
    "    layers.AveragePooling2D(pool_size=(2,2),input_shape=(1,4,4), strides=(1,1),\n",
    "                        data_format='channels_first')\n",
    "])\n",
    "#kern_weights = model.weights[0]\n",
    "#print('weights', kern_weights.numpy(), kern_weights.shape)\n",
    "print('output', model.predict(data, verbose=0))"
   ]
  },
  {
   "cell_type": "code",
   "execution_count": 7,
   "metadata": {},
   "outputs": [
    {
     "name": "stdout",
     "output_type": "stream",
     "text": [
      "[[[1]\n",
      "  [2]\n",
      "  [3]]] (1, 3, 1)\n",
      "Model: \"sequential_4\"\n",
      "_________________________________________________________________\n",
      " Layer (type)                Output Shape              Param #   \n",
      "=================================================================\n",
      " simple_rnn (SimpleRNN)      (None, 1)                 3         \n",
      "                                                                 \n",
      "=================================================================\n",
      "Total params: 3\n",
      "Trainable params: 3\n",
      "Non-trainable params: 0\n",
      "_________________________________________________________________\n",
      "<tf.Variable 'simple_rnn/simple_rnn_cell/kernel:0' shape=(1, 1) dtype=float32, numpy=array([[0.5]], dtype=float32)>\n",
      "<tf.Variable 'simple_rnn/simple_rnn_cell/recurrent_kernel:0' shape=(1, 1) dtype=float32, numpy=array([[1.]], dtype=float32)>\n",
      "<tf.Variable 'simple_rnn/simple_rnn_cell/bias:0' shape=(1,) dtype=float32, numpy=array([0.], dtype=float32)>\n",
      "output [[3.]]\n"
     ]
    }
   ],
   "source": [
    "data = np.arange(1*3*1).reshape(1,3,1)\n",
    "data = data+1\n",
    "print(data, data.shape)    # sample count 1, time step 5, dim = 1\n",
    "\n",
    "model = keras.Sequential([\n",
    "    layers.SimpleRNN(1,input_shape=(None,1), activation=None,\n",
    "                     kernel_initializer=keras.initializers.Constant(0.5))\n",
    "])\n",
    "model.summary()\n",
    "for w in model.weights:\n",
    "  print(w)\n",
    "#kern_weights = model.weights[0]\n",
    "#print('weights', kern_weights.numpy(), kern_weights.shape)\n",
    "print('output', model.predict(data, verbose=0))"
   ]
  },
  {
   "cell_type": "code",
   "execution_count": 8,
   "metadata": {},
   "outputs": [
    {
     "name": "stdout",
     "output_type": "stream",
     "text": [
      "[[[1]\n",
      "  [2]\n",
      "  [3]]] (1, 3, 1)\n",
      "Model: \"sequential_5\"\n",
      "_________________________________________________________________\n",
      " Layer (type)                Output Shape              Param #   \n",
      "=================================================================\n",
      " lstm (LSTM)                 (None, 1)                 12        \n",
      "                                                                 \n",
      "=================================================================\n",
      "Total params: 12\n",
      "Trainable params: 12\n",
      "Non-trainable params: 0\n",
      "_________________________________________________________________\n",
      "<tf.Variable 'lstm/lstm_cell/kernel:0' shape=(1, 4) dtype=float32, numpy=array([[0.5, 0.5, 0.5, 0.5]], dtype=float32)>\n",
      "<tf.Variable 'lstm/lstm_cell/recurrent_kernel:0' shape=(1, 4) dtype=float32, numpy=array([[1., 1., 1., 1.]], dtype=float32)>\n",
      "<tf.Variable 'lstm/lstm_cell/bias:0' shape=(4,) dtype=float32, numpy=array([0., 1., 0., 0.], dtype=float32)>\n",
      "output [[3.1017737]]\n"
     ]
    }
   ],
   "source": [
    "data = np.arange(1*3*1).reshape(1,3,1)\n",
    "data = data+1\n",
    "print(data, data.shape)    # sample count 1, time step 5, dim = 1\n",
    "\n",
    "model = keras.Sequential([\n",
    "    layers.LSTM(1,input_shape=(None,1), activation=None,\n",
    "                     kernel_initializer=keras.initializers.Constant(0.5),\n",
    "                recurrent_initializer=keras.initializers.Constant(1.0))\n",
    "])\n",
    "model.summary()\n",
    "for w in model.weights:\n",
    "  print(w)\n",
    "#kern_weights = model.weights[0]\n",
    "#print('weights', kern_weights.numpy(), kern_weights.shape)\n",
    "print('output', model.predict(data, verbose=0))"
   ]
  }
 ],
 "metadata": {
  "accelerator": "GPU",
  "colab": {
   "authorship_tag": "ABX9TyNF/Kxrh6ad/8sdR/g4Fhcf",
   "provenance": []
  },
  "gpuClass": "standard",
  "kernelspec": {
   "display_name": "Python 3 (ipykernel)",
   "language": "python",
   "name": "python3"
  },
  "language_info": {
   "codemirror_mode": {
    "name": "ipython",
    "version": 3
   },
   "file_extension": ".py",
   "mimetype": "text/x-python",
   "name": "python",
   "nbconvert_exporter": "python",
   "pygments_lexer": "ipython3",
   "version": "3.10.5"
  }
 },
 "nbformat": 4,
 "nbformat_minor": 1
}
