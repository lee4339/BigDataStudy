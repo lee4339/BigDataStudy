{
 "cells": [
  {
   "cell_type": "code",
   "execution_count": 1,
   "id": "eea21fe3",
   "metadata": {},
   "outputs": [
    {
     "name": "stdout",
     "output_type": "stream",
     "text": [
      "sex ['Female' 'Male']\n",
      "smoker ['No' 'Yes']\n",
      "day ['Fri' 'Sat' 'Sun' 'Thur']\n",
      "time ['Dinner' 'Lunch']\n"
     ]
    }
   ],
   "source": [
    "import seaborn as sns\n",
    "import numpy as np\n",
    "import pandas as pd\n",
    "\n",
    "\n",
    "tips = sns.load_dataset('tips')\n",
    "\n",
    "for i in tips.columns[2:6]:\n",
    "    labels = np.sort(tips[i].unique())\n",
    "    mytype = pd.api.types.CategoricalDtype(categories=labels)\n",
    "    print(i, labels)\n",
    "    tips[i] = tips[i].astype(mytype).cat.codes"
   ]
  },
  {
   "cell_type": "code",
   "execution_count": 4,
   "id": "06589e4d",
   "metadata": {},
   "outputs": [
    {
     "name": "stdout",
     "output_type": "stream",
     "text": [
      "     total_bill       tip  sex  smoker  day  time  size\n",
      "0     -0.314711 -1.439947    1       1    3     1     2\n",
      "1     -1.063235 -0.969205    0       1    3     1     3\n",
      "2      0.137780  0.363356    0       1    3     1     3\n",
      "3      0.438315  0.225754    0       1    3     1     2\n",
      "4      0.540745  0.443020    1       1    3     1     4\n",
      "..          ...       ...  ...     ...  ...   ...   ...\n",
      "239    1.040511  2.115963    0       1    2     1     3\n",
      "240    0.832275 -0.722971    1       0    2     1     2\n",
      "241    0.324630 -0.722971    0       0    2     1     2\n",
      "242   -0.221287 -0.904026    0       1    2     1     2\n",
      "243   -0.113229  0.001247    1       1    0     1     2\n",
      "\n",
      "[244 rows x 7 columns]\n"
     ]
    }
   ],
   "source": [
    "# total_bill, tip --> StandardScaler\n",
    "from sklearn.preprocessing import StandardScaler\n",
    "\n",
    "X = tips['total_bill'].values\n",
    "bill_scaler = StandardScaler().fit(X[:,np.newaxis])\n",
    "bill_u = tips['total_bill'].mean()\n",
    "bill_s = tips['total_bill'].std(ddof=0)\n",
    "tips['total_bill'] = bill_scaler.transform(X[:,np.newaxis])\n",
    "\n",
    "X = tips['tip'].values\n",
    "tip_scaler = StandardScaler().fit(X[:,np.newaxis])\n",
    "tips['tip'] = tip_scaler.transform(X[:,np.newaxis])\n",
    "\n",
    "print(tips)"
   ]
  },
  {
   "cell_type": "code",
   "execution_count": 5,
   "id": "60780810",
   "metadata": {},
   "outputs": [
    {
     "name": "stdout",
     "output_type": "stream",
     "text": [
      "train score  0.3887307452205975\n",
      "test score  0.3600931113979351\n",
      "predict  [0.02443901] [20.00306248]\n"
     ]
    }
   ],
   "source": [
    "from sklearn.linear_model import LinearRegression\n",
    "from sklearn.model_selection import train_test_split\n",
    "\n",
    "# 일요일 저녁, 여자 3명 --> 얼마의 매상을 올릴것인가.\n",
    "'''\n",
    "sex ['Female' 'Male']\n",
    "smoker ['No' 'Yes']\n",
    "day ['Fri' 'Sat' 'Sun' 'Thur']\n",
    "time ['Dinner' 'Lunch']\n",
    "'''\n",
    "\n",
    "X = tips[['day','time','sex','size']].values\n",
    "y = tips['total_bill'].values\n",
    "\n",
    "X_train, X_test, y_train, y_test = train_test_split(X, y, random_state=10)\n",
    "m = LinearRegression().fit(X_train, y_train)\n",
    "print('train score ', m.score(X_train, y_train))\n",
    "print('test score ', m.score(X_test, y_test))\n",
    "\n",
    "z = m.predict([[2,0,0,3]])\n",
    "print('predict ', z, (z*bill_s)+bill_u)   # z = (x - u) / s"
   ]
  },
  {
   "cell_type": "code",
   "execution_count": 11,
   "id": "e2879397",
   "metadata": {},
   "outputs": [
    {
     "name": "stdout",
     "output_type": "stream",
     "text": [
      "train score  0.5624715269527789\n",
      "test score  0.5179720133891708\n",
      "1.449682342415553\n",
      "predict  [0.87643709] [[27.57234168]]\n"
     ]
    }
   ],
   "source": [
    "# 3명의 손님이 와서 팁으로 5.00를 받았다면, 매상은 얼마인것일까..\n",
    "\n",
    "# indep_var : size, tip\n",
    "# dep_var : total_bill\n",
    "\n",
    "X = tips[['size', 'tip']].values\n",
    "y = tips['total_bill'].values\n",
    "\n",
    "X_train, X_test, y_train, y_test = train_test_split(X, y, random_state=10)\n",
    "\n",
    "m = LinearRegression().fit(X_train, y_train)\n",
    "print('train score ', m.score(X_train, y_train))\n",
    "print('test score ', m.score(X_test, y_test))\n",
    "\n",
    "tip_value = tip_scaler.transform([[5.00]])\n",
    "print(tip_value[0,0])\n",
    "z = m.predict([[3, tip_value[0,0]]])\n",
    "print('predict ', z, bill_scaler.inverse_transform(z[:,np.newaxis]))"
   ]
  }
 ],
 "metadata": {
  "kernelspec": {
   "display_name": "Python 3 (ipykernel)",
   "language": "python",
   "name": "python3"
  },
  "language_info": {
   "codemirror_mode": {
    "name": "ipython",
    "version": 3
   },
   "file_extension": ".py",
   "mimetype": "text/x-python",
   "name": "python",
   "nbconvert_exporter": "python",
   "pygments_lexer": "ipython3",
   "version": "3.10.5"
  }
 },
 "nbformat": 4,
 "nbformat_minor": 5
}
