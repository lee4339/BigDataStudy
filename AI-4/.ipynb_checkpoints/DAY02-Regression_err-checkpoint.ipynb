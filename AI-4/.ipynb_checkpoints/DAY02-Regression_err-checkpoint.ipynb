{
 "cells": [
  {
   "cell_type": "code",
   "execution_count": 1,
   "id": "f7b4fe9d",
   "metadata": {},
   "outputs": [],
   "source": [
    "from sklearn.datasets import load_diabetes\n",
    "from sklearn.model_selection import train_test_split\n",
    "from sklearn.linear_model import LinearRegression\n",
    "from sklearn.metrics import r2_score, mean_squared_error\n",
    "\n",
    "import pandas as pd\n",
    "import numpy as np\n",
    "import seaborn as sns\n",
    "import matplotlib.pyplot as plt"
   ]
  },
  {
   "cell_type": "code",
   "execution_count": 2,
   "id": "dddb955c",
   "metadata": {},
   "outputs": [],
   "source": [
    "X, y = load_diabetes(return_X_y=True)\n",
    "\n",
    "\n",
    "X = X[:,2][:,np.newaxis]     # bmi\n",
    "# X.shape\n",
    "\n",
    "X_train, X_test, y_train, y_test = train_test_split(X, y)"
   ]
  },
  {
   "cell_type": "code",
   "execution_count": 3,
   "id": "80640e00",
   "metadata": {},
   "outputs": [],
   "source": [
    "m = LinearRegression().fit(X_train, y_train)  "
   ]
  },
  {
   "cell_type": "code",
   "execution_count": 4,
   "id": "d7d0d31a",
   "metadata": {},
   "outputs": [
    {
     "name": "stdout",
     "output_type": "stream",
     "text": [
      "[930.99374449] 153.29203740948722\n",
      "0.4509017577609403\n",
      "0.44865845760395284\n"
     ]
    }
   ],
   "source": [
    "print(m.coef_, m.intercept_)\n",
    "print(r2_score(y_test, X_test * m.coef_ + m.intercept_))\n",
    "\n",
    "print(r2_score(y_test, X_test * 943.69 + 154.85))"
   ]
  },
  {
   "cell_type": "code",
   "execution_count": 5,
   "id": "149a5e86",
   "metadata": {},
   "outputs": [
    {
     "data": {
      "text/plain": [
       "[<matplotlib.lines.Line2D at 0x1cdfef3e830>]"
      ]
     },
     "execution_count": 5,
     "metadata": {},
     "output_type": "execute_result"
    },
    {
     "data": {
      "image/png": "[encoded data removed]",
      "text/plain": [
       "<Figure size 432x288 with 1 Axes>"
      ]
     },
     "metadata": {
      "needs_background": "light"
     },
     "output_type": "display_data"
    }
   ],
   "source": [
    "_, axe = plt.subplots()\n",
    "axe.scatter(X_test, y_test)\n",
    "xs = np.linspace(-0.1, 0.15, 100)\n",
    "axe.plot(xs, xs * m.coef_ + m.intercept_, c='r')"
   ]
  },
  {
   "cell_type": "code",
   "execution_count": null,
   "id": "0ab319f6",
   "metadata": {},
   "outputs": [],
   "source": [
    "def squerr(tgt, model):\n",
    "    return ((tgt-model) ** 2).sum() # 에러를 전부 제곱해서 전부 더한 것\n",
    "\n",
    "def msqerr(tgt, model):\n",
    "    return ((tgt-model)**2).mean()\n",
    "\n",
    "def rsq(tgt, model):    # r2_score\n",
    "    return 1 - sqerr(tgt, model) / sqerr(tgt, tgt.mean())"
   ]
  }
 ],
 "metadata": {
  "kernelspec": {
   "display_name": "Python 3 (ipykernel)",
   "language": "python",
   "name": "python3"
  },
  "language_info": {
   "codemirror_mode": {
    "name": "ipython",
    "version": 3
   },
   "file_extension": ".py",
   "mimetype": "text/x-python",
   "name": "python",
   "nbconvert_exporter": "python",
   "pygments_lexer": "ipython3",
   "version": "3.10.5"
  }
 },
 "nbformat": 4,
 "nbformat_minor": 5
}
