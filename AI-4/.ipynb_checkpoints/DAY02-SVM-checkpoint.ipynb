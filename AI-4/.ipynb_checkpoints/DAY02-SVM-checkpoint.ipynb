{
 "cells": [
  {
   "cell_type": "code",
   "execution_count": 11,
   "id": "f49f1d89",
   "metadata": {},
   "outputs": [],
   "source": [
    "from sklearn.datasets import load_iris\n",
    "from sklearn.svm import SVC\n",
    "from sklearn.model_selection import train_test_split\n",
    "from sklearn.metrics import roc_curve\n",
    "\n",
    "import pandas as pd\n",
    "import numpy as np\n",
    "import seaborn as sns\n",
    "import matplotlib.pyplot as plt"
   ]
  },
  {
   "cell_type": "code",
   "execution_count": 3,
   "id": "9e1d2562",
   "metadata": {},
   "outputs": [],
   "source": [
    "X, y = load_iris(return_X_y=True)\n",
    "\n",
    "class_filter = y!=2\n",
    "X = X[class_filter]\n",
    "y = y[class_filter]\n",
    "\n",
    "X_train, X_test, y_train, y_test = train_test_split(X, y, stratify=y) "
   ]
  },
  {
   "cell_type": "code",
   "execution_count": 6,
   "id": "4f3dd6d7",
   "metadata": {},
   "outputs": [
    {
     "data": {
      "text/plain": [
       "<seaborn.axisgrid.FacetGrid at 0x2090fa9c310>"
      ]
     },
     "execution_count": 6,
     "metadata": {},
     "output_type": "execute_result"
    },
    {
     "data": {
      "image/png": "[encoded data removed]",
      "text/plain": [
       "<Figure size 402.375x360 with 1 Axes>"
      ]
     },
     "metadata": {
      "needs_background": "light"
     },
     "output_type": "display_data"
    }
   ],
   "source": [
    "sns.relplot(kind='scatter', x=X_train[:,1], y=X_train[:,3], hue=y_train)  # petal  width, sepal width"
   ]
  },
  {
   "cell_type": "code",
   "execution_count": 8,
   "id": "a30bfa94",
   "metadata": {},
   "outputs": [
    {
     "name": "stdout",
     "output_type": "stream",
     "text": [
      "예측 [0 1 0 1 0 0 1 1 1 1 1 1 0 0 1 0 1 0 0 0 1 0 0 1 1]\n",
      "실제 [0 1 0 1 0 0 1 1 1 1 1 1 0 0 1 0 1 0 0 0 1 0 0 1 1]\n",
      "정답비율 1.0\n"
     ]
    }
   ],
   "source": [
    "m = SVC(probability=True).fit(X_train, y_train)\n",
    "pred = m.predict(X_test)\n",
    "print('예측', pred)\n",
    "print('실제', y_test)\n",
    "print('정답비율', m.score(X_test, y_test))"
   ]
  },
  {
   "cell_type": "code",
   "execution_count": 15,
   "id": "eb12d654",
   "metadata": {},
   "outputs": [
    {
     "ename": "NameError",
     "evalue": "name 'RocCurveDisplay' is not defined",
     "output_type": "error",
     "traceback": [
      "\u001b[1;31m---------------------------------------------------------------------------\u001b[0m",
      "\u001b[1;31mNameError\u001b[0m                                 Traceback (most recent call last)",
      "Input \u001b[1;32mIn [15]\u001b[0m, in \u001b[0;36m<cell line: 7>\u001b[1;34m()\u001b[0m\n\u001b[0;32m      4\u001b[0m _, axe \u001b[38;5;241m=\u001b[39m plt\u001b[38;5;241m.\u001b[39msubplots()\n\u001b[0;32m      5\u001b[0m axe\u001b[38;5;241m.\u001b[39mplot(fpr, tpr)\n\u001b[1;32m----> 7\u001b[0m \u001b[43mRocCurveDisplay\u001b[49m(fpr \u001b[38;5;241m=\u001b[39m fpr_v, tpr \u001b[38;5;241m=\u001b[39m tpr_v)\u001b[38;5;241m.\u001b[39mplot()\n",
      "\u001b[1;31mNameError\u001b[0m: name 'RocCurveDisplay' is not defined"
     ]
    },
    {
     "data": {
      "image/png": "[encoded data removed]",
      "text/plain": [
       "<Figure size 432x288 with 1 Axes>"
      ]
     },
     "metadata": {
      "needs_background": "light"
     },
     "output_type": "display_data"
    }
   ],
   "source": [
    "p = m.predict_proba(X_test)\n",
    "fpr, tpr, threshold = roc_curve(y_test, p[:, 1])\n",
    "\n",
    "_, axe = plt.subplots()\n",
    "axe.plot(fpr, tpr)\n",
    "\n",
    "RocCurveDisplay(fpr = fpr_v, tpr = tpr_v).plot()"
   ]
  }
 ],
 "metadata": {
  "kernelspec": {
   "display_name": "Python 3 (ipykernel)",
   "language": "python",
   "name": "python3"
  },
  "language_info": {
   "codemirror_mode": {
    "name": "ipython",
    "version": 3
   },
   "file_extension": ".py",
   "mimetype": "text/x-python",
   "name": "python",
   "nbconvert_exporter": "python",
   "pygments_lexer": "ipython3",
   "version": "3.10.5"
  }
 },
 "nbformat": 4,
 "nbformat_minor": 5
}
