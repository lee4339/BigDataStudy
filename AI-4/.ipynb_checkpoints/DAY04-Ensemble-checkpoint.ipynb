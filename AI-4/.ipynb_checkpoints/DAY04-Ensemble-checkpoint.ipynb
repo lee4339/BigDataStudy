{
 "cells": [
  {
   "cell_type": "code",
   "execution_count": 20,
   "id": "72e136ff",
   "metadata": {},
   "outputs": [],
   "source": [
    "from sklearn.datasets import fetch_california_housing\n",
    "from sklearn.model_selection import train_test_split, KFold\n",
    "from sklearn.linear_model import LinearRegression, LogisticRegression\n",
    "from sklearn.tree import DecisionTreeClassifier\n",
    "from sklearn.metrics import r2_score, recall_score\n",
    "\n",
    "from sklearn.ensemble import RandomForestClassifier, VotingClassifier \n",
    "\n",
    "import pandas as pd\n",
    "import numpy as np\n",
    "import matplotlib.pyplot as plt\n",
    "import seaborn as sns"
   ]
  },
  {
   "cell_type": "code",
   "execution_count": 21,
   "id": "86badd2f",
   "metadata": {},
   "outputs": [],
   "source": [
    "X, y = fetch_california_housing(return_X_y=True)\n",
    "\n",
    "X_medinc_mean = X[:,0].mean()\n",
    "filter1 = X[:,0] < X_medinc_mean\n",
    "cat_y = filter1.astype(int)\n",
    "# print(cat_y)\n",
    "\n",
    "X = X[:, 1:]  # exclude Medinc\n",
    "X_train, X_test, y_train, y_test = train_test_split(X, cat_y, stratify=cat_y, random_state=10)"
   ]
  },
  {
   "cell_type": "code",
   "execution_count": 22,
   "id": "d3c5b0ec",
   "metadata": {},
   "outputs": [
    {
     "name": "stdout",
     "output_type": "stream",
     "text": [
      "train score  0.8104005167958657\n",
      "test score  0.8073643410852713\n"
     ]
    }
   ],
   "source": [
    "m = RandomForestClassifier(max_depth=3).fit(X_train, y_train)\n",
    "\n",
    "print('train score ', m.score(X_train, y_train))\n",
    "print('test score ', m.score(X_test, y_test))\n",
    "# print(m.get_params())"
   ]
  },
  {
   "cell_type": "code",
   "execution_count": 23,
   "id": "fb2714de",
   "metadata": {},
   "outputs": [
    {
     "name": "stdout",
     "output_type": "stream",
     "text": [
      "train score  0.8224160206718346\n",
      "test score  0.8217054263565892\n"
     ]
    }
   ],
   "source": [
    "est = [ ('log_reg', LogisticRegression(solver = 'liblinear', max_iter=1000)),\n",
    "       ('rand_f', RandomForestClassifier(max_depth=3))\n",
    "]\n",
    "m = VotingClassifier(est, weights=[2, 1]).fit(X_train, y_train)  # 투표?\n",
    "print('train score ', m.score(X_train, y_train))\n",
    "print('test score ', m.score(X_test, y_test))"
   ]
  },
  {
   "cell_type": "code",
   "execution_count": 24,
   "id": "a4f2c8e9",
   "metadata": {},
   "outputs": [
    {
     "name": "stdout",
     "output_type": "stream",
     "text": [
      "[ 3870  3871  3872 ... 15477 15478 15479]\n",
      "[   0    1    2 ... 3867 3868 3869]\n",
      "[    0     1     2 ... 15477 15478 15479]\n",
      "[3870 3871 3872 ... 7737 7738 7739]\n",
      "[    0     1     2 ... 15477 15478 15479]\n",
      "[ 7740  7741  7742 ... 11607 11608 11609]\n",
      "[    0     1     2 ... 11607 11608 11609]\n",
      "[11610 11611 11612 ... 15477 15478 15479]\n"
     ]
    }
   ],
   "source": [
    "kf = KFold(n_splits=4)\n",
    "for train_index, validation_index in kf.split(X_train):\n",
    "    train_data = X_train[train_index]\n",
    "    validation_data = X_train[validation_index]\n",
    "    train_target = y_train[train_index]\n",
    "    validation_target = y_train[validation_index]\n",
    "    print(train_index)\n",
    "    print(validation_index)"
   ]
  }
 ],
 "metadata": {
  "kernelspec": {
   "display_name": "Python 3 (ipykernel)",
   "language": "python",
   "name": "python3"
  },
  "language_info": {
   "codemirror_mode": {
    "name": "ipython",
    "version": 3
   },
   "file_extension": ".py",
   "mimetype": "text/x-python",
   "name": "python",
   "nbconvert_exporter": "python",
   "pygments_lexer": "ipython3",
   "version": "3.10.5"
  }
 },
 "nbformat": 4,
 "nbformat_minor": 5
}
