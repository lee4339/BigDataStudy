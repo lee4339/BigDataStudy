{
 "cells": [
  {
   "cell_type": "code",
   "execution_count": 1,
   "id": "9416d5aa",
   "metadata": {},
   "outputs": [],
   "source": [
    "from tensorflow import keras\n",
    "from tensorflow.keras import layers\n",
    "\n",
    "import numpy as np\n",
    "import pandas as pd\n",
    "import matplotlib.pyplot as plt"
   ]
  },
  {
   "cell_type": "code",
   "execution_count": 3,
   "id": "74e6a40e",
   "metadata": {},
   "outputs": [
    {
     "name": "stdout",
     "output_type": "stream",
     "text": [
      "(7000, 50, 1)\n",
      "(7000, 1)\n"
     ]
    }
   ],
   "source": [
    "def gen_time_series(batch_size, n_steps):\n",
    "    freq1, freq2, offset1, offset2 = np.random.rand(4, batch_size, 1)\n",
    "    time = np.linspace(0, 1, n_steps)\n",
    "    series = 0.5 * np.sin((time-offset1)*(freq1*10+10))\n",
    "    series += 0.2 * np.sin((time-offset2)*(freq2*20+20))\n",
    "    series += 0.1 * (np.random.rand(batch_size, n_steps)-0.5)\n",
    "    return np.expand_dims(series, -1).astype(np.float32)\n",
    "\n",
    "\n",
    "n_steps = 50\n",
    "series = gen_time_series(10000, n_steps+1)\n",
    "X_train, y_train = series[:7000, :n_steps], series[:7000, -1]\n",
    "X_test, y_test = series[7000:, :n_steps], series[7000:, -1]\n",
    "print(X_train.shape)\n",
    "print(y_train.shape)"
   ]
  },
  {
   "cell_type": "code",
   "execution_count": 6,
   "id": "34e4eebc",
   "metadata": {},
   "outputs": [
    {
     "data": {
      "text/plain": [
       "<matplotlib.collections.PathCollection at 0x21df9b22770>"
      ]
     },
     "execution_count": 6,
     "metadata": {},
     "output_type": "execute_result"
    },
    {
     "data": {
      "image/png": "[encoded data removed]",
      "text/plain": [
       "<Figure size 432x288 with 1 Axes>"
      ]
     },
     "metadata": {
      "needs_background": "light"
     },
     "output_type": "display_data"
    }
   ],
   "source": [
    "_, axe = plt.subplots()\n",
    "axe.plot(X_train[3])\n",
    "axe.scatter([51], y_train[3], c='r')"
   ]
  },
  {
   "cell_type": "code",
   "execution_count": 9,
   "id": "197f8bfc",
   "metadata": {},
   "outputs": [
    {
     "name": "stdout",
     "output_type": "stream",
     "text": [
      "Model: \"sequential_2\"\n",
      "_________________________________________________________________\n",
      " Layer (type)                Output Shape              Param #   \n",
      "=================================================================\n",
      " simple_rnn_2 (SimpleRNN)    (None, 5)                 35        \n",
      "                                                                 \n",
      "=================================================================\n",
      "Total params: 35\n",
      "Trainable params: 35\n",
      "Non-trainable params: 0\n",
      "_________________________________________________________________\n",
      "Epoch 1/10\n",
      "219/219 [==============================] - 2s 6ms/step - loss: 0.1582 - mae: 0.3331\n",
      "Epoch 2/10\n",
      "219/219 [==============================] - 1s 6ms/step - loss: 0.1084 - mae: 0.2728\n",
      "Epoch 3/10\n",
      "219/219 [==============================] - 1s 6ms/step - loss: 0.0681 - mae: 0.2093\n",
      "Epoch 4/10\n",
      "219/219 [==============================] - 1s 6ms/step - loss: 0.0425 - mae: 0.1624\n",
      "Epoch 5/10\n",
      "219/219 [==============================] - 1s 6ms/step - loss: 0.0336 - mae: 0.1454\n",
      "Epoch 6/10\n",
      "219/219 [==============================] - 1s 6ms/step - loss: 0.0284 - mae: 0.1339\n",
      "Epoch 7/10\n",
      "219/219 [==============================] - 1s 7ms/step - loss: 0.0248 - mae: 0.1252\n",
      "Epoch 8/10\n",
      "219/219 [==============================] - 1s 6ms/step - loss: 0.0222 - mae: 0.1183\n",
      "Epoch 9/10\n",
      "219/219 [==============================] - 1s 6ms/step - loss: 0.0204 - mae: 0.1128\n",
      "Epoch 10/10\n",
      "219/219 [==============================] - 1s 6ms/step - loss: 0.0190 - mae: 0.1089\n",
      "219/219 [==============================] - 1s 2ms/step - loss: 0.0184 - mae: 0.1064\n",
      "[0.0183685515075922, 0.1063821092247963]\n",
      "94/94 [==============================] - 0s 3ms/step - loss: 0.0183 - mae: 0.1067\n",
      "[0.018340397626161575, 0.10668621957302094]\n"
     ]
    }
   ],
   "source": [
    "model = keras.Sequential([\n",
    "    keras.layers.SimpleRNN(5, input_shape=(None, 1))   # 레이어 한개에 유닛 5개\n",
    "])\n",
    "\n",
    "model.compile(optimizer='adam', loss='mse', metrics='mae')\n",
    "model.summary()\n",
    "hist = model.fit(X_train, y_train, epochs=10)\n",
    "print(model.evaluate(X_train, y_train))\n",
    "print(model.evaluate(X_test, y_test))"
   ]
  },
  {
   "cell_type": "code",
   "execution_count": 12,
   "id": "5437e4f4",
   "metadata": {},
   "outputs": [
    {
     "name": "stdout",
     "output_type": "stream",
     "text": [
      "(7000, 50, 1)\n",
      "Model: \"sequential_4\"\n",
      "_________________________________________________________________\n",
      " Layer (type)                Output Shape              Param #   \n",
      "=================================================================\n",
      " simple_rnn_6 (SimpleRNN)    (None, None, 10)          120       \n",
      "                                                                 \n",
      " simple_rnn_7 (SimpleRNN)    (None, None, 5)           80        \n",
      "                                                                 \n",
      " simple_rnn_8 (SimpleRNN)    (None, 1)                 7         \n",
      "                                                                 \n",
      "=================================================================\n",
      "Total params: 207\n",
      "Trainable params: 207\n",
      "Non-trainable params: 0\n",
      "_________________________________________________________________\n",
      "Epoch 1/10\n",
      "219/219 [==============================] - 7s 19ms/step - loss: 0.0412 - mae: 0.1511\n",
      "Epoch 2/10\n",
      "219/219 [==============================] - 4s 18ms/step - loss: 0.0124 - mae: 0.0896\n",
      "Epoch 3/10\n",
      "219/219 [==============================] - 4s 18ms/step - loss: 0.0075 - mae: 0.0701\n",
      "Epoch 4/10\n",
      "219/219 [==============================] - 4s 18ms/step - loss: 0.0056 - mae: 0.0599\n",
      "Epoch 5/10\n",
      "219/219 [==============================] - 4s 19ms/step - loss: 0.0048 - mae: 0.0552\n",
      "Epoch 6/10\n",
      "219/219 [==============================] - 4s 18ms/step - loss: 0.0044 - mae: 0.0531\n",
      "Epoch 7/10\n",
      "219/219 [==============================] - 4s 18ms/step - loss: 0.0041 - mae: 0.0512\n",
      "Epoch 8/10\n",
      "219/219 [==============================] - 4s 19ms/step - loss: 0.0040 - mae: 0.0504\n",
      "Epoch 9/10\n",
      "219/219 [==============================] - 4s 18ms/step - loss: 0.0039 - mae: 0.0498\n",
      "Epoch 10/10\n",
      "219/219 [==============================] - 4s 18ms/step - loss: 0.0038 - mae: 0.0494\n",
      "219/219 [==============================] - 2s 5ms/step - loss: 0.0041 - mae: 0.0513\n",
      "[0.004083823412656784, 0.051341015845537186]\n",
      "94/94 [==============================] - 1s 6ms/step - loss: 0.0041 - mae: 0.0515\n",
      "[0.004121763631701469, 0.05149206519126892]\n"
     ]
    }
   ],
   "source": [
    "print(X_train.shape)\n",
    "\n",
    "model = keras.Sequential([\n",
    "    keras.layers.SimpleRNN(10, return_sequences=True , input_shape=(None, 1)),    # 레이어 3단 유닛 10 5 1\n",
    "    keras.layers.SimpleRNN(5, return_sequences=True),                             # return_sequences : 다음번 레이어로 넘어가기 위해서\n",
    "    keras.layers.SimpleRNN(1)\n",
    "])\n",
    "\n",
    "model.compile(optimizer='adam', loss='mse', metrics='mae')\n",
    "model.summary()\n",
    "hist = model.fit(X_train, y_train, epochs=10)\n",
    "print(model.evaluate(X_train, y_train))\n",
    "print(model.evaluate(X_test, y_test))"
   ]
  },
  {
   "cell_type": "code",
   "execution_count": 13,
   "id": "b457e720",
   "metadata": {},
   "outputs": [
    {
     "name": "stdout",
     "output_type": "stream",
     "text": [
      "[[[1]\n",
      "  [2]\n",
      "  [3]]]\n",
      "[<tf.Variable 'simple_rnn_9/simple_rnn_cell_9/kernel:0' shape=(1, 1) dtype=float32, numpy=array([[0.5]], dtype=float32)>, <tf.Variable 'simple_rnn_9/simple_rnn_cell_9/recurrent_kernel:0' shape=(1, 1) dtype=float32, numpy=array([[1.]], dtype=float32)>, <tf.Variable 'simple_rnn_9/simple_rnn_cell_9/bias:0' shape=(1,) dtype=float32, numpy=array([0.], dtype=float32)>]\n",
      "1/1 [==============================] - 0s 316ms/step\n",
      "output  [[3.]]\n"
     ]
    }
   ],
   "source": [
    "###########\n",
    "sample_data = np.arange(1*3*1).reshape(1,3,1)\n",
    "sample_data = sample_data + 1\n",
    "print(sample_data)\n",
    "\n",
    "model = keras.Sequential([\n",
    "    keras.layers.SimpleRNN(1, input_shape=(None, 1), activation=None,\n",
    "                          kernel_initializer = keras.initializers.Constant(0.5))\n",
    "])\n",
    "\n",
    "print(model.layers[0].weights)\n",
    "print('output ', model.predict(sample_data))"
   ]
  }
 ],
 "metadata": {
  "kernelspec": {
   "display_name": "Python 3 (ipykernel)",
   "language": "python",
   "name": "python3"
  },
  "language_info": {
   "codemirror_mode": {
    "name": "ipython",
    "version": 3
   },
   "file_extension": ".py",
   "mimetype": "text/x-python",
   "name": "python",
   "nbconvert_exporter": "python",
   "pygments_lexer": "ipython3",
   "version": "3.10.5"
  }
 },
 "nbformat": 4,
 "nbformat_minor": 5
}
