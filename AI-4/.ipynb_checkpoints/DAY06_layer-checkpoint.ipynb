{
 "cells": [
  {
   "cell_type": "code",
   "execution_count": 4,
   "id": "5c0cbf0c",
   "metadata": {},
   "outputs": [],
   "source": [
    "from tensorflow import keras\n",
    "\n",
    "import numpy as np"
   ]
  },
  {
   "cell_type": "code",
   "execution_count": 14,
   "id": "aea5d97f",
   "metadata": {},
   "outputs": [
    {
     "name": "stdout",
     "output_type": "stream",
     "text": [
      "weights [<tf.Variable 'dense_8/kernel:0' shape=(4, 1) dtype=float32, numpy=\n",
      "array([[ 0.82614374],\n",
      "       [-0.12317407],\n",
      "       [-0.86260605],\n",
      "       [-0.67753804]], dtype=float32)>, <tf.Variable 'dense_8/bias:0' shape=(1,) dtype=float32, numpy=array([0.], dtype=float32)>]\n",
      "1/1 [==============================] - 0s 46ms/step\n",
      "output [[ -3.8810005]\n",
      " [ -7.229698 ]\n",
      " [-10.578396 ]]\n",
      "---- first sample ----\n",
      "<class 'tensorflow.python.ops.resource_variable_ops.ResourceVariable'>\n",
      "[[ 0.82614374]\n",
      " [-0.12317407]\n",
      " [-0.86260605]\n",
      " [-0.67753804]]\n",
      "[ 0.82614374 -0.12317407 -0.86260605 -0.67753804]\n",
      "[0 1 2 3]\n",
      "-3.881000280380249\n"
     ]
    }
   ],
   "source": [
    "data = np.arange(3*4).reshape(3,4)\n",
    "# print(data)\n",
    "\n",
    "m1 = keras.Sequential([\n",
    "    #keras.layers.Input(shape=(4,))\n",
    "    keras.layers.Dense(1, input_shape=(4,))\n",
    "])\n",
    "\n",
    "# m1.summary()\n",
    "print('weights', m1.weights)\n",
    "print('output', m1.predict(data))\n",
    "print('---- first sample ----')\n",
    "w = m1.weights\n",
    "print(type(w[0]))\n",
    "\n",
    "w_np = w[0].numpy()\n",
    "print(w_np)\n",
    "print(w_np.flatten())\n",
    "print(data[0])\n",
    "print(np.dot(w_np.flatten(), data[0]))"
   ]
  },
  {
   "cell_type": "code",
   "execution_count": null,
   "id": "c52e468e",
   "metadata": {},
   "outputs": [],
   "source": []
  },
  {
   "cell_type": "code",
   "execution_count": 18,
   "id": "abccb55b",
   "metadata": {},
   "outputs": [
    {
     "name": "stdout",
     "output_type": "stream",
     "text": [
      "4/4 [==============================] - 0s 2ms/step\n"
     ]
    },
    {
     "data": {
      "text/plain": [
       "[<matplotlib.lines.Line2D at 0x239502b51e0>]"
      ]
     },
     "execution_count": 18,
     "metadata": {},
     "output_type": "execute_result"
    },
    {
     "data": {
      "image/png": "[encoded data removed]",
      "text/plain": [
       "<Figure size 432x288 with 1 Axes>"
      ]
     },
     "metadata": {
      "needs_background": "light"
     },
     "output_type": "display_data"
    }
   ],
   "source": [
    "import matplotlib.pyplot as plt\n",
    "\n",
    "m2 = keras.Sequential([\n",
    "    keras.layers.ReLU(negative_slope=0.2)\n",
    "#     keras.layers.LeakyReLU()\n",
    "#     keras.layers.Activation('sigmoid')\n",
    "#     keras.layers.Activation('softmax')\n",
    "])\n",
    "\n",
    "_, axe = plt.subplots()\n",
    "xs = np.linspace(-10, 10, 100)\n",
    "ys = m2.predict(xs)\n",
    "axe.plot(xs, ys)"
   ]
  }
 ],
 "metadata": {
  "kernelspec": {
   "display_name": "Python 3 (ipykernel)",
   "language": "python",
   "name": "python3"
  },
  "language_info": {
   "codemirror_mode": {
    "name": "ipython",
    "version": 3
   },
   "file_extension": ".py",
   "mimetype": "text/x-python",
   "name": "python",
   "nbconvert_exporter": "python",
   "pygments_lexer": "ipython3",
   "version": "3.10.5"
  }
 },
 "nbformat": 4,
 "nbformat_minor": 5
}
