{
 "cells": [
  {
   "cell_type": "code",
   "execution_count": 1,
   "id": "49a13e61",
   "metadata": {},
   "outputs": [],
   "source": [
    "from sklearn.datasets import load_iris\n",
    "from sklearn.model_selection import train_test_split\n",
    "from sklearn.linear_model import LogisticRegression\n",
    "from sklearn.metrics import r2_score\n",
    "\n",
    "import pandas as pd\n",
    "import numpy as np\n",
    "import matplotlib.pyplot as plt\n",
    "import seaborn as sns"
   ]
  },
  {
   "cell_type": "code",
   "execution_count": 2,
   "id": "168ea929",
   "metadata": {},
   "outputs": [],
   "source": [
    "X, y = load_iris(return_X_y=True)\n",
    "X_train, X_test, y_train, y_test = train_test_split(X, y, random_state=10, stratify=y) "
   ]
  },
  {
   "cell_type": "markdown",
   "id": "5dbbb7e3",
   "metadata": {},
   "source": [
    "objective function (목적함수) = Error Function (에러함수) = loss function(손실함수)\n",
    "학습과정: 목적함수의 낮은 값을 찾는 과정     \n",
    "     \n",
    "* LinearRegression : y - y_hat 의 합     \n",
    "\n",
    "odds_ratio(오즈비) = p / (1-p) : p : prob of success\n",
    "logit z = log(odds_ratio) = log(p/(1-p))     \n",
    "\n",
    "p = 1/(1+e**-z)     \n",
    "\n",
    "loss function = (ylog(a)+(1-y)log(1-a))     \n",
    "\n",
    "y: target value\n",
    "a: output value, y_hat, 예측값     \n",
    "\n",
    "target value == 0\n",
    "    loss function = log(1-a)\n",
    "target value == 1\n",
    "    loss function = log(a)"
   ]
  },
  {
   "cell_type": "code",
   "execution_count": 3,
   "id": "c486e7bc",
   "metadata": {},
   "outputs": [
    {
     "name": "stdout",
     "output_type": "stream",
     "text": [
      "[1 1 2 2 2 1 0 2 2 0 1 1 1 1 0 2 0 1 0 0 2 2 0 1 2 0 2 2 1 2 0 0 0 2 1 1 0\n",
      " 2]\n",
      "0.9736842105263158\n",
      "[1 1 2 2 2 1 0 2 2 0 1 1 1 1 0 2 0 1 0 0 2 2 0 1 2 0 2 2 1 2 0 0 0 2 1 1 0\n",
      " 2]\n"
     ]
    }
   ],
   "source": [
    "m = LogisticRegression(solver='liblinear').fit(X_train, y_train)\n",
    "# print(y_test)\n",
    "print(m.predict(X_test))\n",
    "print(m.score(X_test, y_test))\n",
    "\n",
    "# print(m.coef_)\n",
    "# print(m.intercept_)\n",
    "\n",
    "d = m.decision_function(X_test)\n",
    "# print(d)\n",
    "\n",
    "p = m.predict_proba(X_test)\n",
    "# print(p)\n",
    "print(np.argmax(p, axis=1))"
   ]
  },
  {
   "cell_type": "code",
   "execution_count": 4,
   "id": "ec17f931",
   "metadata": {},
   "outputs": [
    {
     "name": "stdout",
     "output_type": "stream",
     "text": [
      "0.6578947368421053\n"
     ]
    }
   ],
   "source": [
    "from sklearn.linear_model import SGDClassifier\n",
    "\n",
    "m = SGDClassifier(loss='log_loss').fit(X_train, y_train)\n",
    "print(m.score(X_test, y_test))"
   ]
  }
 ],
 "metadata": {
  "kernelspec": {
   "display_name": "Python 3 (ipykernel)",
   "language": "python",
   "name": "python3"
  },
  "language_info": {
   "codemirror_mode": {
    "name": "ipython",
    "version": 3
   },
   "file_extension": ".py",
   "mimetype": "text/x-python",
   "name": "python",
   "nbconvert_exporter": "python",
   "pygments_lexer": "ipython3",
   "version": "3.10.5"
  }
 },
 "nbformat": 4,
 "nbformat_minor": 5
}
