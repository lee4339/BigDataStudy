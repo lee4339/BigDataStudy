{
 "cells": [
  {
   "cell_type": "code",
   "execution_count": 61,
   "id": "a29d3b13",
   "metadata": {},
   "outputs": [],
   "source": [
    "from sklearn.datasets import fetch_california_housing\n",
    "from sklearn.model_selection import train_test_split\n",
    "from sklearn.linear_model import LinearRegression, LogisticRegression\n",
    "from sklearn.tree import DecisionTreeClassifier\n",
    "from sklearn.metrics import r2_score, recall_score\n",
    "\n",
    "import pandas as pd\n",
    "import numpy as np\n",
    "import matplotlib.pyplot as plt\n",
    "import seaborn as sns"
   ]
  },
  {
   "cell_type": "code",
   "execution_count": 62,
   "id": "2c17a0d1",
   "metadata": {},
   "outputs": [],
   "source": [
    "X, y = fetch_california_housing(return_X_y=True)\n",
    "X_train, X_test, y_train, y_test = train_test_split(X, y, random_state=10)"
   ]
  },
  {
   "cell_type": "code",
   "execution_count": 63,
   "id": "1c466647",
   "metadata": {},
   "outputs": [
    {
     "name": "stdout",
     "output_type": "stream",
     "text": [
      "train score  0.6112671771315213\n",
      "test score  0.5859370991928383\n",
      "0.5859370991928383\n",
      "[ 4.43836332e-01  9.73627052e-03 -1.17810160e-01  7.79638749e-01\n",
      "  3.46556567e-07 -4.51607938e-03 -4.31295340e-01 -4.44407256e-01]\n",
      "-37.89883514628247\n"
     ]
    }
   ],
   "source": [
    "m = LinearRegression().fit(X_train, y_train)\n",
    "print('train score ', m.score(X_train, y_train))\n",
    "print('test score ', m.score(X_test, y_test))\n",
    "print(r2_score(y_test, m.predict(X_test)))\n",
    "print(m.coef_)\n",
    "print(m.intercept_)"
   ]
  },
  {
   "cell_type": "code",
   "execution_count": 64,
   "id": "64bb580c",
   "metadata": {},
   "outputs": [],
   "source": [
    "X_medinc_mean = X[:,0].mean()\n",
    "filter1 = X[:,0] < X_medinc_mean\n",
    "cat_y = filter1.astype(int)\n",
    "# print(cat_y)\n",
    "\n",
    "X = X[:, 1:]\n",
    "X_train, X_test, y_train, y_test = train_test_split(X, cat_y, stratify=cat_y, random_state=10)"
   ]
  },
  {
   "cell_type": "code",
   "execution_count": 65,
   "id": "3e5cb337",
   "metadata": {},
   "outputs": [
    {
     "name": "stdout",
     "output_type": "stream",
     "text": [
      "train score  0.8224160206718346\n",
      "test score  0.8217054263565892\n",
      "recall  0.8733755414861712\n"
     ]
    }
   ],
   "source": [
    "m = LogisticRegression(solver='liblinear', max_iter=1000).fit(X_train, y_train)\n",
    "\n",
    "print('train score ', m.score(X_train, y_train))\n",
    "print('test score ', m.score(X_test, y_test))\n",
    "print('recall ', recall_score(y_test, m.predict(X_test)))"
   ]
  },
  {
   "cell_type": "code",
   "execution_count": 67,
   "id": "a5bbfddd",
   "metadata": {},
   "outputs": [
    {
     "name": "stdout",
     "output_type": "stream",
     "text": [
      "train score  0.818217054263566\n",
      "test score  0.8071705426356589\n",
      "recall  0.8680439853382206\n",
      "5\n",
      "30\n"
     ]
    }
   ],
   "source": [
    "m = DecisionTreeClassifier(max_depth=5, max_leaf_nodes=30).fit(X_train, y_train)\n",
    "\n",
    "print('train score ', m.score(X_train, y_train))\n",
    "print('test score ', m.score(X_test, y_test))\n",
    "print('recall ', recall_score(y_test, m.predict(X_test)))\n",
    "print(m.get_depth())\n",
    "print(m.get_n_leaves())"
   ]
  }
 ],
 "metadata": {
  "kernelspec": {
   "display_name": "Python 3 (ipykernel)",
   "language": "python",
   "name": "python3"
  },
  "language_info": {
   "codemirror_mode": {
    "name": "ipython",
    "version": 3
   },
   "file_extension": ".py",
   "mimetype": "text/x-python",
   "name": "python",
   "nbconvert_exporter": "python",
   "pygments_lexer": "ipython3",
   "version": "3.10.5"
  }
 },
 "nbformat": 4,
 "nbformat_minor": 5
}
