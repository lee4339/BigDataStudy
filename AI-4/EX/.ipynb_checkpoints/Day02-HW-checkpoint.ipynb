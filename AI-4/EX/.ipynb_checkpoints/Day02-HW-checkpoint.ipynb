{
 "cells": [
  {
   "cell_type": "code",
   "execution_count": 1,
   "id": "13b7211d",
   "metadata": {},
   "outputs": [],
   "source": [
    "from sklearn.datasets import load_iris\n",
    "from sklearn.model_selection import train_test_split\n",
    "from sklearn.svm import SVC\n",
    "from sklearn.neighbors import KNeighborsClassifier\n",
    "from sklearn.naive_bayes import GaussianNB\n",
    "from sklearn.metrics import roc_curve\n",
    "\n",
    "import pandas as pd\n",
    "import numpy as np\n",
    "import matplotlib.pyplot as plt"
   ]
  },
  {
   "cell_type": "code",
   "execution_count": 2,
   "id": "2f0f6029",
   "metadata": {},
   "outputs": [],
   "source": [
    "X, y = load_iris(return_X_y=True)\n",
    "X = X[y!=1]\n",
    "y = y[y!=1]\n",
    "\n",
    "X_train, X_test, y_train, y_test = train_test_split(X, y, stratify=y)"
   ]
  },
  {
   "cell_type": "code",
   "execution_count": 3,
   "id": "62b22468",
   "metadata": {},
   "outputs": [
    {
     "name": "stdout",
     "output_type": "stream",
     "text": [
      "classifer:  kNN\n",
      "score:  1.0\n",
      "classifer:  NaiveBayes\n",
      "score:  1.0\n",
      "classifer:  SVC\n",
      "score:  1.0\n"
     ]
    }
   ],
   "source": [
    "classifiers = {'kNN':KNeighborsClassifier(n_neighbors=7),\n",
    "               'NaiveBayes':GaussianNB(),\n",
    "               'SVC':SVC(probability=True)}\n",
    "\n",
    "for k in classifiers:\n",
    "    m = classifiers[k]\n",
    "    m.fit(X_train, y_train)\n",
    "    print('classifer: ', k)\n",
    "    print('score: ', m.score(X_test, y_test))"
   ]
  }
 ],
 "metadata": {
  "kernelspec": {
   "display_name": "Python 3 (ipykernel)",
   "language": "python",
   "name": "python3"
  },
  "language_info": {
   "codemirror_mode": {
    "name": "ipython",
    "version": 3
   },
   "file_extension": ".py",
   "mimetype": "text/x-python",
   "name": "python",
   "nbconvert_exporter": "python",
   "pygments_lexer": "ipython3",
   "version": "3.10.5"
  }
 },
 "nbformat": 4,
 "nbformat_minor": 5
}
