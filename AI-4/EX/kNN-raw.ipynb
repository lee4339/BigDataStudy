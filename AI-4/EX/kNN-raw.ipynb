{
 "cells": [
  {
   "cell_type": "code",
   "execution_count": 2,
   "id": "916d6be3",
   "metadata": {},
   "outputs": [],
   "source": [
    "from sklearn.datasets import load_iris\n",
    "from sklearn.model_selection import train_test_split\n",
    "from sklearn.neighbors import KNeighborsClassifier\n",
    "\n",
    "import numpy as np\n",
    "import pandas as pd\n",
    "import seaborn as sns\n",
    "\n",
    "X, y = load_iris(return_X_y=True)\n",
    "X = X[:, 2:4]\n",
    "X_train, X_test, y_train, y_test = train_test_split(X, y, stratify=y)"
   ]
  },
  {
   "cell_type": "code",
   "execution_count": 3,
   "id": "02c2d906",
   "metadata": {},
   "outputs": [
    {
     "data": {
      "text/plain": [
       "<seaborn.axisgrid.FacetGrid at 0x26dd18acc40>"
      ]
     },
     "execution_count": 3,
     "metadata": {},
     "output_type": "execute_result"
    },
    {
     "data": {
      "image/png": "[encoded data removed]",
      "text/plain": [
       "<Figure size 402.375x360 with 1 Axes>"
      ]
     },
     "metadata": {
      "needs_background": "light"
     },
     "output_type": "display_data"
    }
   ],
   "source": [
    "sns.relplot(kind='scatter', x = X_train[:,0], y = X_train[:,1], hue=y_train)"
   ]
  },
  {
   "cell_type": "code",
   "execution_count": 4,
   "id": "fd2e644a",
   "metadata": {},
   "outputs": [
    {
     "name": "stdout",
     "output_type": "stream",
     "text": [
      "[1.4 0.1]\n",
      "[1.6 0.2]\n",
      "[-0.2 -0.1]\n",
      "[0.04 0.01]\n",
      "0.22360679774997913\n"
     ]
    }
   ],
   "source": [
    "def mydist(v1, v2):\n",
    "    return np.sqrt(((v1-v2)**2).sum())  # [X_1 y_1] - [x_2 y_2] = x_1 - x_2, y_1 -Y_2\n",
    "\n",
    "print(X_test[0])\n",
    "print(X_train[0])\n",
    "print(X_test[0]-X_train[0])\n",
    "print((X_test[0]-X_train[0])**2)\n",
    "print(mydist(X_train[0], X_test[0]))"
   ]
  },
  {
   "cell_type": "code",
   "execution_count": 8,
   "id": "5ee23b74",
   "metadata": {},
   "outputs": [],
   "source": [
    "dist_value = []\n",
    "for x, y in zip(X_train, y_train):\n",
    "    dist_value.append([mydist(x, X_test[20]),y])\n",
    "# print(X_test[20])\n",
    "# print(dist_value)\n",
    "s = sorted(dist_value, key=lambda x: x[0])\n",
    "# print(s)\n",
    "ans_dict={}\n",
    "for s_i in s[:5]:\n",
    "    if s_i[1] in ans_dict.keys():\n",
    "        ans_dict[s_i[1]]=ans_dict[s_i[1]]+1\n",
    "    else:\n",
    "        ans_dict[s_i[1]]=1"
   ]
  },
  {
   "cell_type": "code",
   "execution_count": 36,
   "id": "13c383dc",
   "metadata": {},
   "outputs": [
    {
     "name": "stdout",
     "output_type": "stream",
     "text": [
      "          0\n",
      "3.712142  1\n",
      "5.608030  2\n",
      "2.193171  1\n",
      "0.316228  0\n",
      "4.741308  2\n",
      "...      ..\n",
      "2.657066  1\n",
      "0.141421  0\n",
      "0.223607  0\n",
      "0.141421  0\n",
      "4.651881  2\n",
      "\n",
      "[112 rows x 1 columns]\n",
      "0    5\n",
      "dtype: int64\n"
     ]
    },
    {
     "data": {
      "text/plain": [
       "(0,)"
      ]
     },
     "execution_count": 36,
     "metadata": {},
     "output_type": "execute_result"
    }
   ],
   "source": [
    "dist_value=[]\n",
    "for d in X_train:\n",
    "    dist_value.append(mydist(d, X_test[12]))\n",
    "    #print(mydist(d, X_test[0]))\n",
    "    \n",
    "tdf = pd.DataFrame(y_train, index=dist_value)\n",
    "print(tdf)\n",
    "x = tdf.sort_index().head(5)\n",
    "print(x.value_counts())\n",
    "x.value_counts().index[0]"
   ]
  },
  {
   "cell_type": "code",
   "execution_count": 9,
   "id": "31a3d3b8",
   "metadata": {},
   "outputs": [
    {
     "data": {
      "text/plain": [
       "array([0, 0, 2, 2, 0, 0, 1, 2, 2, 2, 0, 2, 2, 1, 0, 2, 1, 0, 2, 1, 1, 2,\n",
       "       2, 2, 1, 2, 0, 1, 0, 2, 1, 0, 1, 0, 1, 0, 1, 0])"
      ]
     },
     "execution_count": 9,
     "metadata": {},
     "output_type": "execute_result"
    }
   ],
   "source": [
    "x = KNeighborsClassifier()\n",
    "x.fit(X_train, y_train)\n",
    "x.predict(X_test)\n",
    "# x.predict([[5.1, 3.5, 1.4, 0.2]])"
   ]
  }
 ],
 "metadata": {
  "kernelspec": {
   "display_name": "Python 3 (ipykernel)",
   "language": "python",
   "name": "python3"
  },
  "language_info": {
   "codemirror_mode": {
    "name": "ipython",
    "version": 3
   },
   "file_extension": ".py",
   "mimetype": "text/x-python",
   "name": "python",
   "nbconvert_exporter": "python",
   "pygments_lexer": "ipython3",
   "version": "3.10.5"
  }
 },
 "nbformat": 4,
 "nbformat_minor": 5
}
