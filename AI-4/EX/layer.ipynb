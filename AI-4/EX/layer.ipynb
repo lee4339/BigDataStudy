{
 "cells": [
  {
   "cell_type": "code",
   "execution_count": 1,
   "id": "c56eb473",
   "metadata": {},
   "outputs": [],
   "source": [
    "import numpy as np\n",
    "\n",
    "from tensorflow import keras"
   ]
  },
  {
   "cell_type": "code",
   "execution_count": 16,
   "id": "0efd6303",
   "metadata": {},
   "outputs": [
    {
     "name": "stdout",
     "output_type": "stream",
     "text": [
      "[[ 0  1  2  3]\n",
      " [ 4  5  6  7]\n",
      " [ 8  9 10 11]]\n",
      "Model: \"sequential_12\"\n",
      "_________________________________________________________________\n",
      " Layer (type)                Output Shape              Param #   \n",
      "=================================================================\n",
      " dense_10 (Dense)            (None, 1)                 5         \n",
      "                                                                 \n",
      "=================================================================\n",
      "Total params: 5\n",
      "Trainable params: 5\n",
      "Non-trainable params: 0\n",
      "_________________________________________________________________\n",
      "weights [<tf.Variable 'dense_10/kernel:0' shape=(4, 1) dtype=float32, numpy=\n",
      "array([[-1.0721426 ],\n",
      "       [-0.13398641],\n",
      "       [ 0.43990743],\n",
      "       [ 0.86919236]], dtype=float32)>, <tf.Variable 'dense_10/bias:0' shape=(1,) dtype=float32, numpy=array([0.], dtype=float32)>]\n",
      "1/1 [==============================] - 0s 45ms/step\n",
      "output [[3.3534055]\n",
      " [3.765289 ]\n",
      " [4.1771727]]\n",
      "[<tf.Variable 'dense_10/kernel:0' shape=(4, 1) dtype=float32, numpy=\n",
      "array([[-1.0721426 ],\n",
      "       [-0.13398641],\n",
      "       [ 0.43990743],\n",
      "       [ 0.86919236]], dtype=float32)>, <tf.Variable 'dense_10/bias:0' shape=(1,) dtype=float32, numpy=array([0.], dtype=float32)>]\n"
     ]
    }
   ],
   "source": [
    "data = np.arange(3*4).reshape(3,4)\n",
    "print(data)\n",
    "\n",
    "m1 = keras.Sequential([\n",
    "    #keras.layers.Input(shape=(4,))\n",
    "    keras.layers.Dense(1, input_shape=(4,))\n",
    "])\n",
    "m1.summary()\n",
    "print('weights', m1.weights)\n",
    "print('output', m1.predict(data))"
   ]
  },
  {
   "cell_type": "code",
   "execution_count": 22,
   "id": "6a2996dd",
   "metadata": {},
   "outputs": [
    {
     "name": "stdout",
     "output_type": "stream",
     "text": [
      "4/4 [==============================] - 0s 997us/step\n"
     ]
    },
    {
     "data": {
      "text/plain": [
       "[<matplotlib.lines.Line2D at 0x16490a90910>]"
      ]
     },
     "execution_count": 22,
     "metadata": {},
     "output_type": "execute_result"
    },
    {
     "data": {
      "image/png": "[encoded data removed]",
      "text/plain": [
       "<Figure size 432x288 with 1 Axes>"
      ]
     },
     "metadata": {
      "needs_background": "light"
     },
     "output_type": "display_data"
    }
   ],
   "source": [
    "import matplotlib.pyplot as plt\n",
    "\n",
    "m2 = keras.Sequential([\n",
    "    #keras.layers.ReLU()\n",
    "    keras.layers.LeakyReLU()\n",
    "    #keras.layers.Activation('sigmoid')\n",
    "    #keras.layers.Activation('softmax')\n",
    "])\n",
    "\n",
    "_, axe = plt.subplots()\n",
    "xs = np.linspace(-10, 10,  100)\n",
    "ys = m2.predict(xs)\n",
    "axe.plot(xs, ys)"
   ]
  }
 ],
 "metadata": {
  "kernelspec": {
   "display_name": "Python 3 (ipykernel)",
   "language": "python",
   "name": "python3"
  },
  "language_info": {
   "codemirror_mode": {
    "name": "ipython",
    "version": 3
   },
   "file_extension": ".py",
   "mimetype": "text/x-python",
   "name": "python",
   "nbconvert_exporter": "python",
   "pygments_lexer": "ipython3",
   "version": "3.10.5"
  }
 },
 "nbformat": 4,
 "nbformat_minor": 5
}
