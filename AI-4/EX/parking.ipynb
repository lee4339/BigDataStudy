{
 "cells": [
  {
   "cell_type": "code",
   "execution_count": 26,
   "id": "3fff5acb",
   "metadata": {},
   "outputs": [],
   "source": [
    "from sklearn.model_selection import train_test_split\n",
    "from sklearn.linear_model import LogisticRegression, LinearRegression\n",
    "\n",
    "import pandas as pd\n",
    "import numpy as np\n",
    "\n",
    "pd_data = pd.read_csv('전국주차장정보표준데이터.csv', encoding='cp949')\n",
    "pd_data = pd_data[['주차장구분','주차장유형','급지구분','요금정보', '부제시행구분','운영요일','주차구획수','위도','경도']]"
   ]
  },
  {
   "cell_type": "code",
   "execution_count": 27,
   "id": "f5e0d721",
   "metadata": {},
   "outputs": [
    {
     "name": "stdout",
     "output_type": "stream",
     "text": [
      "주차장구분 ['공영' '민영']\n",
      "주차장유형 ['노상' '노외' '부설']\n",
      "급지구분 ['1' '2' '3' '4' '5' '기타']\n",
      "요금정보 ['무료' '유료' '혼합']\n",
      "부제시행구분 ['10부제' '2부제' '5부제' '미시행' '요일제']\n",
      "운영요일 ['공휴일' '토요일+공휴일' '평일' '평일+공휴일' '평일+토요일' '평일+토요일+공휴일']\n"
     ]
    }
   ],
   "source": [
    "for n in pd_data.columns[:6]:\n",
    "    labels = np.sort(pd_data[n].unique())\n",
    "    mytype = pd.api.types.CategoricalDtype(categories=labels)\n",
    "    pd_data[n] = pd_data[n].astype(mytype).cat.codes\n",
    "    print(n, labels)"
   ]
  },
  {
   "cell_type": "code",
   "execution_count": 28,
   "id": "84f87e44",
   "metadata": {},
   "outputs": [
    {
     "name": "stdout",
     "output_type": "stream",
     "text": [
      "train score  0.02165146603395829\n",
      "test score  0.03350701561958502\n"
     ]
    },
    {
     "data": {
      "text/plain": [
       "array([71.0203773])"
      ]
     },
     "execution_count": 28,
     "metadata": {},
     "output_type": "execute_result"
    }
   ],
   "source": [
    "X = pd_data[['주차장구분','주차장유형','급지구분']].values    # indep-var\n",
    "y = pd_data['주차구획수'].values   # dep-var\n",
    "#print(X)\n",
    "#print(y)\n",
    "\n",
    "X_train, X_test, y_train, y_test = train_test_split(X, y, random_state=20)\n",
    "m = LinearRegression().fit(X_train, y_train)\n",
    "print('train score ', m.score(X_train, y_train))\n",
    "print('test score ', m.score(X_test, y_test))\n",
    "\n",
    "m.predict([[0,1,2]])"
   ]
  },
  {
   "cell_type": "code",
   "execution_count": 16,
   "id": "04ca4d6d",
   "metadata": {},
   "outputs": [],
   "source": [
    "X_train, X_test, y_train, y_test = train_test_split(X, y, stratify=y, random_state=20)"
   ]
  },
  {
   "cell_type": "code",
   "execution_count": 17,
   "id": "827f208a",
   "metadata": {},
   "outputs": [
    {
     "name": "stdout",
     "output_type": "stream",
     "text": [
      "train score  0.8810058374494836\n",
      "test score  0.880926724137931\n"
     ]
    }
   ],
   "source": [
    "m = LogisticRegression().fit(X_train, y_train)\n",
    "print('train score ', m.score(X_train, y_train))\n",
    "print('test score ', m.score(X_test, y_test))"
   ]
  },
  {
   "cell_type": "code",
   "execution_count": 19,
   "id": "b6d8cc67",
   "metadata": {},
   "outputs": [
    {
     "data": {
      "text/plain": [
       "array([[7.98413125e-05, 1.64211564e-04, 1.63477323e-02, 1.03889442e-04,\n",
       "        2.21675567e-02, 9.61136769e-01]])"
      ]
     },
     "execution_count": 19,
     "metadata": {},
     "output_type": "execute_result"
    }
   ],
   "source": [
    "m.predict([[0]])\n",
    "m.predict_proba([[0]])"
   ]
  },
  {
   "cell_type": "code",
   "execution_count": 21,
   "id": "1ac76134",
   "metadata": {},
   "outputs": [
    {
     "data": {
      "text/html": [
       "<div>\n",
       "<style scoped>\n",
       "    .dataframe tbody tr th:only-of-type {\n",
       "        vertical-align: middle;\n",
       "    }\n",
       "\n",
       "    .dataframe tbody tr th {\n",
       "        vertical-align: top;\n",
       "    }\n",
       "\n",
       "    .dataframe thead th {\n",
       "        text-align: right;\n",
       "    }\n",
       "</style>\n",
       "<table border=\"1\" class=\"dataframe\">\n",
       "  <thead>\n",
       "    <tr style=\"text-align: right;\">\n",
       "      <th></th>\n",
       "      <th>주차장구분</th>\n",
       "      <th>주차장유형</th>\n",
       "      <th>급지구분</th>\n",
       "      <th>요금정보</th>\n",
       "      <th>부제시행구분</th>\n",
       "      <th>운영요일</th>\n",
       "      <th>주차구획수</th>\n",
       "      <th>위도</th>\n",
       "      <th>경도</th>\n",
       "    </tr>\n",
       "  </thead>\n",
       "  <tbody>\n",
       "    <tr>\n",
       "      <th>0</th>\n",
       "      <td>0</td>\n",
       "      <td>0</td>\n",
       "      <td>3</td>\n",
       "      <td>0</td>\n",
       "      <td>3</td>\n",
       "      <td>5</td>\n",
       "      <td>14</td>\n",
       "      <td>36.310891</td>\n",
       "      <td>127.389371</td>\n",
       "    </tr>\n",
       "    <tr>\n",
       "      <th>1</th>\n",
       "      <td>0</td>\n",
       "      <td>0</td>\n",
       "      <td>3</td>\n",
       "      <td>0</td>\n",
       "      <td>3</td>\n",
       "      <td>5</td>\n",
       "      <td>43</td>\n",
       "      <td>36.306733</td>\n",
       "      <td>127.384820</td>\n",
       "    </tr>\n",
       "    <tr>\n",
       "      <th>2</th>\n",
       "      <td>0</td>\n",
       "      <td>0</td>\n",
       "      <td>3</td>\n",
       "      <td>0</td>\n",
       "      <td>3</td>\n",
       "      <td>5</td>\n",
       "      <td>19</td>\n",
       "      <td>36.312393</td>\n",
       "      <td>127.391197</td>\n",
       "    </tr>\n",
       "    <tr>\n",
       "      <th>3</th>\n",
       "      <td>0</td>\n",
       "      <td>0</td>\n",
       "      <td>3</td>\n",
       "      <td>0</td>\n",
       "      <td>3</td>\n",
       "      <td>5</td>\n",
       "      <td>84</td>\n",
       "      <td>36.308676</td>\n",
       "      <td>127.390817</td>\n",
       "    </tr>\n",
       "    <tr>\n",
       "      <th>4</th>\n",
       "      <td>0</td>\n",
       "      <td>0</td>\n",
       "      <td>3</td>\n",
       "      <td>0</td>\n",
       "      <td>3</td>\n",
       "      <td>5</td>\n",
       "      <td>30</td>\n",
       "      <td>36.306369</td>\n",
       "      <td>127.392383</td>\n",
       "    </tr>\n",
       "    <tr>\n",
       "      <th>...</th>\n",
       "      <td>...</td>\n",
       "      <td>...</td>\n",
       "      <td>...</td>\n",
       "      <td>...</td>\n",
       "      <td>...</td>\n",
       "      <td>...</td>\n",
       "      <td>...</td>\n",
       "      <td>...</td>\n",
       "      <td>...</td>\n",
       "    </tr>\n",
       "    <tr>\n",
       "      <th>14842</th>\n",
       "      <td>0</td>\n",
       "      <td>1</td>\n",
       "      <td>0</td>\n",
       "      <td>0</td>\n",
       "      <td>3</td>\n",
       "      <td>5</td>\n",
       "      <td>22</td>\n",
       "      <td>37.498525</td>\n",
       "      <td>128.456877</td>\n",
       "    </tr>\n",
       "    <tr>\n",
       "      <th>14843</th>\n",
       "      <td>0</td>\n",
       "      <td>1</td>\n",
       "      <td>0</td>\n",
       "      <td>0</td>\n",
       "      <td>3</td>\n",
       "      <td>5</td>\n",
       "      <td>26</td>\n",
       "      <td>37.493297</td>\n",
       "      <td>128.459982</td>\n",
       "    </tr>\n",
       "    <tr>\n",
       "      <th>14844</th>\n",
       "      <td>0</td>\n",
       "      <td>1</td>\n",
       "      <td>0</td>\n",
       "      <td>0</td>\n",
       "      <td>3</td>\n",
       "      <td>5</td>\n",
       "      <td>10</td>\n",
       "      <td>37.521537</td>\n",
       "      <td>128.451737</td>\n",
       "    </tr>\n",
       "    <tr>\n",
       "      <th>14845</th>\n",
       "      <td>0</td>\n",
       "      <td>1</td>\n",
       "      <td>0</td>\n",
       "      <td>0</td>\n",
       "      <td>3</td>\n",
       "      <td>5</td>\n",
       "      <td>30</td>\n",
       "      <td>37.501060</td>\n",
       "      <td>128.457081</td>\n",
       "    </tr>\n",
       "    <tr>\n",
       "      <th>14846</th>\n",
       "      <td>0</td>\n",
       "      <td>1</td>\n",
       "      <td>0</td>\n",
       "      <td>0</td>\n",
       "      <td>3</td>\n",
       "      <td>5</td>\n",
       "      <td>40</td>\n",
       "      <td>37.498870</td>\n",
       "      <td>128.457843</td>\n",
       "    </tr>\n",
       "  </tbody>\n",
       "</table>\n",
       "<p>14847 rows × 9 columns</p>\n",
       "</div>"
      ],
      "text/plain": [
       "       주차장구분  주차장유형  급지구분  요금정보  부제시행구분  운영요일  주차구획수         위도          경도\n",
       "0          0      0     3     0       3     5     14  36.310891  127.389371\n",
       "1          0      0     3     0       3     5     43  36.306733  127.384820\n",
       "2          0      0     3     0       3     5     19  36.312393  127.391197\n",
       "3          0      0     3     0       3     5     84  36.308676  127.390817\n",
       "4          0      0     3     0       3     5     30  36.306369  127.392383\n",
       "...      ...    ...   ...   ...     ...   ...    ...        ...         ...\n",
       "14842      0      1     0     0       3     5     22  37.498525  128.456877\n",
       "14843      0      1     0     0       3     5     26  37.493297  128.459982\n",
       "14844      0      1     0     0       3     5     10  37.521537  128.451737\n",
       "14845      0      1     0     0       3     5     30  37.501060  128.457081\n",
       "14846      0      1     0     0       3     5     40  37.498870  128.457843\n",
       "\n",
       "[14847 rows x 9 columns]"
      ]
     },
     "execution_count": 21,
     "metadata": {},
     "output_type": "execute_result"
    }
   ],
   "source": [
    "pd_data"
   ]
  }
 ],
 "metadata": {
  "kernelspec": {
   "display_name": "Python 3 (ipykernel)",
   "language": "python",
   "name": "python3"
  },
  "language_info": {
   "codemirror_mode": {
    "name": "ipython",
    "version": 3
   },
   "file_extension": ".py",
   "mimetype": "text/x-python",
   "name": "python",
   "nbconvert_exporter": "python",
   "pygments_lexer": "ipython3",
   "version": "3.10.5"
  }
 },
 "nbformat": 4,
 "nbformat_minor": 5
}
