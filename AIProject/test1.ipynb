{
 "cells": [
  {
   "cell_type": "code",
   "execution_count": 5,
   "id": "a3267721",
   "metadata": {},
   "outputs": [
    {
     "name": "stdout",
     "output_type": "stream",
     "text": [
      "10 2007\n",
      "19 2007\n",
      "28 2007\n",
      "10 2008\n",
      "19 2008\n",
      "28 2008\n",
      "10 2009\n",
      "19 2009\n",
      "28 2009\n"
     ]
    }
   ],
   "source": [
    "for i in range(3):\n",
    "    i = 2007 + i\n",
    "    for j in range(10, 30, 9):\n",
    "        print(j, i)\n",
    "    "
   ]
  }
 ],
 "metadata": {
  "kernelspec": {
   "display_name": "Python 3 (ipykernel)",
   "language": "python",
   "name": "python3"
  },
  "language_info": {
   "codemirror_mode": {
    "name": "ipython",
    "version": 3
   },
   "file_extension": ".py",
   "mimetype": "text/x-python",
   "name": "python",
   "nbconvert_exporter": "python",
   "pygments_lexer": "ipython3",
   "version": "3.10.5"
  }
 },
 "nbformat": 4,
 "nbformat_minor": 5
}
