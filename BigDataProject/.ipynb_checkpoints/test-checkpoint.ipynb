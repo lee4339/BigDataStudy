{
 "cells": [
  {
   "cell_type": "code",
   "execution_count": 4,
   "id": "d338f2f4",
   "metadata": {},
   "outputs": [
    {
     "name": "stderr",
     "output_type": "stream",
     "text": [
      "C:\\Users\\home\\AppData\\Local\\Temp\\ipykernel_47392\\3831128144.py:5: DtypeWarning: Columns (22,27,39,41,44,45) have mixed types. Specify dtype option on import or set low_memory=False.\n",
      "  pd_data = pd.read_csv('Restaurant_information.csv', encoding='cp949')\n"
     ]
    },
    {
     "name": "stdout",
     "output_type": "stream",
     "text": [
      "Index(['번호', '개방서비스명', '개방서비스아이디', '개방자치단체코드', '관리번호', '인허가일자', '인허가취소일자',\n",
      "       '영업상태구분코드', '영업상태명', '상세영업상태코드', '상세영업상태명', '폐업일자', '휴업시작일자', '휴업종료일자',\n",
      "       '재개업일자', '소재지전화', '소재지면적', '소재지우편번호', '소재지전체주소', '도로명전체주소', '도로명우편번호',\n",
      "       '사업장명', '최종수정시점', '데이터갱신구분', '데이터갱신일자', '업태구분명', '좌표정보(x)', '좌표정보(y)',\n",
      "       '위생업태명', '남성종사자수', '여성종사자수', '영업장주변구분명', '등급구분명', '급수시설구분명', '총직원수',\n",
      "       '본사직원수', '공장사무직직원수', '공장판매직직원수', '공장생산직직원수', '건물소유구분명', '보증액', '월세액',\n",
      "       '다중이용업소여부', '시설총규모', '전통업소지정번호', '전통업소주된음식', '홈페이지', 'Unnamed: 47'],\n",
      "      dtype='object')\n"
     ]
    }
   ],
   "source": [
    "import pandas as pd\n",
    "import numpy as np\n",
    "import matplotlib.pyplot as plt\n",
    "\n",
    "pd_data = pd.read_csv('Restaurant_information.csv', encoding='cp949')\n",
    "print(pd_data.columns)"
   ]
  },
  {
   "cell_type": "code",
   "execution_count": 2,
   "id": "c2bcbd22",
   "metadata": {},
   "outputs": [
    {
     "name": "stdout",
     "output_type": "stream",
     "text": [
      "['폐업' '영업/정상']\n",
      "--------------------------\n",
      "<bound method Series.count of 0             폐업\n",
      "1             폐업\n",
      "2             폐업\n",
      "3             폐업\n",
      "4             폐업\n",
      "           ...  \n",
      "2024652    영업/정상\n",
      "2024653    영업/정상\n",
      "2024654    영업/정상\n",
      "2024655    영업/정상\n",
      "2024656    영업/정상\n",
      "Name: 영업상태명, Length: 2024657, dtype: object>\n",
      "=====================================================\n",
      "['폐업' '영업']\n",
      "--------------------------\n",
      "<bound method Series.count of 0          폐업\n",
      "1          폐업\n",
      "2          폐업\n",
      "3          폐업\n",
      "4          폐업\n",
      "           ..\n",
      "2024652    영업\n",
      "2024653    영업\n",
      "2024654    영업\n",
      "2024655    영업\n",
      "2024656    영업\n",
      "Name: 상세영업상태명, Length: 2024657, dtype: object>\n",
      "=====================================================\n",
      "[20220517 20220527 20220519 ... 20170115 19540328 19991024]\n"
     ]
    }
   ],
   "source": [
    "data1 = pd_data['영업상태명']\n",
    "data2 = pd_data['상세영업상태명']\n",
    "\n",
    "print(data1.unique())\n",
    "print('--------------------------')\n",
    "print(data1.count)\n",
    "\n",
    "print('=====================================================')\n",
    "\n",
    "print(data2.unique())\n",
    "print('--------------------------')\n",
    "print(data2.count)\n",
    "\n",
    "print('=====================================================')\n",
    "\n",
    "data3 = pd_data['인허가일자']\n",
    "print(data3.unique())"
   ]
  },
  {
   "cell_type": "code",
   "execution_count": null,
   "id": "a81e4cde",
   "metadata": {},
   "outputs": [],
   "source": [
    "pd_data2 = pd.read_csv('covid19_data.csv')\n",
    "print(pd_data2.columns)\n",
    "\n",
    "\n",
    "c_data1 = pd_data2['New_cases']\n",
    "print(c_data1)\n",
    "c_data2 = pd_data2['Country']\n",
    "print(c_data2)\n",
    "c_data3 = pd_data2['Date_reported']\n",
    "print(c_data3)"
   ]
  },
  {
   "cell_type": "code",
   "execution_count": 13,
   "id": "dc539fcc",
   "metadata": {
    "scrolled": true
   },
   "outputs": [
    {
     "name": "stdout",
     "output_type": "stream",
     "text": [
      "       Date_reported      Country  New_cases\n",
      "0         2020-01-03  Afghanistan          0\n",
      "1         2020-01-04  Afghanistan          0\n",
      "2         2020-01-05  Afghanistan          0\n",
      "3         2020-01-06  Afghanistan          0\n",
      "4         2020-01-07  Afghanistan          0\n",
      "...              ...          ...        ...\n",
      "240787    2022-10-10     Zimbabwe         94\n",
      "240788    2022-10-11     Zimbabwe          0\n",
      "240789    2022-10-12     Zimbabwe         49\n",
      "240790    2022-10-13     Zimbabwe         29\n",
      "240791    2022-10-14     Zimbabwe          0\n",
      "\n",
      "[240792 rows x 3 columns]\n"
     ]
    }
   ],
   "source": [
    "df1= pd.DataFrame(c_data3)\n",
    "df1['Country']= c_data2\n",
    "df1['New_cases'] = c_data1\n",
    "# df1 = df1.reset_index()\n",
    "# df1.append(c_data2)\n",
    "# df2 = df1.append(c_data1)\n",
    "\n",
    "print(df1)"
   ]
  },
  {
   "cell_type": "code",
   "execution_count": null,
   "id": "4ffc339d",
   "metadata": {},
   "outputs": [],
   "source": [
    "pd_data = pd.read_csv('Delivery service_data.csv', encoding='cp949')\n",
    "print(pd_data.columns)"
   ]
  }
 ],
 "metadata": {
  "kernelspec": {
   "display_name": "Python 3 (ipykernel)",
   "language": "python",
   "name": "python3"
  },
  "language_info": {
   "codemirror_mode": {
    "name": "ipython",
    "version": 3
   },
   "file_extension": ".py",
   "mimetype": "text/x-python",
   "name": "python",
   "nbconvert_exporter": "python",
   "pygments_lexer": "ipython3",
   "version": "3.10.5"
  }
 },
 "nbformat": 4,
 "nbformat_minor": 5
}
