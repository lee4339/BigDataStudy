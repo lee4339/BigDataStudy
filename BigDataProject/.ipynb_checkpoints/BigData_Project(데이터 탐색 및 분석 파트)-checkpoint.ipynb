{
 "cells": [
  {
   "cell_type": "code",
   "execution_count": 9,
   "id": "355a88b2",
   "metadata": {},
   "outputs": [],
   "source": [
    "import pandas as pd\n",
    "import numpy as np\n",
    "import matplotlib.pyplot as plt\n",
    "import seaborn as sns\n",
    "\n",
    "restaurant_data = pd.read_pickle('restaurant_data.pickle')\n",
    "covid19_data = pd.read_pickle('covid19_data.pickle')\n",
    "delivery_data = pd.read_pickle('delivery_data.pickle')\n",
    "\n",
    "# print('=' * 20, '코로나데이터','=' * 20)\n",
    "# print(covid19_data)\n",
    "# print('=' * 20, '배달데이터','=' * 20)\n",
    "# print(delivery_data)"
   ]
  },
  {
   "cell_type": "code",
   "execution_count": 19,
   "id": "9ea9ef2e",
   "metadata": {},
   "outputs": [
    {
     "name": "stdout",
     "output_type": "stream",
     "text": [
      "< 음식점데이터 > \n",
      "\n",
      "        상세영업상태명      인허가일자       폐업일자    소재지        좌표정보(x)        좌표정보(y)\n",
      "0            폐업 2022-05-17 2022-09-01  서울특별시  199367.405973  452186.669075\n",
      "1            폐업 2022-05-27 2022-06-16  서울특별시  205210.358779  445154.422252\n",
      "2            폐업 2022-05-19 2022-06-21    경기도  166869.952051  460435.546268\n",
      "3            폐업 2022-04-28 2022-06-10   경상남도  344083.703365  194336.148846\n",
      "4            폐업 2022-05-24 2022-06-06    강원도  366964.031622  473505.518622\n",
      "...         ...        ...        ...    ...            ...            ...\n",
      "2024652      영업 2012-01-19        NaT  광주광역시  192085.702260  182111.703093\n",
      "2024653      영업 2014-06-12        NaT  광주광역시  190363.418899  181905.028328\n",
      "2024654      영업 2014-03-21        NaT  광주광역시  188322.201767  183130.570776\n",
      "2024655      영업 2014-03-19        NaT  광주광역시  188873.020499   184152.82843\n",
      "2024656      영업 2014-05-08        NaT  광주광역시  187771.639116  179969.196777\n",
      "\n",
      "[2024657 rows x 6 columns]\n",
      "\n",
      " -데이터 탐색-\n",
      "데이터의 행과 열 개수:  (2024657, 6)\n",
      "데이터의 타입: \n",
      " 상세영업상태명            object\n",
      "인허가일자      datetime64[ns]\n",
      "폐업일자       datetime64[ns]\n",
      "소재지                object\n",
      "좌표정보(x)           float64\n",
      "좌표정보(y)            object\n",
      "dtype: object\n"
     ]
    }
   ],
   "source": [
    "print('<', '음식점데이터','>', '\\n')\n",
    "print(restaurant_data)\n",
    "\n",
    "print('\\n', '-데이터 탐색-')\n",
    "print('데이터의 행과 열 개수: ', restaurant_data.shape)\n",
    "print('데이터의 타입:', '\\n', restaurant_data.dtypes)\n",
    "print('')"
   ]
  },
  {
   "cell_type": "code",
   "execution_count": 7,
   "id": "d26d5c00",
   "metadata": {},
   "outputs": [
    {
     "name": "stdout",
     "output_type": "stream",
     "text": [
      "count     2024657\n",
      "unique          2\n",
      "top            폐업\n",
      "freq      1333020\n",
      "Name: 상세영업상태명, dtype: object\n",
      "               신규확진자\n",
      "count    1016.000000\n",
      "mean    24681.337598\n",
      "std     66838.047221\n",
      "min         0.000000\n",
      "25%       125.000000\n",
      "50%       708.000000\n",
      "75%      7438.750000\n",
      "max    621328.000000\n",
      "         배달      이용여부 예/아니요 퍼센테이지\n",
      "count    16        16    16    16\n",
      "unique    2         1     2    16\n",
      "top     배달앱  이용여부 (%)     예   7.6\n",
      "freq      8        16     8     1\n"
     ]
    }
   ],
   "source": [
    "#기초 통계치 도출 describe()#\n",
    "#sns.pairplot(df) 전체적인 플롯#"
   ]
  }
 ],
 "metadata": {
  "kernelspec": {
   "display_name": "Python 3 (ipykernel)",
   "language": "python",
   "name": "python3"
  },
  "language_info": {
   "codemirror_mode": {
    "name": "ipython",
    "version": 3
   },
   "file_extension": ".py",
   "mimetype": "text/x-python",
   "name": "python",
   "nbconvert_exporter": "python",
   "pygments_lexer": "ipython3",
   "version": "3.10.5"
  }
 },
 "nbformat": 4,
 "nbformat_minor": 5
}
