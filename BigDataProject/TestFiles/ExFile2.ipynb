{
 "cells": [
  {
   "cell_type": "code",
   "execution_count": 3,
   "id": "e25756ba",
   "metadata": {},
   "outputs": [],
   "source": [
    "import pandas as pd\n",
    "import numpy as np\n",
    "import seaborn as sns\n",
    "from scipy import stats\n",
    "\n",
    "df = sns.load_dataset('penguins')"
   ]
  },
  {
   "cell_type": "code",
   "execution_count": 4,
   "id": "541d094a",
   "metadata": {},
   "outputs": [
    {
     "name": "stdout",
     "output_type": "stream",
     "text": [
      "    species     island  bill_length_mm  bill_depth_mm  flipper_length_mm  \\\n",
      "0    Adelie  Torgersen            39.1           18.7              181.0   \n",
      "1    Adelie  Torgersen            39.5           17.4              186.0   \n",
      "2    Adelie  Torgersen            40.3           18.0              195.0   \n",
      "3    Adelie  Torgersen             NaN            NaN                NaN   \n",
      "4    Adelie  Torgersen            36.7           19.3              193.0   \n",
      "..      ...        ...             ...            ...                ...   \n",
      "339  Gentoo     Biscoe             NaN            NaN                NaN   \n",
      "340  Gentoo     Biscoe            46.8           14.3              215.0   \n",
      "341  Gentoo     Biscoe            50.4           15.7              222.0   \n",
      "342  Gentoo     Biscoe            45.2           14.8              212.0   \n",
      "343  Gentoo     Biscoe            49.9           16.1              213.0   \n",
      "\n",
      "     body_mass_g     sex  \n",
      "0         3750.0    Male  \n",
      "1         3800.0  Female  \n",
      "2         3250.0  Female  \n",
      "3            NaN     NaN  \n",
      "4         3450.0  Female  \n",
      "..           ...     ...  \n",
      "339          NaN     NaN  \n",
      "340       4850.0  Female  \n",
      "341       5750.0    Male  \n",
      "342       5200.0  Female  \n",
      "343       5400.0    Male  \n",
      "\n",
      "[344 rows x 7 columns]\n"
     ]
    }
   ],
   "source": [
    "print(df)"
   ]
  },
  {
   "cell_type": "code",
   "execution_count": 5,
   "id": "0eb3fc11",
   "metadata": {},
   "outputs": [
    {
     "data": {
      "text/plain": [
       "<seaborn.axisgrid.FacetGrid at 0x26b2343b8e0>"
      ]
     },
     "execution_count": 5,
     "metadata": {},
     "output_type": "execute_result"
    },
    {
     "data": {
      "image/png": "[encoded data removed]",
      "text/plain": [
       "<Figure size 444.125x360 with 1 Axes>"
      ]
     },
     "metadata": {
      "needs_background": "light"
     },
     "output_type": "display_data"
    }
   ],
   "source": [
    "sns.displot(data=df, x='bill_length_mm', hue='species', kde=True)"
   ]
  },
  {
   "cell_type": "code",
   "execution_count": 8,
   "id": "f79bee52",
   "metadata": {},
   "outputs": [
    {
     "data": {
      "text/html": [
       "<div>\n",
       "<style scoped>\n",
       "    .dataframe tbody tr th:only-of-type {\n",
       "        vertical-align: middle;\n",
       "    }\n",
       "\n",
       "    .dataframe tbody tr th {\n",
       "        vertical-align: top;\n",
       "    }\n",
       "\n",
       "    .dataframe thead tr th {\n",
       "        text-align: left;\n",
       "    }\n",
       "\n",
       "    .dataframe thead tr:last-of-type th {\n",
       "        text-align: right;\n",
       "    }\n",
       "</style>\n",
       "<table border=\"1\" class=\"dataframe\">\n",
       "  <thead>\n",
       "    <tr>\n",
       "      <th></th>\n",
       "      <th colspan=\"8\" halign=\"left\">bill_length_mm</th>\n",
       "    </tr>\n",
       "    <tr>\n",
       "      <th></th>\n",
       "      <th>count</th>\n",
       "      <th>mean</th>\n",
       "      <th>std</th>\n",
       "      <th>min</th>\n",
       "      <th>25%</th>\n",
       "      <th>50%</th>\n",
       "      <th>75%</th>\n",
       "      <th>max</th>\n",
       "    </tr>\n",
       "    <tr>\n",
       "      <th>species</th>\n",
       "      <th></th>\n",
       "      <th></th>\n",
       "      <th></th>\n",
       "      <th></th>\n",
       "      <th></th>\n",
       "      <th></th>\n",
       "      <th></th>\n",
       "      <th></th>\n",
       "    </tr>\n",
       "  </thead>\n",
       "  <tbody>\n",
       "    <tr>\n",
       "      <th>Adelie</th>\n",
       "      <td>151.0</td>\n",
       "      <td>38.791391</td>\n",
       "      <td>2.663405</td>\n",
       "      <td>32.1</td>\n",
       "      <td>36.75</td>\n",
       "      <td>38.80</td>\n",
       "      <td>40.750</td>\n",
       "      <td>46.0</td>\n",
       "    </tr>\n",
       "    <tr>\n",
       "      <th>Chinstrap</th>\n",
       "      <td>68.0</td>\n",
       "      <td>48.833824</td>\n",
       "      <td>3.339256</td>\n",
       "      <td>40.9</td>\n",
       "      <td>46.35</td>\n",
       "      <td>49.55</td>\n",
       "      <td>51.075</td>\n",
       "      <td>58.0</td>\n",
       "    </tr>\n",
       "    <tr>\n",
       "      <th>Gentoo</th>\n",
       "      <td>123.0</td>\n",
       "      <td>47.504878</td>\n",
       "      <td>3.081857</td>\n",
       "      <td>40.9</td>\n",
       "      <td>45.30</td>\n",
       "      <td>47.30</td>\n",
       "      <td>49.550</td>\n",
       "      <td>59.6</td>\n",
       "    </tr>\n",
       "  </tbody>\n",
       "</table>\n",
       "</div>"
      ],
      "text/plain": [
       "          bill_length_mm                                                   \\\n",
       "                   count       mean       std   min    25%    50%     75%   \n",
       "species                                                                     \n",
       "Adelie             151.0  38.791391  2.663405  32.1  36.75  38.80  40.750   \n",
       "Chinstrap           68.0  48.833824  3.339256  40.9  46.35  49.55  51.075   \n",
       "Gentoo             123.0  47.504878  3.081857  40.9  45.30  47.30  49.550   \n",
       "\n",
       "                 \n",
       "            max  \n",
       "species          \n",
       "Adelie     46.0  \n",
       "Chinstrap  58.0  \n",
       "Gentoo     59.6  "
      ]
     },
     "execution_count": 8,
     "metadata": {},
     "output_type": "execute_result"
    }
   ],
   "source": [
    "df.iloc[:,[0,2]].groupby('species').describe()"
   ]
  },
  {
   "cell_type": "code",
   "execution_count": 25,
   "id": "16717bd4",
   "metadata": {},
   "outputs": [],
   "source": [
    "adelie_filter = df['species']=='Adelie'\n",
    "chinstrap_filter = df['species'] =='Chinstrap'\n",
    "gentoo_filter = df['species'] =='Gentoo'\n",
    "# print(adelie_filter)\n",
    "\n",
    "adelie_dset = df['bill_length_mm'][adelie_filter].dropna()\n",
    "chinstrap_dset = df['bill_length_mm'][chinstrap_filter].dropna()\n",
    "gentoo_dset = df['bill_length_mm'][gentoo_filter].dropna()\n",
    "# print(adelie_dset)\n",
    "# print(chinstrap_dset)\n",
    "# print(gentoo_dset)"
   ]
  },
  {
   "cell_type": "code",
   "execution_count": 26,
   "id": "e29c7a8c",
   "metadata": {},
   "outputs": [
    {
     "data": {
      "text/plain": [
       "Ttest_indResult(statistic=2.7694045269151144, pvalue=0.006175813141889592)"
      ]
     },
     "execution_count": 26,
     "metadata": {},
     "output_type": "execute_result"
    }
   ],
   "source": [
    "# t test\n",
    "# null-hypothesis : means are equal\n",
    "stats.ttest_ind(adelie_dset, chinstrap_dset)\n",
    "# 두개의 값이 차이가 있음\n",
    "stats.ttest_ind(chinstrap_dset, gentoo_dset)\n",
    "# 큰 차이는 아니지만 차이가 있음"
   ]
  },
  {
   "cell_type": "code",
   "execution_count": 28,
   "id": "b6ab3716",
   "metadata": {},
   "outputs": [
    {
     "data": {
      "text/plain": [
       "F_onewayResult(statistic=410.6002550405077, pvalue=2.6946137388895484e-91)"
      ]
     },
     "execution_count": 28,
     "metadata": {},
     "output_type": "execute_result"
    }
   ],
   "source": [
    "# one-way anova\n",
    "# null-hypothesis: all means are equal\n",
    "stats.f_oneway(adelie_dset, chinstrap_dset, gentoo_dset)"
   ]
  },
  {
   "cell_type": "code",
   "execution_count": 35,
   "id": "e7f691ab",
   "metadata": {},
   "outputs": [
    {
     "data": {
      "text/plain": [
       "BartlettResult(statistic=0.561430243252885, pvalue=0.4536845491964572)"
      ]
     },
     "execution_count": 35,
     "metadata": {},
     "output_type": "execute_result"
    }
   ],
   "source": [
    "# shapiro-wlk : test normal distribution(= gaussian distribution)\n",
    "# null-hypothesis: dataset is normal\n",
    "# stats.shapiro(adelie_dset)\n",
    "# stats.shapiro(gentoo_dset)\n",
    "stats.shapiro(gentoo_dset)\n",
    "\n",
    "\n",
    "# lavene, bartlett: test equal variance\n",
    "# null-hypothesis: equal variance\n",
    "# stats.levene(adelie_dset, chinstrap_dset)\n",
    "stats.levene(chinstrap_dset, gentoo_dset)\n",
    "\n",
    "stats.bartlett(adelie_dset, chinstrap_dset)\n",
    "stats.bartlett(chinstrap_dset, gentoo_dset)"
   ]
  }
 ],
 "metadata": {
  "kernelspec": {
   "display_name": "Python 3 (ipykernel)",
   "language": "python",
   "name": "python3"
  },
  "language_info": {
   "codemirror_mode": {
    "name": "ipython",
    "version": 3
   },
   "file_extension": ".py",
   "mimetype": "text/x-python",
   "name": "python",
   "nbconvert_exporter": "python",
   "pygments_lexer": "ipython3",
   "version": "3.10.5"
  }
 },
 "nbformat": 4,
 "nbformat_minor": 5
}
