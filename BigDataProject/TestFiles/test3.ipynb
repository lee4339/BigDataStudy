{
 "cells": [
  {
   "cell_type": "markdown",
   "id": "ec9b962d",
   "metadata": {},
   "source": [
    "https://www.data.go.kr/data/15096283/standard.do\n",
    "===================================\n",
    "csv 파일입니다.\n",
    "-----------------"
   ]
  },
  {
   "cell_type": "code",
   "execution_count": 1,
   "id": "691fe0ab",
   "metadata": {},
   "outputs": [
    {
     "name": "stderr",
     "output_type": "stream",
     "text": [
      "C:\\Users\\home\\AppData\\Local\\Temp\\ipykernel_40520\\3407010438.py:4: DtypeWarning: Columns (22,27,39,41,44,45) have mixed types. Specify dtype option on import or set low_memory=False.\n",
      "  restaurant_data = pd.read_csv('Restaurant_information.csv', encoding='cp949')\n"
     ]
    }
   ],
   "source": [
    "import pandas as pd\n",
    "import numpy as np\n",
    "\n",
    "restaurant_data = pd.read_csv('Restaurant_information.csv', encoding='cp949')"
   ]
  },
  {
   "cell_type": "code",
   "execution_count": 8,
   "id": "80098cb3",
   "metadata": {},
   "outputs": [],
   "source": [
    "def restaurant_fn2(x):\n",
    "    if type(x) != type('abc') or len(x) != 8 :\n",
    "        return np.NaN\n",
    "    date_list = list(x)\n",
    "    y = x[:4]\n",
    "    m_i = int(x[4:6])\n",
    "    d_i = int(x[6:])\n",
    "    if m_i < 1 or m_i > 12:\n",
    "        date_list[4:6] = ['0','1']\n",
    "    if d_i < 1 or d_i > 30:\n",
    "        date_list[6:] = ['0','1']\n",
    "    return ''.join(date_list)\n",
    "\n",
    "\n",
    "def restaurant_fn1(a):\n",
    "    x = a.astype('str')\n",
    "    date_list = []\n",
    "    for i in x:\n",
    "        if len(i) == 7:\n",
    "            date_list.append(\"0\")\n",
    "        elif len(i) == 6:\n",
    "            date_list.append(\"0\") \n",
    "        elif len(i) == 4:\n",
    "            date_list.append(\"0\")\n",
    "        elif len(i) == 8:\n",
    "            date_list.append(restaurant_fn2(i))\n",
    "        else:\n",
    "            date_list.append(i)\n",
    "    return date_list\n",
    "        \n",
    "        \n",
    "\n",
    "\n",
    "# def restaurant_fn3(x):\n",
    "#     origin_list = list(x)\n",
    "#     date_list = []\n",
    "#     for i in origin_list:\n",
    "#         y = i[:4]\n",
    "#         m_i = int(i[4:6])\n",
    "#         d_i = int(i[6:])\n",
    "#         if m_i < 1 or m_i > 12:\n",
    "#             i[4:6] = ['0','1']\n",
    "#             i = ''.join(i)\n",
    "#             date_list.append(i)\n",
    "#         if d_i < 1 or d_i > 31:\n",
    "#             i[6:] = ['0','1']\n",
    "#             i = ''.join(i)\n",
    "#             date_list.append(i)\n",
    "#     return date_list"
   ]
  },
  {
   "cell_type": "code",
   "execution_count": 9,
   "id": "99bcfbf8",
   "metadata": {},
   "outputs": [
    {
     "name": "stdout",
     "output_type": "stream",
     "text": [
      "------------------------------------------------------------------------\n",
      "0         2022-09-01\n",
      "1         2022-06-16\n",
      "2         2022-06-21\n",
      "3         2022-06-10\n",
      "4         2022-06-06\n",
      "             ...    \n",
      "2024652          NaT\n",
      "2024653          NaT\n",
      "2024654          NaT\n",
      "2024655          NaT\n",
      "2024656          NaT\n",
      "Length: 2024657, dtype: datetime64[ns]\n"
     ]
    }
   ],
   "source": [
    "restaurant_permission_date = restaurant_data['인허가일자']\n",
    "restaurant_closing_date = restaurant_data['폐업일자']\n",
    "\n",
    "restaurant_closing_date.replace(np.NaN, 0, inplace=True)\n",
    "restaurant_closing_date = restaurant_closing_date.astype('int64')\n",
    "# x = restaurant_closing_date.astype('str')\n",
    "\n",
    "# restaurant_list = []\n",
    "\n",
    "# for i in x:\n",
    "#     if len(i) == 7:\n",
    "#         restaurant_list.append(\"0\")\n",
    "#     elif len(i) == 6:\n",
    "#         restaurant_list.append(\"0\")\n",
    "#     elif len(i) == 4:\n",
    "#         restaurant_list.append(\"0\")\n",
    "#     else:\n",
    "#         restaurant_list.append(i)\n",
    "\n",
    "        \n",
    "\n",
    "# restaurant_series = pd.Series(restaurant_list)\n",
    "\n",
    "# restaurant_series.replace(\"0\", np.NaN, inplace=True)\n",
    "\n",
    "# restaurant_closing_date = restaurant_series\n",
    "\n",
    "# restaurant_closing_date\n",
    "\n",
    "print('------------------------------------------------------------------------')\n",
    "\n",
    "restaurant_series1 = pd.Series(restaurant_fn1(restaurant_closing_date))\n",
    "restaurant_series1.replace(\"0\", np.NaN, inplace=True)\n",
    "\n",
    "restaurant_series1 = restaurant_series1.astype('datetime64')\n",
    "print(restaurant_series1)\n",
    "\n",
    "\n",
    "\n",
    "# print(type(restaurant_series1[0]))\n",
    "# restaurant_series1.apply(restaurant_fn2)\n",
    "\n",
    "# print(restaurant_series1)\n",
    "\n",
    "\n",
    "\n",
    "\n",
    "# restaurant_series2 = pd.Series(restaurant_fn2(restaurant_series1))\n",
    "# print(restaurant_series2)\n",
    "\n",
    "# x = restaurant_fn2(restaurant_series1)\n",
    "# restaurant_series3 = pd.Series(x)\n",
    "# print(restaurant_series3)"
   ]
  },
  {
   "cell_type": "code",
   "execution_count": null,
   "id": "40029711",
   "metadata": {},
   "outputs": [],
   "source": [
    "restaurant_fn2('19930600')"
   ]
  },
  {
   "cell_type": "code",
   "execution_count": null,
   "id": "a9b13a1b",
   "metadata": {},
   "outputs": [],
   "source": [
    "print(restaurant_series[0])\n",
    "print(restaurant_list_strip[0][4:6])"
   ]
  }
 ],
 "metadata": {
  "kernelspec": {
   "display_name": "Python 3 (ipykernel)",
   "language": "python",
   "name": "python3"
  },
  "language_info": {
   "codemirror_mode": {
    "name": "ipython",
    "version": 3
   },
   "file_extension": ".py",
   "mimetype": "text/x-python",
   "name": "python",
   "nbconvert_exporter": "python",
   "pygments_lexer": "ipython3",
   "version": "3.10.5"
  }
 },
 "nbformat": 4,
 "nbformat_minor": 5
}
