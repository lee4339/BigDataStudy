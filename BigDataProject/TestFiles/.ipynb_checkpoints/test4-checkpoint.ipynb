{
 "cells": [
  {
   "cell_type": "code",
   "execution_count": null,
   "id": "355a88b2",
   "metadata": {},
   "outputs": [],
   "source": [
    "import pandas as pd\n",
    "import numpy as np\n",
    "import matplotlib.pyplot as plt\n",
    "import matplotlib as mp\n",
    "import seaborn as sns\n",
    "\n",
    "mp.rcParams['font.family'] = ['NanumGothic', 'sans-serif']\n",
    "\n",
    "restaurant_data = pd.read_pickle('restaurant_data.pickle')\n",
    "covid19_data = pd.read_pickle('covid19_data.pickle')\n",
    "delivery_data = pd.read_pickle('delivery_data.pickle')\n",
    "\n",
    "# print('=' * 20, '코로나데이터','=' * 20)\n",
    "# print(covid19_data)\n",
    "# print('=' * 20, '배달데이터','=' * 20)\n",
    "# print(delivery_data)"
   ]
  },
  {
   "cell_type": "markdown",
   "id": "a7d44f99",
   "metadata": {},
   "source": [
    "* 사용 데이터가 언제 수집되어 발표된 데이터이며, 언제부터 언제까지의 영업/폐업 정보를 담고 있는지 설명이 들어가면 좋겠습니다."
   ]
  },
  {
   "cell_type": "code",
   "execution_count": null,
   "id": "9ea9ef2e",
   "metadata": {},
   "outputs": [],
   "source": [
    "print('<', '음식점데이터','>', '\\n')\n",
    "print(restaurant_data.head())\n",
    "\n",
    "print('\\n', '<데이터 탐색>')\n",
    "#################################################################################\n",
    "#데이터 갯수#\n",
    "print('-데이터의 행과 열 개수-', '\\n', restaurant_data.shape)\n",
    "print('\\n', '-데이터의 타입-', '\\n', restaurant_data.dtypes)\n",
    "print('\\n', '-NaN값-', '\\n', restaurant_data.isna().sum())\n",
    "print('\\n', '-NaN값을 제외한 토탈-')\n",
    "print('상세영엽상태명: ', len(restaurant_data['상세영업상태명']) - restaurant_data['상세영업상태명'].isna().sum())\n",
    "print('인허가일자: ', len(restaurant_data['인허가일자']) - restaurant_data['인허가일자'].isna().sum())\n",
    "print('폐업일자: ', len(restaurant_data['폐업일자']) - restaurant_data['폐업일자'].isna().sum())\n",
    "print('소재지: ', len(restaurant_data['소재지']) - restaurant_data['소재지'].isna().sum())\n",
    "print('좌표정보(x): ', len(restaurant_data['좌표정보(x)']) - restaurant_data['좌표정보(x)'].isna().sum())\n",
    "print('좌표정보(y): ', len(restaurant_data['좌표정보(y)']) - restaurant_data['좌표정보(y)'].isna().sum())\n",
    "# 인허가일자 : 79  ---->  결측치\n",
    "# 폐업일자 : 691658  ---->  아직 영업 중인 음식점\n",
    "# 소재지 : 16  ---->  결측치\n",
    "# 좌표정보(x), 좌표정보(y) : 108733  ---->  결측치\n",
    "\n",
    "# 인허가일자 min max\n",
    "# 코로나 이전 / 이후\n",
    "# 지속영업기간 : 폐업일 - 개업일\n",
    "#  ---> 코로나 이전에는 개업에서 폐업일까지의 얼마 기간이 평균?\n",
    "#  ---> 코로나 이후에는 개업에서 폐업일까지의 얼마 기간이 평균?\n",
    "\n",
    "#################################################################################\n",
    "#상세영업상태#\n",
    "print('\\n', '-상세영업상태-', '\\n', restaurant_data['상세영업상태명'].value_counts())\n",
    "status = restaurant_data['상세영업상태명'].value_counts()\n",
    "_, axe = plt.subplots()\n",
    "axe.bar(x = status.index, height = status, width=0.8)\n",
    "plt.title('(상세영업상태 그래프)')\n",
    "\n",
    "#################################################################################\n",
    "#소재지#\n",
    "print('\\n', '-소재지-', '\\n', restaurant_data['소재지'].value_counts())\n",
    "adress = restaurant_data['소재지'].value_counts()\n",
    "_, axe = plt.subplots()\n",
    "axe.bar(x = adress.index, height = adress, width=0.6)\n",
    "plt.xticks(adress.index, rotation=90)\n",
    "plt.title('(소재지 그래프)')\n",
    "\n",
    "# hue를 통해서 지역별 영업, 폐업중인 음식점\n",
    "\n",
    "#################################################################################\n",
    "#좌표#\n",
    "coord = restaurant_data[['좌표정보(x)', '좌표정보(y)']]\n",
    "coord.plot(kind='scatter', x='좌표정보(x)', y='좌표정보(y)', s=0.1)\n",
    "plt.title('(음식점 좌표 scatter)')\n",
    "coord.plot(kind='hexbin', x='좌표정보(x)', y='좌표정보(y)', gridsize=10)\n",
    "plt.title('(음식점 좌표 hexbin)')\n"
   ]
  },
  {
   "cell_type": "markdown",
   "id": "b8376845",
   "metadata": {},
   "source": [
    "* 지속영업기간은 datetime64데이터 타입인 series를 서로 빼기 하면 구할수 있습니다.\n",
    "\n",
    "* 소재지와 좌표는 단순제시보다는 서울과 수도권 업체들이 몇 %를 차지하고 있는지도 표기되었으면 좋을것 같습니다."
   ]
  },
  {
   "cell_type": "code",
   "execution_count": null,
   "id": "bef70c2f",
   "metadata": {},
   "outputs": [],
   "source": [
    "print('<', '코로나데이터','>', '\\n')\n",
    "print(covid19_data.head())\n",
    "\n",
    "print('\\n', '<데이터 탐색>')\n",
    "#################################################################################\n",
    "#데이터 갯수#\n",
    "print('-데이터의 행과 열 개수-', '\\n', covid19_data.shape)\n",
    "print('\\n', '-데이터의 타입-', '\\n', covid19_data.dtypes)\n",
    "print('\\n', '-NaN값-', '\\n', covid19_data.isna().sum())\n",
    "\n",
    "#################################################################################\n",
    "#통계#\n",
    "print('\\n', '-신규 확진자describe-', '\\n', covid19_data.describe())\n",
    "new = covid19_data['신규확진자']\n",
    "days = covid19_data['날짜']\n",
    "\n",
    "fig = plt.figure(figsize=[10, 5])\n",
    "a = fig.add_subplot()\n",
    "sns.lineplot(data=new, ax = a)\n",
    "plt.xticks(ticks=covid19_data.index[::100], labels=days[::100], rotation=45)\n",
    "plt.title('(코로나 그래프)')\n",
    "\n",
    "##################################################################################"
   ]
  },
  {
   "cell_type": "markdown",
   "id": "752f5ac2",
   "metadata": {},
   "source": [
    "* 데이터를 보고, 코로나 시작과 종료일/시기를 언제로 할지 정해야 코로나 시기와 그 이전과의 데이터를 구하고 비교할수 있겠습니다. 코로나 시작과 종료일은 확진자 발생일을 기준으로 해도 되고, 음식점 영업에 영향을 주는 시기로 보는 시점을 기준으로 해도 되겠습니다. 후자의 경우 (이번에는) 적절히 자의적으로 정하면 될것 같습니다."
   ]
  },
  {
   "cell_type": "code",
   "execution_count": null,
   "id": "11d2f2d0",
   "metadata": {},
   "outputs": [],
   "source": [
    "print('<', '배달데이터','>', '\\n')\n",
    "print(delivery_data)\n",
    "\n",
    "print('\\n', '<데이터 탐색>')\n",
    "#################################################################################\n",
    "#데이터 갯수#\n",
    "print('-데이터의 행과 열 개수-', '\\n', delivery_data.shape)\n",
    "print('\\n', '-데이터의 타입-', '\\n', delivery_data.dtypes)\n",
    "print('\\n', '-NaN값-', '\\n', delivery_data.isna().sum())\n",
    "\n",
    "delivery = delivery_data\n",
    "delivery_index = delivery_data.index.levels[0]\n",
    "\n",
    "fig = plt.figure(figsize=[10, 5])\n",
    "a = fig.add_subplot()\n",
    "\n",
    "a.set_xticks(ticks=delivery_index, labels=delivery_index)\n",
    "a.set_yticks([0, 25, 50, 75, 100])\n",
    "\n",
    "plt.xlabel('이용여부(예/아니요)')\n",
    "plt.ylabel('퍼센테이지')\n"
   ]
  },
  {
   "cell_type": "markdown",
   "id": "076682c0",
   "metadata": {},
   "source": [
    "* 배달데이터는 x축에 시간을, y축에 배달 이용 업체수의 추이를 나타내 보면 코로나 발생 추이, 개폐업 정보와 함께 비교해서 보기 쉽겠습니다."
   ]
  },
  {
   "cell_type": "code",
   "execution_count": null,
   "id": "d26d5c00",
   "metadata": {},
   "outputs": [],
   "source": [
    "#기초 통계치 도출 describe()#\n",
    "#sns.pairplot(df) 전체적인 플롯#"
   ]
  }
 ],
 "metadata": {
  "kernelspec": {
   "display_name": "Python 3 (ipykernel)",
   "language": "python",
   "name": "python3"
  },
  "language_info": {
   "codemirror_mode": {
    "name": "ipython",
    "version": 3
   },
   "file_extension": ".py",
   "mimetype": "text/x-python",
   "name": "python",
   "nbconvert_exporter": "python",
   "pygments_lexer": "ipython3",
   "version": "3.10.5"
  }
 },
 "nbformat": 4,
 "nbformat_minor": 5
}
