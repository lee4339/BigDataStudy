{
 "cells": [
  {
   "cell_type": "code",
   "execution_count": 12,
   "id": "e78533c1",
   "metadata": {},
   "outputs": [
    {
     "name": "stdout",
     "output_type": "stream",
     "text": [
      "    x   y\n",
      "0  10  11\n",
      "1  12  13\n",
      "2  14  15\n",
      "3  16  17\n",
      "4  18  19\n",
      "5  20  21\n",
      "6  22  23\n",
      "7  24  25\n",
      "8  26  27\n",
      "9  28  29\n"
     ]
    }
   ],
   "source": [
    "import pandas as pd\n",
    "import numpy as np\n",
    "\n",
    "df = pd.DataFrame(np.arange(10,30).reshape(10,2), columns=list('xy'))\n",
    "print(df)"
   ]
  },
  {
   "cell_type": "code",
   "execution_count": 15,
   "id": "b7e4aafc",
   "metadata": {},
   "outputs": [
    {
     "name": "stdout",
     "output_type": "stream",
     "text": [
      "0    False\n",
      "1    False\n",
      "2     True\n",
      "3     True\n",
      "4     True\n",
      "5    False\n",
      "6    False\n",
      "7    False\n",
      "8    False\n",
      "9    False\n",
      "Name: x, dtype: bool\n",
      "    x   y\n",
      "2  14  15\n",
      "3  16  17\n",
      "4  18  19\n"
     ]
    }
   ],
   "source": [
    "f1 = (df['x']>12) & (df['x']<20)\n",
    "print(f1)\n",
    "print(df[f1])"
   ]
  }
 ],
 "metadata": {
  "kernelspec": {
   "display_name": "Python 3 (ipykernel)",
   "language": "python",
   "name": "python3"
  },
  "language_info": {
   "codemirror_mode": {
    "name": "ipython",
    "version": 3
   },
   "file_extension": ".py",
   "mimetype": "text/x-python",
   "name": "python",
   "nbconvert_exporter": "python",
   "pygments_lexer": "ipython3",
   "version": "3.10.5"
  }
 },
 "nbformat": 4,
 "nbformat_minor": 5
}
