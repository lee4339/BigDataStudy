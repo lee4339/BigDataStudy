{
 "cells": [
  {
   "cell_type": "code",
   "execution_count": 2,
   "id": "ecc37ebc",
   "metadata": {},
   "outputs": [
    {
     "name": "stderr",
     "output_type": "stream",
     "text": [
      "C:\\Users\\home\\AppData\\Local\\Temp\\ipykernel_168772\\1575435633.py:4: DtypeWarning: Columns (22,27,39,41,44,45) have mixed types. Specify dtype option on import or set low_memory=False.\n",
      "  df = pd.read_csv('Restaurant_information.csv', encoding='cp949')\n"
     ]
    }
   ],
   "source": [
    "import pandas as pd\n",
    "import numpy as np\n",
    "\n",
    "df = pd.read_csv('Restaurant_information.csv', encoding='cp949')"
   ]
  },
  {
   "cell_type": "code",
   "execution_count": 3,
   "id": "8ce032a6",
   "metadata": {},
   "outputs": [
    {
     "name": "stdout",
     "output_type": "stream",
     "text": [
      "False    2020551\n",
      "True        4106\n",
      "Name: 소재지전체주소, dtype: int64\n",
      "False    1198301\n",
      "True      826356\n",
      "Name: 도로명전체주소, dtype: int64\n",
      "False    2020508\n",
      "True        4149\n",
      "Name: 소재지전체주소, dtype: int64\n",
      "False    1198301\n",
      "True      826356\n",
      "Name: 도로명전체주소, dtype: int64\n"
     ]
    }
   ],
   "source": [
    "# 우선 필요한것 두가지만 가지고 옵니다.\n",
    "df_addr = df[['소재지전체주소', '도로명전체주소']]\n",
    "\n",
    "# 어느것을 우선선택할지 na 갯수가 적은것을 고르기 위해 카운트 해봅니다.\n",
    "a = df_addr.iloc[:, 0].isna()\n",
    "b = df_addr.iloc[:, 1].isna()\n",
    "print(a.value_counts())\n",
    "print(b.value_counts())\n",
    "\n",
    "# split 작업을 할 함수를 정의합니다.\n",
    "def fn1(x):\n",
    "    try:\n",
    "        s = x.split(' ')[0]\n",
    "        # split의 첫번째 element가 '시'나 '도'로 끝나지 않으면 공란(결측치)처리합니다.\n",
    "        if s[-1] == '시' or s[-1] == '도':\n",
    "            return s\n",
    "        else:\n",
    "            return np.NaN\n",
    "    except:\n",
    "        return np.NaN\n",
    "\n",
    "addr_a = df_addr['소재지전체주소'].apply(fn1)\n",
    "addr_b = df_addr['도로명전체주소'].apply(fn1)\n",
    "\n",
    "# 다시한번 더 결측치 값 통계를 봅니다.\n",
    "a = addr_a.isna()\n",
    "b = addr_b.isna()\n",
    "print(a.value_counts())\n",
    "print(b.value_counts())\n",
    "#df_addr['소재지전체주소'][a] = df_addr['도로명전체주소'][a]"
   ]
  },
  {
   "cell_type": "code",
   "execution_count": 5,
   "id": "0b85a57d",
   "metadata": {},
   "outputs": [
    {
     "name": "stdout",
     "output_type": "stream",
     "text": [
      "False    2020508\n",
      "True        4149\n",
      "Name: 소재지전체주소, dtype: int64\n",
      "['서울특별시' '경기도' '경상남도' '강원도' '충청남도' '경상북도' '광주광역시' '대구광역시' '울산광역시' '부산광역시'\n",
      " '대전광역시' '충청북도' '인천광역시' '전라남도' '세종특별자치시' '전라북도' '제주특별자치도' nan]\n"
     ]
    }
   ],
   "source": [
    "# 결측치가 난 값을 덮어쓰기 하고, 이후에도 결측치가 있는지, 시도명 외 다른 값이 남았는지 봅니다.\n",
    "addr_a[a] = addr_b[a]\n",
    "print(addr_a.isna().value_counts())\n",
    "print(addr_a.unique())\n",
    "# 아직도 16개 결측치가 남은 듯 하고, 지자체 명과 결측치 때문에 기록된 nan외의 값은 없습니다.\n",
    "\n",
    "# 결측치를 완전히 없애기 위해서는 우편번호나 지자체 코드가 결측치, 오류값 없이 제대로 기재되었는지 확인해보고\n",
    "# 그것을 활용해서 지자체 구분을 주어도 좋을 것 같습니다."
   ]
  }
 ],
 "metadata": {
  "kernelspec": {
   "display_name": "Python 3 (ipykernel)",
   "language": "python",
   "name": "python3"
  },
  "language_info": {
   "codemirror_mode": {
    "name": "ipython",
    "version": 3
   },
   "file_extension": ".py",
   "mimetype": "text/x-python",
   "name": "python",
   "nbconvert_exporter": "python",
   "pygments_lexer": "ipython3",
   "version": "3.10.5"
  }
 },
 "nbformat": 4,
 "nbformat_minor": 5
}
