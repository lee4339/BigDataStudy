{
 "cells": [
  {
   "cell_type": "code",
   "execution_count": 20,
   "id": "9e7c8061",
   "metadata": {},
   "outputs": [],
   "source": [
    "# 네이버 환율계산\n",
    "# 매매기준율 --> 현찰살때, 환율우대없음 --> 50프로\n",
    "# 미국 USD 달러 입력 --> 대한민국 KRW 출력된 값 가져오기\n",
    "\n",
    "from selenium import webdriver\n",
    "from selenium.webdriver.common.by import By\n",
    "from selenium.webdriver.common.keys import Keys # Keys.ENTER\n",
    "from selenium.webdriver.common.action_chains import ActionChains\n",
    "from selenium.webdriver.support.wait import WebDriverWait\n",
    "\n",
    "driver = webdriver.Firefox()\n",
    "driver.get('https://search.naver.com/search.naver?where=nexearch&sm=top_hty&fbm=1&ie=utf8&query=%ED%99%98%EC%9C%A8%EA%B3%84%EC%82%B0')"
   ]
  },
  {
   "cell_type": "code",
   "execution_count": 40,
   "id": "4079929f",
   "metadata": {},
   "outputs": [
    {
     "name": "stdout",
     "output_type": "stream",
     "text": [
      "매매기준율\n",
      "\n"
     ]
    }
   ],
   "source": [
    "# 매매기준율 --> 현찰살 때\n",
    "click_button = driver.find_elements(By.XPATH, '//a[@class=\"_trigger _text\"]')\n",
    "print(click_button[0].text)\n",
    "click_by_button = driver.find_elements(By.XPATH, '//li[@data-value=\"buy\"]/a')\n",
    "print(click_by_button[0].text)\n",
    "\n",
    "# 환율우대없음 --> 50프로\n",
    "click_button = driver.find_elements(By.XPATH, '//a[@class=\"_trigger _text\"]')\n",
    "print(click_button[0].text)\n",
    "\n",
    "\n",
    "click_button[0].click()\n",
    "click_by_button[0].click()"
   ]
  }
 ],
 "metadata": {
  "kernelspec": {
   "display_name": "Python 3 (ipykernel)",
   "language": "python",
   "name": "python3"
  },
  "language_info": {
   "codemirror_mode": {
    "name": "ipython",
    "version": 3
   },
   "file_extension": ".py",
   "mimetype": "text/x-python",
   "name": "python",
   "nbconvert_exporter": "python",
   "pygments_lexer": "ipython3",
   "version": "3.10.5"
  }
 },
 "nbformat": 4,
 "nbformat_minor": 5
}
