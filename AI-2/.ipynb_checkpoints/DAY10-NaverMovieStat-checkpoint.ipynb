{
 "cells": [
  {
   "cell_type": "code",
   "execution_count": 2,
   "id": "39c71668",
   "metadata": {},
   "outputs": [
    {
     "name": "stdout",
     "output_type": "stream",
     "text": [
      "500\n"
     ]
    }
   ],
   "source": [
    "import pickle\n",
    "import numpy as np\n",
    "import matplotlib.pyplot as plt\n",
    "from scipy import stats\n",
    "\n",
    "with open('NaverMovie2.pickle', 'rb') as f:\n",
    "    raw = pickle.load(f)\n",
    "    \n",
    "print(len(raw))"
   ]
  },
  {
   "cell_type": "code",
   "execution_count": 3,
   "id": "285bc744",
   "metadata": {},
   "outputs": [
    {
     "name": "stdout",
     "output_type": "stream",
     "text": [
      "[[2022    6   22]\n",
      " [2019   11   15]\n",
      " [2016    9   29]\n",
      " ...\n",
      " [1986    7   19]\n",
      " [2004    2   20]\n",
      " [2005    2   25]]\n"
     ]
    }
   ],
   "source": [
    "movie_with_dates=[]\n",
    "for d in raw:\n",
    "    if len(d) == 5:\n",
    "        t=[]\n",
    "        for i in d[2:]:\n",
    "            t.append(int(i))\n",
    "        movie_with_dates.append(t)\n",
    "    \n",
    "np_movies = np.array(movie_with_dates)\n",
    "print(np_movies)"
   ]
  },
  {
   "cell_type": "code",
   "execution_count": 4,
   "id": "5c817a8f",
   "metadata": {},
   "outputs": [
    {
     "name": "stdout",
     "output_type": "stream",
     "text": [
      "sample count  371\n",
      "classic count  22\n"
     ]
    },
    {
     "data": {
      "text/plain": [
       "<BarContainer object of 69 artists>"
      ]
     },
     "execution_count": 4,
     "metadata": {},
     "output_type": "execute_result"
    },
    {
     "data": {
      "image/png": "[encoded data removed]",
      "text/plain": [
       "<Figure size 432x288 with 1 Axes>"
      ]
     },
     "metadata": {
      "needs_background": "light"
     },
     "output_type": "display_data"
    }
   ],
   "source": [
    "np_movie_yr = np_movies[:, 0]\n",
    "a = np_movie_yr.min()\n",
    "b = np_movie_yr.max()\n",
    "xs = np.arange(a, b + 1)\n",
    "ys = np.bincount(np_movie_yr - a)  # bincount : 하나하나의 bin(통)을 만들어 카운터 // a값을 마이너스 함으로 인덱스값을 맞춤\n",
    "# print(np_movie_yr)\n",
    "\n",
    "print('sample count ', len(np_movie_yr))\n",
    "print('classic count ', len(np_movie_yr[np_movie_yr<1990]))\n",
    "\n",
    "_, axe = plt.subplots()\n",
    "axe.bar(xs, ys)"
   ]
  },
  {
   "cell_type": "code",
   "execution_count": 5,
   "id": "46ec2828",
   "metadata": {},
   "outputs": [
    {
     "name": "stdout",
     "output_type": "stream",
     "text": [
      "ys_1 mean  36.4\n",
      "ys_2 mean  27.0\n",
      "LeveneResult(statistic=0.06311360448807854, pvalue=0.8067277521564173)\n",
      "Ttest_indResult(statistic=3.2687567348285507, pvalue=0.008448047846892695)\n"
     ]
    },
    {
     "data": {
      "text/plain": [
       "<BarContainer object of 12 artists>"
      ]
     },
     "execution_count": 5,
     "metadata": {},
     "output_type": "execute_result"
    },
    {
     "data": {
      "image/png": "[encoded data removed]",
      "text/plain": [
       "<Figure size 432x288 with 1 Axes>"
      ]
     },
     "metadata": {
      "needs_background": "light"
     },
     "output_type": "display_data"
    }
   ],
   "source": [
    "np_movie_mon = np_movies[:, 1]\n",
    "xs = np.arange(1, 13)\n",
    "ys = np.bincount(np_movie_mon) [1:]\n",
    "\n",
    "# 1, 2, 7, 9, 12\n",
    "ys_1 = ys[[0, 1, 6, 8, 11]]\n",
    "print('ys_1 mean ', ys_1.mean())\n",
    "ys_2 = ys[[2, 3, 4, 5, 7, 9, 10]]\n",
    "print('ys_2 mean ', ys_2.mean())\n",
    "print(stats.levene(ys_1, ys_2))\n",
    "print(stats.ttest_ind(ys_1, ys_2))\n",
    "\n",
    "_, axe = plt.subplots()\n",
    "axe.bar(xs, ys)"
   ]
  },
  {
   "cell_type": "code",
   "execution_count": 7,
   "id": "82cc522c",
   "metadata": {},
   "outputs": [
    {
     "name": "stdout",
     "output_type": "stream",
     "text": [
      "[0 1 2 3 4 5 6 7 8 9]\n",
      "[1 1 1 1 1 1 1 1 1 1]\n",
      "[1 1 2 2 2 3 1 2]\n",
      "[0 3 4 1]\n"
     ]
    }
   ],
   "source": [
    "a1 = np.arange(10)\n",
    "print(a1)\n",
    "print(np.bincount(a1))\n",
    "\n",
    "a2 = np.array([1,1,2,2,2,3,1,2])\n",
    "print(a2)\n",
    "print(np.bincount(a2))  # 0이 0개 1이 3개 2가 4개 3이 1개"
   ]
  }
 ],
 "metadata": {
  "kernelspec": {
   "display_name": "Python 3 (ipykernel)",
   "language": "python",
   "name": "python3"
  },
  "language_info": {
   "codemirror_mode": {
    "name": "ipython",
    "version": 3
   },
   "file_extension": ".py",
   "mimetype": "text/x-python",
   "name": "python",
   "nbconvert_exporter": "python",
   "pygments_lexer": "ipython3",
   "version": "3.10.5"
  }
 },
 "nbformat": 4,
 "nbformat_minor": 5
}
