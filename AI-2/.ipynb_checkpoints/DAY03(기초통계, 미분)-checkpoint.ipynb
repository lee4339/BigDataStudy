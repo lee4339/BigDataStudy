{
 "cells": [
  {
   "cell_type": "code",
   "execution_count": 1,
   "id": "170d1b70",
   "metadata": {},
   "outputs": [],
   "source": [
    "import numpy as np # 행렬이나 일반적으로 대규모 다차원 배열을 쉽게 처리할 수 있도록 지원하는 파이썬의 라이브러리\n",
    "import numpy.random as npr  # 난수 생성"
   ]
  },
  {
   "cell_type": "code",
   "execution_count": 8,
   "id": "5e8f17b7",
   "metadata": {},
   "outputs": [],
   "source": [
    "def print_stat(arr):\n",
    "    print(arr)\n",
    "    print('mean', np.mean(arr))   # np.sum(arr)/len(arr)\n",
    "    # 입력 배열을 평면화 된 배열로 취급하고이 1 차원 평면화 된 배열의 산술 평균을 계산\n",
    "    print('median', np.median(arr))\n",
    "    # 지정된 축을 따라 중앙값 계산"
   ]
  },
  {
   "cell_type": "code",
   "execution_count": 10,
   "id": "f1cc7203",
   "metadata": {},
   "outputs": [
    {
     "name": "stdout",
     "output_type": "stream",
     "text": [
      "[10 11 12 13 14 15 16 17 18 19 20]\n",
      "mean 15.0\n",
      "median 15.0\n"
     ]
    }
   ],
   "source": [
    "a1 = np.arange(10, 21)\n",
    "print_stat(a1)\n",
    "\n",
    "# print(np.mean(a1))  # 전부 더해서 평균값  ==> np.sum(a1)/len(a1) 같음\n",
    "# print(np.median(a1))  # 중간값을 두개일시 --> 두개를 더해서 평균을 냄 //  하나일 경우 하나의 중간값이 나옴"
   ]
  },
  {
   "cell_type": "code",
   "execution_count": 12,
   "id": "8e5ac7fe",
   "metadata": {},
   "outputs": [
    {
     "name": "stdout",
     "output_type": "stream",
     "text": [
      "[0 1 2 3 4 4 4 5]\n",
      "mean 2.875\n",
      "median 3.5\n"
     ]
    }
   ],
   "source": [
    "a1 = np.array([0, 1, 2, 3, 4, 4, 4, 5])\n",
    "print_stat(a1)"
   ]
  },
  {
   "cell_type": "code",
   "execution_count": 13,
   "id": "a2714ff4",
   "metadata": {},
   "outputs": [
    {
     "name": "stdout",
     "output_type": "stream",
     "text": [
      "[26 23 12 49 11 43 22 37 45 41]\n",
      "mean 30.9\n",
      "median 31.5\n"
     ]
    }
   ],
   "source": [
    "a1 = npr.randint(10, 50, (10,)) # 10에서 50까지 랜덤으로 10가지 들고옴\n",
    "print_stat(a1)"
   ]
  },
  {
   "cell_type": "code",
   "execution_count": 16,
   "id": "ee2d0d99",
   "metadata": {},
   "outputs": [
    {
     "name": "stdout",
     "output_type": "stream",
     "text": [
      "[34 36 13 46 26 36 12 45 37 49]\n",
      "[12 13 26 34 36 36 37 45 46 49]\n"
     ]
    }
   ],
   "source": [
    "a1 = np.array([34,36,13,46,26,36,12,45,37,49])\n",
    "print(a1)\n",
    "np.sort(a1)  # 정렬된 ndarray 반환\n",
    "a1.sort()    # 반환값 없음. 내부적으로 정렬한 상태로 저장\n",
    "print(a1)"
   ]
  },
  {
   "cell_type": "code",
   "execution_count": 21,
   "id": "e7f6de20",
   "metadata": {},
   "outputs": [
    {
     "name": "stdout",
     "output_type": "stream",
     "text": [
      "[10 11 12 13 14 15 16 17 18 19 20]\n",
      "15.0\n",
      "[12.5 15.  17.5]\n",
      "5.0 25.0\n"
     ]
    }
   ],
   "source": [
    "a1 = np.arange(10, 21)\n",
    "print(a1)\n",
    "print(np.median(a1))\n",
    "print(np.quantile(a1, [0.25, 0.5, 0.75]))    # 분위수   # 전체 자료를 특정 개수로 나눌때 그 기준이 되는 수\n",
    "x = np.quantile(a1, [0.25, 0.75])\n",
    "IQR = x[1] - x[0]\n",
    "LowerB = x[0]-1.5*IQR\n",
    "UpperB = x[1] + 1.5*IQR\n",
    "print(LowerB, UpperB)\n",
    "# inter-quantile(IQR): Q3 - Q1\n",
    "# lower bound: Q1 - 1.5*IQR\n",
    "# upper bound: Q3 + 1.5*IQR"
   ]
  },
  {
   "cell_type": "code",
   "execution_count": 22,
   "id": "085fa79f",
   "metadata": {},
   "outputs": [
    {
     "name": "stdout",
     "output_type": "stream",
     "text": [
      "[10 11 12 13 14 15 16 17 18 19 20]\n",
      "[-5. -4. -3. -2. -1.  0.  1.  2.  3.  4.  5.]\n"
     ]
    }
   ],
   "source": [
    "a1 = np.arange(10,21)\n",
    "print(a1)\n",
    "a1_mean = np.mean(a1)\n",
    "print(a1-a1_mean)    # deviation, 편차"
   ]
  },
  {
   "cell_type": "code",
   "execution_count": 26,
   "id": "f1b2fc96",
   "metadata": {},
   "outputs": [
    {
     "name": "stdout",
     "output_type": "stream",
     "text": [
      "11.0\n"
     ]
    }
   ],
   "source": [
    "dev = a1 - a1_mean\n",
    "print(np.sum(dev**2)/(len(a1)-1))  # variance, 분산          --len(a1)-1 : 일부분 카피 해온값의 정확한 값을 도출하기 위해서는 -1을 붙여야함"
   ]
  },
  {
   "cell_type": "code",
   "execution_count": 27,
   "id": "30d3e5e5",
   "metadata": {},
   "outputs": [
    {
     "name": "stdout",
     "output_type": "stream",
     "text": [
      "3.3166247903554\n"
     ]
    }
   ],
   "source": [
    "variance = np.sum(dev**2)/(len(a1)-1)\n",
    "print(np.sqrt(variance))    # std-dev, 표준편차"
   ]
  },
  {
   "cell_type": "code",
   "execution_count": 33,
   "id": "43a9abb3",
   "metadata": {},
   "outputs": [
    {
     "name": "stdout",
     "output_type": "stream",
     "text": [
      "(150, 4)\n"
     ]
    }
   ],
   "source": [
    "with open('iris.data') as f:\n",
    "    raw = f.readlines()\n",
    "# print(raw)\n",
    "\n",
    "raw_list = []\n",
    "for line in raw:\n",
    "    raw_list.append(line[:-1].split(',')[:4])\n",
    "# print(raw_list)\n",
    "\n",
    "np_data = np.array(raw_list[:-1], dtype=np.float32)\n",
    "print(np_data.shape)"
   ]
  },
  {
   "cell_type": "code",
   "execution_count": 37,
   "id": "9ed69375",
   "metadata": {},
   "outputs": [],
   "source": [
    "a1 = np.median(np_data, axis=1)    # 지정된 축을 따라 중앙값을 계산 // 배열 요소의 중앙값을 반환\n",
    "# print(a1)\n",
    "# len(a1)"
   ]
  },
  {
   "cell_type": "code",
   "execution_count": 44,
   "id": "7490de15",
   "metadata": {},
   "outputs": [
    {
     "name": "stdout",
     "output_type": "stream",
     "text": [
      "[5.1 4.9 4.7 4.6 5.  5.4 4.6 5.  4.4 4.9 5.4 4.8 4.8 4.3 5.8 5.7 5.4 5.1\n",
      " 5.7 5.1 5.4 5.1 4.6 5.1 4.8 5.  5.  5.2 5.2 4.7 4.8 5.4 5.2 5.5 4.9 5.\n",
      " 5.5 4.9 4.4 5.1 5.  4.5 4.4 5.  5.1 4.8 5.1 4.6 5.3 5.  7.  6.4 6.9 5.5\n",
      " 6.5 5.7 6.3 4.9 6.6 5.2 5.  5.9 6.  6.1 5.6 6.7 5.6 5.8 6.2 5.6 5.9 6.1\n",
      " 6.3 6.1 6.4 6.6 6.8 6.7 6.  5.7 5.5 5.5 5.8 6.  5.4 6.  6.7 6.3 5.6 5.5\n",
      " 5.5 6.1 5.8 5.  5.6 5.7 5.7 6.2 5.1 5.7 6.3 5.8 7.1 6.3 6.5 7.6 4.9 7.3\n",
      " 6.7 7.2 6.5 6.4 6.8 5.7 5.8 6.4 6.5 7.7 7.7 6.  6.9 5.6 7.7 6.3 6.7 7.2\n",
      " 6.2 6.1 6.4 7.2 7.4 7.9 6.4 6.3 6.1 7.7 6.3 6.4 6.  6.9 6.7 6.9 5.8 6.8\n",
      " 6.7 6.7 6.3 6.5 6.2 5.9]\n",
      "mean 5.8433332\n",
      "std-dev 0.8253013\n",
      "IQR 1.3000001907348633\n",
      "lower 3.1499996185302734\n",
      "upper 8.350000381469727\n",
      "[5.1 4.9 4.7 4.6 5.  5.4 4.6 5.  4.4 4.9 5.4 4.8 4.8 4.3 5.8 5.7 5.4 5.1\n",
      " 5.7 5.1 5.4 5.1 4.6 5.1 4.8 5.  5.  5.2 5.2 4.7 4.8 5.4 5.2 5.5 4.9 5.\n",
      " 5.5 4.9 4.4 5.1 5.  4.5 4.4 5.  5.1 4.8 5.1 4.6 5.3 5.  7.  6.4 6.9 5.5\n",
      " 6.5 5.7 6.3 4.9 6.6 5.2 5.  5.9 6.  6.1 5.6 6.7 5.6 5.8 6.2 5.6 5.9 6.1\n",
      " 6.3 6.1 6.4 6.6 6.8 6.7 6.  5.7 5.5 5.5 5.8 6.  5.4 6.  6.7 6.3 5.6 5.5\n",
      " 5.5 6.1 5.8 5.  5.6 5.7 5.7 6.2 5.1 5.7 6.3 5.8 7.1 6.3 6.5 7.6 4.9 7.3\n",
      " 6.7 7.2 6.5 6.4 6.8 5.7 5.8 6.4 6.5 7.7 7.7 6.  6.9 5.6 7.7 6.3 6.7 7.2\n",
      " 6.2 6.1 6.4 7.2 7.4 7.9 6.4 6.3 6.1 7.7 6.3 6.4 6.  6.9 6.7 6.9 5.8 6.8\n",
      " 6.7 6.7 6.3 6.5 6.2 5.9]\n",
      "dev [-0.74333334 -0.94333315 -1.1433334  -1.2433333  -0.84333324 -0.44333315\n",
      " -1.2433333  -0.84333324 -1.4433331  -0.94333315 -0.44333315 -1.043333\n",
      " -1.043333   -1.543333   -0.04333305 -0.14333344 -0.44333315 -0.74333334\n",
      " -0.14333344 -0.74333334 -0.44333315 -0.74333334 -1.2433333  -0.74333334\n",
      " -1.043333   -0.84333324 -0.84333324 -0.64333344 -0.64333344 -1.1433334\n",
      " -1.043333   -0.44333315 -0.64333344 -0.34333324 -0.94333315 -0.84333324\n",
      " -0.34333324 -0.94333315 -1.4433331  -0.74333334 -0.84333324 -1.3433332\n",
      " -1.4433331  -0.84333324 -0.74333334 -1.043333   -0.74333334 -1.2433333\n",
      " -0.54333305 -0.84333324  1.1566668   0.55666685  1.0566669  -0.34333324\n",
      "  0.65666676 -0.14333344  0.45666695 -0.94333315  0.75666666 -0.64333344\n",
      " -0.84333324  0.05666685  0.15666676  0.25666666 -0.24333334  0.85666656\n",
      " -0.24333334 -0.04333305  0.35666656 -0.24333334  0.05666685  0.25666666\n",
      "  0.45666695  0.25666666  0.55666685  0.75666666  0.95666695  0.85666656\n",
      "  0.15666676 -0.14333344 -0.34333324 -0.34333324 -0.04333305  0.15666676\n",
      " -0.44333315  0.15666676  0.85666656  0.45666695 -0.24333334 -0.34333324\n",
      " -0.34333324  0.25666666 -0.04333305 -0.84333324 -0.24333334 -0.14333344\n",
      " -0.14333344  0.35666656 -0.74333334 -0.14333344  0.45666695 -0.04333305\n",
      "  1.2566667   0.45666695  0.65666676  1.7566667  -0.94333315  1.456667\n",
      "  0.85666656  1.3566666   0.65666676  0.55666685  0.95666695 -0.14333344\n",
      " -0.04333305  0.55666685  0.65666676  1.8566666   1.8566666   0.15666676\n",
      "  1.0566669  -0.24333334  1.8566666   0.45666695  0.85666656  1.3566666\n",
      "  0.35666656  0.25666666  0.55666685  1.3566666   1.5566669   2.0566669\n",
      "  0.55666685  0.45666695  0.25666666  1.8566666   0.45666695  0.55666685\n",
      "  0.15666676  1.0566669   0.85666656  1.0566669  -0.04333305  0.95666695\n",
      "  0.85666656  0.85666656  0.45666695  0.65666676  0.35666656  0.05666685]\n"
     ]
    }
   ],
   "source": [
    "# sepal length 의 평균, 분산, 표준편차\n",
    "\n",
    "sepal_len = np_data[:,0]\n",
    "print(sepal_len)\n",
    "\n",
    "print('mean', np.mean(sepal_len))\n",
    "print('std-dev', np.std(sepal_len))\n",
    "q = np.quantile(sepal_len, [0.25, 0.5, 0.75])\n",
    "iqr = q[2] - q[0]\n",
    "print('IQR', q[2]-q[0])\n",
    "print('lower', q[0]-1.5*iqr)\n",
    "print('upper', q[2]+1.5*iqr)\n",
    "print(sepal_len)\n",
    "dev = sepal_len-np.mean(sepal_len)\n",
    "print('dev', dev)\n"
   ]
  },
  {
   "cell_type": "code",
   "execution_count": 48,
   "id": "4a6684c4",
   "metadata": {},
   "outputs": [],
   "source": [
    "def dev(arr):     #편차\n",
    "    m = np.mean(arr)\n",
    "    return arr-m\n",
    "\n",
    "def var(arr):     #분산\n",
    "    n = len(arr)\n",
    "    d = dev(arr)\n",
    "    return np.sum(d**2)/(n-1)\n",
    "\n",
    "def std_dev(arr):\n",
    "    return np.sqrt(var(arr))\n",
    "\n",
    "def covar(arr1, arr2): #공분산, 같은 길이.\n",
    "    n = len(arr1)\n",
    "    d1 = dev(arr1)\n",
    "    d2 = dev(arr2)\n",
    "    return np.sum(d1*d2)/(n-1)\n",
    "\n",
    "def corr(arr1, arr2):  #상관도\n",
    "    return covar(arr1, arr2)/(np.std(arr1)*np.std(arr2))"
   ]
  },
  {
   "cell_type": "code",
   "execution_count": 51,
   "id": "33b4a77b",
   "metadata": {},
   "outputs": [
    {
     "name": "stdout",
     "output_type": "stream",
     "text": [
      "[10 14 10 13 14 18 13 19 18 15 11 16 11 19 13 19 14 16 16 11] [103 108 102 101 108 117 105 102 101 119 117 112 107 115 104 117 106 113\n",
      " 109 103]\n",
      "7.026315789473684\n",
      "0.398958302340218\n",
      "[[ 9.31578947  7.02631579]\n",
      " [ 7.02631579 36.89210526]]\n",
      "[31584]\n"
     ]
    }
   ],
   "source": [
    "a1 = npr.randint(10, 20, (20,))\n",
    "a2 = npr.randint(100, 120, (20, ))\n",
    "\n",
    "print(a1, a2)\n",
    "print(covar(a1, a2))\n",
    "print(corr(a1, a2))\n",
    "print(np.cov(a1, a2))\n",
    "print(np.correlate(a1,a2))"
   ]
  },
  {
   "cell_type": "code",
   "execution_count": 64,
   "id": "fccc573b",
   "metadata": {},
   "outputs": [
    {
     "name": "stdout",
     "output_type": "stream",
     "text": [
      "diff -1.9998999999992773\n"
     ]
    },
    {
     "data": {
      "image/png": "[encoded data removed]",
      "text/plain": [
       "<Figure size 432x288 with 1 Axes>"
      ]
     },
     "metadata": {
      "needs_background": "light"
     },
     "output_type": "display_data"
    }
   ],
   "source": [
    "# 미분 #\n",
    "\n",
    "\n",
    "import matplotlib.pyplot as plt\n",
    "\n",
    "# gradient descent --> 경사하강법\n",
    "def differential(fn, x, h):\n",
    "    return (fn(x+h) - fn(x))/h \n",
    "\n",
    "def function1(x):\n",
    "    return x**2                               # y = x^2 .......\n",
    "\n",
    "xs = np.linspace(-5, 5, 20)\n",
    "ys = function1(xs)\n",
    "_, axe = plt.subplots()\n",
    "axe.plot(xs, ys)\n",
    "\n",
    "print('diff', differential(function1, -1, 0.0001))"
   ]
  }
 ],
 "metadata": {
  "kernelspec": {
   "display_name": "Python 3 (ipykernel)",
   "language": "python",
   "name": "python3"
  },
  "language_info": {
   "codemirror_mode": {
    "name": "ipython",
    "version": 3
   },
   "file_extension": ".py",
   "mimetype": "text/x-python",
   "name": "python",
   "nbconvert_exporter": "python",
   "pygments_lexer": "ipython3",
   "version": "3.10.5"
  }
 },
 "nbformat": 4,
 "nbformat_minor": 5
}
