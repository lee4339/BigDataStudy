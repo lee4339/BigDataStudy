{
 "cells": [
  {
   "cell_type": "code",
   "execution_count": 48,
   "id": "14a5dc3f",
   "metadata": {},
   "outputs": [],
   "source": [
    "from selenium import webdriver\n",
    "from selenium.webdriver.chrome.options import Options\n",
    "from selenium.webdriver.common.by import By\n",
    "\n",
    "opt = Options()\n",
    "# opt.headless = True\n",
    "\n",
    "driver = webdriver.Chrome(options=opt)\n",
    "driver.get('https://www.naver.com')\n",
    "\n",
    "naver_search_box = driver.find_elements(By.XPATH, '//input[@id=\"query\"]')\n",
    "naver_search_button = driver.find_elements(By.XPATH, '//button[@id=\"search_btn\"]')"
   ]
  },
  {
   "cell_type": "code",
   "execution_count": 49,
   "id": "28c97e1c",
   "metadata": {},
   "outputs": [],
   "source": [
    "naver_search_box[0].send_keys('영화순위')\n",
    "naver_search_button[0].click()"
   ]
  },
  {
   "cell_type": "code",
   "execution_count": 59,
   "id": "0d938842",
   "metadata": {},
   "outputs": [
    {
     "name": "stdout",
     "output_type": "stream",
     "text": [
      "헌트\n",
      "육사오(6/45)\n",
      "한산: 용의 출현\n",
      "불릿 트레인\n",
      "탑건: 매버릭\n",
      "놉\n",
      "귀멸의 칼날: 아사쿠사 편\n",
      "사랑할 땐 누구나 최악이 된다\n",
      "미니언즈2\n",
      "비상선언\n",
      "헤어질 결심\n",
      "DC 리그 오브 슈퍼-펫\n",
      "뿌까의 짜장면파티\n",
      "바다 탐험대 옥토넛 : 탐험...\n",
      "코코순이\n",
      "\n",
      "\n",
      "\n",
      "\n",
      "\n",
      "\n",
      "\n",
      "\n",
      "\n",
      "\n",
      "\n",
      "\n",
      "\n",
      "\n",
      "\n",
      "\n",
      "\n",
      "\n",
      "\n",
      "\n",
      "\n",
      "\n",
      "\n",
      "\n",
      "\n",
      "\n",
      "\n",
      "\n",
      "\n",
      "\n",
      "\n"
     ]
    }
   ],
   "source": [
    "movie_names = driver.find_elements(By.XPATH, '//div[@class=\"title_box\"]//strong')\n",
    "# print(movie_names)\n",
    "\n",
    "for x in movie_names:\n",
    "    print(x.text)"
   ]
  },
  {
   "cell_type": "code",
   "execution_count": 68,
   "id": "a3a4f653",
   "metadata": {},
   "outputs": [
    {
     "name": "stdout",
     "output_type": "stream",
     "text": [
      "다음\n"
     ]
    }
   ],
   "source": [
    "next_pg = driver.find_elements(By.XPATH, '//div[@class=\"cm_paging_area _page\"]/div[@class=\"pgs\"]/a')\n",
    "print(next_pg[1].text)\n",
    "\n",
    "next_pg[1].click()"
   ]
  },
  {
   "cell_type": "code",
   "execution_count": 69,
   "id": "5bdc0ccf",
   "metadata": {},
   "outputs": [],
   "source": [
    "driver.get('https://movie.naver.com/movie/sdb/rank/rmovie.naver')"
   ]
  },
  {
   "cell_type": "code",
   "execution_count": 72,
   "id": "9105df34",
   "metadata": {},
   "outputs": [
    {
     "name": "stdout",
     "output_type": "stream",
     "text": [
      "헌트\n",
      "한산: 용의 출현\n",
      "비상선언\n",
      "탑건: 매버릭\n",
      "놉\n",
      "외계+인 1부\n",
      "육사오(6/45)\n",
      "불릿 트레인\n",
      "헤어질 결심\n",
      "공조2: 인터내셔날\n",
      "미니언즈2\n",
      "어웨이크\n",
      "파로호\n",
      "사랑할 땐 누구나 최악이 된다\n",
      "귀멸의 칼날: 아사쿠사 편\n",
      "범죄도시2\n",
      "블랙폰\n",
      "리볼버\n",
      "녹턴\n",
      "늑대사냥\n",
      "파라다이스 하이웨이\n",
      "풀타임\n",
      "정직한 후보2\n",
      "말아\n",
      "큐브\n",
      "탑건\n",
      "토르: 러브 앤 썬더\n",
      "노스맨\n",
      "리미트\n",
      "엔젤 하트\n",
      "극장판 도라에몽: 진구의 우주소전쟁 리틀스타워즈 2021\n",
      "어스\n",
      "DC 리그 오브 슈퍼-펫\n",
      "카터\n",
      "겟 아웃\n",
      "명탐정 코난: 할로윈의 신부\n",
      "뽀로로 극장판 드래곤캐슬 대모험\n",
      "브로커\n",
      "마녀(魔女) Part2. The Other One\n",
      "그레이 맨\n",
      "귀멸의 칼날: 남매의 연\n",
      "초록밤\n",
      "모가디슈\n",
      "멋진 세계\n",
      "엘비스\n",
      "컴백홈\n",
      "인플루엔자\n",
      "투란도트 어둠의 왕국\n",
      "바다 탐험대 옥토넛 : 탐험선 대작전\n",
      "노웨어 스페셜\n",
      "50\n"
     ]
    }
   ],
   "source": [
    "movie_names = driver.find_elements(By.XPATH,'//td[@class=\"title\"]//a')\n",
    "for x in movie_names:\n",
    "    print(x.text)\n",
    "print(len(movie_names))"
   ]
  }
 ],
 "metadata": {
  "kernelspec": {
   "display_name": "Python 3 (ipykernel)",
   "language": "python",
   "name": "python3"
  },
  "language_info": {
   "codemirror_mode": {
    "name": "ipython",
    "version": 3
   },
   "file_extension": ".py",
   "mimetype": "text/x-python",
   "name": "python",
   "nbconvert_exporter": "python",
   "pygments_lexer": "ipython3",
   "version": "3.10.5"
  }
 },
 "nbformat": 4,
 "nbformat_minor": 5
}
