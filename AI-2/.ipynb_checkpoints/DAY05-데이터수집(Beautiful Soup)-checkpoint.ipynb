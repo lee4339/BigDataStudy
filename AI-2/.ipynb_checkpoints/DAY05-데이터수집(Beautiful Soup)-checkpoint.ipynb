{
 "cells": [
  {
   "cell_type": "code",
   "execution_count": 6,
   "id": "f84db5c7",
   "metadata": {},
   "outputs": [
    {
     "name": "stdout",
     "output_type": "stream",
     "text": [
      "Elsie\n"
     ]
    }
   ],
   "source": [
    "from bs4 import BeautifulSoup # 뷰티풀수프 패키지 \n",
    "from lxml import etree    # 나무가지 형식?\n",
    "import requests\n",
    "\n",
    "html_doc = \"\"\"<html><head><title>The Dormouse's story</title></head>\n",
    "<body>\n",
    "<p class=\"title\"><b>The Dormouse's story</b></p>\n",
    "\n",
    "<p class=\"story\">Once upon a time there were three little sisters; and their names were\n",
    "<a href=\"http://example.com/elsie\" class=\"sister\" id=\"link1\">Elsie</a>,\n",
    "<a href=\"http://example.com/lacie\" class=\"sister\" id=\"link2\">Lacie</a> and\n",
    "<a href=\"http://example.com/tillie\" class=\"sister\" id=\"link3\">Tillie</a>;\n",
    "and they lived at the bottom of a well.</p>\n",
    "\n",
    "<p class=\"story\">...</p>\n",
    "</body></html>\n",
    "\"\"\"\n",
    "\n",
    "soup = BeautifulSoup(html_doc, 'html.parser')   # parser 문서들을 끊어서 읽어주는 기능\n",
    "dom = etree.HTML(str(soup))\n",
    "# print(dom.xpath('//p/a[@id=\"link1\"]'))     # (?)태그를 찾아달라   --->  // : 어디에서든지    /: 그 안에(그 밑에)\n",
    "                                             # p 태그안에 a태그 중 id가 link1 인 것을 찾아\n",
    "print(dom.xpath('//p/a[@id]')[0].text)"
   ]
  },
  {
   "cell_type": "code",
   "execution_count": 3,
   "id": "db99cee4",
   "metadata": {},
   "outputs": [
    {
     "data": {
      "text/plain": [
       "[<p class=\"title\"><b>The Dormouse's story</b></p>,\n",
       " <p class=\"story\">Once upon a time there were three little sisters; and their names were\n",
       " <a class=\"sister\" href=\"http://example.com/elsie\" id=\"link1\">Elsie</a>,\n",
       " <a class=\"sister\" href=\"http://example.com/lacie\" id=\"link2\">Lacie</a> and\n",
       " <a class=\"sister\" href=\"http://example.com/tillie\" id=\"link3\">Tillie</a>;\n",
       " and they lived at the bottom of a well.</p>,\n",
       " <p class=\"story\">...</p>]"
      ]
     },
     "execution_count": 3,
     "metadata": {},
     "output_type": "execute_result"
    }
   ],
   "source": [
    "# print(soup)\n",
    "# print(soup.contents)\n",
    "\n",
    "# soup.find('p')   # 첫번째 p태그를 찾아줌\n",
    "soup.find_all('p')  # 전체 p태그를 찾아서 리스트에 넣어줌"
   ]
  },
  {
   "cell_type": "code",
   "execution_count": 4,
   "id": "bcd47c63",
   "metadata": {},
   "outputs": [
    {
     "name": "stdout",
     "output_type": "stream",
     "text": [
      "헌트\n"
     ]
    }
   ],
   "source": [
    "url='https://search.naver.com/search.naver?where=nexearch&sm=top_hty&fbm=1&ie=utf8&query=%EC%98%81%ED%99%94%EC%88%9C%EC%9C%84'\n",
    "movie_rank = requests.get(url)\n",
    "\n",
    "soup = BeautifulSoup(movie_rank.content, 'html.parser')\n",
    "#print(soup)\n",
    "dom = etree.HTML(str(soup))\n",
    "mname = dom.xpath('//*[@id=\"main_pack\"]/div[3]/div[2]/div/div/div[2]/div[1]/div[1]/div/ul[1]/li[1]/a/div/div[2]/strong')\n",
    "print(mname[0].text)"
   ]
  },
  {
   "cell_type": "code",
   "execution_count": 5,
   "id": "afeb765a",
   "metadata": {},
   "outputs": [
    {
     "name": "stdout",
     "output_type": "stream",
     "text": [
      "빠른 성과를 원한다면 실패할 가능성이 크다. 무엇이든 한걸음 한걸음부터 시작하는 게 좋다. 많은 사람들을 도와 줄 수 있는 날이기도 하다. 오늘은 건강에 관심을 갖도록 하자. 정기적으로 건강검진을 받지 않았다면 오늘은 건강검진을 한번 받도록 하라.\n"
     ]
    }
   ],
   "source": [
    "url='https://search.naver.com/search.naver?where=nexearch&sm=tab_etc&qvt=0&query=%EC%A5%90%EB%9D%A0%20%EC%9A%B4%EC%84%B8'\n",
    "x = requests.get(url)\n",
    "soup = BeautifulSoup(x.content, 'html.parser')\n",
    "dom = etree.HTML(str(soup))\n",
    "#t = dom.xpath('//*[@id=\"yearFortune\"]/div/div[2]/p[2]')\n",
    "t = dom.xpath('//p[@class=\"text _cs_fortune_text\"]')\n",
    "print(t[0].text)"
   ]
  }
 ],
 "metadata": {
  "kernelspec": {
   "display_name": "Python 3 (ipykernel)",
   "language": "python",
   "name": "python3"
  },
  "language_info": {
   "codemirror_mode": {
    "name": "ipython",
    "version": 3
   },
   "file_extension": ".py",
   "mimetype": "text/x-python",
   "name": "python",
   "nbconvert_exporter": "python",
   "pygments_lexer": "ipython3",
   "version": "3.10.5"
  }
 },
 "nbformat": 4,
 "nbformat_minor": 5
}
