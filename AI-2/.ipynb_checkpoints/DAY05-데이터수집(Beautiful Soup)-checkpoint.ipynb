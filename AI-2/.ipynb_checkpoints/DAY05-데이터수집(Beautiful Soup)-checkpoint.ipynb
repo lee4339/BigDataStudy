{
 "cells": [
  {
   "cell_type": "code",
   "execution_count": 1,
   "id": "f84db5c7",
   "metadata": {},
   "outputs": [
    {
     "name": "stdout",
     "output_type": "stream",
     "text": [
      "Elsie\n"
     ]
    }
   ],
   "source": [
    "from bs4 import BeautifulSoup # 뷰티풀수프 패키지 \n",
    "from lxml import etree    # 나무가지 형식? #  XML 데이터를 구문 분석하고 만들기 위한 단순하고 효율적인 API 구현\n",
    "import requests  # http에 요청\n",
    "\n",
    "html_doc = \"\"\"<html><head><title>The Dormouse's story</title></head>\n",
    "<body>\n",
    "<p class=\"title\"><b>The Dormouse's story</b></p>\n",
    "\n",
    "<p class=\"story\">Once upon a time there were three little sisters; and their names were\n",
    "<a href=\"http://example.com/elsie\" class=\"sister\" id=\"link1\">Elsie</a>,\n",
    "<a href=\"http://example.com/lacie\" class=\"sister\" id=\"link2\">Lacie</a> and\n",
    "<a href=\"http://example.com/tillie\" class=\"sister\" id=\"link3\">Tillie</a>;\n",
    "and they lived at the bottom of a well.</p>\n",
    "\n",
    "<p class=\"story\">...</p>\n",
    "</body></html>\n",
    "\"\"\"\n",
    "\n",
    "soup = BeautifulSoup(html_doc, 'html.parser')   # parser 문서들을 끊어서 읽어주는 기능\n",
    "dom = etree.HTML(str(soup))\n",
    "# print(dom.xpath('//p/a[@id=\"link1\"]'))     # (?)태그를 찾아달라   --->  // : 어디에서든지    /: 그 안에(그 밑에)\n",
    "                                             # p 태그안에 a태그 중 id가 link1 인 것을 찾아\n",
    "print(dom.xpath('//p/a[@id]')[0].text)"
   ]
  },
  {
   "cell_type": "code",
   "execution_count": 2,
   "id": "db99cee4",
   "metadata": {},
   "outputs": [
    {
     "data": {
      "text/plain": [
       "[<p class=\"title\"><b>The Dormouse's story</b></p>,\n",
       " <p class=\"story\">Once upon a time there were three little sisters; and their names were\n",
       " <a class=\"sister\" href=\"http://example.com/elsie\" id=\"link1\">Elsie</a>,\n",
       " <a class=\"sister\" href=\"http://example.com/lacie\" id=\"link2\">Lacie</a> and\n",
       " <a class=\"sister\" href=\"http://example.com/tillie\" id=\"link3\">Tillie</a>;\n",
       " and they lived at the bottom of a well.</p>,\n",
       " <p class=\"story\">...</p>]"
      ]
     },
     "execution_count": 2,
     "metadata": {},
     "output_type": "execute_result"
    }
   ],
   "source": [
    "# print(soup)\n",
    "# print(soup.contents)\n",
    "\n",
    "# soup.find('p')   # 첫번째 p태그를 찾아줌\n",
    "soup.find_all('p')  # 전체 p태그를 찾아서 리스트에 넣어줌"
   ]
  },
  {
   "cell_type": "code",
   "execution_count": 3,
   "id": "bcd47c63",
   "metadata": {},
   "outputs": [
    {
     "name": "stdout",
     "output_type": "stream",
     "text": [
      "공조2: 인터내셔날\n"
     ]
    }
   ],
   "source": [
    "url='https://search.naver.com/search.naver?where=nexearch&sm=top_hty&fbm=1&ie=utf8&query=%EC%98%81%ED%99%94%EC%88%9C%EC%9C%84'\n",
    "movie_rank = requests.get(url)\n",
    "\n",
    "soup = BeautifulSoup(movie_rank.content, 'html.parser')\n",
    "# r.text :  HTTP Request를 보낸 URL에서 readable한 내용을 가져올 때 사용 // 이미 requests 모듈내에서 한 번 가공된 값\n",
    "#  -문서의 인코딩 방식을 자동적으로 추측하고 그에 맞게 디코딩해준다는 점\n",
    "# r.content : 이미지 등의 미디어 파일을 다른 서버로부터 받고 싶을 때는 r.content를 사용\n",
    "#  -HTTP Response의 body 부분이 bytes 상태로 그대로 저장되어 있다 // 한글 데이터를 보존 가능\n",
    "\n",
    "#print(soup)\n",
    "dom = etree.HTML(str(soup))\n",
    "mname = dom.xpath('//*[@id=\"main_pack\"]/div[3]/div[2]/div/div/div[2]/div[1]/div[1]/div/ul[1]/li[1]/a/div/div[2]/strong')\n",
    "print(mname[0].text)"
   ]
  },
  {
   "cell_type": "code",
   "execution_count": 4,
   "id": "afeb765a",
   "metadata": {},
   "outputs": [
    {
     "name": "stdout",
     "output_type": "stream",
     "text": [
      "사랑이 찾아오는 데 부담이 되는 건 사실이다. 하지만 자신이 정한 어느 정도 선을 유지 하는 게 옳다. 관계를 너무 깊게 갖는 것은 좋지 않다. 숫자에 관련된 일을 하는 사람이라면 금을 발견하는 상이니 노력한 결과에 대한 보상을 얻는다.\n"
     ]
    }
   ],
   "source": [
    "url='https://search.naver.com/search.naver?where=nexearch&sm=tab_etc&qvt=0&query=%EC%A5%90%EB%9D%A0%20%EC%9A%B4%EC%84%B8'\n",
    "x = requests.get(url)\n",
    "soup = BeautifulSoup(x.content, 'html.parser')\n",
    "dom = etree.HTML(str(soup))\n",
    "#t = dom.xpath('//*[@id=\"yearFortune\"]/div/div[2]/p[2]')\n",
    "t = dom.xpath('//p[@class=\"text _cs_fortune_text\"]')\n",
    "print(t[0].text)"
   ]
  }
 ],
 "metadata": {
  "kernelspec": {
   "display_name": "Python 3 (ipykernel)",
   "language": "python",
   "name": "python3"
  },
  "language_info": {
   "codemirror_mode": {
    "name": "ipython",
    "version": 3
   },
   "file_extension": ".py",
   "mimetype": "text/x-python",
   "name": "python",
   "nbconvert_exporter": "python",
   "pygments_lexer": "ipython3",
   "version": "3.10.5"
  }
 },
 "nbformat": 4,
 "nbformat_minor": 5
}
