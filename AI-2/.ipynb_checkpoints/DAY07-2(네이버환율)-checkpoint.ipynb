{
 "cells": [
  {
   "cell_type": "code",
   "execution_count": 64,
   "id": "9e7c8061",
   "metadata": {},
   "outputs": [],
   "source": [
    "# 네이버 환율계산\n",
    "# 매매기준율 --> 현찰살때, 환율우대없음 --> 50프로\n",
    "# 미국 USD 달러 입력 --> 대한민국 KRW 출력된 값 가져오기\n",
    "\n",
    "from selenium import webdriver\n",
    "from selenium.webdriver.common.by import By\n",
    "from selenium.webdriver.common.keys import Keys # Keys.ENTER\n",
    "from selenium.webdriver.common.action_chains import ActionChains\n",
    "from selenium.webdriver.support.wait import WebDriverWait\n",
    "\n",
    "driver = webdriver.Firefox()\n",
    "driver.get('https://search.naver.com/search.naver?where=nexearch&sm=top_hty&fbm=1&ie=utf8&query=%ED%99%98%EC%9C%A8')"
   ]
  },
  {
   "cell_type": "code",
   "execution_count": 66,
   "id": "57181b21",
   "metadata": {},
   "outputs": [],
   "source": [
    "# 매매기준율 --> 현찰살 때\n",
    "box1 = driver.find_elements(By.XPATH, '//div[contains(@class, \"rate_select\") and @data-query=\"u6\"]/a')\n",
    "opt1 = driver.find_elements(By.XPATH, '//div[contains(@class, \"rate_select\") and @data-query=\"u6\"]/descendant::li[@class=\"_i\"]/a')\n",
    "# for i in opt1:\n",
    "#     print(i.text)\n",
    "\n",
    "# 환율우대없음 --> 50프로\n",
    "box2 = driver.find_elements(By.XPATH, '//div[contains(@class, \"rate_select\") and @data-query=\"u7\"]/a')\n",
    "opt2 = driver.find_elements(By.XPATH, '//div[contains(@class, \"rate_select\") and @data-query=\"u7\"]/descendant::li[@class=\"_i\"]/a')\n",
    "# for j in opt2:\n",
    "#     print(j.text)\n",
    "    \n",
    "box1[0].click()\n",
    "opt1[0].click()\n",
    "box2[0].click()\n",
    "opt2[4].click()"
   ]
  },
  {
   "cell_type": "code",
   "execution_count": 67,
   "id": "02f45b26",
   "metadata": {},
   "outputs": [
    {
     "name": "stdout",
     "output_type": "stream",
     "text": [
      "1,355.76\n"
     ]
    }
   ],
   "source": [
    "money_from = driver.find_elements(By.XPATH, '//input[@id=\"ds_from_money\"]')\n",
    "\n",
    "\n",
    "for _ in range(10):\n",
    "    money_from[0].send_keys(Keys.BACKSPACE)\n",
    "    \n",
    "money_from[0].send_keys('222')\n",
    "\n",
    "WebDriverWait(driver, timeout=10)\n",
    "\n",
    "money_to = driver.find_elements(By.XPATH, '//input[@id=\"ds_to_money\"]')\n",
    "print(money_to[0].get_attribute('value'))"
   ]
  }
 ],
 "metadata": {
  "kernelspec": {
   "display_name": "Python 3 (ipykernel)",
   "language": "python",
   "name": "python3"
  },
  "language_info": {
   "codemirror_mode": {
    "name": "ipython",
    "version": 3
   },
   "file_extension": ".py",
   "mimetype": "text/x-python",
   "name": "python",
   "nbconvert_exporter": "python",
   "pygments_lexer": "ipython3",
   "version": "3.10.5"
  }
 },
 "nbformat": 4,
 "nbformat_minor": 5
}
