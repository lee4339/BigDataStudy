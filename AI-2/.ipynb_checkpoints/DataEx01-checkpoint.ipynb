{
 "cells": [
  {
   "cell_type": "code",
   "execution_count": 1,
   "id": "ee208d2f",
   "metadata": {},
   "outputs": [],
   "source": [
    "import pickle\n",
    "\n",
    "with open('서울교통공사_지하철혼잡도정보_20211231.csv', 'r') as f:\n",
    "    raw = f.readlines()\n",
    "    \n",
    "raw_list = []    \n",
    "\n",
    "for line in raw:\n",
    "    raw_list.append(line[:-1].split(','))  \n",
    "# print(raw_list)\n",
    "\n",
    "time_slots = raw_list[0][6:]\n",
    "# print(time_slots)   --> 시간대\n",
    "\n",
    "date_type_list = list(set([x[1] for x in raw_list[1:]]))\n",
    "# print(date_type_list)   --> 조사일자\n",
    "\n",
    "line_type_list = list(set(x[5] for x in raw_list[1:]))\n",
    "# print(line_type_list)   --> 구분\n",
    "\n",
    "data = []\n",
    "for x in raw_list[1:]:\n",
    "    sub_list=[]\n",
    "    for index, value in enumerate(x[1:]):\n",
    "        if index == 3:\n",
    "            continue\n",
    "        if index == 0:\n",
    "            sub_list.append(date_type_list.index(value))\n",
    "        elif index == 4:\n",
    "            sub_list.append(line_type_list.index(value))\n",
    "        elif index > 4:\n",
    "            sub_list.append(float(value))\n",
    "        else:\n",
    "            sub_list.append(int(value))\n",
    "    data.append(sub_list)\n",
    "#print(data) # --> 모두 전처리 후 병합\n",
    "\n",
    "pickle_dict = dict()\n",
    "pickle_dict['time_slot'] = time_slots\n",
    "pickle_dict['date_type_list'] = date_type_list\n",
    "pickle_dict['line_type_list'] = line_type_list\n",
    "pickle_dict['data'] = data\n",
    "pickle_dict['comment'] = 'comment'\n",
    "\n",
    "with open('dateEx01.pickle', 'wb') as f:\n",
    "    pickle.dump(pickle_dict, f)"
   ]
  },
  {
   "cell_type": "code",
   "execution_count": 25,
   "id": "1883c43b",
   "metadata": {},
   "outputs": [
    {
     "name": "stdout",
     "output_type": "stream",
     "text": [
      "(1704, 41)\n",
      "[[ 6.2 14.6 13.4 ... 16.4  7.8  6.1]\n",
      " [ 5.4 10.1 13.  ... 18.3 11.7 11.7]\n",
      " [ 5.2 10.8  9.3 ... 25.1 16.3 14.8]\n",
      " ...\n",
      " [ 3.   2.1  3.6 ...  3.7  3.   1.4]\n",
      " [ 2.4  1.5  3.2 ...  3.8  2.6  1.4]\n",
      " [ 1.6  0.9  2.5 ...  4.2  2.7  1.8]]\n"
     ]
    }
   ],
   "source": [
    "import numpy as np\n",
    "\n",
    "#print(data)\n",
    "np_data = np.array(data, dtype=np.float32)\n",
    "print(np_data.shape)\n",
    "sub = np_data[::2,4:]\n",
    "print(sub)"
   ]
  }
 ],
 "metadata": {
  "kernelspec": {
   "display_name": "Python 3 (ipykernel)",
   "language": "python",
   "name": "python3"
  },
  "language_info": {
   "codemirror_mode": {
    "name": "ipython",
    "version": 3
   },
   "file_extension": ".py",
   "mimetype": "text/x-python",
   "name": "python",
   "nbconvert_exporter": "python",
   "pygments_lexer": "ipython3",
   "version": "3.10.5"
  }
 },
 "nbformat": 4,
 "nbformat_minor": 5
}
