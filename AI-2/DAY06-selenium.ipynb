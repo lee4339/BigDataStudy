{
 "cells": [
  {
   "cell_type": "code",
   "execution_count": 25,
   "id": "7d45ad2a",
   "metadata": {},
   "outputs": [],
   "source": [
    "from selenium import webdriver\n",
    "from selenium.webdriver.common.by import By\n",
    "\n",
    "driver = webdriver.Chrome()\n",
    "driver.get('https://www.data.go.kr/tcs/dss/selectDataSetList.do')"
   ]
  },
  {
   "cell_type": "code",
   "execution_count": 26,
   "id": "0b0a64cc",
   "metadata": {},
   "outputs": [
    {
     "name": "stdout",
     "output_type": "stream",
     "text": [
      "[<selenium.webdriver.remote.webelement.WebElement (session=\"5ad04ff5721f2d32c83365d371d758da\", element=\"b0cae6c0-515d-4ddf-b8d6-48f4e7873f7a\")>, <selenium.webdriver.remote.webelement.WebElement (session=\"5ad04ff5721f2d32c83365d371d758da\", element=\"bde514d8-3fc8-44a5-91fc-8bf23acb10f6\")>, <selenium.webdriver.remote.webelement.WebElement (session=\"5ad04ff5721f2d32c83365d371d758da\", element=\"e669b2b5-0088-456f-bfec-9a60f9180214\")>, <selenium.webdriver.remote.webelement.WebElement (session=\"5ad04ff5721f2d32c83365d371d758da\", element=\"ad59a5c3-a8be-42b1-a169-0d772f70eb48\")>, <selenium.webdriver.remote.webelement.WebElement (session=\"5ad04ff5721f2d32c83365d371d758da\", element=\"e72f4513-9777-46c7-8826-4b6ca47b6e1c\")>]\n",
      "전국어린이보호구역표준데이터\n",
      "전국자동차정비업체표준데이터\n",
      "전국주정차금지(지정)구역표준데이터\n",
      "전국견인차량보관소표준데이터\n",
      "전국공연행사정보표준데이터\n"
     ]
    }
   ],
   "source": [
    "list1 = driver.find_elements(By.XPATH, '//span[@class=\"title std-title\"]')\n",
    "\n",
    "print(list1)\n",
    "\n",
    "for x in list1:\n",
    "    print(x.text)"
   ]
  },
  {
   "cell_type": "code",
   "execution_count": 17,
   "id": "7ff4d6e1",
   "metadata": {},
   "outputs": [],
   "source": [
    "driver.get('https://www.data.go.kr')"
   ]
  },
  {
   "cell_type": "code",
   "execution_count": 18,
   "id": "39c6d783",
   "metadata": {},
   "outputs": [
    {
     "name": "stdout",
     "output_type": "stream",
     "text": [
      "5\n",
      "전국종량제봉투가격표준데이터\n",
      "전국무인교통단속카메라표준데이터\n",
      "소상공인시장진흥공단_상가(상권)정보\n",
      "전국CCTV표준데이터\n",
      "국민연금공단_국민연금 가입 사업장 내역\n"
     ]
    }
   ],
   "source": [
    "list1 = driver.find_elements(By.XPATH, '//div[@id=\"tab_popular_data01\"]//a')\n",
    "print(len(list1))\n",
    "\n",
    "for x in list1:\n",
    "    print(x.text)\n",
    "    \n",
    "list1[0].click()  # 웹페이지에서 클릭해줌"
   ]
  },
  {
   "cell_type": "code",
   "execution_count": 19,
   "id": "303e345e",
   "metadata": {},
   "outputs": [
    {
     "name": "stdout",
     "output_type": "stream",
     "text": [
      "[<selenium.webdriver.remote.webelement.WebElement (session=\"5061b8a146ed71fa8f9b88ce5b99738c\", element=\"38874622-7c56-4ce1-8485-cd96f4552d0c\")>]\n"
     ]
    }
   ],
   "source": [
    "list1 = driver.find_elements(By.XPATH, '//input[@id=\"searchKeyword1\"]')\n",
    "print(list1)\n",
    "list1[0].send_keys('mysearchstring') # 안에 키값을 줌"
   ]
  },
  {
   "cell_type": "code",
   "execution_count": 23,
   "id": "bd14cbc5",
   "metadata": {},
   "outputs": [
    {
     "name": "stdout",
     "output_type": "stream",
     "text": [
      "[<selenium.webdriver.remote.webelement.WebElement (session=\"5061b8a146ed71fa8f9b88ce5b99738c\", element=\"9265ae8a-5c8a-43cb-9326-c8f816e11199\")>, <selenium.webdriver.remote.webelement.WebElement (session=\"5061b8a146ed71fa8f9b88ce5b99738c\", element=\"c585a9e1-22ec-4aba-b0b4-9253634ba883\")>]\n",
      "검색\n"
     ]
    }
   ],
   "source": [
    "list1 = driver.find_elements(By.XPATH, '//button[@title=\"검색 하기\"]')\n",
    "print(list1)\n",
    "print(list1[1].text)\n",
    "list1[1].click()"
   ]
  }
 ],
 "metadata": {
  "kernelspec": {
   "display_name": "Python 3 (ipykernel)",
   "language": "python",
   "name": "python3"
  },
  "language_info": {
   "codemirror_mode": {
    "name": "ipython",
    "version": 3
   },
   "file_extension": ".py",
   "mimetype": "text/x-python",
   "name": "python",
   "nbconvert_exporter": "python",
   "pygments_lexer": "ipython3",
   "version": "3.10.5"
  }
 },
 "nbformat": 4,
 "nbformat_minor": 5
}
