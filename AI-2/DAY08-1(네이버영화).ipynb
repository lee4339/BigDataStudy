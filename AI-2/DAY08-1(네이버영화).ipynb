{
 "cells": [
  {
   "cell_type": "code",
   "execution_count": 1,
   "id": "e61a15c1",
   "metadata": {},
   "outputs": [],
   "source": [
    "from selenium import webdriver\n",
    "from selenium.webdriver.common.by import By\n",
    "from selenium.webdriver.common.keys import Keys # Keys.ENTER\n",
    "from selenium.webdriver.common.action_chains import ActionChains\n",
    "from selenium.webdriver.support.wait import WebDriverWait\n",
    "\n",
    "driver = webdriver.Firefox()\n",
    "driver.get('https://www.naver.com')"
   ]
  },
  {
   "cell_type": "code",
   "execution_count": 2,
   "id": "1cfd0c07",
   "metadata": {},
   "outputs": [],
   "source": [
    "naver_searchbox = driver.find_elements(By.XPATH, '//input[@id=\"query\"]')\n",
    "naver_searchbox[0].send_keys('영화랭킹' + Keys.ENTER)"
   ]
  },
  {
   "cell_type": "code",
   "execution_count": 6,
   "id": "965ea992",
   "metadata": {},
   "outputs": [
    {
     "name": "stdout",
     "output_type": "stream",
     "text": [
      "[<selenium.webdriver.remote.webelement.WebElement (session=\"bb886fc8-98bd-4b57-95d7-9adbc9f5c3e5\", element=\"31771dc1-fc7d-471e-80ad-f542b91f282b\")>]\n"
     ]
    }
   ],
   "source": [
    "naver_movie_rank = driver.find_elements(By.XPATH, '//a[contains(@href, \"movie.naver.com\")]/descendant::*[contains(text(), \"영화랭킹\")]')\n",
    "print(len(naver_movie_rank)\n",
    "naver_movie_rank[0].click()"
   ]
  },
  {
   "cell_type": "code",
   "execution_count": 10,
   "id": "50d4e711",
   "metadata": {},
   "outputs": [
    {
     "name": "stdout",
     "output_type": "stream",
     "text": [
      "88585fa5-d13a-4faf-8d12-af34e572d197\n",
      "['88585fa5-d13a-4faf-8d12-af34e572d197', '915ca104-1b27-42fd-898d-de0602141a64']\n"
     ]
    }
   ],
   "source": [
    "tab = driver.current_window_handle  # 현재 핸들 위치\n",
    "print(tab)\n",
    "\n",
    "tabs = driver.window_handles # 핸들 위치 리스트\n",
    "print(tabs)\n",
    "\n",
    "driver.switch_to.window(tabs[1]) # 핸들 위치 변경"
   ]
  },
  {
   "cell_type": "code",
   "execution_count": 12,
   "id": "d2cec213",
   "metadata": {},
   "outputs": [
    {
     "name": "stdout",
     "output_type": "stream",
     "text": [
      "1\n"
     ]
    }
   ],
   "source": [
    "# 탭 핸들 위치 변경 후 해야 찾을 수 있음\n",
    "by_stars = driver.find_elements(By.XPATH, '//a/img[contains(@alt, \"모든영화\")]')\n",
    "print(len(by_stars))\n",
    "by_stars[0].click()"
   ]
  },
  {
   "cell_type": "code",
   "execution_count": 18,
   "id": "70471186",
   "metadata": {},
   "outputs": [
    {
     "name": "stdout",
     "output_type": "stream",
     "text": [
      "50\n"
     ]
    }
   ],
   "source": [
    "titles = driver.find_elements(By.XPATH, '//td[@class=\"title\"]//a')\n",
    "print(len(titles))\n",
    "#  https://movie.naver.com/movie/bi/mi/basic.naver?code=\n",
    "\n",
    "movie_rank = []\n",
    "for x in titles:\n",
    "    movie_code = x.get_attribute('href')\n",
    "    movie_code = movie_code.split('=')[1]\n",
    "    movie_rank.append([movie_code, x.text])\n",
    "#     print(x.text, x.get_attribute('href'))"
   ]
  },
  {
   "cell_type": "code",
   "execution_count": 19,
   "id": "af6fa1bf",
   "metadata": {},
   "outputs": [
    {
     "name": "stdout",
     "output_type": "stream",
     "text": [
      "[['81888', '탑건: 매버릭'], ['191613', '클라우스'], ['144584', '할머니의 먼 집'], ['171539', '그린 북'], ['174830', '가버나움'], ['186114', '밥정'], ['144906', '베일리 어게인'], ['151196', '원더'], ['169240', '아일라'], ['192613', '디지몬 어드벤처 라스트 에볼루션 : 인연'], ['196843', '극장판 바이올렛 에버가든'], ['157243', '당갈'], ['217719', '명탐정 코난: 할로윈의 신부'], ['181710', '포드 V 페라리'], ['175092', '먼 훗날 우리'], ['179518', '주전장'], ['17421', '쇼생크 탈출'], ['10200', '터미네이터 2:오리지널'], ['154667', '덕구'], ['35939', '클래식'], ['196828', '그대, 고맙소 : 김호중 생애 첫 팬미팅 무비'], ['18988', '라이언 일병 구하기'], ['213746', '장민호 드라마 최종회'], ['10016', '나 홀로 집에'], ['69105', '월-E'], ['10102', '사운드 오브 뮤직'], ['10002', '빽 투 더 퓨쳐'], ['156464', '보헤미안 랩소디'], ['29217', '글래디에이터'], ['17159', '포레스트 검프'], ['197647', '가나의 혼인잔치: 언약'], ['18847', '타이타닉'], ['106360', '위대한 쇼맨'], ['22126', '인생은 아름다워'], ['35901', '살인의 추억'], ['24452', '매트릭스'], ['82432', '헬프'], ['32686', '센과 치히로의 행방불명'], ['66463', '토이 스토리 3'], ['31162', '캐스트 어웨이'], ['11678', '태극권'], ['187320', '씽2게더'], ['14450', '쉰들러 리스트'], ['92125', '헌터 킬러'], ['147092', '히든 피겨스'], ['31796', '반지의 제왕: 왕의 귀환'], ['34324', '집으로...'], ['10048', '죽은 시인의 사회'], ['136900', '어벤져스: 엔드게임'], ['17170', '레옹']]\n"
     ]
    }
   ],
   "source": [
    "print(movie_rank)"
   ]
  },
  {
   "cell_type": "code",
   "execution_count": null,
   "id": "1c293751",
   "metadata": {},
   "outputs": [],
   "source": [
    "for _ in range(10):\n",
    "    next_link = driver.find_elements(By.XPATH, '//a[text()=\"다음\"]')\n",
    "#     print(len(next_link))\n",
    "    next_link[0].click()"
   ]
  }
 ],
 "metadata": {
  "kernelspec": {
   "display_name": "Python 3 (ipykernel)",
   "language": "python",
   "name": "python3"
  },
  "language_info": {
   "codemirror_mode": {
    "name": "ipython",
    "version": 3
   },
   "file_extension": ".py",
   "mimetype": "text/x-python",
   "name": "python",
   "nbconvert_exporter": "python",
   "pygments_lexer": "ipython3",
   "version": "3.10.5"
  }
 },
 "nbformat": 4,
 "nbformat_minor": 5
}
