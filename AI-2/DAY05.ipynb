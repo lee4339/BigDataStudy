{
 "cells": [
  {
   "cell_type": "code",
   "execution_count": 2,
   "id": "60a18049",
   "metadata": {},
   "outputs": [
    {
     "name": "stdout",
     "output_type": "stream",
     "text": [
      "True\n"
     ]
    }
   ],
   "source": [
    "# IRIS \n",
    "import numpy as np\n",
    "import scipy.stats as st \n",
    "# -파이썬을 기반으로 하여 과학, 분석, 그리고 엔지니어링을 위한 과학적 컴퓨팅 영역의 여러 기본적인 작업을\n",
    "#  위한 라이브러리\n",
    "# -수치적분 루틴과 미분방정식 해석기, 방정식의 근을 구하는 알고리즘, 표준 연속/이산 확률분포와 \n",
    "#  다양한 통계관련 도구 등을 제공NumPy와 Scipy를 함께 사용하면 확장 애드온을 포함한 MATLAB을 완벽하게 대체\n",
    "# -기본적으로 Numpy, Matplotlib, pandas, Sympy등 과 함께 동작\n",
    "\n",
    "with open('iris.data', 'r') as f:\n",
    "    raw = f.readlines()\n",
    "    \n",
    "setosa_petal_len = []\n",
    "versicolor_pl = []\n",
    "virginica_pl = []\n",
    "\n",
    "for line in raw[:50]:\n",
    "    setosa_petal_len.append(float(line.split(',')[2]))\n",
    "    \n",
    "for line in raw[50:100]:\n",
    "    versicolor_pl.append(float(line.split(',')[2]))\n",
    "    \n",
    "for line in raw[100:150]:\n",
    "    virginica_pl.append(float(line.split(',')[2]))\n",
    "\n",
    "# np.array이로 변경\n",
    "setosa_petal_len = np.array(setosa_petal_len)\n",
    "versicolor_pl = np.array(versicolor_pl)\n",
    "virginica_pl = np.array(virginica_pl)\n",
    "\n",
    "print(1.1 in setosa_petal_len)  \n",
    "# in: 문자열을 받아서 첫 번째 문자열이 두 번째 문자열의 부분 문자열이면 True를 반환하는 불 연산자"
   ]
  },
  {
   "cell_type": "code",
   "execution_count": 3,
   "id": "064bbdcf",
   "metadata": {},
   "outputs": [
    {
     "name": "stdout",
     "output_type": "stream",
     "text": [
      "iqr:  0.5999999999999996\n",
      "outlier:  3.1000000000000005 --- 5.499999999999999\n",
      "mean:  4.26 median:  4.35 std:  0.4651881339845203\n",
      "95%:  3.34823125739034 --- 6.68518813398452\n",
      "[3.]\n",
      "None\n",
      "*********************************************************\n",
      "iqr:  0.7750000000000004\n",
      "outlier:  3.937499999999999 --- 7.0375000000000005\n",
      "mean:  5.5520000000000005 median:  5.55 std:  0.546347874526844\n",
      "95%:  4.481158165927386 --- 8.058347874526845\n",
      "[]\n",
      "None\n"
     ]
    }
   ],
   "source": [
    "# 사분 범위, 이상점, 평균, 정규분포 신뢰구간 함수\n",
    "def my_describe(data):\n",
    "    q1, med, q3 = np.quantile(data, [0.25, 0.5, 0.75])\n",
    "    data_iqr = q3 - q1\n",
    "    data_mean = np.mean(data)\n",
    "    data_std = np.std(data)\n",
    "    out_low = q1-1.5*data_iqr\n",
    "    out_high = q3+1.5*data_iqr\n",
    "\n",
    "    print('iqr: ', data_iqr)\n",
    "    print('outlier: ', q1-1.5*data_iqr, '---', q3+1.5*data_iqr)\n",
    "    print('mean: ', data_mean, 'median: ', med, 'std: ', data_std)\n",
    "    print('95%: ', data_mean-1.96*data_std, '---', data_mean+1.96+data_std)\n",
    "\n",
    "    b_filter = (data < out_low) | (data > out_high)\n",
    "    print(data[b_filter])\n",
    "    \n",
    "print(my_describe(versicolor_pl))\n",
    "print('*********************************************************')\n",
    "print(my_describe(virginica_pl))"
   ]
  },
  {
   "cell_type": "code",
   "execution_count": 9,
   "id": "224a1841",
   "metadata": {},
   "outputs": [
    {
     "data": {
      "text/plain": [
       "Ttest_indResult(statistic=12.603779441384985, pvalue=3.1788195478061495e-22)"
      ]
     },
     "execution_count": 9,
     "metadata": {},
     "output_type": "execute_result"
    }
   ],
   "source": [
    "# print(st.describe(setosa_petal_len))  # 다양한 통계량을 요약 \n",
    "# st.iqr(setosa_petal_len)  # 사분 범위 - 이상치\n",
    "st.ttest_ind(virginica_pl, versicolor_pl)   # 두 값의 평균검정\n",
    "# st.ttest_ind(setosa_petal_len, versicolor_pl)\n",
    "# st.ttest_ind(setosa_petal_len, setosa_petal_len)"
   ]
  },
  {
   "cell_type": "code",
   "execution_count": 5,
   "id": "5bdd6f3c",
   "metadata": {},
   "outputs": [
    {
     "data": {
      "text/plain": [
       "F_onewayResult(statistic=1179.0343277002194, pvalue=3.0519758018278374e-91)"
      ]
     },
     "execution_count": 5,
     "metadata": {},
     "output_type": "execute_result"
    }
   ],
   "source": [
    "st.f_oneway(setosa_petal_len, virginica_pl, versicolor_pl)\n",
    "# f_oneway : 샘플 크기가 다른 2개 이상 그룹간 일원분산분석"
   ]
  },
  {
   "cell_type": "code",
   "execution_count": 6,
   "id": "78c125d2",
   "metadata": {},
   "outputs": [],
   "source": [
    "# 선형개수? # 벡터, 행렬\n",
    "\n",
    "# scalar\n",
    "# -5\n",
    "# -3\n",
    "# -1\n",
    "\n",
    "# vector\n",
    "# [3, 4]\n",
    "# [3, 4, 5, 6]\n",
    "\n",
    "# tensor(matrix(3) +)\n",
    "#[[3,4],[5,6]]"
   ]
  },
  {
   "cell_type": "code",
   "execution_count": 11,
   "id": "e7adb3c9",
   "metadata": {},
   "outputs": [
    {
     "name": "stdout",
     "output_type": "stream",
     "text": [
      "[[5.1 3.5 1.4 0.2 0. ]\n",
      " [4.9 3.  1.4 0.2 0. ]\n",
      " [4.7 3.2 1.3 0.2 0. ]\n",
      " [4.6 3.1 1.5 0.2 0. ]\n",
      " [5.  3.6 1.4 0.2 0. ]\n",
      " [5.4 3.9 1.7 0.4 0. ]\n",
      " [4.6 3.4 1.4 0.3 0. ]\n",
      " [5.  3.4 1.5 0.2 0. ]\n",
      " [4.4 2.9 1.4 0.2 0. ]\n",
      " [4.9 3.1 1.5 0.1 0. ]\n",
      " [5.4 3.7 1.5 0.2 0. ]\n",
      " [4.8 3.4 1.6 0.2 0. ]\n",
      " [4.8 3.  1.4 0.1 0. ]\n",
      " [4.3 3.  1.1 0.1 0. ]\n",
      " [5.8 4.  1.2 0.2 0. ]\n",
      " [5.7 4.4 1.5 0.4 0. ]\n",
      " [5.4 3.9 1.3 0.4 0. ]\n",
      " [5.1 3.5 1.4 0.3 0. ]\n",
      " [5.7 3.8 1.7 0.3 0. ]\n",
      " [5.1 3.8 1.5 0.3 0. ]\n",
      " [5.4 3.4 1.7 0.2 0. ]\n",
      " [5.1 3.7 1.5 0.4 0. ]\n",
      " [4.6 3.6 1.  0.2 0. ]\n",
      " [5.1 3.3 1.7 0.5 0. ]\n",
      " [4.8 3.4 1.9 0.2 0. ]\n",
      " [5.  3.  1.6 0.2 0. ]\n",
      " [5.  3.4 1.6 0.4 0. ]\n",
      " [5.2 3.5 1.5 0.2 0. ]\n",
      " [5.2 3.4 1.4 0.2 0. ]\n",
      " [4.7 3.2 1.6 0.2 0. ]\n",
      " [4.8 3.1 1.6 0.2 0. ]\n",
      " [5.4 3.4 1.5 0.4 0. ]\n",
      " [5.2 4.1 1.5 0.1 0. ]\n",
      " [5.5 4.2 1.4 0.2 0. ]\n",
      " [4.9 3.1 1.5 0.1 0. ]\n",
      " [5.  3.2 1.2 0.2 0. ]\n",
      " [5.5 3.5 1.3 0.2 0. ]\n",
      " [4.9 3.1 1.5 0.1 0. ]\n",
      " [4.4 3.  1.3 0.2 0. ]\n",
      " [5.1 3.4 1.5 0.2 0. ]\n",
      " [5.  3.5 1.3 0.3 0. ]\n",
      " [4.5 2.3 1.3 0.3 0. ]\n",
      " [4.4 3.2 1.3 0.2 0. ]\n",
      " [5.  3.5 1.6 0.6 0. ]\n",
      " [5.1 3.8 1.9 0.4 0. ]\n",
      " [4.8 3.  1.4 0.3 0. ]\n",
      " [5.1 3.8 1.6 0.2 0. ]\n",
      " [4.6 3.2 1.4 0.2 0. ]\n",
      " [5.3 3.7 1.5 0.2 0. ]\n",
      " [5.  3.3 1.4 0.2 0. ]\n",
      " [7.  3.2 4.7 1.4 2. ]\n",
      " [6.4 3.2 4.5 1.5 2. ]\n",
      " [6.9 3.1 4.9 1.5 2. ]\n",
      " [5.5 2.3 4.  1.3 2. ]\n",
      " [6.5 2.8 4.6 1.5 2. ]\n",
      " [5.7 2.8 4.5 1.3 2. ]\n",
      " [6.3 3.3 4.7 1.6 2. ]\n",
      " [4.9 2.4 3.3 1.  2. ]\n",
      " [6.6 2.9 4.6 1.3 2. ]\n",
      " [5.2 2.7 3.9 1.4 2. ]\n",
      " [5.  2.  3.5 1.  2. ]\n",
      " [5.9 3.  4.2 1.5 2. ]\n",
      " [6.  2.2 4.  1.  2. ]\n",
      " [6.1 2.9 4.7 1.4 2. ]\n",
      " [5.6 2.9 3.6 1.3 2. ]\n",
      " [6.7 3.1 4.4 1.4 2. ]\n",
      " [5.6 3.  4.5 1.5 2. ]\n",
      " [5.8 2.7 4.1 1.  2. ]\n",
      " [6.2 2.2 4.5 1.5 2. ]\n",
      " [5.6 2.5 3.9 1.1 2. ]\n",
      " [5.9 3.2 4.8 1.8 2. ]\n",
      " [6.1 2.8 4.  1.3 2. ]\n",
      " [6.3 2.5 4.9 1.5 2. ]\n",
      " [6.1 2.8 4.7 1.2 2. ]\n",
      " [6.4 2.9 4.3 1.3 2. ]\n",
      " [6.6 3.  4.4 1.4 2. ]\n",
      " [6.8 2.8 4.8 1.4 2. ]\n",
      " [6.7 3.  5.  1.7 2. ]\n",
      " [6.  2.9 4.5 1.5 2. ]\n",
      " [5.7 2.6 3.5 1.  2. ]\n",
      " [5.5 2.4 3.8 1.1 2. ]\n",
      " [5.5 2.4 3.7 1.  2. ]\n",
      " [5.8 2.7 3.9 1.2 2. ]\n",
      " [6.  2.7 5.1 1.6 2. ]\n",
      " [5.4 3.  4.5 1.5 2. ]\n",
      " [6.  3.4 4.5 1.6 2. ]\n",
      " [6.7 3.1 4.7 1.5 2. ]\n",
      " [6.3 2.3 4.4 1.3 2. ]\n",
      " [5.6 3.  4.1 1.3 2. ]\n",
      " [5.5 2.5 4.  1.3 2. ]\n",
      " [5.5 2.6 4.4 1.2 2. ]\n",
      " [6.1 3.  4.6 1.4 2. ]\n",
      " [5.8 2.6 4.  1.2 2. ]\n",
      " [5.  2.3 3.3 1.  2. ]\n",
      " [5.6 2.7 4.2 1.3 2. ]\n",
      " [5.7 3.  4.2 1.2 2. ]\n",
      " [5.7 2.9 4.2 1.3 2. ]\n",
      " [6.2 2.9 4.3 1.3 2. ]\n",
      " [5.1 2.5 3.  1.1 2. ]\n",
      " [5.7 2.8 4.1 1.3 2. ]\n",
      " [6.3 3.3 6.  2.5 1. ]\n",
      " [5.8 2.7 5.1 1.9 1. ]\n",
      " [7.1 3.  5.9 2.1 1. ]\n",
      " [6.3 2.9 5.6 1.8 1. ]\n",
      " [6.5 3.  5.8 2.2 1. ]\n",
      " [7.6 3.  6.6 2.1 1. ]\n",
      " [4.9 2.5 4.5 1.7 1. ]\n",
      " [7.3 2.9 6.3 1.8 1. ]\n",
      " [6.7 2.5 5.8 1.8 1. ]\n",
      " [7.2 3.6 6.1 2.5 1. ]\n",
      " [6.5 3.2 5.1 2.  1. ]\n",
      " [6.4 2.7 5.3 1.9 1. ]\n",
      " [6.8 3.  5.5 2.1 1. ]\n",
      " [5.7 2.5 5.  2.  1. ]\n",
      " [5.8 2.8 5.1 2.4 1. ]\n",
      " [6.4 3.2 5.3 2.3 1. ]\n",
      " [6.5 3.  5.5 1.8 1. ]\n",
      " [7.7 3.8 6.7 2.2 1. ]\n",
      " [7.7 2.6 6.9 2.3 1. ]\n",
      " [6.  2.2 5.  1.5 1. ]\n",
      " [6.9 3.2 5.7 2.3 1. ]\n",
      " [5.6 2.8 4.9 2.  1. ]\n",
      " [7.7 2.8 6.7 2.  1. ]\n",
      " [6.3 2.7 4.9 1.8 1. ]\n",
      " [6.7 3.3 5.7 2.1 1. ]\n",
      " [7.2 3.2 6.  1.8 1. ]\n",
      " [6.2 2.8 4.8 1.8 1. ]\n",
      " [6.1 3.  4.9 1.8 1. ]\n",
      " [6.4 2.8 5.6 2.1 1. ]\n",
      " [7.2 3.  5.8 1.6 1. ]\n",
      " [7.4 2.8 6.1 1.9 1. ]\n",
      " [7.9 3.8 6.4 2.  1. ]\n",
      " [6.4 2.8 5.6 2.2 1. ]\n",
      " [6.3 2.8 5.1 1.5 1. ]\n",
      " [6.1 2.6 5.6 1.4 1. ]\n",
      " [7.7 3.  6.1 2.3 1. ]\n",
      " [6.3 3.4 5.6 2.4 1. ]\n",
      " [6.4 3.1 5.5 1.8 1. ]\n",
      " [6.  3.  4.8 1.8 1. ]\n",
      " [6.9 3.1 5.4 2.1 1. ]\n",
      " [6.7 3.1 5.6 2.4 1. ]\n",
      " [6.9 3.1 5.1 2.3 1. ]\n",
      " [5.8 2.7 5.1 1.9 1. ]\n",
      " [6.8 3.2 5.9 2.3 1. ]\n",
      " [6.7 3.3 5.7 2.5 1. ]\n",
      " [6.7 3.  5.2 2.3 1. ]\n",
      " [6.3 2.5 5.  1.9 1. ]\n",
      " [6.5 3.  5.2 2.  1. ]\n",
      " [6.2 3.4 5.4 2.3 1. ]\n",
      " [5.9 3.  5.1 1.8 1. ]]\n"
     ]
    }
   ],
   "source": [
    "raw_list=[]\n",
    "for line in raw[:150]:\n",
    "    raw_list.append(line[:-1].split(','))\n",
    "#print(raw_list)\n",
    "species_labels = list(set([x[4] for x in raw_list]))\n",
    "#print(species_labels)\n",
    "\n",
    "for sample in raw_list:\n",
    "    for index, value in enumerate(sample):\n",
    "        if index<4:\n",
    "            sample[index]=float(value)\n",
    "        else:\n",
    "            sample[index] = species_labels.index(value)\n",
    "#rint(raw_list)\n",
    "np_data = np.array(raw_list)\n",
    "print(np_data)\n",
    "        "
   ]
  },
  {
   "cell_type": "code",
   "execution_count": 17,
   "id": "14ffdea1",
   "metadata": {},
   "outputs": [
    {
     "name": "stdout",
     "output_type": "stream",
     "text": [
      "[[5.1 3.5 1.4 0.2 0. ]]\n",
      "[[5.1]\n",
      " [3.5]\n",
      " [1.4]\n",
      " [0.2]\n",
      " [0. ]]\n"
     ]
    }
   ],
   "source": [
    "a1 = np_data[0].reshape(1,-1)  # -1: 자동 계산하여 반영해주는 방식/ 알아서 분할\n",
    "print(a1)\n",
    "print(np.transpose(a1))  # 세로 셀 범위를 가로 범위로, 가로 셀 범위를 세로 범위로 바꾸어 반환"
   ]
  },
  {
   "cell_type": "code",
   "execution_count": 9,
   "id": "d83a2126",
   "metadata": {},
   "outputs": [
    {
     "name": "stdout",
     "output_type": "stream",
     "text": [
      "[3 4]\n",
      "7\n",
      "25\n",
      "5.0\n",
      "17.46424919657298\n"
     ]
    }
   ],
   "source": [
    "a1 = np.array([3,4])\n",
    "print(a1)\n",
    "\n",
    "# norm\n",
    "# L1: 절대값의 합.\n",
    "np.abs(-3) # 절대값을 구하는 함수\n",
    "\n",
    "L1 = np.sum(np.abs(a1))\n",
    "print(L1)\n",
    "\n",
    "# L2: 제곱값의 합\n",
    "L2 = np.sum(a1**2)\n",
    "print(L2)\n",
    "\n",
    "\n",
    "# 원점에서부터의 거리\n",
    "euclidian_dist = np.sqrt(L2)  # 제곱근을 계산\n",
    "print(euclidian_dist)\n",
    "\n",
    "# 벡터끼리의 거리\n",
    "a1 = np.array([3,4])\n",
    "a2 = np.array([10,20])\n",
    "# np.sqrt((10-3)**2 + (20-4)**2)\n",
    "dist = np.sqrt(np.sum((a2-a1)**2))\n",
    "print(dist)"
   ]
  },
  {
   "cell_type": "code",
   "execution_count": 18,
   "id": "99cb612d",
   "metadata": {},
   "outputs": [
    {
     "name": "stdout",
     "output_type": "stream",
     "text": [
      "[[1 4 7]\n",
      " [2 5 8]\n",
      " [3 6 9]]\n"
     ]
    },
    {
     "data": {
      "text/plain": [
       "(array([[-0.21483724,  0.88723069,  0.40824829],\n",
       "        [-0.52058739,  0.24964395, -0.81649658],\n",
       "        [-0.82633754, -0.38794278,  0.40824829]]),\n",
       " array([1.68481034e+01, 1.06836951e+00, 3.33475287e-16]),\n",
       " array([[-0.47967118, -0.57236779, -0.66506441],\n",
       "        [-0.77669099, -0.07568647,  0.62531805],\n",
       "        [-0.40824829,  0.81649658, -0.40824829]]))"
      ]
     },
     "execution_count": 18,
     "metadata": {},
     "output_type": "execute_result"
    }
   ],
   "source": [
    "a1 = np.arange(1,10).reshape(3,-1)\n",
    "# print(a1)\n",
    "print(np.transpose(a1))\n",
    "#np.linalg.eigvals(a1)\n",
    "np.linalg.svd(a1)  # 특이값 분해 : 행렬을 특정한 구조로 분해하는 방식"
   ]
  }
 ],
 "metadata": {
  "kernelspec": {
   "display_name": "Python 3 (ipykernel)",
   "language": "python",
   "name": "python3"
  },
  "language_info": {
   "codemirror_mode": {
    "name": "ipython",
    "version": 3
   },
   "file_extension": ".py",
   "mimetype": "text/x-python",
   "name": "python",
   "nbconvert_exporter": "python",
   "pygments_lexer": "ipython3",
   "version": "3.10.5"
  }
 },
 "nbformat": 4,
 "nbformat_minor": 5
}
