{
 "cells": [
  {
   "cell_type": "code",
   "execution_count": 12,
   "id": "08957e91",
   "metadata": {},
   "outputs": [],
   "source": [
    "from selenium import webdriver\n",
    "from selenium.webdriver.common.by import By\n",
    "from selenium.webdriver.common.action_chains import ActionChains\n",
    "from selenium.webdriver.support.wait import WebDriverWait\n",
    "\n",
    "# selenium 홈페이지에서 더 참조"
   ]
  },
  {
   "cell_type": "code",
   "execution_count": 52,
   "id": "5e722251",
   "metadata": {},
   "outputs": [
    {
     "data": {
      "text/plain": [
       "[<selenium.webdriver.remote.webelement.WebElement (session=\"dfe0f224-de2a-4d88-b3f6-b504e842b340\", element=\"dae832c2-eb63-4351-875f-55764b9f3051\")>]"
      ]
     },
     "execution_count": 52,
     "metadata": {},
     "output_type": "execute_result"
    }
   ],
   "source": [
    "driver = webdriver.Firefox()\n",
    "driver.get('https://www.w3schools.com/xml/books.xml')\n",
    "WebDriverWait(driver, timeout=10).until(lambda d: d.find_elements(By.XPATH, '/bookstore'))"
   ]
  },
  {
   "cell_type": "code",
   "execution_count": 15,
   "id": "3d3ba14a",
   "metadata": {},
   "outputs": [],
   "source": [
    "def test_xpath(xpath_str):\n",
    "    list1 = driver.find_elements(By.XPATH, xpath_str)\n",
    "    print('count: ', len(list1))\n",
    "    for x in list1:\n",
    "        print(x.tag_name, '::', x.text)\n",
    "    \n",
    "# .tag_name --> name(), .text --> text(), .get_attribute() --> @"
   ]
  },
  {
   "cell_type": "code",
   "execution_count": 31,
   "id": "51ae6871",
   "metadata": {},
   "outputs": [
    {
     "name": "stdout",
     "output_type": "stream",
     "text": [
      "count:  9\n",
      "bookstore :: Everyday Italian Giada De Laurentiis 2005 30.00 Harry Potter J K. Rowling 2005 29.99 XQuery Kick Start James McGovern Per Bothner Kurt Cagle James Linn Vaidyanathan Nagarajan 2003 49.99 Learning XML Erik T. Ray 2003 39.95\n",
      "author :: Giada De Laurentiis\n",
      "author :: J K. Rowling\n",
      "author :: James McGovern\n",
      "author :: Per Bothner\n",
      "author :: Kurt Cagle\n",
      "author :: James Linn\n",
      "author :: Vaidyanathan Nagarajan\n",
      "author :: Erik T. Ray\n"
     ]
    }
   ],
   "source": [
    "# test_xpath('//book[3]')\n",
    "# test_xpath('//book[last()-3]')   # 맨 마지막꺼 불러옴 // 맨 마지막부터 -3 한 값\n",
    "# test_xpath('//author')\n",
    "# test_xpath('//book[position()>2]') # 2보다 큰 것\n",
    "# test_xpath('//*[count(author)>1]') # author 태그가 하나보다 많은 것\n",
    "# test_xpath('//book[count(*)>5]') # 북 안에 모든 태그의 개수가 5개 이상인 것\n",
    "# test_xpath('//book[price>35.0]') # price가 35보다 높은것\n",
    "# test_xpath('//*[text()=\"29.99\"]') # 모든 태그들 중 텍스트가 29.99인 것\n",
    "\n",
    "# test_xpath('//year')\n",
    "# test_xpath('//*[name()=\"year\"]') # 모든 태그 중 이름이 year인 것 // 위에 값과 똑같이 나옴\n",
    "# test_xpath('//*[contains(name(),\"aut\")]') # name에 aut를 포함한 것이 있으면 가져온다\n",
    "# test_xpath('//*[starts-with(name(),\"b\")]') # 앞에 b로 시작하는 것\n",
    "test_xpath('//*[string-length(name()) > 5]') # 문자열 길이가 5 이상인 것"
   ]
  },
  {
   "cell_type": "code",
   "execution_count": 44,
   "id": "2dfa79d3",
   "metadata": {},
   "outputs": [
    {
     "name": "stdout",
     "output_type": "stream",
     "text": [
      "count:  2\n",
      "title :: XQuery Kick Start\n",
      "author :: James McGovern\n"
     ]
    }
   ],
   "source": [
    "# test_xpath('//book[@category=\"cooking\"]')\n",
    "# test_xpath('//child::book[@category=\"cooking\"]') \n",
    "# test_xpath('//book[@category=\"cooking\"]/*')\n",
    "# test_xpath('//book[@category=\"cooking\"]/descendant::*')\n",
    "# test_xpath('/bookstore/*') # bookstore 안에 칠드런 4개를 가져옴\n",
    "# test_xpath('/bookstore/descendant::*') # bookstore의 자손들 전부\n",
    "# test_xpath('/bookstore/descendant::*[@lang]') # 자손들 전부에서 lang태그가 있는 것들만\n",
    "# test_xpath('//price[text()=\"29.99\"]')\n",
    "# test_xpath('//price[text()=\"29.99\"]/parent::*') \n",
    "# test_xpath('//price[text()=\"29.99\"]/ancestor::*')  # 조상 전부\n",
    "\n",
    "# test_xpath('//book[3]/author[2]//following-sibling::*') # 자신 이후의 형제를 찾음\n",
    "test_xpath('//book[3]/author[2]//preceding-sibling::*') # 자신의 전에 형제를 찾음"
   ]
  },
  {
   "cell_type": "code",
   "execution_count": 47,
   "id": "aac8cba4",
   "metadata": {},
   "outputs": [
    {
     "name": "stdout",
     "output_type": "stream",
     "text": [
      "count:  4\n",
      "cooking\n",
      "children\n",
      "web\n",
      "web\n"
     ]
    }
   ],
   "source": [
    "list1 = driver.find_elements(By.XPATH, '//book[@category]')\n",
    "print('count: ', len(list1))\n",
    "for x in list1:\n",
    "    print(x.get_attribute('category'))"
   ]
  },
  {
   "cell_type": "code",
   "execution_count": 48,
   "id": "9d447fe4",
   "metadata": {},
   "outputs": [
    {
     "name": "stdout",
     "output_type": "stream",
     "text": [
      "count:  1\n",
      "children\n"
     ]
    }
   ],
   "source": [
    "list1 = driver.find_elements(By.XPATH, '//book[contains(@category, \"ch\")]')\n",
    "\n",
    "print('count: ', len(list1))\n",
    "for x in list1:\n",
    "    print(x.get_attribute('category'))"
   ]
  }
 ],
 "metadata": {
  "kernelspec": {
   "display_name": "Python 3 (ipykernel)",
   "language": "python",
   "name": "python3"
  },
  "language_info": {
   "codemirror_mode": {
    "name": "ipython",
    "version": 3
   },
   "file_extension": ".py",
   "mimetype": "text/x-python",
   "name": "python",
   "nbconvert_exporter": "python",
   "pygments_lexer": "ipython3",
   "version": "3.10.5"
  }
 },
 "nbformat": 4,
 "nbformat_minor": 5
}
