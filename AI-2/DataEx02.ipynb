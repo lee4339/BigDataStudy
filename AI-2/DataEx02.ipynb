{
 "cells": [
  {
   "cell_type": "code",
   "execution_count": 12,
   "id": "d7e55f61",
   "metadata": {},
   "outputs": [],
   "source": [
    "# 부산광역시 상권 분석\n",
    "\n",
    "import pickle\n",
    "\n",
    "with open('myfile.csv', 'r') as f:\n",
    "    raw = f.readlines()\n",
    "# print(raw)\n",
    "\n",
    "feature_names = raw[0][:-1].split(',')\n",
    "feature_names = [x.strip('\"') for x in feature_names]\n",
    "# print(feature_names)\n",
    "\n",
    "raw_list = []\n",
    "for line in raw[1:]:\n",
    "    raw_list.append(line[:-1].split(','))\n",
    "    \n",
    "feature_0 = list(set([x[0] for x in raw_list]))\n",
    "feature_1 = list(set([x[1] for x in raw_list]))\n",
    "feature_2 = list(set([x[2] for x in raw_list]))\n",
    "\n",
    "# print(feature_0)\n",
    "# print(feature_1)\n",
    "# print(feature_2)\n",
    "\n",
    "for line in raw_list:\n",
    "    for index, feature in enumerate(line):\n",
    "        if index == 0:\n",
    "            line[index] = feature_0.index(feature)\n",
    "        elif index == 1:\n",
    "            line[index] = feature_1.index(feature)\n",
    "        elif index == 2:\n",
    "            line[index] = feature_2.index(feature)\n",
    "        else:\n",
    "            line[index] = int(feature.strip('\"'))\n",
    "            \n",
    "# print(raw_list)        \n",
    "\n",
    "pickle_dict = dict()\n",
    "pickle_dict['feature_names'] = feature_names\n",
    "pickle_dict['feature_0_label'] = feature_0\n",
    "pickle_dict['feature_1_label'] = feature_1\n",
    "pickle_dict['feature_2_label'] = feature_2\n",
    "pickle_dict['data'] = raw_list\n",
    "pickle_dict['comment'] = 'comment'\n",
    "\n",
    "with open('dataEx02.pickle', 'wb') as f:\n",
    "    pickle.dump(pickle_dict, f)"
   ]
  }
 ],
 "metadata": {
  "kernelspec": {
   "display_name": "Python 3 (ipykernel)",
   "language": "python",
   "name": "python3"
  },
  "language_info": {
   "codemirror_mode": {
    "name": "ipython",
    "version": 3
   },
   "file_extension": ".py",
   "mimetype": "text/x-python",
   "name": "python",
   "nbconvert_exporter": "python",
   "pygments_lexer": "ipython3",
   "version": "3.10.5"
  }
 },
 "nbformat": 4,
 "nbformat_minor": 5
}
