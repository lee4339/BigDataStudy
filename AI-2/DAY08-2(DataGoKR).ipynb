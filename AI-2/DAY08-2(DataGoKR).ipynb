{
 "cells": [
  {
   "cell_type": "code",
   "execution_count": 1,
   "id": "fd616003",
   "metadata": {},
   "outputs": [
    {
     "name": "stdout",
     "output_type": "stream",
     "text": [
      "b'<?xml version=\"1.0\" encoding=\"UTF-8\"?>\\r\\n<response><header><resultCode>10</resultCode><resultMsg>\\xec\\xb5\\x9c\\xea\\xb7\\xbc 1\\xec\\x9d\\xbc \\xea\\xb0\\x84\\xec\\x9d\\x98 \\xec\\x9e\\x90\\xeb\\xa3\\x8c\\xeb\\xa7\\x8c \\xec\\xa0\\x9c\\xea\\xb3\\xb5\\xed\\x95\\xa9\\xeb\\x8b\\x88\\xeb\\x8b\\xa4.</resultMsg></header></response>\\r\\n'\n"
     ]
    }
   ],
   "source": [
    "import requests\n",
    "from lxml import etree\n",
    "\n",
    "url = 'http://apis.data.go.kr/1360000/VilageFcstInfoService_2.0/getUltraSrtNcst'\n",
    "skey ='do5+utf2lYna4n/J/CnRLqhaoSVTq1Pm8n3Cd78SMWVoA/GunIy41I5s5w+mteCt3wVOqmX+b7VcDFWAPM3Etw=='\n",
    "params ={'serviceKey' : skey, 'pageNo' : '1', 'numOfRows' : '1000', 'dataType' : 'XML', 'base_date' : '20220831', 'base_time' : '0600', 'nx' : '55', 'ny' : '127' }\n",
    "\n",
    "response = requests.get(url, params=params)\n",
    "print(response.content)"
   ]
  },
  {
   "cell_type": "code",
   "execution_count": 2,
   "id": "9923231b",
   "metadata": {},
   "outputs": [
    {
     "name": "stdout",
     "output_type": "stream",
     "text": [
      "[]\n"
     ]
    }
   ],
   "source": [
    "r = etree.XML(response.content)\n",
    "x = r.xpath('//category[text()=\"REH\"]/following-sibling::obsrValue/text()')\n",
    "print(x)\n",
    "#print(x[0].text)"
   ]
  },
  {
   "cell_type": "code",
   "execution_count": 3,
   "id": "9fe03f83",
   "metadata": {},
   "outputs": [
    {
     "name": "stdout",
     "output_type": "stream",
     "text": [
      "[]\n"
     ]
    }
   ],
   "source": [
    "x = r.xpath('//category/text()')\n",
    "print(x)"
   ]
  }
 ],
 "metadata": {
  "kernelspec": {
   "display_name": "Python 3 (ipykernel)",
   "language": "python",
   "name": "python3"
  },
  "language_info": {
   "codemirror_mode": {
    "name": "ipython",
    "version": 3
   },
   "file_extension": ".py",
   "mimetype": "text/x-python",
   "name": "python",
   "nbconvert_exporter": "python",
   "pygments_lexer": "ipython3",
   "version": "3.10.5"
  }
 },
 "nbformat": 4,
 "nbformat_minor": 5
}
