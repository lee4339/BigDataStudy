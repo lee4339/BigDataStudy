{
 "cells": [
  {
   "cell_type": "code",
   "execution_count": 4,
   "id": "5be5ff21",
   "metadata": {},
   "outputs": [],
   "source": [
    "import numpy as np\n",
    "import matplotlib.pyplot as plt"
   ]
  },
  {
   "cell_type": "code",
   "execution_count": 5,
   "id": "1bb0ad1e",
   "metadata": {},
   "outputs": [
    {
     "name": "stdout",
     "output_type": "stream",
     "text": [
      "[1, 2, 3, 4, 5, 6]\n",
      "[0.16666666666666666, 0.16666666666666666, 0.16666666666666666, 0.16666666666666666, 0.16666666666666666, 0.16666666666666666]\n"
     ]
    },
    {
     "data": {
      "text/plain": [
       "<BarContainer object of 6 artists>"
      ]
     },
     "execution_count": 5,
     "metadata": {},
     "output_type": "execute_result"
    },
    {
     "data": {
      "image/png": "[encoded data removed]",
      "text/plain": [
       "<Figure size 432x288 with 1 Axes>"
      ]
     },
     "metadata": {
      "needs_background": "light"
     },
     "output_type": "display_data"
    }
   ],
   "source": [
    "# 주사위 하나\n",
    "list1 = []\n",
    "for i in range(1, 7):\n",
    "    list1.append(i)\n",
    "    \n",
    "list1_p = [list1.count(x) / len(list1) for x in list1]\n",
    "print(list1)\n",
    "print(list1_p)\n",
    "\n",
    "_, axe = plt.subplots()\n",
    "axe.bar(list1, list1_p)"
   ]
  },
  {
   "cell_type": "code",
   "execution_count": 17,
   "id": "23b21f39",
   "metadata": {},
   "outputs": [
    {
     "name": "stdout",
     "output_type": "stream",
     "text": [
      "[[1, 1], [1, 2], [1, 3], [1, 4], [1, 5], [1, 6], [2, 1], [2, 2], [2, 3], [2, 4], [2, 5], [2, 6], [3, 1], [3, 2], [3, 3], [3, 4], [3, 5], [3, 6], [4, 1], [4, 2], [4, 3], [4, 4], [4, 5], [4, 6], [5, 1], [5, 2], [5, 3], [5, 4], [5, 5], [5, 6], [6, 1], [6, 2], [6, 3], [6, 4], [6, 5], [6, 6]]\n",
      "36\n",
      "[2, 3, 4, 5, 6, 7, 3, 4, 5, 6, 7, 8, 4, 5, 6, 7, 8, 9, 5, 6, 7, 8, 9, 10, 6, 7, 8, 9, 10, 11, 7, 8, 9, 10, 11, 12]\n",
      "36\n",
      "[0.027777777777777776, 0.05555555555555555, 0.08333333333333333, 0.1111111111111111, 0.1388888888888889, 0.16666666666666666, 0.1388888888888889, 0.1111111111111111, 0.08333333333333333, 0.05555555555555555, 0.027777777777777776]\n"
     ]
    },
    {
     "data": {
      "text/plain": [
       "<BarContainer object of 11 artists>"
      ]
     },
     "execution_count": 17,
     "metadata": {},
     "output_type": "execute_result"
    },
    {
     "data": {
      "image/png": "[encoded data removed]",
      "text/plain": [
       "<Figure size 432x288 with 1 Axes>"
      ]
     },
     "metadata": {
      "needs_background": "light"
     },
     "output_type": "display_data"
    }
   ],
   "source": [
    "# 주사위 두개\n",
    "list1 = []\n",
    "for i in range(1, 7):\n",
    "    for j in range(1, 7):\n",
    "        list1.append([i, j]) \n",
    "        \n",
    "print(list1)\n",
    "print(len(list1))\n",
    "\n",
    "list2 = []\n",
    "for i in list1:\n",
    "    list2.append(sum(i))\n",
    "\n",
    "print(list2)\n",
    "print(len(list2))\n",
    "\n",
    "list2_p = [list2.count(x) / len(list2) for x in range(2, 13)]\n",
    "print(list2_p)\n",
    "\n",
    "_, axe = plt.subplots()\n",
    "axe.bar(range(2, 13), list2_p)"
   ]
  },
  {
   "cell_type": "code",
   "execution_count": 19,
   "id": "b38cd0a1",
   "metadata": {},
   "outputs": [],
   "source": [
    "def count_with_replacement_order(pool, sel_count):   #all\n",
    "    if sel_count == 1:\n",
    "        return len(pool), [[x] for x in pool]\n",
    "    a, b = count_with_replacement_order(pool, sel_count - 1)\n",
    "    r = []\n",
    "    for x in pool:\n",
    "        for b_i in b:\n",
    "            r.append(b_i + [x])\n",
    "    return len(r), r\n",
    "\n",
    "# count_with_replacement_order([1,2,3,4,5,6],3) # 1부터 6까지 3번"
   ]
  },
  {
   "cell_type": "code",
   "execution_count": 24,
   "id": "abad2b4b",
   "metadata": {},
   "outputs": [
    {
     "name": "stdout",
     "output_type": "stream",
     "text": [
      "2080.0   9920.0\n"
     ]
    }
   ],
   "source": [
    "# 정규분포, 추정, 검정 \n",
    "mu = 6000\n",
    "sigma = 2000\n",
    "p95_lower = mu-1.96*sigma\n",
    "p95_upper = mu+1.96*sigma\n",
    "print(p95_lower, ' ', p95_upper)"
   ]
  },
  {
   "cell_type": "code",
   "execution_count": 26,
   "id": "2664a546",
   "metadata": {},
   "outputs": [
    {
     "name": "stdout",
     "output_type": "stream",
     "text": [
      "(112.58800000000002, 180.012)\n",
      "174.508\n"
     ]
    }
   ],
   "source": [
    "def double_side95(mu, sigma):\n",
    "    p95_lower = mu-1.96*sigma\n",
    "    p95_upper = mu+1.96*sigma\n",
    "    return p95_lower, p95_upper\n",
    "\n",
    "def single_side95(mu, sigma):\n",
    "    return mu + 1.64 * sigma\n",
    "\n",
    "print(double_side95(146.3, 17.2))\n",
    "print(single_side95(146.3, 17.2))"
   ]
  }
 ],
 "metadata": {
  "kernelspec": {
   "display_name": "Python 3 (ipykernel)",
   "language": "python",
   "name": "python3"
  },
  "language_info": {
   "codemirror_mode": {
    "name": "ipython",
    "version": 3
   },
   "file_extension": ".py",
   "mimetype": "text/x-python",
   "name": "python",
   "nbconvert_exporter": "python",
   "pygments_lexer": "ipython3",
   "version": "3.10.5"
  }
 },
 "nbformat": 4,
 "nbformat_minor": 5
}
