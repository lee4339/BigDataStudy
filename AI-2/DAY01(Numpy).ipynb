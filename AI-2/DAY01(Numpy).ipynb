{
 "cells": [
  {
   "cell_type": "markdown",
   "id": "0d1f0adb",
   "metadata": {},
   "source": [
    "Numpy ndarray\n",
    "===============\n",
    "- 동일 타입의 원소\n",
    "- contiguous memory layout\n",
    "- 메모리 최적화, 계산 속도 향상\n",
    "- 벡터화 연산 가능\n",
    "\n",
    "### 구현방식\n",
    "- 일반 파이썬 List의 구현방식(Linked List)와 다르게 C의 배열(array)의 특성인 연속적인 메모리에 배치\n",
    "- C의 array가 가지는 장점은 살리면서 파이썬의 직관적인 코딩 가능\n",
    "- 인접한 메모리 배치는 다수의 선형대수 연산의 속도를 향상"
   ]
  },
  {
   "cell_type": "code",
   "execution_count": 2,
   "id": "a73cde28",
   "metadata": {},
   "outputs": [],
   "source": [
    "import numpy as np  # 행렬이나 일반적으로 대규모 다차원 배열을 쉽게 처리할 수 있도록 지원하는 파이썬의 라이브러리"
   ]
  },
  {
   "cell_type": "code",
   "execution_count": 3,
   "id": "0a5e1a7c",
   "metadata": {},
   "outputs": [
    {
     "name": "stdout",
     "output_type": "stream",
     "text": [
      "1.23.1\n"
     ]
    }
   ],
   "source": [
    "print(np.version.version)   # NumPy 모듈의 버전 찾기"
   ]
  },
  {
   "cell_type": "code",
   "execution_count": 4,
   "id": "4ae91511",
   "metadata": {},
   "outputs": [
    {
     "name": "stdout",
     "output_type": "stream",
     "text": [
      "[0 1 2 3 4 5]\n",
      "[0, 1, 2, 3, 4, 5]\n",
      "<class 'numpy.ndarray'>\n"
     ]
    }
   ],
   "source": [
    "array1 = np.array([x for x in range(6)]) # 넘파이 리스트 방식\n",
    "list1 = [x for x in range(6)]            # 일반적인 파이썬 리스트 방식\n",
    "print(array1)\n",
    "print(list1)\n",
    "print(type(array1))"
   ]
  },
  {
   "cell_type": "code",
   "execution_count": 19,
   "id": "01c7bd00",
   "metadata": {},
   "outputs": [
    {
     "name": "stdout",
     "output_type": "stream",
     "text": [
      "[1, 2, 3, 'a', 'b', 'c']\n",
      "['1' '2' '3' 'a' 'b' 'c']\n",
      "<U11\n",
      "[ 1.   2.   3.  10.1 20.2 30.3]\n",
      "float64\n"
     ]
    }
   ],
   "source": [
    "list2 = [1,2,3,'a','b','c'] #파이썬 리스트는 여러가지 데이터를 같이 넣을 수 있음\n",
    "print(list2)\n",
    "array2 = np.array(list2)  # 똑같은 데이터타입만 가능 // 여러가지 데이터를 넣을 수는 있으나 하나의 데이터타입으로 저장됨\n",
    "print(array2)\n",
    "print(array2.dtype)\n",
    "\n",
    "array3 = np.array([1,2,3,10.1,20.2,30.3])    # int와 float 데이터를 같이 넣었지만 float 타입으로 나옴\n",
    "print(array3)\n",
    "print(array3.dtype)"
   ]
  },
  {
   "cell_type": "code",
   "execution_count": 17,
   "id": "de14baae",
   "metadata": {},
   "outputs": [
    {
     "name": "stdout",
     "output_type": "stream",
     "text": [
      "[31. 33. 35. 37. 39. 41. 43. 45. 47. 49. 51. 53.]\n"
     ]
    }
   ],
   "source": [
    "# 30에서 55사이 (55불포함) 홀수로 ndarray 만들기\n",
    "\n",
    "array4 = np.array([x for x in range(31, 55, 2)], dtype = np.float64) #64비트까지 상세히 표시  #dtype : 데이터타입  #정수형 32비트, 부동소수점형 64비트\n",
    "print(array4)"
   ]
  },
  {
   "cell_type": "code",
   "execution_count": 6,
   "id": "3e648b43",
   "metadata": {},
   "outputs": [
    {
     "name": "stdout",
     "output_type": "stream",
     "text": [
      "[10, 12, 14, 16, 18, 20, 22, 24, 26, 28, 30, 32, 34, 36, 38, 40, 42, 44, 46, 48]\n",
      "[10. 12. 14. 16. 18. 20. 22. 24. 26. 28. 30. 32. 34. 36. 38. 40. 42. 44.\n",
      " 46. 48.]\n"
     ]
    }
   ],
   "source": [
    "list5 = [x for x in range(10, 50, 2)]  # 파이썬의 일반 리스트 range에 float방식 x\n",
    "print(list5)\n",
    "array5 = np.arange(10., 50., 2.)    # 넘파이의 리스트 arange --> float방식 o\n",
    "print(array5)"
   ]
  },
  {
   "cell_type": "code",
   "execution_count": 28,
   "id": "7cbc5987",
   "metadata": {},
   "outputs": [
    {
     "name": "stdout",
     "output_type": "stream",
     "text": [
      "[-3.14 -2.64 -2.14 -1.64 -1.14 -0.64 -0.14  0.36  0.86  1.36  1.86  2.36\n",
      "  2.86]\n"
     ]
    }
   ],
   "source": [
    "# ndarray, -3.14에서 3.14R까지(stop), 스텝 0.5\n",
    "array5 = np.arange(-3.14, 3.14, 0.5)  # arange 실수단위도 표현 range는 정수단위만 지원\n",
    "print(array5)"
   ]
  },
  {
   "cell_type": "code",
   "execution_count": 30,
   "id": "66bb22b9",
   "metadata": {},
   "outputs": [
    {
     "name": "stdout",
     "output_type": "stream",
     "text": [
      "[ 10.   32.5  55.   77.5 100. ]\n",
      "[-5.         -4.85507246 -4.71014493 -4.56521739 -4.42028986 -4.27536232\n",
      " -4.13043478 -3.98550725 -3.84057971 -3.69565217 -3.55072464 -3.4057971\n",
      " -3.26086957 -3.11594203 -2.97101449 -2.82608696 -2.68115942 -2.53623188\n",
      " -2.39130435 -2.24637681 -2.10144928 -1.95652174 -1.8115942  -1.66666667\n",
      " -1.52173913 -1.37681159 -1.23188406 -1.08695652 -0.94202899 -0.79710145\n",
      " -0.65217391 -0.50724638 -0.36231884 -0.2173913  -0.07246377  0.07246377\n",
      "  0.2173913   0.36231884  0.50724638  0.65217391  0.79710145  0.94202899\n",
      "  1.08695652  1.23188406  1.37681159  1.52173913  1.66666667  1.8115942\n",
      "  1.95652174  2.10144928  2.24637681  2.39130435  2.53623188  2.68115942\n",
      "  2.82608696  2.97101449  3.11594203  3.26086957  3.4057971   3.55072464\n",
      "  3.69565217  3.84057971  3.98550725  4.13043478  4.27536232  4.42028986\n",
      "  4.56521739  4.71014493  4.85507246  5.        ]\n"
     ]
    }
   ],
   "source": [
    "array6 = np.linspace(10, 100, 5) # 시작숫자부터 마지막 숫자까지 균일한 숫자로 짤라서 가져옴(균일하게 분포)\n",
    "print(array6)\n",
    "\n",
    "array7 = np.linspace(-5, 5, 70)\n",
    "print(array7)"
   ]
  },
  {
   "cell_type": "code",
   "execution_count": 34,
   "id": "90724d3c",
   "metadata": {},
   "outputs": [
    {
     "name": "stdout",
     "output_type": "stream",
     "text": [
      "[0. 0. 0. 0. 0. 0. 0. 0. 0. 0.]\n",
      "[0. 0. 0. 0. 0. 0. 0. 0. 0. 0. 1. 0. 0. 0. 0. 0. 0. 0. 0. 0.]\n"
     ]
    }
   ],
   "source": [
    "array8 = np.zeros(10)  # 0을 열개, 빈 공간에 값을 넣어주기 위해서 만듬 \n",
    "print(array8)\n",
    "array9 = np.zeros(20)\n",
    "array9[10] = 1    # 파이썬리스트에서의 그냥 빈 [] 리스트에서는 값을 넣으면 에러가 뜸\n",
    "print(array9)"
   ]
  },
  {
   "cell_type": "code",
   "execution_count": 36,
   "id": "850f3191",
   "metadata": {},
   "outputs": [
    {
     "name": "stdout",
     "output_type": "stream",
     "text": [
      "[0, 1, 2, 3, 4, 5]\n",
      "[0. 0. 0. 0. 0. 0.]\n",
      "[0 0 0 0 0 0]\n"
     ]
    }
   ],
   "source": [
    "list10 = [x for x in range(6)]\n",
    "print(list10)\n",
    "array10_1 = np.zeros(len(list10))\n",
    "print(array10_1)\n",
    "array10_2 = np.zeros_like(list10)  #위 과정을 간략화한 명령어\n",
    "print(array10_2)"
   ]
  },
  {
   "cell_type": "code",
   "execution_count": 38,
   "id": "2942852c",
   "metadata": {},
   "outputs": [
    {
     "name": "stdout",
     "output_type": "stream",
     "text": [
      "[10 11 12 13 14 15 16 17 18 19 20 21 22 23 24 25 26 27 28 29 30 31 32 33\n",
      " 34 35 36 37 38 39 40 41 42 43 44 45 46 47 48 49]\n",
      "[10 12 14 16 18 20 22 24 26 28 30 32 34 36 38 40 42 44 46 48]\n"
     ]
    }
   ],
   "source": [
    "array11 = np.arange(10, 50)\n",
    "print(array11)\n",
    "print(array11[::2])"
   ]
  },
  {
   "cell_type": "code",
   "execution_count": 40,
   "id": "815d50b7",
   "metadata": {},
   "outputs": [
    {
     "name": "stdout",
     "output_type": "stream",
     "text": [
      "1\n",
      "(40,)\n"
     ]
    }
   ],
   "source": [
    "print(array11.ndim) # 몇차원인지\n",
    "print(array11.shape) # 몇차원인지, 몇개의 엘리먼트 개수를 보여줌  // 1차원일 경우 엘리먼트개수만 보여줌"
   ]
  },
  {
   "cell_type": "code",
   "execution_count": 7,
   "id": "58ca6c2f",
   "metadata": {},
   "outputs": [
    {
     "name": "stdout",
     "output_type": "stream",
     "text": [
      "[[ 1  2  3]\n",
      " [10 20 30]]\n",
      "2\n",
      "(2, 3)\n",
      "[[ 1  2]\n",
      " [ 3 10]\n",
      " [20 30]]\n",
      "2\n",
      "(3, 2)\n"
     ]
    }
   ],
   "source": [
    "array12 = np.array([[1, 2, 3], [10, 20, 30]]) # 2차원\n",
    "print(array12)\n",
    "print(array12.ndim)\n",
    "print(array12.shape) # 2차원 값이 3개씩이다.\n",
    "\n",
    "array13 = array12.reshape(3,2)  # 3차원배열에 값을 2개씩인 형태로 바꾸겠다.\n",
    "print(array13)\n",
    "print(array13.ndim)\n",
    "print(array13.shape)"
   ]
  },
  {
   "cell_type": "code",
   "execution_count": 8,
   "id": "c33f2af8",
   "metadata": {},
   "outputs": [
    {
     "name": "stdout",
     "output_type": "stream",
     "text": [
      "[[-10.          -7.84210526  -5.68421053  -3.52631579  -1.36842105]\n",
      " [  0.78947368   2.94736842   5.10526316   7.26315789   9.42105263]\n",
      " [ 11.57894737  13.73684211  15.89473684  18.05263158  20.21052632]\n",
      " [ 22.36842105  24.52631579  26.68421053  28.84210526  31.        ]]\n",
      "2\n"
     ]
    }
   ],
   "source": [
    "# -10 에서 30 사이(포함) 균일하게 분포하는 숫자를 20개를 shape(4,5)로 만들기.\n",
    "\n",
    "array14 = np.linspace(-10, 31, 20).reshape(4, 5)\n",
    "print(array14)"
   ]
  },
  {
   "cell_type": "code",
   "execution_count": 60,
   "id": "727cace7",
   "metadata": {},
   "outputs": [
    {
     "name": "stdout",
     "output_type": "stream",
     "text": [
      "[[100 101 102 103 104]\n",
      " [105 106 107 108 109]\n",
      " [110 111 112 113 114]\n",
      " [115 116 117 118 119]]\n",
      "117\n",
      "[[110 111 112]\n",
      " [115 116 117]]\n",
      "[[110 111 112]\n",
      " [115 116 117]]\n"
     ]
    }
   ],
   "source": [
    "array15 = np.arange(100, 120).reshape(4, 5)\n",
    "print(array15)\n",
    "print(array15[3, 2])  # 3번 인덱스에서 2번째\n",
    "print(array15[2:4, 0:3]) # 2차원 3차원 배열에서 0번부터 2번 인덱스까지 \n",
    "print(array15[2:,:3])"
   ]
  },
  {
   "cell_type": "code",
   "execution_count": 63,
   "id": "e3f4e788",
   "metadata": {},
   "outputs": [
    {
     "name": "stdout",
     "output_type": "stream",
     "text": [
      "[[ True False  True False  True]\n",
      " [False  True False  True False]\n",
      " [ True False  True False  True]\n",
      " [False  True False  True False]]\n",
      "[100 102 104 106 108 110 112 114 116 118]\n",
      "[100 102 104 106 108 110 112 114 116 118]\n"
     ]
    }
   ],
   "source": [
    "x = (array15 % 2 == 0)    # True False 값으로 반환\n",
    "print(x)\n",
    "print(array15[x])   # True값만 가져옴  // for문을 사용하지 않아도 가능함\n",
    "print(array15[array15 % 2 == 0])  # 블록 캐스팅  #조건에 맞는 값만 들고옴"
   ]
  },
  {
   "cell_type": "code",
   "execution_count": 67,
   "id": "9e030efe",
   "metadata": {},
   "outputs": [
    {
     "name": "stdout",
     "output_type": "stream",
     "text": [
      "[10  3]\n",
      "[1 2 3 4 5]\n"
     ]
    }
   ],
   "source": [
    "array16 = np.array([1,2,3,4,5])\n",
    "x = array16[1:3].copy()    # 값을 복사안하면 원본이 바뀜\n",
    "x[0] = 10    #슬라이싱한 값에서 바뀌면서 원본파일이 변형될 수 있음 / 그래서 .copy를 사용\n",
    "print(x)\n",
    "print(array16)"
   ]
  },
  {
   "cell_type": "code",
   "execution_count": 9,
   "id": "b8e65c09",
   "metadata": {},
   "outputs": [
    {
     "name": "stdout",
     "output_type": "stream",
     "text": [
      "a1 [10 11 12 13 14]\n",
      "a2 [20 21 22 23 24]\n",
      "a3 [[10 11 12 13 14]\n",
      " [20 21 22 23 24]\n",
      " [30 31 32 33 34]]\n",
      "a4 [10 11 12 13 14 20 21 22 23 24]\n",
      "a2 [100  21  22  23  24]\n",
      "a4 [10 11 12 13 14 20 21 22 23 24]\n"
     ]
    }
   ],
   "source": [
    "a1 = np.arange(10, 15)\n",
    "a2 = np.arange(20, 25)\n",
    "a2_2 = np.arange(30, 35)\n",
    "print('a1', a1)\n",
    "print('a2', a2)\n",
    "a3 = np.vstack((a1, a2, a2_2)) # 리스트들을 묶어서 n차원 배열로 만듬(수직으로 묶음) // ()가 하나더 있는것은 튜플형태로 넘겨줘야 오류가 발생안함\n",
    "print('a3', a3)\n",
    "a4 = np.hstack((a1, a2)) #수평으로 값을 묶음\n",
    "print('a4', a4)\n",
    "a2[0] = 100\n",
    "print('a2', a2)\n",
    "print('a4', a4)"
   ]
  },
  {
   "cell_type": "code",
   "execution_count": 84,
   "id": "e1ff629e",
   "metadata": {},
   "outputs": [
    {
     "name": "stdout",
     "output_type": "stream",
     "text": [
      "[[10 11 12]\n",
      " [13 14 15]\n",
      " [16 17 18]]\n",
      "............\n",
      "[[20 21 22]\n",
      " [23 24 25]\n",
      " [26 27 28]]\n",
      "............\n",
      "[[10 11 12]\n",
      " [13 14 15]\n",
      " [16 17 18]\n",
      " [20 21 22]\n",
      " [23 24 25]\n",
      " [26 27 28]]\n",
      "............\n",
      "[[20 21 22 10 11 12]\n",
      " [23 24 25 13 14 15]\n",
      " [26 27 28 16 17 18]]\n"
     ]
    }
   ],
   "source": [
    "a1 = np.arange(10, 19).reshape(3, 3)\n",
    "a2 = np.arange(20, 29).reshape(3, 3)\n",
    "\n",
    "print(a1)\n",
    "print('............')\n",
    "print(a2)\n",
    "print('............')\n",
    "a3 = np.vstack((a1, a2))\n",
    "print(a3)\n",
    "print('............')\n",
    "a4 = np.hstack((a2, a1))\n",
    "print(a4)"
   ]
  },
  {
   "cell_type": "code",
   "execution_count": 83,
   "id": "fb8c8f03",
   "metadata": {},
   "outputs": [
    {
     "name": "stdout",
     "output_type": "stream",
     "text": [
      "[10 11 12 13 14]\n",
      "[20 21 22 23 24]\n",
      "[1, 2, 3, 4, 5, 10, 20, 30, 40, 50]\n",
      "abcdef\n",
      "[30 32 34 36 38]\n"
     ]
    }
   ],
   "source": [
    "a1 = np.arange(10, 15)\n",
    "a2 = np.arange(20, 25)\n",
    "print(a1)\n",
    "print(a2)\n",
    "\n",
    "list1 = [1,2,3,4,5]\n",
    "list2 = [10,20,30,40,50]\n",
    "print(list1 + list2) # 파이썬 리스트는 두개가 묶임\n",
    "\n",
    "s1 = 'abc'\n",
    "s2 = 'def'\n",
    "print(s1 + s2)\n",
    "print(a1 + a2)  # np는 리스트 값이 더해짐\n"
   ]
  },
  {
   "cell_type": "code",
   "execution_count": 85,
   "id": "8f0cb9c1",
   "metadata": {},
   "outputs": [
    {
     "name": "stdout",
     "output_type": "stream",
     "text": [
      "[[10 11 12 13 14 15 16 17 18 19]\n",
      " [20 21 22 23 24 25 26 27 28 29]\n",
      " [30 31 32 33 34 35 36 37 38 39]\n",
      " [40 41 42 43 44 45 46 47 48 49]]\n"
     ]
    }
   ],
   "source": [
    "a1 = np.arange(10, 50).reshape(4, 10)\n",
    "print(a1)"
   ]
  },
  {
   "cell_type": "code",
   "execution_count": 90,
   "id": "2cdce5e6",
   "metadata": {},
   "outputs": [
    {
     "name": "stdout",
     "output_type": "stream",
     "text": [
      "[array([[10, 11, 12, 13, 14, 15, 16, 17, 18, 19],\n",
      "       [20, 21, 22, 23, 24, 25, 26, 27, 28, 29]]), array([[30, 31, 32, 33, 34, 35, 36, 37, 38, 39],\n",
      "       [40, 41, 42, 43, 44, 45, 46, 47, 48, 49]])]\n"
     ]
    }
   ],
   "source": [
    "print(np.vsplit(a1, 2))  # 반으로 쪼갬(수평으로 나눔) // 2등분으로 쪼갬"
   ]
  },
  {
   "cell_type": "code",
   "execution_count": 89,
   "id": "46ba02b7",
   "metadata": {},
   "outputs": [
    {
     "name": "stdout",
     "output_type": "stream",
     "text": [
      "<class 'list'>\n",
      "[array([[10, 11, 12, 13, 14],\n",
      "       [20, 21, 22, 23, 24],\n",
      "       [30, 31, 32, 33, 34],\n",
      "       [40, 41, 42, 43, 44]]), array([[15, 16, 17, 18, 19],\n",
      "       [25, 26, 27, 28, 29],\n",
      "       [35, 36, 37, 38, 39],\n",
      "       [45, 46, 47, 48, 49]])]\n"
     ]
    }
   ],
   "source": [
    "x = np.hsplit(a1,2)    # 반으로 쪼갬(수직으로 나눔) // 2등분으로 쪼갬\n",
    "print(type(x))   # 파이썬 리스트에 2등분한 첫번째 np어레이와 두번째 np어레이를 넣음\n",
    "print(x)"
   ]
  },
  {
   "cell_type": "code",
   "execution_count": 96,
   "id": "8fe9953e",
   "metadata": {},
   "outputs": [
    {
     "name": "stdout",
     "output_type": "stream",
     "text": [
      "[1 2 3 4 5]\n",
      "(5,)\n",
      "[[1 2 3 4 5]]\n",
      "(1, 5)\n",
      "[[1]\n",
      " [2]\n",
      " [3]\n",
      " [4]\n",
      " [5]]\n",
      "(5, 1)\n"
     ]
    }
   ],
   "source": [
    "# axis  --> 축\n",
    "def pinfo(x):\n",
    "    print(x)\n",
    "    print(x.shape)\n",
    "    \n",
    "a1 = np.arange(1, 6)   # 1차원 배열\n",
    "pinfo(a1)\n",
    "\n",
    "a2 = a1[np.newaxis, :]   # newaxis 는 1 ?  배열 인덱싱에 사용되는None의 별칭, NumPy 배열에 새로운 차원을 추가하는 것\n",
    "pinfo(a2)\n",
    "\n",
    "a3 = a1[:, np.newaxis]\n",
    "pinfo(a3)"
   ]
  },
  {
   "cell_type": "markdown",
   "id": "15d67666",
   "metadata": {},
   "source": [
    "- case 1: axis=None\n",
    " : axis를 기본값으로 실행하면 대상 데이터의 모든 요소의 합을 반환합니다.\n",
    "- case 2: axis=0\n",
    " : axis=0는 x축을 기준으로 합을 구하는 방식입니다. x축 row를 합산입니다.\n",
    "- case 3: axis=1\n",
    " : axis=1은 y축을 기준으로 합을 구하는 방식입니다.\n",
    "- case 4: axis=2\n",
    " : axis=2는 z축을 기준으로 합을 구하는 방식입니다.\n",
    " \n",
    " ---------------------------------------------------------------------------------\n",
    " ### 정리\n",
    "- axis=None은 기본값으로 모든 요소의 값을 합산하여 1개의 스칼라값을 반환합니다.\n",
    "- axis=0은 x축을 기준으로 여러 row를 한 개로 합치는 과정입니다.\n",
    "- axis=1은 y축을 기준으로 row 별로 존재하는 column들의 값을 합쳐 1개로 축소하는 과정입니다.\n",
    "- axis=2는 z축을 기준으로 column의 depth가 가진 값을 축소하는 과정입니다."
   ]
  },
  {
   "cell_type": "code",
   "execution_count": 10,
   "id": "a8c2a304",
   "metadata": {},
   "outputs": [
    {
     "name": "stdout",
     "output_type": "stream",
     "text": [
      "[0 1 2 3 4 5 6 7 8 9] 45\n",
      "(2, 10)\n",
      "[[ 0  1  2  3  4  5  6  7  8  9]\n",
      " [10 11 12 13 14 15 16 17 18 19]] [10 12 14 16 18 20 22 24 26 28]\n",
      "[[ 0  1  2  3  4  5  6  7  8  9]\n",
      " [10 11 12 13 14 15 16 17 18 19]] [ 45 145]\n"
     ]
    }
   ],
   "source": [
    "a1 = np.arange(10)\n",
    "print(a1, a1.sum())\n",
    "a2 = np.arange(20).reshape(2, 10)\n",
    "print(a2.shape)\n",
    "print(a2, a2.sum(axis=0))  # ? axis=0 (행=0, 열=1) 즉, 행 방향\n",
    "print(a2, a2.sum(axis=1))  # ? axis=1 (행=0, 열=1) 즉, 열 방향"
   ]
  }
 ],
 "metadata": {
  "kernelspec": {
   "display_name": "Python 3 (ipykernel)",
   "language": "python",
   "name": "python3"
  },
  "language_info": {
   "codemirror_mode": {
    "name": "ipython",
    "version": 3
   },
   "file_extension": ".py",
   "mimetype": "text/x-python",
   "name": "python",
   "nbconvert_exporter": "python",
   "pygments_lexer": "ipython3",
   "version": "3.10.5"
  }
 },
 "nbformat": 4,
 "nbformat_minor": 5
}
