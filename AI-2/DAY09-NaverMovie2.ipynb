{
 "cells": [
  {
   "cell_type": "code",
   "execution_count": null,
   "id": "84c50084",
   "metadata": {},
   "outputs": [],
   "source": [
    "import pickle\n",
    "import requests\n",
    "from lxml import etree\n",
    "import time\n",
    "\n",
    "base_url = 'https://movie.naver.com/movie/bi/mi/basic.naver?code='\n",
    "\n",
    "with open('NaverMovie1.pickle', 'rb') as f:\n",
    "    movie_info = pickle.load(f)\n",
    "\n",
    "for m in movie_info:\n",
    "    response = requests.get(base_url+m[0])\n",
    "    time.sleep(2)\n",
    "    page = etree.HTML(response.content)\n",
    "    x = page.xpath('//dl[@class=\"info_spec\"]//a[contains(@href,\"?open\")]')\n",
    "    if(len(x)==2):\n",
    "        t = x[1].text.split('.')\n",
    "        m.append(x[0].text)  # year\n",
    "        m.append(t[-2])   # month\n",
    "        m.append(t[-1])   # day\n",
    "        print(m)"
   ]
  },
  {
   "cell_type": "code",
   "execution_count": 1,
   "id": "d1f12312",
   "metadata": {},
   "outputs": [],
   "source": [
    "import pickle\n",
    "\n",
    "with open('NaverMovie2.pickle', 'rb') as f:\n",
    "    movie_info = pickle.load(f)\n",
    "    \n",
    "# print(movie_info)"
   ]
  },
  {
   "cell_type": "code",
   "execution_count": 2,
   "id": "87db2213",
   "metadata": {},
   "outputs": [
    {
     "name": "stdout",
     "output_type": "stream",
     "text": [
      "['151196', '원더']\n",
      "['175092', '먼 훗날 우리']\n",
      "['17421', '쇼생크 탈출']\n",
      "['10200', '터미네이터 2:오리지널']\n",
      "['10102', '사운드 오브 뮤직']\n",
      "['10002', '빽 투 더 퓨쳐']\n",
      "['17159', '포레스트 검프']\n",
      "['18847', '타이타닉']\n",
      "['106360', '위대한 쇼맨']\n",
      "['22126', '인생은 아름다워']\n",
      "['24452', '매트릭스']\n",
      "['32686', '센과 치히로의 행방불명']\n",
      "['14450', '쉰들러 리스트']\n",
      "['31796', '반지의 제왕: 왕의 귀환']\n",
      "['34324', '집으로...']\n",
      "['10048', '죽은 시인의 사회']\n",
      "['17170', '레옹']\n",
      "['163788', '알라딘']\n",
      "['203288', '잭 스나이더의 저스티스 리그']\n",
      "['30688', '해리 포터와 마법사의 돌']\n",
      "['19079', '굿 윌 헌팅']\n",
      "['73372', '세 얼간이']\n",
      "['19099', '트루먼 쇼']\n",
      "['31795', '반지의 제왕: 두 개의 탑']\n",
      "['39636', '지금, 만나러 갑니다']\n",
      "['62586', '다크 나이트']\n",
      "['10114', '아마데우스']\n",
      "['218877', 'RRR: 라이즈 로어 리볼트']\n",
      "['31013', '빌리 엘리어트']\n",
      "['35187', '피아니스트']\n",
      "['10001', '시네마 천국']\n",
      "['70457', '드래곤 길들이기']\n",
      "['25915', '아이언 자이언트']\n",
      "['17153', '토이 스토리']\n",
      "['10249', '모던 타임즈']\n",
      "['10244', '늑대와 춤을']\n",
      "['39584', '코러스']\n",
      "['14448', '패왕별희 디 오리지널']\n",
      "['13500', '쥬라기 공원']\n",
      "['10746', '폴리스 스토리']\n",
      "['18817', '8월의 크리스마스']\n",
      "['31726', '엽기적인 그녀']\n",
      "['31794', '반지의 제왕: 반지 원정대']\n",
      "['32112', '몬스터 주식회사 3D']\n",
      "['11608', '메리 포핀스']\n",
      "['76309', '플립']\n",
      "['11104', '동방불패']\n",
      "['10021', '록키']\n",
      "['10670', '천녀유혼']\n",
      "['16521', '라이온 킹']\n",
      "['29571', '천국의 아이들']\n",
      "['15899', '공동경비구역 JSA']\n",
      "['192066', '소년시절의 너']\n",
      "['196051', '극장판 귀멸의 칼날: 무한열차편']\n",
      "['68555', '말할 수 없는 비밀']\n",
      "['54900', '퀸 락 몬트리올']\n",
      "['18781', '이웃집 토토로']\n",
      "['59075', '본 얼티메이텀']\n",
      "['10936', '가위손']\n",
      "['27578', '토이 스토리 2']\n",
      "['10020', '바람과 함께 사라지다']\n",
      "['187051', '브링 더 소울 : 더 무비']\n",
      "['29059', '피아니스트의 전설']\n",
      "['13172', '미녀와 야수']\n",
      "['52515', '인셉션']\n",
      "['68502', '갓파 쿠와 여름방학을']\n",
      "['63403', '타인의 삶']\n",
      "['10314', '마지막 황제']\n",
      "['10058', '벤허']\n",
      "['12993', '백발마녀전']\n",
      "['10341', '위대한 독재자']\n",
      "['10018', '이티']\n",
      "['10046', '빠삐용']\n",
      "['144379', '러빙 빈센트']\n",
      "['10003', '빽 투 더 퓨쳐 2']\n",
      "['10173', '사랑과 영혼']\n",
      "['36666', '태극기 휘날리며']\n",
      "['199269', '야쿠자와 가족']\n",
      "['32116', '니모를 찾아서 3D']\n",
      "['47152', '테이큰']\n",
      "['10072', '대부 2']\n",
      "['38227', '첫 키스만 50번째']\n",
      "['57723', '타짜']\n",
      "['18542', '서유기 - 월광보합']\n",
      "['37486', '스쿨 오브 락']\n",
      "['195687', '페이트 스테이 나이트 헤븐즈필 제3장 스프링 송']\n",
      "['63513', '시간을 달리는 소녀']\n",
      "['22082', '밴디트']\n",
      "['24194', '아메리칸 히스토리 X']\n",
      "['19335', '해피 투게더']\n",
      "['10110', '영웅본색']\n",
      "['152160', '킹 오브 프리즘']\n",
      "['31827', '헤드윅']\n",
      "['10669', '인어 공주']\n",
      "['10039', '플래툰']\n",
      "['17942', '제리 맥과이어']\n",
      "['17796', '일 포스티노']\n",
      "['10071', '대부']\n",
      "['16487', '길버트 그레이프']\n",
      "['47385', '국가대표']\n",
      "['19031', '러브레터']\n",
      "['17327', '히트']\n",
      "['38444', '이터널 선샤인']\n",
      "['76016', '써니']\n",
      "['164290', '킹 오브 프리즘 프라이드 더 히어로']\n",
      "['189000', '나이브스 아웃']\n",
      "['10282', '스탠 바이 미']\n",
      "['45290', '인터스텔라']\n",
      "['18871', '노킹 온 헤븐스 도어']\n",
      "['36565', '무간도']\n",
      "['39640', '하울의 움직이는 성']\n",
      "['31475', '파이란']\n",
      "['24830', '노팅 힐']\n",
      "['19068', '투캅스 3']\n",
      "['10181', '정무문']\n",
      "['69102', '버킷리스트: 죽기 전에 꼭 하고 싶은 것들']\n",
      "['14802', '글루미 선데이']\n",
      "['17970', '샤인']\n",
      "['11307', '보디가드']\n",
      "['10113', '첩혈쌍웅']\n",
      "['39809', '밀리언 달러 베이비']\n",
      "['62266', '아바타']\n",
      "['39440', '이프 온리']\n",
      "['38899', '노트북']\n",
      "['68567', '블랙']\n",
      "['16601', '바그다드 카페 : 디렉터스컷']\n",
      "['173019', '명탐정 코난 : 제로의 집행인']\n",
      "['36944', '올드보이']\n",
      "['18827', '도니 브래스코']\n"
     ]
    }
   ],
   "source": [
    "cut = []\n",
    "for m in movie_info:\n",
    "    if len(m) != 5:\n",
    "        print(m)\n",
    "        cut.append(m)"
   ]
  },
  {
   "cell_type": "code",
   "execution_count": 3,
   "id": "0541db7b",
   "metadata": {},
   "outputs": [
    {
     "name": "stdout",
     "output_type": "stream",
     "text": [
      "[[2022    6   22]\n",
      " [2019   11   15]\n",
      " [2016    9   29]\n",
      " ...\n",
      " [1986    7   19]\n",
      " [2004    2   20]\n",
      " [2005    2   25]]\n"
     ]
    }
   ],
   "source": [
    "import numpy as np\n",
    "mlist = []\n",
    "for m in movie_info:\n",
    "    if len(m)==5:\n",
    "        t = []\n",
    "        for n in m[2:]:   # skip movie_code, movie_title\n",
    "            t.append(int(n))\n",
    "        mlist.append(t)\n",
    "\n",
    "np_movies = np.array(mlist)\n",
    "print(np_movies)"
   ]
  },
  {
   "cell_type": "code",
   "execution_count": 4,
   "id": "cac60657",
   "metadata": {},
   "outputs": [
    {
     "name": "stdout",
     "output_type": "stream",
     "text": [
      "1954 2022\n"
     ]
    }
   ],
   "source": [
    "years_only = np_movies[:, 0]\n",
    "a = years_only.min()\n",
    "b = years_only.max()\n",
    "print(a, b)\n",
    "xs = np.arange(a, b+1)\n",
    "ys = np.bincount(years_only-a)"
   ]
  },
  {
   "cell_type": "code",
   "execution_count": 5,
   "id": "d6ae27ad",
   "metadata": {},
   "outputs": [
    {
     "data": {
      "text/plain": [
       "<BarContainer object of 69 artists>"
      ]
     },
     "execution_count": 5,
     "metadata": {},
     "output_type": "execute_result"
    },
    {
     "data": {
      "image/png": "[encoded data removed]",
      "text/plain": [
       "<Figure size 432x288 with 1 Axes>"
      ]
     },
     "metadata": {
      "needs_background": "light"
     },
     "output_type": "display_data"
    }
   ],
   "source": [
    "import matplotlib.pyplot as plt\n",
    "\n",
    "_, axe = plt.subplots()\n",
    "axe.bar(xs, ys)"
   ]
  },
  {
   "cell_type": "code",
   "execution_count": null,
   "id": "c6641c77",
   "metadata": {},
   "outputs": [],
   "source": []
  }
 ],
 "metadata": {
  "kernelspec": {
   "display_name": "Python 3 (ipykernel)",
   "language": "python",
   "name": "python3"
  },
  "language_info": {
   "codemirror_mode": {
    "name": "ipython",
    "version": 3
   },
   "file_extension": ".py",
   "mimetype": "text/x-python",
   "name": "python",
   "nbconvert_exporter": "python",
   "pygments_lexer": "ipython3",
   "version": "3.10.5"
  }
 },
 "nbformat": 4,
 "nbformat_minor": 5
}
