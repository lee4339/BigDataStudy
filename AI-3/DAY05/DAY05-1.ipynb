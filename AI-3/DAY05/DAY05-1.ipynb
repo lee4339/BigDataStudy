{
 "cells": [
  {
   "cell_type": "code",
   "execution_count": 2,
   "id": "72b04924",
   "metadata": {},
   "outputs": [],
   "source": [
    "import pandas as pd\n",
    "import numpy as np\n",
    "\n",
    "npr = np.random"
   ]
  },
  {
   "cell_type": "code",
   "execution_count": 3,
   "id": "7d08332b",
   "metadata": {},
   "outputs": [
    {
     "name": "stdout",
     "output_type": "stream",
     "text": [
      "MultiIndex([('X', 1),\n",
      "            ('X', 2),\n",
      "            ('X', 3),\n",
      "            ('Y', 1),\n",
      "            ('Y', 2),\n",
      "            ('Y', 3)],\n",
      "           )\n",
      "[['X', 'Y'], [1, 2, 3]]\n",
      "2\n",
      "[None, None]\n",
      "       S1  S2  S3  S4\n",
      "L1 L2                \n",
      "X  1   49  95  51  12\n",
      "   2   96  18  22  17\n",
      "   3   90  61  94  92\n",
      "Y  1   90  92  44  63\n",
      "   2   62  12  78  33\n",
      "   3   29  90  29  42\n"
     ]
    }
   ],
   "source": [
    "# multi index - row   # 다중인덱스\n",
    "df1 = pd.DataFrame(npr.randint(10, 100, (6, 4)), list('abcdef'), ['S1', 'S2', 'S3', 'S4'])\n",
    "# print(df1)\n",
    "# print(df1.index)\n",
    "\n",
    "x = [['X', 'X', 'X', 'Y', 'Y', 'Y'], [1,2,3,1,2,3]]\n",
    "df1.index = x\n",
    "# print(df1)\n",
    "print(df1.index)\n",
    "# print(df1.loc[(['X','Y'],[2,3]),'S3'])\n",
    "m_index = df1.index\n",
    "print(m_index.levels)\n",
    "print(m_index.nlevels)\n",
    "print(m_index.names)\n",
    "m_index.names = ['L1', 'L2']\n",
    "print(df1)"
   ]
  },
  {
   "cell_type": "code",
   "execution_count": 4,
   "id": "1e305e57",
   "metadata": {},
   "outputs": [
    {
     "name": "stdout",
     "output_type": "stream",
     "text": [
      "MultiIndex([('X', 'one'),\n",
      "            ('X', 'two'),\n",
      "            ('Y', 'one'),\n",
      "            ('Y', 'two')],\n",
      "           )\n",
      "[['X', 'Y'], ['one', 'two']]\n",
      "\n",
      "C1   X       Y    \n",
      "C2 one two one two\n",
      "a   90  57  58  55\n",
      "b   73  42  40  44\n",
      "c   76  35  28  41\n",
      "d   88  47  31  36\n",
      "e   16  29  89  75\n",
      "f   67  36  25  17\n",
      "C1   X   Y\n",
      "C2 one one\n",
      "a   90  58\n",
      "b   73  40\n",
      "c   76  28\n",
      "d   88  31\n",
      "e   16  89\n",
      "f   67  25\n",
      "C2  one  two\n",
      "a    58   55\n",
      "b    40   44\n",
      "c    28   41\n",
      "d    31   36\n",
      "e    89   75\n",
      "f    25   17\n"
     ]
    }
   ],
   "source": [
    "# multi index - column\n",
    "df1 = pd.DataFrame(npr.randint(10, 100, (6, 4)), list('abcdef'), ['S1', 'S2', 'S3', 'S4'])\n",
    "# print(df1)\n",
    "df1.columns = [['X', 'X', 'Y', 'Y'],['one', 'two', 'one', 'two']]\n",
    "print(df1.columns)\n",
    "print(df1.columns.levels)\n",
    "df1.columns.names = ['C1', 'C2']\n",
    "print()\n",
    "print(df1)\n",
    "print(df1.loc[:,(['X', 'Y'], 'one')])\n",
    "print(df1.loc[:, 'Y'])"
   ]
  },
  {
   "cell_type": "code",
   "execution_count": 5,
   "id": "a7a56927",
   "metadata": {},
   "outputs": [
    {
     "name": "stdout",
     "output_type": "stream",
     "text": [
      "   sep_len  sep_w  pet_len  pet_w        class\n",
      "0      5.1    3.5      1.4    0.2  Iris-setosa\n",
      "1      4.9    3.0      1.4    0.2  Iris-setosa\n",
      "2      4.7    3.2      1.3    0.2  Iris-setosa\n",
      "3      4.6    3.1      1.5    0.2  Iris-setosa\n",
      "4      5.0    3.6      1.4    0.2  Iris-setosa\n",
      "['Iris-setosa' 'Iris-versicolor' 'Iris-virginica']\n",
      "Iris-setosa        50\n",
      "Iris-versicolor    50\n",
      "Iris-virginica     50\n",
      "Name: class, dtype: int64\n"
     ]
    }
   ],
   "source": [
    "pd_iris = pd.read_csv('iris.data', header=None)\n",
    "pd_iris.columns = ['sep_len', 'sep_w', 'pet_len', 'pet_w', 'class']\n",
    "print(pd_iris.head())\n",
    "print(pd_iris.iloc[:,4].unique())\n",
    "print(pd_iris.iloc[:,4].value_counts())"
   ]
  },
  {
   "cell_type": "code",
   "execution_count": 6,
   "id": "11531703",
   "metadata": {},
   "outputs": [
    {
     "name": "stdout",
     "output_type": "stream",
     "text": [
      "<pandas.core.groupby.generic.DataFrameGroupBy object at 0x00000200B42D3DF0>\n",
      "                 sep_len  sep_w  pet_len  pet_w\n",
      "class                                          \n",
      "Iris-setosa        5.006  3.418    1.464  0.244\n",
      "Iris-versicolor    5.936  2.770    4.260  1.326\n",
      "Iris-virginica     6.588  2.974    5.552  2.026\n",
      "                 sep_len  sep_w  pet_len  pet_w\n",
      "class                                          \n",
      "Iris-setosa        5.006  3.418    1.464  0.244\n",
      "Iris-versicolor    5.936  2.770    4.260  1.326\n",
      "Iris-virginica     6.588  2.974    5.552  2.026\n",
      "                 sep_len  sep_w  pet_len  pet_w\n",
      "class                                          \n",
      "Iris-setosa           50     50       50     50\n",
      "Iris-versicolor       50     50       50     50\n",
      "Iris-virginica        50     50       50     50\n",
      "<class 'pandas.core.frame.DataFrame'>\n"
     ]
    }
   ],
   "source": [
    "# group - by\n",
    "g = pd_iris.groupby('class')\n",
    "print(g)\n",
    "print(g.sum()/50)\n",
    "print(g.mean())\n",
    "print(g.count())\n",
    "x = g.std()\n",
    "print(type(x))\n"
   ]
  },
  {
   "cell_type": "code",
   "execution_count": 7,
   "id": "f4a199c2",
   "metadata": {},
   "outputs": [
    {
     "name": "stdout",
     "output_type": "stream",
     "text": [
      "    pet_w            class              cat  cat_codes\n",
      "48    0.2      Iris-setosa      Iris-setosa          0\n",
      "49    0.2      Iris-setosa      Iris-setosa          0\n",
      "50    1.4  Iris-versicolor  Iris-versicolor          1\n",
      "51    1.5  Iris-versicolor  Iris-versicolor          1\n",
      "52    1.5  Iris-versicolor  Iris-versicolor          1\n",
      "sep_len       float64\n",
      "sep_w         float64\n",
      "pet_len       float64\n",
      "pet_w         float64\n",
      "class          object\n",
      "cat          category\n",
      "cat_codes        int8\n",
      "dtype: object\n"
     ]
    }
   ],
   "source": [
    "# category\n",
    "pd_iris['cat'] = pd_iris['class'].astype('category')\n",
    "pd_iris['cat_codes'] = pd_iris['cat'].cat.codes\n",
    "\n",
    "print(pd_iris.iloc[48:53, 3:])\n",
    "print(pd_iris.dtypes)"
   ]
  },
  {
   "cell_type": "code",
   "execution_count": 8,
   "id": "04c05823",
   "metadata": {},
   "outputs": [
    {
     "name": "stdout",
     "output_type": "stream",
     "text": [
      "           0\n",
      "0 2022-09-30\n",
      "1 2022-10-31\n",
      "2 2022-11-30\n",
      "3 2022-12-31\n",
      "4 2023-01-31\n",
      "5 2023-02-28\n",
      "6 2023-03-31\n",
      "7 2023-04-30\n",
      "8 2023-05-31\n",
      "9 2023-06-30\n",
      "           0  mon\n",
      "0 2022-09-30    9\n",
      "1 2022-10-31   10\n",
      "2 2022-11-30   11\n",
      "3 2022-12-31   12\n",
      "4 2023-01-31    1\n",
      "5 2023-02-28    2\n",
      "6 2023-03-31    3\n",
      "7 2023-04-30    4\n",
      "8 2023-05-31    5\n",
      "9 2023-06-30    6\n"
     ]
    }
   ],
   "source": [
    "# datetime\n",
    "dates = pd.date_range(\"20220926\", periods=10, freq='M')    # periods = 갯수 # freq = 길이 \n",
    "# print(dates)\n",
    "date_s = pd.Series(dates).to_frame()\n",
    "print(date_s)\n",
    "date_s['mon'] = date_s[0].dt.month\n",
    "print(date_s)"
   ]
  },
  {
   "cell_type": "code",
   "execution_count": 9,
   "id": "6346e29d",
   "metadata": {},
   "outputs": [
    {
     "name": "stdout",
     "output_type": "stream",
     "text": [
      "Index(['무인교통단속카메라관리번호', '시도명', '시군구명', '도로종류', '도로노선번호', '도로노선명', '도로노선방향',\n",
      "       '소재지도로명주소', '소재지지번주소', '위도', '경도', '설치장소', '단속구분', '제한속도', '단속구간위치구분',\n",
      "       '과속단속구간길이', '보호구역구분', '설치연도', '관리기관명', '관리기관전화번호', '데이터기준일자', '제공기관코드',\n",
      "       '제공기관명'],\n",
      "      dtype='object')\n"
     ]
    }
   ],
   "source": [
    "# 설치 연도별 평균 제한속도\n",
    "\n",
    "import pandas as pd\n",
    "import numpy as np\n",
    "import matplotlib.pyplot as plt\n",
    "\n",
    "pd_data = pd.read_csv('전국무인교통단속카메라표준데이터_utf8.csv', encoding='utf8', dtype='str')\n",
    "print(pd_data.columns)\n",
    "\n",
    "data = pd_data[['설치연도','제한속도']]"
   ]
  },
  {
   "cell_type": "code",
   "execution_count": 10,
   "id": "b7cc2d15",
   "metadata": {},
   "outputs": [
    {
     "name": "stdout",
     "output_type": "stream",
     "text": [
      "       year speed_limit\n",
      "0      2010          50\n",
      "1      2010          50\n",
      "2      2010          40\n",
      "3      2010          50\n",
      "4      2010          50\n",
      "...     ...         ...\n",
      "34217  2019          60\n",
      "34218  2019          60\n",
      "34219  2019          60\n",
      "34220  2020          30\n",
      "34221  2020          30\n",
      "\n",
      "[34222 rows x 2 columns]\n",
      "True\n",
      "True\n"
     ]
    },
    {
     "name": "stderr",
     "output_type": "stream",
     "text": [
      "C:\\Users\\home\\AppData\\Local\\Temp\\ipykernel_12144\\1043365580.py:3: SettingWithCopyWarning: \n",
      "A value is trying to be set on a copy of a slice from a DataFrame.\n",
      "Try using .loc[row_indexer,col_indexer] = value instead\n",
      "\n",
      "See the caveats in the documentation: https://pandas.pydata.org/pandas-docs/stable/user_guide/indexing.html#returning-a-view-versus-a-copy\n",
      "  data['speed_limit'] = data['speed_limit'].astype('int')\n",
      "C:\\Users\\home\\AppData\\Local\\Temp\\ipykernel_12144\\1043365580.py:4: SettingWithCopyWarning: \n",
      "A value is trying to be set on a copy of a slice from a DataFrame\n",
      "\n",
      "See the caveats in the documentation: https://pandas.pydata.org/pandas-docs/stable/user_guide/indexing.html#returning-a-view-versus-a-copy\n",
      "  data['speed_limit'].replace(0, np.NaN, inplace=True)\n",
      "C:\\Users\\home\\AppData\\Local\\Temp\\ipykernel_12144\\1043365580.py:5: SettingWithCopyWarning: \n",
      "A value is trying to be set on a copy of a slice from a DataFrame\n",
      "\n",
      "See the caveats in the documentation: https://pandas.pydata.org/pandas-docs/stable/user_guide/indexing.html#returning-a-view-versus-a-copy\n",
      "  data['speed_limit'].replace(69.0, 60.0, inplace=True)\n"
     ]
    }
   ],
   "source": [
    "data.columns = ['year', 'speed_limit']\n",
    "print(data)\n",
    "data['speed_limit'] = data['speed_limit'].astype('int')\n",
    "data['speed_limit'].replace(0, np.NaN, inplace=True)\n",
    "data['speed_limit'].replace(69.0, 60.0, inplace=True)\n",
    "\n",
    "print(data['year'].hasnans)\n",
    "print(data['speed_limit'].hasnans)"
   ]
  },
  {
   "cell_type": "code",
   "execution_count": 11,
   "id": "71fd5dfb",
   "metadata": {},
   "outputs": [
    {
     "name": "stdout",
     "output_type": "stream",
     "text": [
      "   year  speed_limit\n",
      "0  2010         50.0\n",
      "1  2010         50.0\n",
      "2  2010         40.0\n",
      "3  2010         50.0\n",
      "4  2010         50.0\n",
      "      speed_limit\n",
      "year             \n",
      "2002    30.000000\n",
      "2003    52.000000\n",
      "2004    44.615385\n",
      "2005    47.647059\n",
      "2006    45.714286\n",
      "2007    57.377049\n",
      "2008    59.776119\n",
      "2009    59.601449\n",
      "2010    55.108055\n",
      "2011    61.598023\n",
      "2012    60.047170\n",
      "2013    63.484277\n",
      "2014    59.036511\n",
      "2015    58.306288\n",
      "2016    61.097403\n",
      "2017    61.656584\n",
      "2018    55.744592\n",
      "2019    54.137348\n",
      "2020    44.754595\n",
      "2021    41.975798\n",
      "2022    40.955882\n"
     ]
    },
    {
     "name": "stderr",
     "output_type": "stream",
     "text": [
      "C:\\Users\\home\\AppData\\Local\\Temp\\ipykernel_12144\\4156507188.py:1: SettingWithCopyWarning: \n",
      "A value is trying to be set on a copy of a slice from a DataFrame\n",
      "\n",
      "See the caveats in the documentation: https://pandas.pydata.org/pandas-docs/stable/user_guide/indexing.html#returning-a-view-versus-a-copy\n",
      "  data.dropna(inplace = True)\n"
     ]
    }
   ],
   "source": [
    "data.dropna(inplace = True)\n",
    "print(data.head())\n",
    "\n",
    "g = data.groupby('year')\n",
    "print(g.mean())"
   ]
  },
  {
   "cell_type": "code",
   "execution_count": 12,
   "id": "50116cb6",
   "metadata": {},
   "outputs": [
    {
     "name": "stdout",
     "output_type": "stream",
     "text": [
      "Index(['교통약자이동지원센터명', '소재지도로명주소', '소재지지번주소', '위도', '경도', '보유차량대수', '보유차량종류',\n",
      "       '슬로프형휠체어차량대수', '리프트형휠체어차량대수', '예약접수전화번호', '예약접수인터넷주소', '앱서비스명',\n",
      "       '평일예약접수운영시작시각', '평일예약접수운영종료시각', '주말예약접수운영시작시각', '주말예약접수운영종료시각',\n",
      "       '차량평일운행시작시각', '차량평일운행종료시각', '차량주말운행시작시각', '차량주말운행종료시각', '사전예약신청기간',\n",
      "       '차량이용제한사항', '차량관내운행지역', '차량관외운행지역', '차량이용대상', '차량이용요금', '관리기관명',\n",
      "       '관리기관전화번호', '데이터기준일자', '제공기관코드', '제공기관명'],\n",
      "      dtype='object')\n"
     ]
    }
   ],
   "source": [
    "pd_transport = pd.read_csv('전국교통약자이동지원센터정보표준데이터_utf8.csv', encoding='UTF-8')\n",
    "print(pd_transport.columns)\n",
    "# 전체 이동지원 센터중,\n",
    "# - 예약접수 인터넷 주소 있는 곳 %\n",
    "# - 앱서비스 중인 곳 %\n",
    "# - 인터넷 주소, 앱서비스 없는 곳 %\n",
    "\n",
    "# 지자체별 지원센터 갯수\n",
    "# 지자체별 보유차량 댓수"
   ]
  }
 ],
 "metadata": {
  "kernelspec": {
   "display_name": "Python 3 (ipykernel)",
   "language": "python",
   "name": "python3"
  },
  "language_info": {
   "codemirror_mode": {
    "name": "ipython",
    "version": 3
   },
   "file_extension": ".py",
   "mimetype": "text/x-python",
   "name": "python",
   "nbconvert_exporter": "python",
   "pygments_lexer": "ipython3",
   "version": "3.10.5"
  }
 },
 "nbformat": 4,
 "nbformat_minor": 5
}
