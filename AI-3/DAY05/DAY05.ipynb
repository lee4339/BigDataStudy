{
 "cells": [
  {
   "cell_type": "code",
   "execution_count": 1,
   "id": "46b42861",
   "metadata": {},
   "outputs": [],
   "source": [
    "import pandas as pd\n",
    "import numpy as np\n",
    "\n",
    "npr = np.random"
   ]
  },
  {
   "cell_type": "code",
   "execution_count": 2,
   "id": "ff0e0fe0",
   "metadata": {},
   "outputs": [
    {
     "name": "stdout",
     "output_type": "stream",
     "text": [
      "    A   B   C   D\n",
      "a  62  96  71  22\n",
      "b  77  72  52  28\n",
      "c  57  39  56  37\n",
      "d  13  10  36  59\n",
      "e  67  70  98  76\n",
      "f  47  55  66  12\n",
      "a    96\n",
      "b    72\n",
      "c    39\n",
      "d    10\n",
      "e    70\n",
      "f    55\n",
      "Name: B, dtype: int32\n"
     ]
    }
   ],
   "source": [
    "df1 = pd.DataFrame(npr.randint(10, 100, (6, 4)), index=list('abcdef'), columns=list('ABCD'))\n",
    "print(df1)\n",
    "\n",
    "# print(df1[2:4])           # stop not included\n",
    "# df1[2:4]=0\n",
    "# print(df1)\n",
    "\n",
    "# df1.loc['a']\n",
    "# df1.loc[:, 'A']\n",
    "# print(df1.loc['b':'e'])   # 'e' included\n",
    "\n",
    "# df1.iloc[0]\n",
    "# print(df1.iloc[1:4])      # stop not included\n",
    "\n",
    "# print(df1.iloc[1:3, 1:2])\n",
    "# print(df1.iloc[1:5, 1:4])\n",
    "\n",
    "print(df1['B'])"
   ]
  },
  {
   "cell_type": "code",
   "execution_count": 3,
   "id": "a473ed0c",
   "metadata": {},
   "outputs": [
    {
     "name": "stdout",
     "output_type": "stream",
     "text": [
      "    A   B   C   D\n",
      "a  62  96  71  22\n",
      "b  77  72  52  28\n",
      "c  57  39  56  37\n",
      "d  13  10  36  59\n",
      "e  67  70  98  76\n",
      "f  47  55  66  12\n",
      "    A   B   C   D   E\n",
      "a  62  96  71  22 -49\n",
      "b  77  72  52  28 -24\n",
      "c  57  39  56  37 -19\n",
      "d  13  10  36  59  23\n",
      "e  67  70  98  76 -22\n",
      "f  47  55  66  12 -54\n",
      "    A   C   D   E\n",
      "a  62  71  22 -49\n",
      "b  77  52  28 -24\n",
      "c  57  56  37 -19\n",
      "d  13  36  59  23\n",
      "e  67  98  76 -22\n",
      "f  47  66  12 -54\n"
     ]
    }
   ],
   "source": [
    "print(df1)\n",
    "df1['E'] = df1['D'] - df1['C']\n",
    "print(df1)\n",
    "df1.drop('B', axis=1, inplace=True)\n",
    "print(df1)"
   ]
  },
  {
   "cell_type": "code",
   "execution_count": 4,
   "id": "a75caf4e",
   "metadata": {},
   "outputs": [
    {
     "name": "stdout",
     "output_type": "stream",
     "text": [
      "    A   C   D   E\n",
      "a  62  71  22 -49\n",
      "b  77  52  28 -24\n",
      "c  57  56  37 -19\n",
      "d  13  36  59  23\n",
      "e  67  98  76 -22\n",
      "f  47  66  12 -54\n",
      "    A   C   D   E\n",
      "a  62  71  22 -49\n",
      "c  57  56  37 -19\n",
      "e  67  98  76 -22\n",
      "f  47  66  12 -54\n"
     ]
    }
   ],
   "source": [
    "print(df1)\n",
    "df1.drop(['b','d'], inplace=True)\n",
    "print(df1)"
   ]
  },
  {
   "cell_type": "code",
   "execution_count": 7,
   "id": "b2205674",
   "metadata": {},
   "outputs": [
    {
     "name": "stdout",
     "output_type": "stream",
     "text": [
      "Index(['무인교통단속카메라관리번호', '시도명', '시군구명', '도로종류', '도로노선번호', '도로노선명', '도로노선방향',\n",
      "       '소재지도로명주소', '소재지지번주소', '위도', '경도', '설치장소', '단속구분', '제한속도', '단속구간위치구분',\n",
      "       '과속단속구간길이', '보호구역구분', '설치연도', '관리기관명', '관리기관전화번호', '데이터기준일자', '제공기관코드',\n",
      "       '제공기관명'],\n",
      "      dtype='object')\n"
     ]
    }
   ],
   "source": [
    "import pandas as pd\n",
    "import numpy as np\n",
    "import matplotlib.pyplot as plt\n",
    "\n",
    "pd_data = pd.read_csv('전국무인교통단속카메라표준데이터_utf8.csv', encoding='utf8', dtype='str')\n",
    "print(pd_data.columns)"
   ]
  },
  {
   "cell_type": "code",
   "execution_count": 27,
   "id": "737e349e",
   "metadata": {},
   "outputs": [
    {
     "name": "stdout",
     "output_type": "stream",
     "text": [
      "34222\n",
      "28635\n"
     ]
    }
   ],
   "source": [
    "# 제한 속도별 설치 대수, 평균 제한속도 구하기\n",
    "# 평균 제한속도 구하기\n",
    "# 0 값은 뺄것\n",
    "\n",
    "s_speedlimit = pd_data['제한속도'].astype('int')\n",
    "print(len(s_speedlimit))\n",
    "# print(s_speedlimit.head())\n",
    "# print(s_speedlimit.hasnans)\n",
    "# print(s_speedlimit[s_speedlimit == 0])\n",
    "# x = s_speedlimit.where(s_speedlimit > 10)\n",
    "# print(x[25:33])\n",
    "\n",
    "x = s_speedlimit.replace(0, np.NaN)\n",
    "x = x.replace(69.0, 60.0)\n",
    "# print(x[25:33])\n",
    "\n",
    "# print(x.hasnans)\n",
    "x.dropna(inplace=True)\n",
    "print(len(x))\n",
    "# print(x.hasnans)\n",
    "y = x.value_counts()\n"
   ]
  },
  {
   "cell_type": "code",
   "execution_count": 34,
   "id": "02245ac6",
   "metadata": {},
   "outputs": [
    {
     "name": "stdout",
     "output_type": "stream",
     "text": [
      "Float64Index([20.0, 30.0, 40.0, 50.0, 60.0, 70.0, 80.0, 90.0, 100.0, 110.0], dtype='float64')\n",
      "       제한속도     ratio\n",
      "20.0     31  0.001083\n",
      "30.0   8287  0.289401\n",
      "40.0    762  0.026611\n",
      "50.0   6915  0.241488\n",
      "60.0   6635  0.231709\n",
      "70.0   2408  0.084093\n",
      "80.0   2360  0.082417\n",
      "90.0    182  0.006356\n",
      "100.0   870  0.030382\n",
      "110.0   185  0.006461\n"
     ]
    }
   ],
   "source": [
    "# print(y)\n",
    "\n",
    "print(y.index)\n",
    "y = y.reindex(np.sort(y.index))\n",
    "# y = y.to_frame()\n",
    "y['ratio'] = y['제한속도']/28635\n",
    "print(y)"
   ]
  },
  {
   "cell_type": "code",
   "execution_count": 38,
   "id": "e10a4992",
   "metadata": {},
   "outputs": [
    {
     "name": "stdout",
     "output_type": "stream",
     "text": [
      "30.0     8287\n",
      "50.0     6915\n",
      "60.0     6635\n",
      "70.0     2408\n",
      "80.0     2360\n",
      "100.0     870\n",
      "40.0      762\n",
      "110.0     185\n",
      "90.0      182\n",
      "20.0       31\n",
      "Name: 제한속도, dtype: int64\n"
     ]
    },
    {
     "data": {
      "text/plain": [
       "20.0       31\n",
       "90.0      182\n",
       "110.0     185\n",
       "40.0      762\n",
       "100.0     870\n",
       "80.0     2360\n",
       "70.0     2408\n",
       "60.0     6635\n",
       "50.0     6915\n",
       "30.0     8287\n",
       "Name: 제한속도, dtype: int64"
      ]
     },
     "execution_count": 38,
     "metadata": {},
     "output_type": "execute_result"
    }
   ],
   "source": [
    "y2 = x.value_counts()\n",
    "print(y2)\n",
    "y2.sort_index()\n",
    "y2.sort_values()"
   ]
  }
 ],
 "metadata": {
  "kernelspec": {
   "display_name": "Python 3 (ipykernel)",
   "language": "python",
   "name": "python3"
  },
  "language_info": {
   "codemirror_mode": {
    "name": "ipython",
    "version": 3
   },
   "file_extension": ".py",
   "mimetype": "text/x-python",
   "name": "python",
   "nbconvert_exporter": "python",
   "pygments_lexer": "ipython3",
   "version": "3.10.5"
  }
 },
 "nbformat": 4,
 "nbformat_minor": 5
}
