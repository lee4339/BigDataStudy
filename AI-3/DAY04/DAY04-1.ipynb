{
 "cells": [
  {
   "cell_type": "code",
   "execution_count": 1,
   "id": "490d4a50",
   "metadata": {},
   "outputs": [
    {
     "name": "stdout",
     "output_type": "stream",
     "text": [
      "      무인교통단속카메라관리번호    시도명 시군구명  도로종류  도로노선번호   도로노선명 도로노선방향  \\\n",
      "0             F5894  서울특별시  관악구  특별시도     NaN   남부순환로      2   \n",
      "1             F5895  서울특별시  관악구  특별시도     NaN   남부순환로      2   \n",
      "2             F5896  서울특별시  관악구  특별시도     NaN     호암로      1   \n",
      "3             F5897  서울특별시  관악구  특별시도     NaN   남부순환로      2   \n",
      "4             F5898  서울특별시  마포구  특별시도     NaN    마포대로      2   \n",
      "...             ...    ...  ...   ...     ...     ...    ...   \n",
      "34217         F0017   경상북도  울진군  일반국도     36번  국도36호선     02   \n",
      "34218         F0018   경상북도  울진군  일반국도     36번  국도36호선     01   \n",
      "34219         F0019   경상북도  울진군  일반국도     36번  국도36호선     02   \n",
      "34220         F0020   경상북도  울진군    기타  중로 2-1   중로2-1     03   \n",
      "34221         F0021   경상북도  울진군    기타  중로 2-1   중로2-1     02   \n",
      "\n",
      "                   소재지도로명주소                   소재지지번주소           위도  ... 제한속도  \\\n",
      "0      서울특별시 관악구 남부순환로 1860                       NaN    37.479625  ...   50   \n",
      "1      서울특별시 관악구 남부순환로 1817                       NaN  37.48164117  ...   50   \n",
      "2         서울특별시 관악구 호암로 520                       NaN  37.46411546  ...   40   \n",
      "3      서울특별시 관악구 남부순환로 1471                       NaN    37.482111  ...   50   \n",
      "4         서울특별시 마포구 마포대로 53                       NaN  37.54143216  ...   50   \n",
      "...                     ...                       ...          ...  ...  ...   \n",
      "34217                   NaN  경상북도 울진군 울진읍 대흥리 산 151-2  36.97024383  ...   60   \n",
      "34218                   NaN   경상북도 울진군 울진읍 신림리 산273-2  36.99772879  ...   60   \n",
      "34219                   NaN   경상북도 울진군 금강송면 삼근리 산45-3  36.93979797  ...   60   \n",
      "34220                   NaN   경상북도 울진군 울진읍 읍내리 516-25  36.99402775  ...   30   \n",
      "34221                   NaN    경상북도 울진군 울진읍 읍내리 490-2   36.9950785  ...   30   \n",
      "\n",
      "      단속구간위치구분 과속단속구간길이 보호구역구분  설치연도       관리기관명      관리기관전화번호     데이터기준일자  \\\n",
      "0          NaN      NaN    NaN  2010    서울특별시경찰청   02-700-5031  2021-11-25   \n",
      "1          NaN      NaN    NaN  2010    서울특별시경찰청   02-700-5031  2021-11-25   \n",
      "2          NaN      NaN    NaN  2010    서울특별시경찰청   02-700-5031  2021-11-25   \n",
      "3          NaN      NaN    NaN  2010    서울특별시경찰청   02-700-5031  2021-11-25   \n",
      "4          NaN      NaN    NaN  2010    서울특별시경찰청   02-700-5031  2021-11-25   \n",
      "...        ...      ...    ...   ...         ...           ...         ...   \n",
      "34217      NaN      NaN    NaN  2019  경상북도 울진경찰서  054-785-0342  2022-06-16   \n",
      "34218      NaN      NaN    NaN  2019  경상북도 울진경찰서  054-785-0342  2022-06-16   \n",
      "34219      NaN      NaN    NaN  2019  경상북도 울진경찰서  054-785-0342  2022-06-16   \n",
      "34220      NaN      NaN    NaN  2020  경상북도 울진경찰서  054-789-6393  2022-06-16   \n",
      "34221      NaN      NaN    NaN  2020  경상북도 울진경찰서  054-789-6393  2022-06-16   \n",
      "\n",
      "        제공기관코드     제공기관명  \n",
      "0      1320000       경찰청  \n",
      "1      1320000       경찰청  \n",
      "2      1320000       경찰청  \n",
      "3      1320000       경찰청  \n",
      "4      1320000       경찰청  \n",
      "...        ...       ...  \n",
      "34217  5250000  경상북도 울진군  \n",
      "34218  5250000  경상북도 울진군  \n",
      "34219  5250000  경상북도 울진군  \n",
      "34220  5250000  경상북도 울진군  \n",
      "34221  5250000  경상북도 울진군  \n",
      "\n",
      "[34222 rows x 23 columns]\n"
     ]
    }
   ],
   "source": [
    "import pandas as pd\n",
    "import numpy as np\n",
    "import matplotlib.pyplot as plt\n",
    "\n",
    "pd_data = pd.read_csv('전국무인교통단속카메라표준데이터_utf8.csv', encoding='utf8', dtype='str')\n",
    "print(pd_data)"
   ]
  },
  {
   "cell_type": "code",
   "execution_count": 2,
   "id": "10dd41d9",
   "metadata": {},
   "outputs": [
    {
     "name": "stdout",
     "output_type": "stream",
     "text": [
      "0    특별시도\n",
      "1    특별시도\n",
      "2    특별시도\n",
      "3    특별시도\n",
      "4    특별시도\n",
      "5    일반국도\n",
      "6    특별시도\n",
      "7    특별시도\n",
      "8    특별시도\n",
      "9    일반국도\n",
      "Name: 도로종류, dtype: object\n",
      "----------------------\n",
      "False\n",
      "----------------------\n",
      "Series([], Name: 도로종류, dtype: object)\n",
      "----------------------\n",
      "['특별시도' '일반국도' '시도' '지방도' '고속국도' '군도' '구도' '기타' '국가지원지방도' '기타 ']\n",
      "----------------------\n",
      "시도         13544\n",
      "일반국도        6978\n",
      "지방도         3733\n",
      "특별시도        3206\n",
      "기타          2531\n",
      "군도          1646\n",
      "구도          1415\n",
      "고속국도        1130\n",
      "국가지원지방도       38\n",
      "기타             1\n",
      "Name: 도로종류, dtype: int64\n"
     ]
    }
   ],
   "source": [
    "# 도로 종류별 설치 대수\n",
    "p1 = pd_data['도로종류']\n",
    "print(p1.head(10))    # head(): 상위 몇개 // tail(): 하위 몇개\n",
    "print('----------------------')\n",
    "print(p1.hasnans)\n",
    "print('----------------------')\n",
    "print(p1[p1.isna()])\n",
    "print('----------------------')\n",
    "p1.replace('99', '기타', inplace=True)\n",
    "print(p1.unique())\n",
    "print('----------------------')\n",
    "print(p1.value_counts())"
   ]
  },
  {
   "cell_type": "code",
   "execution_count": 3,
   "id": "9a283e85",
   "metadata": {},
   "outputs": [
    {
     "name": "stdout",
     "output_type": "stream",
     "text": [
      "[2010 2021 2020 2017 2018 2019 2009 2016 2015 2014 2022 2011 2008 2013\n",
      " 2012 2007 2006 2005 2004 2003 2002]\n",
      "2021    5329\n",
      "2020    5263\n",
      "2019    3227\n",
      "2018    2758\n",
      "2017    2432\n",
      "2016    1784\n",
      "2015    1239\n",
      "2014    1178\n",
      "2013    1037\n",
      "2022     770\n",
      "2011     766\n",
      "2010     664\n",
      "2009     433\n",
      "2012     354\n",
      "2008     310\n",
      "2007     217\n",
      "2006     146\n",
      "2005      97\n",
      "2004      21\n",
      "2003       5\n",
      "2002       3\n",
      "Name: 설치연도, dtype: int64\n",
      "<class 'pandas.core.series.Series'>\n",
      "[2002 2003 2004 2005 2006 2007 2008 2009 2010 2011 2012 2013 2014 2015\n",
      " 2016 2017 2018 2019 2020 2021 2022]\n"
     ]
    },
    {
     "data": {
      "text/plain": [
       "<BarContainer object of 21 artists>"
      ]
     },
     "execution_count": 3,
     "metadata": {},
     "output_type": "execute_result"
    },
    {
     "data": {
      "image/png": "[encoded data removed]",
      "text/plain": [
       "<Figure size 432x288 with 1 Axes>"
      ]
     },
     "metadata": {
      "needs_background": "light"
     },
     "output_type": "display_data"
    }
   ],
   "source": [
    "# 설치 연도별 설치 대수 - 연도(x), 대수(y), axe.bar(x,y)\n",
    "p2 = pd_data['설치연도'].dropna().astype('int')\n",
    "# print(p2)\n",
    "\n",
    "# print(p2.hasnans)\n",
    "# p2.dropna(inplace=True)\n",
    "# p2 = p2.astype('int')\n",
    "print(p2.unique())\n",
    "x = p2.value_counts()\n",
    "print(x)\n",
    "print(type(x))\n",
    "p_sorted = np.sort(x.index)\n",
    "print(p_sorted)\n",
    "x = x.reindex(p_sorted)\n",
    "\n",
    "_, axe = plt.subplots();\n",
    "axe.bar(p_sorted, x.to_numpy())\n"
   ]
  },
  {
   "cell_type": "code",
   "execution_count": 55,
   "id": "b4f1f5ea",
   "metadata": {},
   "outputs": [
    {
     "name": "stdout",
     "output_type": "stream",
     "text": [
      "0        50\n",
      "1        50\n",
      "2        40\n",
      "3        50\n",
      "4        50\n",
      "         ..\n",
      "34217    60\n",
      "34218    60\n",
      "34219    60\n",
      "34220    30\n",
      "34221    30\n",
      "Name: 제한속도, Length: 34222, dtype: object\n",
      "30     8287\n",
      "50     6915\n",
      "60     6633\n",
      "0      5587\n",
      "70     2408\n",
      "80     2360\n",
      "100     870\n",
      "40      762\n",
      "110     185\n",
      "90      182\n",
      "20       31\n",
      "69        2\n",
      "Name: 제한속도, dtype: int64\n"
     ]
    }
   ],
   "source": [
    "# 제한 속도별 설치 대수, 평균 제한속도 구하기\n",
    "# 평균 제한속도 구하기\n",
    "# 0 값은 뺄것\n",
    "\n",
    "p3 = pd_data['제한속도']\n",
    "print(p3)\n",
    "p3.replace(69, 60, inplace=True)\n",
    "print(p3.value_counts())\n"
   ]
  }
 ],
 "metadata": {
  "kernelspec": {
   "display_name": "Python 3 (ipykernel)",
   "language": "python",
   "name": "python3"
  },
  "language_info": {
   "codemirror_mode": {
    "name": "ipython",
    "version": 3
   },
   "file_extension": ".py",
   "mimetype": "text/x-python",
   "name": "python",
   "nbconvert_exporter": "python",
   "pygments_lexer": "ipython3",
   "version": "3.10.5"
  }
 },
 "nbformat": 4,
 "nbformat_minor": 5
}
