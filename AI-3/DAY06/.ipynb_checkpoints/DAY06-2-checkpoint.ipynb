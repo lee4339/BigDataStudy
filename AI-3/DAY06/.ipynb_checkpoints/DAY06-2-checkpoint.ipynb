{
 "cells": [
  {
   "cell_type": "code",
   "execution_count": 4,
   "id": "8148df04",
   "metadata": {},
   "outputs": [
    {
     "name": "stdout",
     "output_type": "stream",
     "text": [
      "     A    B    C    D            E\n",
      "0  5.1  3.5  1.4  0.2  Iris-setosa\n",
      "1  4.9  3.0  1.4  0.2  Iris-setosa\n",
      "2  4.7  3.2  1.3  0.2  Iris-setosa\n",
      "3  4.6  3.1  1.5  0.2  Iris-setosa\n",
      "4  5.0  3.6  1.4  0.2  Iris-setosa\n"
     ]
    }
   ],
   "source": [
    "import pandas as pd\n",
    "\n",
    "pd_data = pd.read_csv('iris.data', header=None)\n",
    "pd_data.columns = list('ABCDE')\n",
    "print(pd_data.head())"
   ]
  },
  {
   "cell_type": "code",
   "execution_count": 7,
   "id": "5adf5723",
   "metadata": {},
   "outputs": [
    {
     "name": "stdout",
     "output_type": "stream",
     "text": [
      "     A    B    C    D            E\n",
      "0  5.1  3.5  1.4  0.2  Iris-setosa\n",
      "1  4.9  3.0  1.4  0.2  Iris-setosa\n",
      "2  4.7  3.2  1.3  0.2  Iris-setosa\n",
      "3  4.6  3.1  1.5  0.2  Iris-setosa\n",
      "4  5.0  3.6  1.4  0.2  Iris-setosa\n"
     ]
    }
   ],
   "source": [
    "pd_data['A']\n",
    "print(pd_data.head())"
   ]
  },
  {
   "cell_type": "code",
   "execution_count": 12,
   "id": "7c466fc5",
   "metadata": {},
   "outputs": [
    {
     "data": {
      "text/plain": [
       "A       AxesSubplot(0.125,0.125;0.168478x0.755)\n",
       "B    AxesSubplot(0.327174,0.125;0.168478x0.755)\n",
       "C    AxesSubplot(0.529348,0.125;0.168478x0.755)\n",
       "D    AxesSubplot(0.731522,0.125;0.168478x0.755)\n",
       "dtype: object"
      ]
     },
     "execution_count": 12,
     "metadata": {},
     "output_type": "execute_result"
    },
    {
     "data": {
      "image/png": "[encoded data removed]",
      "text/plain": [
       "<Figure size 432x288 with 4 Axes>"
      ]
     },
     "metadata": {
      "needs_background": "light"
     },
     "output_type": "display_data"
    }
   ],
   "source": [
    "# pd_data['A'].plot()\n",
    "# pd_data.plot()\n",
    "# pd_data.plot(x = 'A', y = 'B')\n",
    "# pd_data.plot(kind='scatter', x = 'A', y = 'B')\n",
    "# pd_data.plot.scatter(x = 'A', y = 'B')\n",
    "\n",
    "pd_data.plot(kind='box', by='E')"
   ]
  }
 ],
 "metadata": {
  "kernelspec": {
   "display_name": "Python 3 (ipykernel)",
   "language": "python",
   "name": "python3"
  },
  "language_info": {
   "codemirror_mode": {
    "name": "ipython",
    "version": 3
   },
   "file_extension": ".py",
   "mimetype": "text/x-python",
   "name": "python",
   "nbconvert_exporter": "python",
   "pygments_lexer": "ipython3",
   "version": "3.10.5"
  }
 },
 "nbformat": 4,
 "nbformat_minor": 5
}
