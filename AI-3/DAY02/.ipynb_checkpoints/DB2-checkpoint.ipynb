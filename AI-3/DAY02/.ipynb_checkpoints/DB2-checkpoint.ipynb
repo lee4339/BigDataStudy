{
 "cells": [
  {
   "cell_type": "code",
   "execution_count": 1,
   "id": "eb8056f5",
   "metadata": {},
   "outputs": [
    {
     "name": "stdout",
     "output_type": "stream",
     "text": [
      "(1, 'For Those About To Rock We Salute You', 1)\n",
      "(2, 'Balls to the Wall', 2)\n",
      "(3, 'Restless and Wild', 2)\n",
      "(4, 'Let There Be Rock', 1)\n",
      "(5, 'Big Ones', 3)\n"
     ]
    }
   ],
   "source": [
    "import mariadb\n",
    "import sys\n",
    "\n",
    "conn = mariadb.connect(user=\"toor\",\n",
    "                       password=\"toor\", host=\"192.168.7.174\",\n",
    "                       port=3306, database=\"chinook\")\n",
    "cur = conn.cursor()\n",
    "cur.execute(\"select * from albums limit 5;\")\n",
    "for c in cur:\n",
    "    print(c)"
   ]
  },
  {
   "cell_type": "code",
   "execution_count": 2,
   "id": "d45cd07f",
   "metadata": {},
   "outputs": [
    {
     "name": "stdout",
     "output_type": "stream",
     "text": [
      "(21, 3, 'Peacock', 'Jane')\n",
      "(20, 4, 'Park', 'Margaret')\n",
      "(18, 5, 'Johnson', 'Steve')\n"
     ]
    }
   ],
   "source": [
    "import sqlite3\n",
    "\n",
    "conn = sqlite3.connect(\"c:\\sqlite\\chinook.db\")\n",
    "\n",
    "cur = conn.cursor()\n",
    "sql = \"select count(customers.customerid), customers.supportrepid, \\\n",
    "        employees.LastName, employees.FirstName \\\n",
    "        from customers \\\n",
    "        join employees on customers.supportrepid = employees.employeeid \\\n",
    "        group by customers.supportrepid;\"\n",
    "resp = cur.execute(sql)\n",
    "for c in resp:\n",
    "    print(c)\n",
    "    \n",
    "conn.close()"
   ]
  },
  {
   "cell_type": "code",
   "execution_count": 3,
   "id": "023ea884",
   "metadata": {},
   "outputs": [
    {
     "ename": "IntegrityError",
     "evalue": "UNIQUE constraint failed: iris.id",
     "output_type": "error",
     "traceback": [
      "\u001b[1;31m---------------------------------------------------------------------------\u001b[0m",
      "\u001b[1;31mIntegrityError\u001b[0m                            Traceback (most recent call last)",
      "Input \u001b[1;32mIn [3]\u001b[0m, in \u001b[0;36m<cell line: 15>\u001b[1;34m()\u001b[0m\n\u001b[0;32m     15\u001b[0m \u001b[38;5;28;01mfor\u001b[39;00m index, d \u001b[38;5;129;01min\u001b[39;00m \u001b[38;5;28menumerate\u001b[39m(data):\n\u001b[0;32m     16\u001b[0m     sql \u001b[38;5;241m=\u001b[39m \u001b[38;5;124m\"\u001b[39m\u001b[38;5;124minsert into iris(id, sepal_len, sepal_w, petal_len, petal_w)\u001b[39m\u001b[38;5;130;01m\\\u001b[39;00m\n\u001b[0;32m     17\u001b[0m \u001b[38;5;124m    values(\u001b[39m\u001b[38;5;132;01m{}\u001b[39;00m\u001b[38;5;124m,\u001b[39m\u001b[38;5;132;01m{}\u001b[39;00m\u001b[38;5;124m,\u001b[39m\u001b[38;5;132;01m{}\u001b[39;00m\u001b[38;5;124m,\u001b[39m\u001b[38;5;132;01m{}\u001b[39;00m\u001b[38;5;124m,\u001b[39m\u001b[38;5;132;01m{}\u001b[39;00m\u001b[38;5;124m);\u001b[39m\u001b[38;5;124m\"\u001b[39m\u001b[38;5;241m.\u001b[39mformat(index\u001b[38;5;241m+\u001b[39m\u001b[38;5;241m1\u001b[39m, d[\u001b[38;5;241m0\u001b[39m],d[\u001b[38;5;241m1\u001b[39m],d[\u001b[38;5;241m2\u001b[39m],d[\u001b[38;5;241m3\u001b[39m])\n\u001b[1;32m---> 18\u001b[0m     \u001b[43mcur\u001b[49m\u001b[38;5;241;43m.\u001b[39;49m\u001b[43mexecute\u001b[49m\u001b[43m(\u001b[49m\u001b[43msql\u001b[49m\u001b[43m)\u001b[49m\n\u001b[0;32m     19\u001b[0m \u001b[38;5;66;03m#resp = cur.execute(sql)\u001b[39;00m\n\u001b[0;32m     20\u001b[0m conn\u001b[38;5;241m.\u001b[39mcommit()\n",
      "\u001b[1;31mIntegrityError\u001b[0m: UNIQUE constraint failed: iris.id"
     ]
    }
   ],
   "source": [
    "with open('iris.data','r') as f:\n",
    "    raw = f.readlines()\n",
    "\n",
    "data=[]\n",
    "for r in raw[:-1]:\n",
    "    t = []\n",
    "    for n in r.split(',')[:4]:\n",
    "        t.append(float(n))\n",
    "    data.append(t)\n",
    "#print(data)\n",
    "\n",
    "conn = sqlite3.connect(\"c:\\sqlite\\chinook.db\")\n",
    "\n",
    "cur = conn.cursor()\n",
    "for index, d in enumerate(data):\n",
    "    sql = \"insert into iris(id, sepal_len, sepal_w, petal_len, petal_w)\\\n",
    "    values({},{},{},{},{});\".format(index+1, d[0],d[1],d[2],d[3])\n",
    "    cur.execute(sql)\n",
    "#resp = cur.execute(sql)\n",
    "conn.commit()\n",
    "conn.close()"
   ]
  }
 ],
 "metadata": {
  "kernelspec": {
   "display_name": "Python 3 (ipykernel)",
   "language": "python",
   "name": "python3"
  },
  "language_info": {
   "codemirror_mode": {
    "name": "ipython",
    "version": 3
   },
   "file_extension": ".py",
   "mimetype": "text/x-python",
   "name": "python",
   "nbconvert_exporter": "python",
   "pygments_lexer": "ipython3",
   "version": "3.10.5"
  }
 },
 "nbformat": 4,
 "nbformat_minor": 5
}
