{
 "cells": [
  {
   "cell_type": "code",
   "execution_count": null,
   "id": "ff023e1d",
   "metadata": {},
   "outputs": [],
   "source": [
    "import mariadb\n",
    "import sys\n",
    "\n",
    "conn = mariadb.connect(\n",
    "    user=\"toor\",\n",
    "    password=\"toor\",\n",
    "    host=\"192.168.7.174\",\n",
    "    port=3306,\n",
    "    database=\"chinook\"\n",
    ")\n",
    "\n",
    "cur = conn.cursor()\n",
    "sql = \"select count(customers.customerid), customers.supportrepid, employees.lastname, employees.firstname \\\n",
    "    from customers \\\n",
    "    join employees on customers.supportrepid = employees.employeeid \\\n",
    "    group by customers.supportrepid;\"\n",
    "cur.execute(sql)\n",
    "for c in cur:\n",
    "#     print(c)\n"
   ]
  },
  {
   "cell_type": "code",
   "execution_count": null,
   "id": "c3036ca9",
   "metadata": {},
   "outputs": [],
   "source": [
    "with open('iris.data', 'r') as f:\n",
    "    raw = f.readlines()\n",
    "# print(raw)\n",
    "\n",
    "data = []\n",
    "for r in raw[:-1]:\n",
    "    t = []\n",
    "    for i in r.split(',')[:4]:\n",
    "        t.append(float(i))\n",
    "    data.append(t)\n",
    "# print(data)\n",
    "\n",
    "conn = mariadb.connect(\n",
    "    user=\"toor\",\n",
    "    password=\"toor\",\n",
    "    host=\"192.168.7.174\",\n",
    "    port=3306,\n",
    "    database=\"chinook\"\n",
    ")\n",
    "\n",
    "cur = conn.cursor()\n",
    "for index, d in enumerate(data):\n",
    "    sql = \"insert into iris(id, sepal_len, sepal_w, petal_len, petal_w) \\\n",
    "        values({},{},{},{},{})\".format(index + 1, d[0],d[1],d[2],d[3])\n",
    "#     print(sql)\n",
    "    cur.execute(sql)\n",
    "conn.commit()\n",
    "conn.close()"
   ]
  },
  {
   "cell_type": "code",
   "execution_count": null,
   "id": "7ba225a5",
   "metadata": {},
   "outputs": [],
   "source": [
    "import sqlite3\n",
    "\n",
    "conn = sqlite3.connect(\"c:\\sqlite\\chinook.db\")\n",
    "\n",
    "cur = conn.cursor()\n",
    "resp = cur.execute(\"select * from albums limit 5;\")\n",
    "for c in resp:\n",
    "    print(c)"
   ]
  },
  {
   "cell_type": "code",
   "execution_count": null,
   "id": "a6912b91",
   "metadata": {},
   "outputs": [],
   "source": [
    "with open('iris.data', 'r') as f:\n",
    "    raw = f.readlines()\n",
    "# print(raw)\n",
    "\n",
    "data = []\n",
    "for r in raw[:-1]:\n",
    "    t = []\n",
    "    for i in r.split(',')[:4]:\n",
    "        t.append(float(i))\n",
    "    data.append(t)\n",
    "# print(data)\n",
    "\n",
    "conn = sqlite3.connect(\"c:\\sqlite\\chinook.db\")\n",
    "\n",
    "cur = conn.cursor()\n",
    "for index, d in enumerate(data):\n",
    "    sql = \"insert into iris(id, sepal_len, sepal_w, petal_len, petal_w) \\\n",
    "        values({},{},{},{},{});\".format(index + 1, d[0],d[1],d[2],d[3])\n",
    "    cur.execute(sql)\n",
    "conn.commit()\n",
    "conn.close()"
   ]
  }
 ],
 "metadata": {
  "kernelspec": {
   "display_name": "Python 3 (ipykernel)",
   "language": "python",
   "name": "python3"
  },
  "language_info": {
   "codemirror_mode": {
    "name": "ipython",
    "version": 3
   },
   "file_extension": ".py",
   "mimetype": "text/x-python",
   "name": "python",
   "nbconvert_exporter": "python",
   "pygments_lexer": "ipython3",
   "version": "3.10.5"
  }
 },
 "nbformat": 4,
 "nbformat_minor": 5
}
