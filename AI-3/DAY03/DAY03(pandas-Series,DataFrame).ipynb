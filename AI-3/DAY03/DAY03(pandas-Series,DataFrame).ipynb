{
 "cells": [
  {
   "cell_type": "code",
   "execution_count": 5,
   "id": "4fd8b0a1",
   "metadata": {},
   "outputs": [
    {
     "name": "stdout",
     "output_type": "stream",
     "text": [
      "1.4.4\n",
      "1.23.1\n"
     ]
    }
   ],
   "source": [
    "import pandas as pd\n",
    "import numpy as np\n",
    "\n",
    "print(pd.__version__)\n",
    "print(np.__version__)"
   ]
  },
  {
   "cell_type": "code",
   "execution_count": 7,
   "id": "8339a10f",
   "metadata": {},
   "outputs": [
    {
     "name": "stdout",
     "output_type": "stream",
     "text": [
      "0    5\n",
      "dtype: int64\n",
      "0    a\n",
      "dtype: object\n"
     ]
    }
   ],
   "source": [
    "s1 = pd.Series(5)\n",
    "print(s1)\n",
    "# print(type(s1))\n",
    "\n",
    "s2 = pd.Series('a')\n",
    "print(s2)"
   ]
  },
  {
   "cell_type": "code",
   "execution_count": 10,
   "id": "3498a09c",
   "metadata": {},
   "outputs": [
    {
     "name": "stdout",
     "output_type": "stream",
     "text": [
      "0    1\n",
      "1    2\n",
      "2    3\n",
      "dtype: int32\n",
      "[1, 2, 3, 'a', 'b', 'c']\n",
      "['1' '2' '3' 'a' 'b' 'c']\n",
      "0    1\n",
      "1    2\n",
      "2    3\n",
      "3    a\n",
      "4    b\n",
      "5    c\n",
      "dtype: object\n"
     ]
    }
   ],
   "source": [
    "list1 = [1, 2, 3]\n",
    "list2 = ['a', 'b', 'c']\n",
    "\n",
    "s1 = pd.Series(np.array(list1))\n",
    "print(s1)\n",
    "\n",
    "list3 = list1 + list2\n",
    "print(list3)\n",
    "print(np.array(list3))\n",
    "\n",
    "s2 = pd.Series(list3)\n",
    "print(s2)"
   ]
  },
  {
   "cell_type": "code",
   "execution_count": 16,
   "id": "4d0659ab",
   "metadata": {},
   "outputs": [
    {
     "name": "stdout",
     "output_type": "stream",
     "text": [
      "('a', 1)\n",
      "('b', 2)\n",
      "('c', 3)\n",
      "{'a': 1, 'b': 2, 'c': 3}\n",
      "a    1\n",
      "b    2\n",
      "c    3\n",
      "dtype: int64\n"
     ]
    }
   ],
   "source": [
    "# 파이썬의 내장 함수 zip()은 iterable, 즉 순회 가능한 객체를 인자로 받고 각 자료형의 각각의 요소를 나눈 후 인덱스끼리 잘라서 리스트로 반환해줍니다. \n",
    "# 여기서 말하는 iterable 자료형은 파이썬에서 리스트, 튜플 같은 반복 가능한 자료형을 의미\n",
    "\n",
    "for i in zip(list2, list1):\n",
    "    print(i)\n",
    "\n",
    "d1 = dict(zip(list2, list1))\n",
    "print(d1)\n",
    "\n",
    "s1 = pd.Series(d1)\n",
    "print(s1)"
   ]
  },
  {
   "cell_type": "code",
   "execution_count": 15,
   "id": "cb322276",
   "metadata": {},
   "outputs": [
    {
     "name": "stdout",
     "output_type": "stream",
     "text": [
      "a    1\n",
      "b    2\n",
      "c    3\n",
      "dtype: int64\n"
     ]
    }
   ],
   "source": [
    "s1 = pd.Series(list1, index=list2)\n",
    "print(s1)"
   ]
  },
  {
   "cell_type": "code",
   "execution_count": 17,
   "id": "b126d625",
   "metadata": {},
   "outputs": [
    {
     "name": "stdout",
     "output_type": "stream",
     "text": [
      "1월    1\n",
      "2월    2\n",
      "3월    3\n",
      "dtype: int64\n"
     ]
    }
   ],
   "source": [
    "s1 = pd.Series(list1, index=['1월', '2월', '3월'])\n",
    "print(s1)"
   ]
  },
  {
   "cell_type": "code",
   "execution_count": 22,
   "id": "b61b9fa6",
   "metadata": {},
   "outputs": [
    {
     "name": "stdout",
     "output_type": "stream",
     "text": [
      "b    1\n",
      "c    2\n",
      "a    3\n",
      "dtype: int64\n",
      "Index(['b', 'c', 'a'], dtype='object')\n",
      "a    3.0\n",
      "b    1.0\n",
      "c    2.0\n",
      "x    NaN\n",
      "dtype: float64\n"
     ]
    }
   ],
   "source": [
    "s1 = pd.Series(data=list1, index=list('bca'))\n",
    "print(s1)\n",
    "print(s1.index)\n",
    "print(s1.reindex(list('abcx')))\n"
   ]
  },
  {
   "cell_type": "code",
   "execution_count": 27,
   "id": "270705de",
   "metadata": {},
   "outputs": [
    {
     "name": "stdout",
     "output_type": "stream",
     "text": [
      "a    1\n",
      "b    2\n",
      "c    3\n",
      "dtype: int64\n",
      "[1 2 3]\n",
      "<class 'numpy.ndarray'>\n",
      "Index(['a', 'b', 'c'], dtype='object')\n",
      "<class 'pandas.core.indexes.base.Index'>\n",
      "a\n",
      "b\n",
      "c\n"
     ]
    }
   ],
   "source": [
    "s1 = pd.Series([1,2,3], ['a','b','c'])\n",
    "print(s1)\n",
    "a1 = s1.to_numpy()\n",
    "print(a1)\n",
    "print(type(a1))\n",
    "\n",
    "list4 = s1.index\n",
    "print(list4)\n",
    "print(type(list4))\n",
    "\n",
    "for i in list4:\n",
    "    print(i)"
   ]
  },
  {
   "cell_type": "code",
   "execution_count": 28,
   "id": "bdf8b799",
   "metadata": {},
   "outputs": [
    {
     "name": "stdout",
     "output_type": "stream",
     "text": [
      "a    1\n",
      "b    2\n",
      "c    3\n",
      "dtype: int64\n",
      "x    1\n",
      "y    2\n",
      "z    3\n",
      "dtype: int64\n"
     ]
    }
   ],
   "source": [
    "print(s1)\n",
    "s1.index = ['x', 'y', 'z']\n",
    "print(s1)"
   ]
  },
  {
   "cell_type": "code",
   "execution_count": 30,
   "id": "0aed98e2",
   "metadata": {},
   "outputs": [
    {
     "name": "stdout",
     "output_type": "stream",
     "text": [
      "a    1\n",
      "b    2\n",
      "c    3\n",
      "dtype: int64\n",
      "b    30\n",
      "c    20\n",
      "d    10\n",
      "dtype: int64\n",
      "a     NaN\n",
      "b    32.0\n",
      "c    23.0\n",
      "d     NaN\n",
      "dtype: float64\n"
     ]
    }
   ],
   "source": [
    "s1 = pd.Series([1,2,3], list('abc'))\n",
    "s2 = pd.Series([30,20,10], list('bcd'))\n",
    "print(s1)\n",
    "print(s2)\n",
    "print(s1 + s2)"
   ]
  },
  {
   "cell_type": "code",
   "execution_count": 33,
   "id": "b7ff93c3",
   "metadata": {},
   "outputs": [
    {
     "name": "stdout",
     "output_type": "stream",
     "text": [
      "[[0 1]\n",
      " [2 3]\n",
      " [4 5]]\n",
      "   x  y\n",
      "a  0  1\n",
      "b  2  3\n",
      "c  4  5\n"
     ]
    }
   ],
   "source": [
    "a1 = np.arange(6).reshape((3,2))\n",
    "print(a1)\n",
    "df1 = pd.DataFrame(a1, index=list('abc'), columns=list('xy'))\n",
    "print(df1)"
   ]
  },
  {
   "cell_type": "code",
   "execution_count": 39,
   "id": "74adcd52",
   "metadata": {},
   "outputs": [
    {
     "name": "stdout",
     "output_type": "stream",
     "text": [
      "    S1    S2\n",
      "a  1.0   NaN\n",
      "b  2.0  30.0\n",
      "c  3.0  20.0\n",
      "d  NaN  10.0\n",
      "      x     y\n",
      "i1  1.0   NaN\n",
      "i2  2.0  30.0\n",
      "i3  3.0  20.0\n",
      "i4  NaN  10.0\n"
     ]
    }
   ],
   "source": [
    "s1 = pd.Series([1,2,3], list('abc'))\n",
    "s2 = pd.Series([30,20,10], list('bcd'))\n",
    "# df1 = pd.DataFrame([s1,s2])\n",
    "df1 = pd.DataFrame({'S1':s1, 'S2':s2})\n",
    "print(df1)\n",
    "df1.index = ['i1', 'i2', 'i3', 'i4']\n",
    "df1.columns = ['x', 'y']\n",
    "print(df1)"
   ]
  },
  {
   "cell_type": "code",
   "execution_count": 52,
   "id": "2d141b0d",
   "metadata": {},
   "outputs": [
    {
     "name": "stdout",
     "output_type": "stream",
     "text": [
      "a     5\n",
      "b     6\n",
      "c     7\n",
      "d     8\n",
      "e     9\n",
      "f    10\n",
      "dtype: int32\n",
      "b    6\n",
      "d    8\n",
      "dtype: int32\n"
     ]
    }
   ],
   "source": [
    "s1 = pd.Series(np.arange(5, 11), list('abcdef'))\n",
    "print(s1)\n",
    "# print(s1[3])\n",
    "# print(s1[1:5:2])\n",
    "# print(s1%2 == 0)\n",
    "# print(s1[s1%2 == 0])\n",
    "# print(s1.where(s1%2 == 0))\n",
    "# print(s1[s1>7])\n",
    "# print(s1.where(s1>7))\n",
    "# print(s1['c'])\n",
    "\n",
    "# print(s1['x'])\n",
    "# print(s1.get('x'))\n",
    "print(s1['b':'e':2])"
   ]
  },
  {
   "cell_type": "code",
   "execution_count": 58,
   "id": "dd9d653a",
   "metadata": {},
   "outputs": [
    {
     "name": "stdout",
     "output_type": "stream",
     "text": [
      "a     5\n",
      "b     6\n",
      "c     7\n",
      "d     8\n",
      "e     9\n",
      "f    10\n",
      "dtype: int32\n",
      "b    6\n",
      "d    8\n",
      "dtype: int32\n"
     ]
    }
   ],
   "source": [
    "# iloc, loc # 행번호(row number)로 선택하는 방법, label이나 조건표현으로 선택하는 방법\n",
    "s1 = pd.Series(np.arange(5, 11), list('abcdef'))\n",
    "print(s1)\n",
    "\n",
    "# print(s1.iloc[4])\n",
    "# print(s1[4])      # 같음\n",
    "# print(s1.iloc[1:4:2])\n",
    "# print(s1.loc[s1>7])\n",
    "# print(s1.loc['b'])\n",
    "print(s1.loc['b':'e':2])"
   ]
  },
  {
   "cell_type": "code",
   "execution_count": 85,
   "id": "d5fdb9f2",
   "metadata": {},
   "outputs": [
    {
     "name": "stdout",
     "output_type": "stream",
     "text": [
      "    m   n   x   y   z\n",
      "a   0   1   2   3   4\n",
      "b   5   6   7   8   9\n",
      "c  10  11  12  13  14\n",
      "d  15  16  17  18  19\n",
      "e  20  21  22  23  24\n",
      "f  25  26  27  28  29\n",
      "<class 'pandas.core.series.Series'>\n",
      "a     0\n",
      "b     5\n",
      "c    10\n",
      "d    15\n",
      "e    20\n",
      "f    25\n",
      "Name: m, dtype: int32\n"
     ]
    }
   ],
   "source": [
    "a1 = np.arange(30).reshape((6,5))\n",
    "df1 = pd.DataFrame(a1, index=list('abcdef'), columns=list('mnxyz'))\n",
    "print(df1)\n",
    "\n",
    "# x = df1['x']   # 시리즈 형태  # column\n",
    "# x = df1[['z','x']]  # 데이터프레임 형태  # column\n",
    "# x = df1['a':'c']  # index\n",
    "# print(type(x))\n",
    "# print(x)\n",
    "\n",
    "# df1.loc['c']  # index\n",
    "# print(df1.loc['b' : 'e'])\n",
    "# print(df1.loc[:, ['m', 'x']])\n",
    "# print(df1.loc[:, 'm':'y'])\n",
    "# print(df1.iloc[:, 0:4])\n",
    "\n",
    "x = df1.loc[:, 'm']\n",
    "print(type(x))\n",
    "print(x)"
   ]
  }
 ],
 "metadata": {
  "kernelspec": {
   "display_name": "Python 3 (ipykernel)",
   "language": "python",
   "name": "python3"
  },
  "language_info": {
   "codemirror_mode": {
    "name": "ipython",
    "version": 3
   },
   "file_extension": ".py",
   "mimetype": "text/x-python",
   "name": "python",
   "nbconvert_exporter": "python",
   "pygments_lexer": "ipython3",
   "version": "3.10.5"
  }
 },
 "nbformat": 4,
 "nbformat_minor": 5
}
