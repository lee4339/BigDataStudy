{
 "cells": [
  {
   "cell_type": "code",
   "execution_count": 1,
   "id": "e163caae",
   "metadata": {},
   "outputs": [
    {
     "name": "stdout",
     "output_type": "stream",
     "text": [
      "     sepal_len  sepal_w  petal_len  petal_w           class\n",
      "0          5.1      3.5        1.4      0.2     Iris-setosa\n",
      "1          4.9      3.0        1.4      0.2     Iris-setosa\n",
      "2          4.7      3.2        1.3      0.2     Iris-setosa\n",
      "3          4.6      3.1        1.5      0.2     Iris-setosa\n",
      "4          5.0      3.6        1.4      0.2     Iris-setosa\n",
      "..         ...      ...        ...      ...             ...\n",
      "145        6.7      3.0        5.2      2.3  Iris-virginica\n",
      "146        6.3      2.5        5.0      1.9  Iris-virginica\n",
      "147        6.5      3.0        5.2      2.0  Iris-virginica\n",
      "148        6.2      3.4        5.4      2.3  Iris-virginica\n",
      "149        5.9      3.0        5.1      1.8  Iris-virginica\n",
      "\n",
      "[150 rows x 5 columns]\n"
     ]
    }
   ],
   "source": [
    "import pandas as pd\n",
    "import numpy as np\n",
    "\n",
    "pd_data = pd.read_csv('iris.data', header=None)\n",
    "# print(pd_data)\n",
    "# print(type(pd_data))\n",
    "pd_data.columns = ['sepal_len', 'sepal_w', 'petal_len', 'petal_w', 'class'] \n",
    "print(pd_data)"
   ]
  },
  {
   "cell_type": "code",
   "execution_count": 2,
   "id": "2919fa9b",
   "metadata": {},
   "outputs": [],
   "source": [
    "# print(pd_data[['sepal_len', 'petal_len', 'class']])\n",
    "# print(pd_data.loc[:, ['sepal_len', 'petal_len', 'class']])\n",
    "# print(pd_data.iloc[:,[0, 2, 4]])\n",
    "\n",
    "# print(pd_data.iloc[:20, [0, 2, 4]])"
   ]
  },
  {
   "cell_type": "code",
   "execution_count": 3,
   "id": "34ade208",
   "metadata": {},
   "outputs": [],
   "source": [
    "pd_data = pd.read_csv('전국무인교통단속카메라표준데이터_utf8.csv', encoding='utf8', dtype='str')\n",
    "# 확장자는 상관없음"
   ]
  },
  {
   "cell_type": "code",
   "execution_count": 4,
   "id": "515a23bf",
   "metadata": {},
   "outputs": [
    {
     "name": "stdout",
     "output_type": "stream",
     "text": [
      "Index(['무인교통단속카메라관리번호', '시도명', '시군구명', '도로종류', '도로노선번호', '도로노선명', '도로노선방향',\n",
      "       '소재지도로명주소', '소재지지번주소', '위도', '경도', '설치장소', '단속구분', '제한속도', '단속구간위치구분',\n",
      "       '과속단속구간길이', '보호구역구분', '설치연도', '관리기관명', '관리기관전화번호', '데이터기준일자', '제공기관코드',\n",
      "       '제공기관명'],\n",
      "      dtype='object')\n",
      "RangeIndex(start=0, stop=34222, step=1)\n"
     ]
    }
   ],
   "source": [
    "# print(pd_data.head()) # 상위의 데이터 몇개만\n",
    "print(pd_data.columns) # columns만 보기\n",
    "print(pd_data.index)  # index"
   ]
  },
  {
   "cell_type": "code",
   "execution_count": 5,
   "id": "33b88372",
   "metadata": {},
   "outputs": [
    {
     "name": "stdout",
     "output_type": "stream",
     "text": [
      "0          37.479625\n",
      "1        37.48164117\n",
      "2        37.46411546\n",
      "3          37.482111\n",
      "4        37.54143216\n",
      "            ...     \n",
      "34217    36.97024383\n",
      "34218    36.99772879\n",
      "34219    36.93979797\n",
      "34220    36.99402775\n",
      "34221     36.9950785\n",
      "Name: 위도, Length: 34222, dtype: object\n",
      "0        37.479625\n",
      "1        37.481641\n",
      "2        37.464115\n",
      "3        37.482111\n",
      "4        37.541432\n",
      "           ...    \n",
      "34217    36.970244\n",
      "34218    36.997729\n",
      "34219    36.939798\n",
      "34220    36.994028\n",
      "34221    36.995078\n",
      "Name: 위도, Length: 34222, dtype: float64\n",
      "0        126.956286\n",
      "1        126.952144\n",
      "2        126.931825\n",
      "3        126.914259\n",
      "4        126.947054\n",
      "            ...    \n",
      "34217    129.300599\n",
      "34218    129.362756\n",
      "34219    129.229006\n",
      "34220    129.401136\n",
      "34221    129.401297\n",
      "Name: 경도, Length: 34222, dtype: float64\n"
     ]
    },
    {
     "name": "stderr",
     "output_type": "stream",
     "text": [
      "C:\\Users\\home\\AppData\\Local\\Temp\\ipykernel_154260\\4072168676.py:4: SettingWithCopyWarning: \n",
      "A value is trying to be set on a copy of a slice from a DataFrame.\n",
      "Try using .loc[row_indexer,col_indexer] = value instead\n",
      "\n",
      "See the caveats in the documentation: https://pandas.pydata.org/pandas-docs/stable/user_guide/indexing.html#returning-a-view-versus-a-copy\n",
      "  coord.loc[:,'위도'] = coord.loc[:,'위도'].astype('float')\n",
      "C:\\Users\\home\\AppData\\Local\\Temp\\ipykernel_154260\\4072168676.py:5: SettingWithCopyWarning: \n",
      "A value is trying to be set on a copy of a slice from a DataFrame.\n",
      "Try using .loc[row_indexer,col_indexer] = value instead\n",
      "\n",
      "See the caveats in the documentation: https://pandas.pydata.org/pandas-docs/stable/user_guide/indexing.html#returning-a-view-versus-a-copy\n",
      "  coord.loc[:,'경도'] = coord.loc[:,'경도'].astype('float')\n"
     ]
    }
   ],
   "source": [
    "coord = pd_data[['위도', '경도']]\n",
    "# print(coord)\n",
    "print(coord['위도'])\n",
    "coord.loc[:,'위도'] = coord.loc[:,'위도'].astype('float')\n",
    "coord.loc[:,'경도'] = coord.loc[:,'경도'].astype('float')\n",
    "print(coord['위도'])\n",
    "print(coord['경도'])"
   ]
  },
  {
   "cell_type": "code",
   "execution_count": 6,
   "id": "a2b4900f",
   "metadata": {},
   "outputs": [
    {
     "name": "stdout",
     "output_type": "stream",
     "text": [
      "              위도          경도\n",
      "0      37.479625  126.956286\n",
      "1      37.481641  126.952144\n",
      "2      37.464115  126.931825\n",
      "3      37.482111  126.914259\n",
      "4      37.541432  126.947054\n",
      "...          ...         ...\n",
      "34217  36.970244  129.300599\n",
      "34218  36.997729  129.362756\n",
      "34219  36.939798  129.229006\n",
      "34220  36.994028  129.401136\n",
      "34221  36.995078  129.401297\n",
      "\n",
      "[34222 rows x 2 columns]\n",
      "위도    float64\n",
      "경도    float64\n",
      "dtype: object\n"
     ]
    }
   ],
   "source": [
    "print(coord)\n",
    "print(coord.dtypes)\n",
    "\n",
    "np_x = coord['위도'].to_numpy()     # 위도, ndarray 형태\n",
    "np_y = coord['경도'].to_numpy()  # 경도, ndarray 형태"
   ]
  },
  {
   "cell_type": "code",
   "execution_count": 7,
   "id": "4e4ca495",
   "metadata": {},
   "outputs": [
    {
     "data": {
      "text/plain": [
       "<matplotlib.collections.PathCollection at 0x1d634c870a0>"
      ]
     },
     "execution_count": 7,
     "metadata": {},
     "output_type": "execute_result"
    },
    {
     "data": {
      "image/png": "[encoded data removed]",
      "text/plain": [
       "<Figure size 432x288 with 1 Axes>"
      ]
     },
     "metadata": {
      "needs_background": "light"
     },
     "output_type": "display_data"
    }
   ],
   "source": [
    "import matplotlib.pyplot as plt\n",
    "\n",
    "_,axe = plt.subplots()\n",
    "axe.scatter(np_x, np_y)"
   ]
  },
  {
   "cell_type": "code",
   "execution_count": 10,
   "id": "2d736db0",
   "metadata": {},
   "outputs": [
    {
     "name": "stdout",
     "output_type": "stream",
     "text": [
      "              위도          경도\n",
      "0      37.479625  126.956286\n",
      "1      37.481641  126.952144\n",
      "2      37.464115  126.931825\n",
      "3      37.482111  126.914259\n",
      "4      37.541432  126.947054\n",
      "...          ...         ...\n",
      "34217  36.970244  129.300599\n",
      "34218  36.997729  129.362756\n",
      "34219  36.939798  129.229006\n",
      "34220  36.994028  129.401136\n",
      "34221  36.995078  129.401297\n",
      "\n",
      "[34014 rows x 2 columns]\n"
     ]
    },
    {
     "data": {
      "text/plain": [
       "<matplotlib.collections.PathCollection at 0x1d6357fe710>"
      ]
     },
     "execution_count": 10,
     "metadata": {},
     "output_type": "execute_result"
    },
    {
     "data": {
      "image/png": "[encoded data removed]",
      "text/plain": [
       "<Figure size 432x288 with 1 Axes>"
      ]
     },
     "metadata": {
      "needs_background": "light"
     },
     "output_type": "display_data"
    }
   ],
   "source": [
    "# hw\n",
    "# - 위도, 경도 : 경도 값이 200 이상인 값 제외 (위도와 세트 맞춰서 제외할것.)\n",
    "# - 시도명 : 부산광역시 인것만 추출\n",
    "\n",
    "filter = coord['경도'] < 200\n",
    "x = coord[filter]\n",
    "x = coord[coord['경도']<200]\n",
    "print(x)\n",
    "\n",
    "_,axe = plt.subplots()\n",
    "axe.scatter(x['위도'], x['경도'])"
   ]
  },
  {
   "cell_type": "code",
   "execution_count": 11,
   "id": "c4ab9ca9",
   "metadata": {},
   "outputs": [
    {
     "name": "stdout",
     "output_type": "stream",
     "text": [
      "0        서울특별시\n",
      "1        서울특별시\n",
      "2        서울특별시\n",
      "3        서울특별시\n",
      "4        서울특별시\n",
      "         ...  \n",
      "34217     경상북도\n",
      "34218     경상북도\n",
      "34219     경상북도\n",
      "34220     경상북도\n",
      "34221     경상북도\n",
      "Name: 시도명, Length: 34222, dtype: object\n",
      "950      부산광역시\n",
      "951      부산광역시\n",
      "1589     부산광역시\n",
      "1590     부산광역시\n",
      "1591     부산광역시\n",
      "         ...  \n",
      "33506    부산광역시\n",
      "33507    부산광역시\n",
      "33508    부산광역시\n",
      "33509    부산광역시\n",
      "33510    부산광역시\n",
      "Name: 시도명, Length: 1574, dtype: object\n"
     ]
    }
   ],
   "source": [
    "x = pd_data['시도명']\n",
    "print(x)\n",
    "x = pd_data[pd_data['시도명']==\"부산광역시\"]\n",
    "print(x['시도명'])"
   ]
  }
 ],
 "metadata": {
  "kernelspec": {
   "display_name": "Python 3 (ipykernel)",
   "language": "python",
   "name": "python3"
  },
  "language_info": {
   "codemirror_mode": {
    "name": "ipython",
    "version": 3
   },
   "file_extension": ".py",
   "mimetype": "text/x-python",
   "name": "python",
   "nbconvert_exporter": "python",
   "pygments_lexer": "ipython3",
   "version": "3.10.5"
  }
 },
 "nbformat": 4,
 "nbformat_minor": 5
}
