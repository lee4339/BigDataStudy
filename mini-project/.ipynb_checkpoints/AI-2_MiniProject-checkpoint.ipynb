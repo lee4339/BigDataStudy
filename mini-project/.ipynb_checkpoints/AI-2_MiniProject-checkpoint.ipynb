{
 "cells": [
  {
   "cell_type": "code",
   "execution_count": 96,
   "id": "d0067b0a",
   "metadata": {},
   "outputs": [],
   "source": [
    "import pickle\n",
    "import requests\n",
    "import numpy as np\n",
    "import matplotlib.pyplot as plt\n",
    "from lxml import etree\n",
    "from scipy import stats"
   ]
  },
  {
   "cell_type": "code",
   "execution_count": 97,
   "id": "2057ddfb",
   "metadata": {},
   "outputs": [],
   "source": [
    "# 전기자동차 각 지역별 댓수와 충전소 위치 대칭 selenium으로 도전해보기\n",
    "\n",
    "url = 'http://apis.data.go.kr/B552584/EvCharger/getChargerInfo'\n",
    "s_key = 'Oc+0oEXikbOn8irQ007JmQedWhaRAR+Z1ZMGmyDUeBwbvv8GIJgssZL0tVHpSwkmI2uuPRNz4vTIzPgFeBj3/Q=='\n",
    "params ={'serviceKey' : s_key, 'pageNo' : '1', 'numOfRows' : '9999'}\n",
    "\n",
    "response = requests.get(url, params=params)\n",
    "adr_raw = response.content.decode('utf-8')\n",
    "# print(adr_raw[:9999])"
   ]
  },
  {
   "cell_type": "code",
   "execution_count": 100,
   "id": "8dfc382c",
   "metadata": {},
   "outputs": [],
   "source": [
    "r = etree.XML(response.content)\n",
    "x = r.xpath('//addr')\n",
    "# print(x)\n",
    "\n",
    "adr_list = []\n",
    "for i in x:\n",
    "    if(i.text == 'null'):\n",
    "        pass\n",
    "    else:\n",
    "        adr_list.append(i.text)\n",
    "        \n",
    "                    \n",
    "# print(adr_list)\n",
    "\n",
    "adr_list_i = []\n",
    "adr_list_j = []\n",
    "for i in adr_list:\n",
    "    adr_list_i.append(i.split(' '))\n",
    "for j in adr_list_i:\n",
    "    adr_list_j.append(j[0])\n",
    "\n",
    "adr_list2 = list(set(adr_list_j))\n",
    "\n",
    "adr_list3 = []\n",
    "for item in adr_list2:\n",
    "    if item == '' or item == '97-32' or item == '제일오투마트' or item == '5층' or item == 'null' or item == '지상' or item == ',':\n",
    "        pass\n",
    "    else:\n",
    "        adr_list3.append(item)\n",
    "        \n",
    "# print(adr_list3)\n",
    "\n",
    "all_adr_list_count = []\n",
    "for item in adr_list3:\n",
    "    n = adr_list_j.count(item)\n",
    "    all_adr_list_count.append([item, n])    \n",
    "# print(all_adr_list_count)"
   ]
  },
  {
   "cell_type": "code",
   "execution_count": 108,
   "id": "0d6fde53",
   "metadata": {},
   "outputs": [
    {
     "name": "stdout",
     "output_type": "stream",
     "text": [
      "17\n",
      "[ 371   89 1336  904 1113  168  508  553  679  708  239  701  700  244\n",
      "  843  527  232]\n"
     ]
    },
    {
     "data": {
      "text/plain": [
       "<BarContainer object of 17 artists>"
      ]
     },
     "execution_count": 108,
     "metadata": {},
     "output_type": "execute_result"
    },
    {
     "data": {
      "image/png": "[encoded data removed]",
      "text/plain": [
       "<Figure size 432x288 with 1 Axes>"
      ]
     },
     "metadata": {
      "needs_background": "light"
     },
     "output_type": "display_data"
    }
   ],
   "source": [
    "np_adrs = np.array(all_adr_list_count)\n",
    "print(len(np_adrs))\n",
    "np_adrs_count_str = np_adrs[:, 1]\n",
    "np_adrs_count = []\n",
    "for line in np_adrs_count_str:\n",
    "    np_adrs_count.append(int(line))\n",
    "np_adrs_count = np.array(np_adrs_count)\n",
    "print(np_adrs_count)\n",
    "\n",
    "xs = np.arange(0, 17)\n",
    "ys = np_adrs_count\n",
    "\n",
    "_, axe = plt.subplots()\n",
    "axe.bar(xs, ys)"
   ]
  },
  {
   "cell_type": "code",
   "execution_count": 1,
   "id": "731cecb7",
   "metadata": {},
   "outputs": [],
   "source": [
    "with open('한국전력공사_지역별 전기차 현황정보_20220429.csv', 'r', encoding='utf-8') as f:\n",
    "    cur_raw = f.readlines()"
   ]
  }
 ],
 "metadata": {
  "kernelspec": {
   "display_name": "Python 3 (ipykernel)",
   "language": "python",
   "name": "python3"
  },
  "language_info": {
   "codemirror_mode": {
    "name": "ipython",
    "version": 3
   },
   "file_extension": ".py",
   "mimetype": "text/x-python",
   "name": "python",
   "nbconvert_exporter": "python",
   "pygments_lexer": "ipython3",
   "version": "3.10.5"
  }
 },
 "nbformat": 4,
 "nbformat_minor": 5
}
