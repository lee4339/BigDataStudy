{
 "cells": [
  {
   "cell_type": "code",
   "execution_count": 2,
   "id": "fa59f471",
   "metadata": {},
   "outputs": [],
   "source": [
    "import numpy as np\n",
    "import numpy.random as npr # 난수(무작위로 추출된 수) 생성"
   ]
  },
  {
   "cell_type": "code",
   "execution_count": 3,
   "id": "20b4f309",
   "metadata": {},
   "outputs": [
    {
     "name": "stdout",
     "output_type": "stream",
     "text": [
      "[[[ 0  1]\n",
      "  [ 2  3]\n",
      "  [ 4  5]\n",
      "  [ 6  7]\n",
      "  [ 8  9]]\n",
      "\n",
      " [[10 11]\n",
      "  [12 13]\n",
      "  [14 15]\n",
      "  [16 17]\n",
      "  [18 19]]]\n"
     ]
    }
   ],
   "source": [
    "a1 = np.arange(20).reshape(2, 5, -1)   # -1 : 나머지는 알아서 계산\n",
    "print(a1)\n",
    "#print(a1.sum(axis=0))   #axis : 차원    x축\n",
    "#print(a1.sum(axis=1))   # y축\n",
    "#print(a1.sum(axis=2))   # z축"
   ]
  },
  {
   "cell_type": "code",
   "execution_count": 4,
   "id": "116659e9",
   "metadata": {},
   "outputs": [
    {
     "name": "stdout",
     "output_type": "stream",
     "text": [
      "[0. 1. 2. 3. 4. 5. 6. 7. 8. 9.] [20. 21. 22. 23. 24. 25. 26. 27. 28. 29.]\n",
      "[20. 22. 24. 26. 28. 30. 32. 34. 36. 38.]\n",
      "[-20. -20. -20. -20. -20. -20. -20. -20. -20. -20.]\n",
      "[  0.  21.  44.  69.  96. 125. 156. 189. 224. 261.]\n",
      "[0.         0.04761905 0.09090909 0.13043478 0.16666667 0.2\n",
      " 0.23076923 0.25925926 0.28571429 0.31034483]\n"
     ]
    }
   ],
   "source": [
    "a1 = np.arange(0., 10.)\n",
    "a2 = np.arange(20., 30.)   # 인덱스 개수가 맞아야 연산이 가능함(모양이 같아야함)\n",
    "print(a1, a2)\n",
    "print(a1 + a2)\n",
    "print(a1 - a2)\n",
    "print(a1 * a2)\n",
    "print(a1/a2)\n"
   ]
  },
  {
   "cell_type": "code",
   "execution_count": 5,
   "id": "ed9a6362",
   "metadata": {},
   "outputs": [
    {
     "name": "stdout",
     "output_type": "stream",
     "text": [
      "[20. 21. 22. 23. 24. 25. 26. 27. 28. 29.]\n",
      "[3. 3. 3. 3. 3. 3. 3. 3. 3. 3.]\n",
      "[60. 63. 66. 69. 72. 75. 78. 81. 84. 87.]\n",
      "[60. 63. 66. 69. 72. 75. 78. 81. 84. 87.]\n"
     ]
    }
   ],
   "source": [
    "# Broadcasting(브로드캐스팅) # 두 배열 간의 연산 과정을 수행할 때 배열 간 Shape가 다를 경우 두 배열 간의 형상을 맞추는 작업\n",
    "\n",
    "print(a2)\n",
    "a3 = np.full((10,),3.)  # full : 뒤에 '3'이라는 숫자로 10개 채워줌\n",
    "print(a3)\n",
    "print(a2 * a3)\n",
    "\n",
    "print(a2 * 3)  # Broadcasting(브로드캐스팅)\n",
    "\n"
   ]
  },
  {
   "cell_type": "code",
   "execution_count": 6,
   "id": "1c27b5f4",
   "metadata": {},
   "outputs": [
    {
     "name": "stdout",
     "output_type": "stream",
     "text": [
      "[[[10 11 12 13]\n",
      "  [14 15 16 17]\n",
      "  [18 19 20 21]]\n",
      "\n",
      " [[22 23 24 25]\n",
      "  [26 27 28 29]\n",
      "  [30 31 32 33]]] (2, 3, 4) a1\n",
      "[[100 101 102 103]\n",
      " [104 105 106 107]\n",
      " [108 109 110 111]] (3, 4) a2\n",
      "[[[110 112 114 116]\n",
      "  [118 120 122 124]\n",
      "  [126 128 130 132]]\n",
      "\n",
      " [[122 124 126 128]\n",
      "  [130 132 134 136]\n",
      "  [138 140 142 144]]]\n"
     ]
    }
   ],
   "source": [
    "a1 = np.arange(10, 34).reshape(2, 3, 4)    #--> 오른쪽 부터 디멘션이 맞아야하고 맨 왼쪽은 달라도됨\n",
    "print(a1, a1.shape, 'a1')  # 2 - 3 - 4\n",
    "\n",
    "# a2 = np.full((4,), 3)\n",
    "# a2 = np.arange(100, 104)\n",
    "# a2 = a2[np.newaxis, :]\n",
    "a2 = np.arange(100, 112).reshape(3,4)\n",
    "print(a2, a2.shape, 'a2')\n",
    "\n",
    "print(a1 + a2)\n",
    "# print(a1 + 3)"
   ]
  },
  {
   "cell_type": "markdown",
   "id": "2edb334f",
   "metadata": {},
   "source": [
    "$$ y = \\sum \\sqrt {(x+3)} $$"
   ]
  },
  {
   "cell_type": "code",
   "execution_count": 7,
   "id": "67f3595e",
   "metadata": {},
   "outputs": [
    {
     "name": "stdout",
     "output_type": "stream",
     "text": [
      "3.0\n",
      "[15, 17, 19, 21, 23, 25, 27, 29]\n",
      "39.82877384777466\n",
      "39.828773847774656\n"
     ]
    }
   ],
   "source": [
    "import math\n",
    "print(math.sqrt(9))\n",
    "\n",
    "x = [x for x in range(15, 30, 2)]\n",
    "print(x)\n",
    "\n",
    "x1 = [math.sqrt(i + 3) for i in x]       \n",
    "print(sum(x1))  #39.82877384777466\n",
    "\n",
    "x_np = np.array(x)                         # 넘파이 브로드캐스팅을 사용하는 경우 위에 같이 for문을 안돌려도됨\n",
    "print(np.sum(np.sqrt(x_np + 3)))"
   ]
  },
  {
   "cell_type": "code",
   "execution_count": 9,
   "id": "78d4994e",
   "metadata": {},
   "outputs": [
    {
     "name": "stdout",
     "output_type": "stream",
     "text": [
      "[0 1 2 3 4 5 6 7 8 9] [100 101 102 103 104 105 106 107 108 109] [20. 21. 22. 23. 24. 25. 26. 27. 28. 29.]\n",
      "45\n",
      "45\n",
      "[100.  21. 104.  23. 108.  25. 112.  27. 116.  29.]\n",
      "[100.  21. 104.  23. 108.  25. 112.  27. 116.  29.]\n"
     ]
    }
   ],
   "source": [
    "# Universal Functions(범용함수) # 다양한 수학 함수들을 제공\n",
    "\n",
    "a1 = np.arange(10)\n",
    "a2 = np.arange(100, 110)\n",
    "a3 = np.empty(10)   #원래는 빈값으로 나오나 저 위에 a3를 가져와버림\n",
    "\n",
    "print(a1, a2, a3)\n",
    "print(a1.sum())\n",
    "print(np.sum(a1))\n",
    "print(np.add(a1, a2, where=(a1%2==0), out=a3))  #where로 조건을 줌 #out을 통해 a3에 값을보냄\n",
    "print(a3)"
   ]
  },
  {
   "cell_type": "code",
   "execution_count": 14,
   "id": "5c517bf9",
   "metadata": {},
   "outputs": [
    {
     "name": "stdout",
     "output_type": "stream",
     "text": [
      "[[0 1 2 3 4]\n",
      " [5 6 7 8 9]]\n",
      "axis0\n",
      " [ 5  7  9 11 13]\n",
      "[ 5  7  9 11 13]\n",
      "axis1\n",
      " [10 35]\n",
      "[10 35]\n",
      "[[ 3  7]\n",
      " [18 17]]\n"
     ]
    }
   ],
   "source": [
    "a1 = np.arange(10).reshape(2, 5)\n",
    "print(a1)\n",
    "print('axis0\\n', np.add.reduce(a1, axis = 0))  # 여러 개의 데이터를 대상으로 주로 누적 집계를 내기 위해서 사용 //다차원 배열을 줄이려면 Python Numpy에서 np.ufunc.reduce() 메서드를 사용\n",
    "print(a1.sum(axis=0))\n",
    "print('axis1\\n', np.add.reduce(a1, axis=1))\n",
    "print(a1.sum(axis=1))\n",
    "\n",
    "print(np.add.reduceat(a1, [0,3], axis = 1))  #일 축에서 지정된 슬라이스로 (로컬) 축소를 수행 --->  0번부터 3번까지 인덱스를 잘라서 계산, 나머지 인덱스 값 계산"
   ]
  },
  {
   "cell_type": "code",
   "execution_count": 15,
   "id": "5d75dd90",
   "metadata": {},
   "outputs": [
    {
     "name": "stdout",
     "output_type": "stream",
     "text": [
      "[ 1.    3.25  5.5   7.75 10.  ]\n",
      "round [ 1.  3.  6.  8. 10.]\n",
      "floor [ 1.  3.  5.  7. 10.]\n",
      "ceil [ 1.  4.  6.  8. 10.]\n",
      "trunc [ 1.  3.  5.  7. 10.]\n"
     ]
    }
   ],
   "source": [
    "a1 = np.linspace(1, 10, 5)\n",
    "print(a1)\n",
    "print('round', np.round(a1))   # 반올림\n",
    "print('floor', np.floor(a1))   # 소수점이후 없애고\n",
    "print('ceil', np.ceil(a1))     # 무조건 올림\n",
    "print('trunc', np.trunc(a1))   # 지정한 자리수 이하를 버림"
   ]
  },
  {
   "cell_type": "code",
   "execution_count": 17,
   "id": "e2477873",
   "metadata": {},
   "outputs": [
    {
     "name": "stdout",
     "output_type": "stream",
     "text": [
      "[-5.         -4.8989899  -4.7979798  -4.6969697  -4.5959596  -4.49494949\n",
      " -4.39393939 -4.29292929 -4.19191919 -4.09090909 -3.98989899 -3.88888889\n",
      " -3.78787879 -3.68686869 -3.58585859 -3.48484848 -3.38383838 -3.28282828\n",
      " -3.18181818 -3.08080808 -2.97979798 -2.87878788 -2.77777778 -2.67676768\n",
      " -2.57575758 -2.47474747 -2.37373737 -2.27272727 -2.17171717 -2.07070707\n",
      " -1.96969697 -1.86868687 -1.76767677 -1.66666667 -1.56565657 -1.46464646\n",
      " -1.36363636 -1.26262626 -1.16161616 -1.06060606 -0.95959596 -0.85858586\n",
      " -0.75757576 -0.65656566 -0.55555556 -0.45454545 -0.35353535 -0.25252525\n",
      " -0.15151515 -0.05050505  0.05050505  0.15151515  0.25252525  0.35353535\n",
      "  0.45454545  0.55555556  0.65656566  0.75757576  0.85858586  0.95959596\n",
      "  1.06060606  1.16161616  1.26262626  1.36363636  1.46464646  1.56565657\n",
      "  1.66666667  1.76767677  1.86868687  1.96969697  2.07070707  2.17171717\n",
      "  2.27272727  2.37373737  2.47474747  2.57575758  2.67676768  2.77777778\n",
      "  2.87878788  2.97979798  3.08080808  3.18181818  3.28282828  3.38383838\n",
      "  3.48484848  3.58585859  3.68686869  3.78787879  3.88888889  3.98989899\n",
      "  4.09090909  4.19191919  4.29292929  4.39393939  4.49494949  4.5959596\n",
      "  4.6969697   4.7979798   4.8989899   5.        ]\n",
      "[ 0.95892427  0.98264051  0.99633934  0.99988113  0.99322975  0.97645303\n",
      "  0.94972199  0.91330913  0.86758566  0.8130177   0.75016154  0.67965796\n",
      "  0.60222569  0.51865411  0.42979519  0.33655477  0.23988339  0.14076655\n",
      "  0.04021468 -0.06074715 -0.1610897  -0.25979004 -0.35584199 -0.44826636\n",
      " -0.53612093 -0.61851008 -0.69459392 -0.76359681 -0.82481532 -0.87762535\n",
      " -0.92148855 -0.95595775 -0.98068157 -0.99540796 -0.99998679 -0.99437139\n",
      " -0.978619   -0.95289021 -0.91744731 -0.87265161 -0.81895978 -0.75691917\n",
      " -0.68716224 -0.61040014 -0.52741539 -0.43905397 -0.34621667 -0.24984992\n",
      " -0.1509361  -0.05048358  0.05048358  0.1509361   0.24984992  0.34621667\n",
      "  0.43905397  0.52741539  0.61040014  0.68716224  0.75691917  0.81895978\n",
      "  0.87265161  0.91744731  0.95289021  0.978619    0.99437139  0.99998679\n",
      "  0.99540796  0.98068157  0.95595775  0.92148855  0.87762535  0.82481532\n",
      "  0.76359681  0.69459392  0.61851008  0.53612093  0.44826636  0.35584199\n",
      "  0.25979004  0.1610897   0.06074715 -0.04021468 -0.14076655 -0.23988339\n",
      " -0.33655477 -0.42979519 -0.51865411 -0.60222569 -0.67965796 -0.75016154\n",
      " -0.8130177  -0.86758566 -0.91330913 -0.94972199 -0.97645303 -0.99322975\n",
      " -0.99988113 -0.99633934 -0.98264051 -0.95892427]\n"
     ]
    },
    {
     "data": {
      "text/plain": [
       "[<matplotlib.lines.Line2D at 0x1ede55426e0>]"
      ]
     },
     "execution_count": 17,
     "metadata": {},
     "output_type": "execute_result"
    },
    {
     "data": {
      "image/png": "[encoded data removed]",
      "text/plain": [
       "<Figure size 432x288 with 1 Axes>"
      ]
     },
     "metadata": {
      "needs_background": "light"
     },
     "output_type": "display_data"
    }
   ],
   "source": [
    "ax = np.linspace(-5, 5, 100)\n",
    "print(ax)\n",
    "y = np.sin(ax)  # 삼각함수\n",
    "print(y)\n",
    "\n",
    "import matplotlib.pyplot as plt   # matplotlib에 대한 상태 기반 인터페이스  // 차트나 플롯을 만들때 사용\n",
    "\n",
    "_, axe = plt.subplots()\n",
    "axe.plot(ax, y)"
   ]
  },
  {
   "cell_type": "code",
   "execution_count": 18,
   "id": "948d44a4",
   "metadata": {},
   "outputs": [
    {
     "data": {
      "text/plain": [
       "array([[0., 1., 2., 3., 4.],\n",
       "       [5., 6., 7., 8., 9.]])"
      ]
     },
     "execution_count": 18,
     "metadata": {},
     "output_type": "execute_result"
    }
   ],
   "source": [
    "def fn1(a, b):\n",
    "    return a*5 + b\n",
    "\n",
    "np.fromfunction(fn1, (2, 5))  #각 좌표에 대해 함수를 실행하여 배열을 구성합니다. 따라서 결과 배열은 좌표에 값을 갖습니다 .fn(x, y, z)(x, y, z)"
   ]
  }
 ],
 "metadata": {
  "kernelspec": {
   "display_name": "Python 3 (ipykernel)",
   "language": "python",
   "name": "python3"
  },
  "language_info": {
   "codemirror_mode": {
    "name": "ipython",
    "version": 3
   },
   "file_extension": ".py",
   "mimetype": "text/x-python",
   "name": "python",
   "nbconvert_exporter": "python",
   "pygments_lexer": "ipython3",
   "version": "3.10.5"
  }
 },
 "nbformat": 4,
 "nbformat_minor": 5
}
