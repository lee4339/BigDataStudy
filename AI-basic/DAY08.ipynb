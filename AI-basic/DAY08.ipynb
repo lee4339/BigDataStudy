{
 "cells": [
  {
   "cell_type": "code",
   "execution_count": null,
   "id": "8c2fc841",
   "metadata": {},
   "outputs": [],
   "source": [
    "#math\n",
    "def practice1(n, k):\n",
    "    r = 1;\n",
    "    for i in range(1, k+1):\n",
    "        r = r * (n + 1 - i) / i\n",
    "    return r\n",
    "    \n",
    "practice1(52, 5)\n",
    "#assert practice1(52, 5) == 2598960"
   ]
  },
  {
   "cell_type": "code",
   "execution_count": null,
   "id": "54edba15",
   "metadata": {},
   "outputs": [],
   "source": [
    "# 오픈 API 사용방법\n",
    "# 부산버스정보\n",
    "\n",
    "import requests\n",
    "\n",
    "url = 'http://apis.data.go.kr/6260000/BusanBIMS/bitArrByArsno'\n",
    "service_key ='Oc+0oEXikbOn8irQ007JmQedWhaRAR+Z1ZMGmyDUeBwbvv8GIJgssZL0tVHpSwkmI2uuPRNz4vTIzPgFeBj3/Q=='\n",
    "params ={'serviceKey' : service_key, 'arsno' : '05712' }\n",
    "\n",
    "response = requests.get(url, params=params)\n",
    "print(response.content.decode('utf8'))"
   ]
  },
  {
   "cell_type": "code",
   "execution_count": null,
   "id": "b866b4b4",
   "metadata": {
    "scrolled": true
   },
   "outputs": [],
   "source": [
    "raw_response = response.content.decode('utf8')\n",
    "\n",
    "#min1, mi2 함수\n",
    "def find_mins(substring):\n",
    "    ret_value1 = 0\n",
    "    ret_value2 = 0\n",
    "    m1 = substring.find('<min1>')\n",
    "    if m1 == -1:\n",
    "        return (-1, -1)\n",
    "    m1 += len('<min1>')\n",
    "    m2 = substring.find('</min1>', m1)\n",
    "    ret_value1 = int(substring[m1:m2])\n",
    "    \n",
    "    m1 = substring.find('<min2>')\n",
    "    if m1 == -1:\n",
    "        return (ret_value1, -1)\n",
    "    m1 += len('<min2>')\n",
    "    m2 = substring.find('</min2>', m1)\n",
    "        ret_value2 = int(substring[m1:m2])\n",
    "\n",
    "    return(ret_value1, ret_value2)\n",
    "\n",
    "find_mins(raw_response)"
   ]
  },
  {
   "cell_type": "code",
   "execution_count": null,
   "id": "0a3a37d8",
   "metadata": {},
   "outputs": [],
   "source": [
    "raw_response = response.content.decode('utf8')\n",
    "print(type(raw_respose))  # str\n",
    "#print(raw_response)  # 구조확인\n",
    "\n",
    "\n",
    "mark2 = 0\n",
    "lineno_list = []              # 노선번호 추출\n",
    "while True:\n",
    "    mark1 = raw_response.find('<lineno>', mark2)\n",
    "    if mark1 == -1:\n",
    "        break\n",
    "        \n",
    "    # <min1>, <min2> mark2 ~ mark1 사이\n",
    "    min1, min2 = find_mins(raw_response[mark2:mark1])   # 해당노선 도착시간 추출\n",
    "    \n",
    "    mark1 += len('<lineno>')\n",
    "    mark2 = raw_response.find('</lineno>', mark1)\n",
    "    lineno_list.append([raw_response[mark1:mark2], min1, min2]) # 정리, 리스트화\n",
    "print(lineno_list)"
   ]
  },
  {
   "cell_type": "code",
   "execution_count": null,
   "id": "845a9050",
   "metadata": {},
   "outputs": [],
   "source": [
    "# find\n",
    "s1 = 'mystring_string'\n",
    "first_mark = s1.find('str')  # 2\n",
    "s1.find('str', first_mark + 1)\n",
    "s1.find('your')  #없는 문자일 경우 -1"
   ]
  },
  {
   "cell_type": "code",
   "execution_count": null,
   "id": "ad70bc81",
   "metadata": {},
   "outputs": [],
   "source": [
    "# 문자열 포맷\n",
    "s1 = 'mystring'\n",
    "s2 = 'mystring {0}, value {1}'\n",
    "\n",
    "a = 'abc'\n",
    "b = 10\n",
    "#print(s1)\n",
    "print(s2)\n",
    "s2.format(a, b)\n",
    "\n",
    "#s3 = 'mystring {0}, value {1}'.format('def', 150)   # :d,  :f,  :e 사용가능\n",
    "s3 = 'mystring {1}, value {0}'.format('def', 150)\n",
    "print(s3)"
   ]
  },
  {
   "cell_type": "code",
   "execution_count": 1,
   "id": "1160d136",
   "metadata": {},
   "outputs": [
    {
     "name": "stdout",
     "output_type": "stream",
     "text": [
      "min1\n",
      "min2\n",
      "min3\n",
      "min4\n"
     ]
    }
   ],
   "source": [
    "for i in range(1, 5):\n",
    "    print('min{0}'.format(i))"
   ]
  }
 ],
 "metadata": {
  "kernelspec": {
   "display_name": "Python 3 (ipykernel)",
   "language": "python",
   "name": "python3"
  },
  "language_info": {
   "codemirror_mode": {
    "name": "ipython",
    "version": 3
   },
   "file_extension": ".py",
   "mimetype": "text/x-python",
   "name": "python",
   "nbconvert_exporter": "python",
   "pygments_lexer": "ipython3",
   "version": "3.10.5"
  }
 },
 "nbformat": 4,
 "nbformat_minor": 5
}
