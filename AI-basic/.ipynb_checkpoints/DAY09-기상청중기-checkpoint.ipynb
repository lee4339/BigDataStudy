{
 "cells": [
  {
   "cell_type": "code",
   "execution_count": 2,
   "id": "af00ad52",
   "metadata": {},
   "outputs": [
    {
     "name": "stdout",
     "output_type": "stream",
     "text": [
      "<?xml version=\"1.0\" encoding=\"UTF-8\"?>\r\n",
      "<response><header><resultCode>00</resultCode><resultMsg>NORMAL_SERVICE</resultMsg></header><body><dataType>XML</dataType><items><item><regId>11H20201</regId><taMin3>26</taMin3><taMin3Low>0</taMin3Low><taMin3High>0</taMin3High><taMax3>32</taMax3><taMax3Low>0</taMax3Low><taMax3High>1</taMax3High><taMin4>26</taMin4><taMin4Low>0</taMin4Low><taMin4High>0</taMin4High><taMax4>32</taMax4><taMax4Low>1</taMax4Low><taMax4High>1</taMax4High><taMin5>26</taMin5><taMin5Low>0</taMin5Low><taMin5High>1</taMin5High><taMax5>31</taMax5><taMax5Low>0</taMax5Low><taMax5High>1</taMax5High><taMin6>26</taMin6><taMin6Low>1</taMin6Low><taMin6High>1</taMin6High><taMax6>30</taMax6><taMax6Low>0</taMax6Low><taMax6High>1</taMax6High><taMin7>26</taMin7><taMin7Low>0</taMin7Low><taMin7High>1</taMin7High><taMax7>31</taMax7><taMax7Low>1</taMax7Low><taMax7High>1</taMax7High><taMin8>26</taMin8><taMin8Low>0</taMin8Low><taMin8High>0</taMin8High><taMax8>31</taMax8><taMax8Low>0</taMax8Low><taMax8High>1</taMax8High><taMin9>26</taMin9><taMin9Low>0</taMin9Low><taMin9High>0</taMin9High><taMax9>31</taMax9><taMax9Low>0</taMax9Low><taMax9High>1</taMax9High><taMin10>26</taMin10><taMin10Low>0</taMin10Low><taMin10High>0</taMin10High><taMax10>30</taMax10><taMax10Low>0</taMax10Low><taMax10High>1</taMax10High></item></items><numOfRows>10</numOfRows><pageNo>1</pageNo><totalCount>1</totalCount></body></response>\r\n",
      "\n"
     ]
    }
   ],
   "source": [
    "#기상청 중기예보\n",
    "\n",
    "import requests\n",
    "\n",
    "url = 'http://apis.data.go.kr/1360000/MidFcstInfoService/getMidTa'\n",
    "s_key = 'Oc+0oEXikbOn8irQ007JmQedWhaRAR+Z1ZMGmyDUeBwbvv8GIJgssZL0tVHpSwkmI2uuPRNz4vTIzPgFeBj3/Q=='\n",
    "params ={'serviceKey' : s_key, 'regId' : '11H20201', 'tmFc' : '202208030600' }\n",
    "\n",
    "response = requests.get(url, params=params)\n",
    "print(response.content.decode('utf-8'))"
   ]
  },
  {
   "cell_type": "code",
   "execution_count": 7,
   "id": "ab55175a",
   "metadata": {},
   "outputs": [
    {
     "name": "stdout",
     "output_type": "stream",
     "text": [
      "[26, 26, 26, 26, 26, 26, 26, 26]\n"
     ]
    }
   ],
   "source": [
    "raw_str = response.content.decode('utf-8')\n",
    "\n",
    "m1, m2 = 0, 0\n",
    "taMin_list = []\n",
    "for i in range(3, 11):\n",
    "    open_tag = '<taMin{0}>'.format(i)\n",
    "    close_tag = '</taMin{0}>'.format(i)\n",
    "    m1 = raw_str.find(open_tag, m2)\n",
    "    m1 += len(open_tag)\n",
    "    m2 = raw_str.find(close_tag, m1)\n",
    "    taMin_list.append(int(raw_str[m1:m2]))\n",
    "print(taMin_list)"
   ]
  },
  {
   "cell_type": "code",
   "execution_count": 12,
   "id": "7349beda",
   "metadata": {},
   "outputs": [
    {
     "name": "stdout",
     "output_type": "stream",
     "text": [
      "<taMax3>\n",
      "<taMax3Low>\n",
      "<taMax3High>\n",
      "<taMin3>\n",
      "<taMin3Low>\n",
      "<taMin3High>\n",
      "<taMax4>\n",
      "<taMax4Low>\n",
      "<taMax4High>\n",
      "<taMin4>\n",
      "<taMin4Low>\n",
      "<taMin4High>\n",
      "<taMax5>\n",
      "<taMax5Low>\n",
      "<taMax5High>\n",
      "<taMin5>\n",
      "<taMin5Low>\n",
      "<taMin5High>\n",
      "<taMax6>\n",
      "<taMax6Low>\n",
      "<taMax6High>\n",
      "<taMin6>\n",
      "<taMin6Low>\n",
      "<taMin6High>\n",
      "<taMax7>\n",
      "<taMax7Low>\n",
      "<taMax7High>\n",
      "<taMin7>\n",
      "<taMin7Low>\n",
      "<taMin7High>\n",
      "<taMax8>\n",
      "<taMax8Low>\n",
      "<taMax8High>\n",
      "<taMin8>\n",
      "<taMin8Low>\n",
      "<taMin8High>\n",
      "<taMax9>\n",
      "<taMax9Low>\n",
      "<taMax9High>\n",
      "<taMin9>\n",
      "<taMin9Low>\n",
      "<taMin9High>\n",
      "<taMax10>\n",
      "<taMax10Low>\n",
      "<taMax10High>\n",
      "<taMin10>\n",
      "<taMin10Low>\n",
      "<taMin10High>\n"
     ]
    }
   ],
   "source": [
    "for i in range(3, 11):\n",
    "    for j in [\"Max\", \"Min\"]:\n",
    "        for k in [\"\", \"Low\", \"High\"]:\n",
    "            tag_name = '<ta{0}{1}{2}>'.format(j, i, k)\n",
    "            tag2_name = '</ta{0}{1}{2}>'.format(j, i, k)\n",
    "\"\"\"            \n",
    "[\n",
    "    [3일차min, high, low, 3일차max, high, low],\n",
    "    [4일차min, high, low, 3일차max, high, low]\n",
    "]\n",
    "\"\"\""
   ]
  }
 ],
 "metadata": {
  "kernelspec": {
   "display_name": "Python 3 (ipykernel)",
   "language": "python",
   "name": "python3"
  },
  "language_info": {
   "codemirror_mode": {
    "name": "ipython",
    "version": 3
   },
   "file_extension": ".py",
   "mimetype": "text/x-python",
   "name": "python",
   "nbconvert_exporter": "python",
   "pygments_lexer": "ipython3",
   "version": "3.10.5"
  }
 },
 "nbformat": 4,
 "nbformat_minor": 5
}
