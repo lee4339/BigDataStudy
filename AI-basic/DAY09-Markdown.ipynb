{
 "cells": [
  {
   "cell_type": "raw",
   "id": "73b31476",
   "metadata": {},
   "source": [
    "제목: 9일차 마크다운"
   ]
  },
  {
   "cell_type": "markdown",
   "id": "073497f4",
   "metadata": {},
   "source": [
    "# 제목: 9일차 마크다운\n",
    "## 부제: 연습\n"
   ]
  },
  {
   "cell_type": "markdown",
   "id": "a5a68801",
   "metadata": {},
   "source": [
    "제목: 9일차 마크다운\n",
    "=================\n",
    "부제: 연습\n",
    "-----------------------------------\n",
    "\n",
    "***첫번째 문단*** **두번째** 문장\n",
    "\n",
    "*두번째* 문단 __첫번째__ 문장\n",
    "\n",
    "> Dorothy followed her through many of the beautiful rooms in her castle.\n",
    "\n",
    "- 1번 리스트\n",
    "    - 1번의 1번 리스트\n",
    "    - 1번의 2번 리스트\n",
    "- 2번 리스트\n"
   ]
  },
  {
   "cell_type": "markdown",
   "id": "d4bf3720",
   "metadata": {},
   "source": [
    "$$ a^{34} + b_{12} = 1 $$\n",
    "\n",
    "$$ \\hat y = \\sqrt x + 3 $$\n",
    "\n",
    "$$ \\sum \\int $$"
   ]
  }
 ],
 "metadata": {
  "kernelspec": {
   "display_name": "Python 3 (ipykernel)",
   "language": "python",
   "name": "python3"
  },
  "language_info": {
   "codemirror_mode": {
    "name": "ipython",
    "version": 3
   },
   "file_extension": ".py",
   "mimetype": "text/x-python",
   "name": "python",
   "nbconvert_exporter": "python",
   "pygments_lexer": "ipython3",
   "version": "3.10.5"
  }
 },
 "nbformat": 4,
 "nbformat_minor": 5
}
